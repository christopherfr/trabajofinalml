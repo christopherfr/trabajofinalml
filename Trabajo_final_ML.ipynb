{
  "nbformat": 4,
  "nbformat_minor": 0,
  "metadata": {
    "accelerator": "GPU",
    "colab": {
      "name": "Copia5 de Walter + knn_Trabajo_final_ML.ipynb",
      "provenance": [],
      "collapsed_sections": [],
      "include_colab_link": true
    },
    "kernelspec": {
      "display_name": "Python 3.7 (tfl)",
      "language": "python",
      "name": "tfl"
    },
    "language_info": {
      "codemirror_mode": {
        "name": "ipython",
        "version": 3
      },
      "file_extension": ".py",
      "mimetype": "text/x-python",
      "name": "python",
      "nbconvert_exporter": "python",
      "pygments_lexer": "ipython3",
      "version": "3.7.9"
    }
  },
  "cells": [
    {
      "cell_type": "markdown",
      "metadata": {
        "id": "view-in-github",
        "colab_type": "text"
      },
      "source": [
        "<a href=\"https://colab.research.google.com/github/christopherfr/trabajofinalml/blob/main/Trabajo_final_ML.ipynb\" target=\"_parent\"><img src=\"https://colab.research.google.com/assets/colab-badge.svg\" alt=\"Open In Colab\"/></a>"
      ]
    },
    {
      "cell_type": "markdown",
      "metadata": {
        "id": "DXg-JvUBR43R"
      },
      "source": [
        "Importamos el dataset"
      ]
    },
    {
      "cell_type": "code",
      "metadata": {
        "id": "g5qn7tPyQc3f",
        "outputId": "c4259caa-2943-4a4a-cede-6d90875b0624"
      },
      "source": [
        "import sys\n",
        "\n",
        "import tensorflow.keras\n",
        "import pandas as pd\n",
        "import sklearn as sk\n",
        "import tensorflow as tf\n",
        "\n",
        "print(f\"Tensor Flow Version: {tf.__version__}\")\n",
        "print(f\"Keras Version: {tensorflow.keras.__version__}\")\n",
        "print()\n",
        "print(f\"Python {sys.version}\")\n",
        "print(f\"Pandas {pd.__version__}\")\n",
        "print(f\"Scikit-Learn {sk.__version__}\")\n",
        "gpu = len(tf.config.list_physical_devices('GPU'))>0\n",
        "print(\"GPU is\", \"available\" if gpu else \"NOT AVAILABLE\")"
      ],
      "execution_count": null,
      "outputs": [
        {
          "output_type": "stream",
          "text": [
            "Tensor Flow Version: 2.3.0\n",
            "Keras Version: 2.4.0\n",
            "\n",
            "Python 3.7.9 (default, Aug 31 2020, 17:10:11) [MSC v.1916 64 bit (AMD64)]\n",
            "Pandas 1.2.0\n",
            "Scikit-Learn 0.24.0\n",
            "GPU is available\n"
          ],
          "name": "stdout"
        }
      ]
    },
    {
      "cell_type": "code",
      "metadata": {
        "id": "DUyBn7Y8Qc3g",
        "outputId": "59326772-750d-43f6-d269-9870dc50ad67"
      },
      "source": [
        "from tensorflow.python.client import device_lib\n",
        "device_lib.list_local_devices()"
      ],
      "execution_count": null,
      "outputs": [
        {
          "output_type": "execute_result",
          "data": {
            "text/plain": [
              "[name: \"/device:CPU:0\"\n",
              " device_type: \"CPU\"\n",
              " memory_limit: 268435456\n",
              " locality {\n",
              " }\n",
              " incarnation: 16863803793581990106,\n",
              " name: \"/device:XLA_CPU:0\"\n",
              " device_type: \"XLA_CPU\"\n",
              " memory_limit: 17179869184\n",
              " locality {\n",
              " }\n",
              " incarnation: 4679811648106609413\n",
              " physical_device_desc: \"device: XLA_CPU device\",\n",
              " name: \"/device:GPU:0\"\n",
              " device_type: \"GPU\"\n",
              " memory_limit: 3134364059\n",
              " locality {\n",
              "   bus_id: 1\n",
              "   links {\n",
              "   }\n",
              " }\n",
              " incarnation: 18164009592601862952\n",
              " physical_device_desc: \"device: 0, name: GeForce GTX 1050, pci bus id: 0000:01:00.0, compute capability: 6.1\",\n",
              " name: \"/device:XLA_GPU:0\"\n",
              " device_type: \"XLA_GPU\"\n",
              " memory_limit: 17179869184\n",
              " locality {\n",
              " }\n",
              " incarnation: 10450704976474782874\n",
              " physical_device_desc: \"device: XLA_GPU device\"]"
            ]
          },
          "metadata": {
            "tags": []
          },
          "execution_count": 2
        }
      ]
    },
    {
      "cell_type": "code",
      "metadata": {
        "id": "mLhPqoqCR0r4"
      },
      "source": [
        "import pandas as pd\n",
        "import matplotlib.pyplot as plt\n",
        "import tensorflow as tf\n",
        "import numpy as np\n",
        "\n",
        "from sklearn.model_selection import StratifiedKFold, cross_validate\n",
        "from pprint import pprint\n",
        "\n",
        "data = pd.read_excel('https://archive.ics.uci.edu/ml/machine-learning-databases/00350/default%20of%20credit%20card%20clients.xls', header = 1)\n",
        "data.drop('ID', axis = 1, inplace = True) # Nos deshacemos de la columna ID ya que no es importante\n",
        "data.rename(columns = {'default payment next month': 'DEFAULT'}, inplace = True) # Nombre cambiado a uno más corto\n",
        "data.rename(columns = {'PAY_0': 'PAY_1'}, inplace = True) # Corrección del nombre"
      ],
      "execution_count": null,
      "outputs": []
    },
    {
      "cell_type": "code",
      "metadata": {
        "colab": {
          "base_uri": "https://localhost:8080/",
          "height": 363
        },
        "id": "v3tt0GAnbR1a",
        "outputId": "654f66f0-db54-4fff-8285-1610dabc7c17"
      },
      "source": [
        "data.head(10)"
      ],
      "execution_count": null,
      "outputs": [
        {
          "output_type": "execute_result",
          "data": {
            "text/html": [
              "<div>\n",
              "<style scoped>\n",
              "    .dataframe tbody tr th:only-of-type {\n",
              "        vertical-align: middle;\n",
              "    }\n",
              "\n",
              "    .dataframe tbody tr th {\n",
              "        vertical-align: top;\n",
              "    }\n",
              "\n",
              "    .dataframe thead th {\n",
              "        text-align: right;\n",
              "    }\n",
              "</style>\n",
              "<table border=\"1\" class=\"dataframe\">\n",
              "  <thead>\n",
              "    <tr style=\"text-align: right;\">\n",
              "      <th></th>\n",
              "      <th>LIMIT_BAL</th>\n",
              "      <th>SEX</th>\n",
              "      <th>EDUCATION</th>\n",
              "      <th>MARRIAGE</th>\n",
              "      <th>AGE</th>\n",
              "      <th>PAY_1</th>\n",
              "      <th>PAY_2</th>\n",
              "      <th>PAY_3</th>\n",
              "      <th>PAY_4</th>\n",
              "      <th>PAY_5</th>\n",
              "      <th>PAY_6</th>\n",
              "      <th>BILL_AMT1</th>\n",
              "      <th>BILL_AMT2</th>\n",
              "      <th>BILL_AMT3</th>\n",
              "      <th>BILL_AMT4</th>\n",
              "      <th>BILL_AMT5</th>\n",
              "      <th>BILL_AMT6</th>\n",
              "      <th>PAY_AMT1</th>\n",
              "      <th>PAY_AMT2</th>\n",
              "      <th>PAY_AMT3</th>\n",
              "      <th>PAY_AMT4</th>\n",
              "      <th>PAY_AMT5</th>\n",
              "      <th>PAY_AMT6</th>\n",
              "      <th>DEFAULT</th>\n",
              "    </tr>\n",
              "  </thead>\n",
              "  <tbody>\n",
              "    <tr>\n",
              "      <th>0</th>\n",
              "      <td>20000</td>\n",
              "      <td>2</td>\n",
              "      <td>2</td>\n",
              "      <td>1</td>\n",
              "      <td>24</td>\n",
              "      <td>2</td>\n",
              "      <td>2</td>\n",
              "      <td>-1</td>\n",
              "      <td>-1</td>\n",
              "      <td>-2</td>\n",
              "      <td>-2</td>\n",
              "      <td>3913</td>\n",
              "      <td>3102</td>\n",
              "      <td>689</td>\n",
              "      <td>0</td>\n",
              "      <td>0</td>\n",
              "      <td>0</td>\n",
              "      <td>0</td>\n",
              "      <td>689</td>\n",
              "      <td>0</td>\n",
              "      <td>0</td>\n",
              "      <td>0</td>\n",
              "      <td>0</td>\n",
              "      <td>1</td>\n",
              "    </tr>\n",
              "    <tr>\n",
              "      <th>1</th>\n",
              "      <td>120000</td>\n",
              "      <td>2</td>\n",
              "      <td>2</td>\n",
              "      <td>2</td>\n",
              "      <td>26</td>\n",
              "      <td>-1</td>\n",
              "      <td>2</td>\n",
              "      <td>0</td>\n",
              "      <td>0</td>\n",
              "      <td>0</td>\n",
              "      <td>2</td>\n",
              "      <td>2682</td>\n",
              "      <td>1725</td>\n",
              "      <td>2682</td>\n",
              "      <td>3272</td>\n",
              "      <td>3455</td>\n",
              "      <td>3261</td>\n",
              "      <td>0</td>\n",
              "      <td>1000</td>\n",
              "      <td>1000</td>\n",
              "      <td>1000</td>\n",
              "      <td>0</td>\n",
              "      <td>2000</td>\n",
              "      <td>1</td>\n",
              "    </tr>\n",
              "    <tr>\n",
              "      <th>2</th>\n",
              "      <td>90000</td>\n",
              "      <td>2</td>\n",
              "      <td>2</td>\n",
              "      <td>2</td>\n",
              "      <td>34</td>\n",
              "      <td>0</td>\n",
              "      <td>0</td>\n",
              "      <td>0</td>\n",
              "      <td>0</td>\n",
              "      <td>0</td>\n",
              "      <td>0</td>\n",
              "      <td>29239</td>\n",
              "      <td>14027</td>\n",
              "      <td>13559</td>\n",
              "      <td>14331</td>\n",
              "      <td>14948</td>\n",
              "      <td>15549</td>\n",
              "      <td>1518</td>\n",
              "      <td>1500</td>\n",
              "      <td>1000</td>\n",
              "      <td>1000</td>\n",
              "      <td>1000</td>\n",
              "      <td>5000</td>\n",
              "      <td>0</td>\n",
              "    </tr>\n",
              "    <tr>\n",
              "      <th>3</th>\n",
              "      <td>50000</td>\n",
              "      <td>2</td>\n",
              "      <td>2</td>\n",
              "      <td>1</td>\n",
              "      <td>37</td>\n",
              "      <td>0</td>\n",
              "      <td>0</td>\n",
              "      <td>0</td>\n",
              "      <td>0</td>\n",
              "      <td>0</td>\n",
              "      <td>0</td>\n",
              "      <td>46990</td>\n",
              "      <td>48233</td>\n",
              "      <td>49291</td>\n",
              "      <td>28314</td>\n",
              "      <td>28959</td>\n",
              "      <td>29547</td>\n",
              "      <td>2000</td>\n",
              "      <td>2019</td>\n",
              "      <td>1200</td>\n",
              "      <td>1100</td>\n",
              "      <td>1069</td>\n",
              "      <td>1000</td>\n",
              "      <td>0</td>\n",
              "    </tr>\n",
              "    <tr>\n",
              "      <th>4</th>\n",
              "      <td>50000</td>\n",
              "      <td>1</td>\n",
              "      <td>2</td>\n",
              "      <td>1</td>\n",
              "      <td>57</td>\n",
              "      <td>-1</td>\n",
              "      <td>0</td>\n",
              "      <td>-1</td>\n",
              "      <td>0</td>\n",
              "      <td>0</td>\n",
              "      <td>0</td>\n",
              "      <td>8617</td>\n",
              "      <td>5670</td>\n",
              "      <td>35835</td>\n",
              "      <td>20940</td>\n",
              "      <td>19146</td>\n",
              "      <td>19131</td>\n",
              "      <td>2000</td>\n",
              "      <td>36681</td>\n",
              "      <td>10000</td>\n",
              "      <td>9000</td>\n",
              "      <td>689</td>\n",
              "      <td>679</td>\n",
              "      <td>0</td>\n",
              "    </tr>\n",
              "    <tr>\n",
              "      <th>5</th>\n",
              "      <td>50000</td>\n",
              "      <td>1</td>\n",
              "      <td>1</td>\n",
              "      <td>2</td>\n",
              "      <td>37</td>\n",
              "      <td>0</td>\n",
              "      <td>0</td>\n",
              "      <td>0</td>\n",
              "      <td>0</td>\n",
              "      <td>0</td>\n",
              "      <td>0</td>\n",
              "      <td>64400</td>\n",
              "      <td>57069</td>\n",
              "      <td>57608</td>\n",
              "      <td>19394</td>\n",
              "      <td>19619</td>\n",
              "      <td>20024</td>\n",
              "      <td>2500</td>\n",
              "      <td>1815</td>\n",
              "      <td>657</td>\n",
              "      <td>1000</td>\n",
              "      <td>1000</td>\n",
              "      <td>800</td>\n",
              "      <td>0</td>\n",
              "    </tr>\n",
              "    <tr>\n",
              "      <th>6</th>\n",
              "      <td>500000</td>\n",
              "      <td>1</td>\n",
              "      <td>1</td>\n",
              "      <td>2</td>\n",
              "      <td>29</td>\n",
              "      <td>0</td>\n",
              "      <td>0</td>\n",
              "      <td>0</td>\n",
              "      <td>0</td>\n",
              "      <td>0</td>\n",
              "      <td>0</td>\n",
              "      <td>367965</td>\n",
              "      <td>412023</td>\n",
              "      <td>445007</td>\n",
              "      <td>542653</td>\n",
              "      <td>483003</td>\n",
              "      <td>473944</td>\n",
              "      <td>55000</td>\n",
              "      <td>40000</td>\n",
              "      <td>38000</td>\n",
              "      <td>20239</td>\n",
              "      <td>13750</td>\n",
              "      <td>13770</td>\n",
              "      <td>0</td>\n",
              "    </tr>\n",
              "    <tr>\n",
              "      <th>7</th>\n",
              "      <td>100000</td>\n",
              "      <td>2</td>\n",
              "      <td>2</td>\n",
              "      <td>2</td>\n",
              "      <td>23</td>\n",
              "      <td>0</td>\n",
              "      <td>-1</td>\n",
              "      <td>-1</td>\n",
              "      <td>0</td>\n",
              "      <td>0</td>\n",
              "      <td>-1</td>\n",
              "      <td>11876</td>\n",
              "      <td>380</td>\n",
              "      <td>601</td>\n",
              "      <td>221</td>\n",
              "      <td>-159</td>\n",
              "      <td>567</td>\n",
              "      <td>380</td>\n",
              "      <td>601</td>\n",
              "      <td>0</td>\n",
              "      <td>581</td>\n",
              "      <td>1687</td>\n",
              "      <td>1542</td>\n",
              "      <td>0</td>\n",
              "    </tr>\n",
              "    <tr>\n",
              "      <th>8</th>\n",
              "      <td>140000</td>\n",
              "      <td>2</td>\n",
              "      <td>3</td>\n",
              "      <td>1</td>\n",
              "      <td>28</td>\n",
              "      <td>0</td>\n",
              "      <td>0</td>\n",
              "      <td>2</td>\n",
              "      <td>0</td>\n",
              "      <td>0</td>\n",
              "      <td>0</td>\n",
              "      <td>11285</td>\n",
              "      <td>14096</td>\n",
              "      <td>12108</td>\n",
              "      <td>12211</td>\n",
              "      <td>11793</td>\n",
              "      <td>3719</td>\n",
              "      <td>3329</td>\n",
              "      <td>0</td>\n",
              "      <td>432</td>\n",
              "      <td>1000</td>\n",
              "      <td>1000</td>\n",
              "      <td>1000</td>\n",
              "      <td>0</td>\n",
              "    </tr>\n",
              "    <tr>\n",
              "      <th>9</th>\n",
              "      <td>20000</td>\n",
              "      <td>1</td>\n",
              "      <td>3</td>\n",
              "      <td>2</td>\n",
              "      <td>35</td>\n",
              "      <td>-2</td>\n",
              "      <td>-2</td>\n",
              "      <td>-2</td>\n",
              "      <td>-2</td>\n",
              "      <td>-1</td>\n",
              "      <td>-1</td>\n",
              "      <td>0</td>\n",
              "      <td>0</td>\n",
              "      <td>0</td>\n",
              "      <td>0</td>\n",
              "      <td>13007</td>\n",
              "      <td>13912</td>\n",
              "      <td>0</td>\n",
              "      <td>0</td>\n",
              "      <td>0</td>\n",
              "      <td>13007</td>\n",
              "      <td>1122</td>\n",
              "      <td>0</td>\n",
              "      <td>0</td>\n",
              "    </tr>\n",
              "  </tbody>\n",
              "</table>\n",
              "</div>"
            ],
            "text/plain": [
              "   LIMIT_BAL  SEX  EDUCATION  MARRIAGE  ...  PAY_AMT4  PAY_AMT5  PAY_AMT6  DEFAULT\n",
              "0      20000    2          2         1  ...         0         0         0        1\n",
              "1     120000    2          2         2  ...      1000         0      2000        1\n",
              "2      90000    2          2         2  ...      1000      1000      5000        0\n",
              "3      50000    2          2         1  ...      1100      1069      1000        0\n",
              "4      50000    1          2         1  ...      9000       689       679        0\n",
              "5      50000    1          1         2  ...      1000      1000       800        0\n",
              "6     500000    1          1         2  ...     20239     13750     13770        0\n",
              "7     100000    2          2         2  ...       581      1687      1542        0\n",
              "8     140000    2          3         1  ...      1000      1000      1000        0\n",
              "9      20000    1          3         2  ...     13007      1122         0        0\n",
              "\n",
              "[10 rows x 24 columns]"
            ]
          },
          "metadata": {
            "tags": []
          },
          "execution_count": 3
        }
      ]
    },
    {
      "cell_type": "markdown",
      "metadata": {
        "id": "zmk55xEIXz-e"
      },
      "source": [
        "## Información acerca del dataset"
      ]
    },
    {
      "cell_type": "markdown",
      "metadata": {
        "id": "XIrjGsDKkpmt"
      },
      "source": [
        "Lista de variables por tipo"
      ]
    },
    {
      "cell_type": "code",
      "metadata": {
        "colab": {
          "base_uri": "https://localhost:8080/"
        },
        "id": "WuHcr-_7AEoM",
        "outputId": "47f2f6f7-bf14-4902-b5c9-d91de83f5049"
      },
      "source": [
        "print('Variables categóricas nominales:')\n",
        "print('  - SEX\\n  - MARRIAGE')\n",
        "print('Variables categóricas ordinales:')\n",
        "print('  - EDUCATION')\n",
        "print('Variables continuas:')\n",
        "print('  - AGE\\n  - PAY_1\\n  - PAY_2\\n  - PAY_3\\n  - PAY_4\\n  - PAY_5\\n  - PAY_6\\n  - BILL_AMT1\\n  - BILL_AMT2\\n  - BILL_AMT3\\n  - BILL_AMT4\\n  - BILL_AMT5\\n  - BILL_AMT6\\n  - PAY_AMT1\\n  - PAY_AMT2\\n  - PAY_AMT3\\n  - PAY_AMT4\\n  - PAY_AMT5\\n  - PAY_AMT6')\n",
        "print('Tenemos {} variables independientes en total.'.format(data.shape[1] - 1))\n",
        "print('Variable target: DEFAULT')"
      ],
      "execution_count": null,
      "outputs": [
        {
          "output_type": "stream",
          "text": [
            "Variables categóricas nominales:\n",
            "  - SEX\n",
            "  - MARRIAGE\n",
            "Variables categóricas ordinales:\n",
            "  - EDUCATION\n",
            "Variables continuas:\n",
            "  - AGE\n",
            "  - PAY_1\n",
            "  - PAY_2\n",
            "  - PAY_3\n",
            "  - PAY_4\n",
            "  - PAY_5\n",
            "  - PAY_6\n",
            "  - BILL_AMT1\n",
            "  - BILL_AMT2\n",
            "  - BILL_AMT3\n",
            "  - BILL_AMT4\n",
            "  - BILL_AMT5\n",
            "  - BILL_AMT6\n",
            "  - PAY_AMT1\n",
            "  - PAY_AMT2\n",
            "  - PAY_AMT3\n",
            "  - PAY_AMT4\n",
            "  - PAY_AMT5\n",
            "  - PAY_AMT6\n",
            "Tenemos 23 variables independientes en total.\n",
            "Variable target: DEFAULT\n"
          ],
          "name": "stdout"
        }
      ]
    },
    {
      "cell_type": "markdown",
      "metadata": {
        "id": "3VIrWid4X4K-"
      },
      "source": [
        "Número de muestras que se usarán en los conjuntos de entrenamiento y prueba, como también la cantidad por cada clase."
      ]
    },
    {
      "cell_type": "code",
      "metadata": {
        "colab": {
          "base_uri": "https://localhost:8080/"
        },
        "id": "6vRA0o4RbPiI",
        "outputId": "237e3ffa-1dec-43dc-debe-55c15757cc17"
      },
      "source": [
        "m = len(data)\n",
        "ratio_test = 0.1\n",
        "q_test = int(round(m * ratio_test, 0))\n",
        "q_train = m - q_test\n",
        "print('Se tienen {} muestras en total. Un {}% se usará para la evaluación, es decir,\\nse entrenarán los modelos con {} registros y con {} se evaluarán.'.format(m, ratio_test * 100, q_train, q_test))\n",
        "\n",
        "import numpy as np\n",
        "target_agrupado = data.groupby('DEFAULT')['DEFAULT'].count()\n",
        "q_clases_target = np.array(target_agrupado.sort_index(ascending = True))\n",
        "p_clases_target = q_clases_target / np.sum(q_clases_target) * 100\n",
        "print('Para el entrenamiento un {}% será de la clase 0 (no default) y el otro {}% de la clase 1 (default).'.format(round(p_clases_target[0],1), round(p_clases_target[1],1)))"
      ],
      "execution_count": null,
      "outputs": [
        {
          "output_type": "stream",
          "text": [
            "Se tienen 30000 muestras en total. Un 10.0% se usará para la evaluación, es decir,\n",
            "se entrenarán los modelos con 27000 registros y con 3000 se evaluarán.\n",
            "Para el entrenamiento un 77.9% será de la clase 0 (no default) y el otro 22.1% de la clase 1 (default).\n"
          ],
          "name": "stdout"
        }
      ]
    },
    {
      "cell_type": "markdown",
      "metadata": {
        "id": "Lx_y5QjVX-MT"
      },
      "source": [
        "## Estadística descriptiva y visualización de los datos"
      ]
    },
    {
      "cell_type": "markdown",
      "metadata": {
        "id": "pirU8QCLHSdE"
      },
      "source": [
        "### Descripción de las variables"
      ]
    },
    {
      "cell_type": "markdown",
      "metadata": {
        "id": "X2HbBewj3K5y"
      },
      "source": [
        "En la siguiente tabla se muestran medidas estadísticas de las variables cuantitativas de la base de datos."
      ]
    },
    {
      "cell_type": "code",
      "metadata": {
        "colab": {
          "base_uri": "https://localhost:8080/",
          "height": 304
        },
        "id": "JzDEhveebP3G",
        "outputId": "563f4ec2-bcf2-45c5-a0bf-f907b769de44"
      },
      "source": [
        "data.drop(['SEX','EDUCATION','MARRIAGE','DEFAULT'], axis = 1).describe()"
      ],
      "execution_count": null,
      "outputs": [
        {
          "output_type": "execute_result",
          "data": {
            "text/html": [
              "<div>\n",
              "<style scoped>\n",
              "    .dataframe tbody tr th:only-of-type {\n",
              "        vertical-align: middle;\n",
              "    }\n",
              "\n",
              "    .dataframe tbody tr th {\n",
              "        vertical-align: top;\n",
              "    }\n",
              "\n",
              "    .dataframe thead th {\n",
              "        text-align: right;\n",
              "    }\n",
              "</style>\n",
              "<table border=\"1\" class=\"dataframe\">\n",
              "  <thead>\n",
              "    <tr style=\"text-align: right;\">\n",
              "      <th></th>\n",
              "      <th>LIMIT_BAL</th>\n",
              "      <th>AGE</th>\n",
              "      <th>PAY_1</th>\n",
              "      <th>PAY_2</th>\n",
              "      <th>PAY_3</th>\n",
              "      <th>PAY_4</th>\n",
              "      <th>PAY_5</th>\n",
              "      <th>PAY_6</th>\n",
              "      <th>BILL_AMT1</th>\n",
              "      <th>BILL_AMT2</th>\n",
              "      <th>BILL_AMT3</th>\n",
              "      <th>BILL_AMT4</th>\n",
              "      <th>BILL_AMT5</th>\n",
              "      <th>BILL_AMT6</th>\n",
              "      <th>PAY_AMT1</th>\n",
              "      <th>PAY_AMT2</th>\n",
              "      <th>PAY_AMT3</th>\n",
              "      <th>PAY_AMT4</th>\n",
              "      <th>PAY_AMT5</th>\n",
              "      <th>PAY_AMT6</th>\n",
              "    </tr>\n",
              "  </thead>\n",
              "  <tbody>\n",
              "    <tr>\n",
              "      <th>count</th>\n",
              "      <td>30000.000000</td>\n",
              "      <td>30000.000000</td>\n",
              "      <td>30000.000000</td>\n",
              "      <td>30000.000000</td>\n",
              "      <td>30000.000000</td>\n",
              "      <td>30000.000000</td>\n",
              "      <td>30000.000000</td>\n",
              "      <td>30000.000000</td>\n",
              "      <td>30000.000000</td>\n",
              "      <td>30000.000000</td>\n",
              "      <td>3.000000e+04</td>\n",
              "      <td>30000.000000</td>\n",
              "      <td>30000.000000</td>\n",
              "      <td>30000.000000</td>\n",
              "      <td>30000.000000</td>\n",
              "      <td>3.000000e+04</td>\n",
              "      <td>30000.00000</td>\n",
              "      <td>30000.000000</td>\n",
              "      <td>30000.000000</td>\n",
              "      <td>30000.000000</td>\n",
              "    </tr>\n",
              "    <tr>\n",
              "      <th>mean</th>\n",
              "      <td>167484.322667</td>\n",
              "      <td>35.485500</td>\n",
              "      <td>-0.016700</td>\n",
              "      <td>-0.133767</td>\n",
              "      <td>-0.166200</td>\n",
              "      <td>-0.220667</td>\n",
              "      <td>-0.266200</td>\n",
              "      <td>-0.291100</td>\n",
              "      <td>51223.330900</td>\n",
              "      <td>49179.075167</td>\n",
              "      <td>4.701315e+04</td>\n",
              "      <td>43262.948967</td>\n",
              "      <td>40311.400967</td>\n",
              "      <td>38871.760400</td>\n",
              "      <td>5663.580500</td>\n",
              "      <td>5.921163e+03</td>\n",
              "      <td>5225.68150</td>\n",
              "      <td>4826.076867</td>\n",
              "      <td>4799.387633</td>\n",
              "      <td>5215.502567</td>\n",
              "    </tr>\n",
              "    <tr>\n",
              "      <th>std</th>\n",
              "      <td>129747.661567</td>\n",
              "      <td>9.217904</td>\n",
              "      <td>1.123802</td>\n",
              "      <td>1.197186</td>\n",
              "      <td>1.196868</td>\n",
              "      <td>1.169139</td>\n",
              "      <td>1.133187</td>\n",
              "      <td>1.149988</td>\n",
              "      <td>73635.860576</td>\n",
              "      <td>71173.768783</td>\n",
              "      <td>6.934939e+04</td>\n",
              "      <td>64332.856134</td>\n",
              "      <td>60797.155770</td>\n",
              "      <td>59554.107537</td>\n",
              "      <td>16563.280354</td>\n",
              "      <td>2.304087e+04</td>\n",
              "      <td>17606.96147</td>\n",
              "      <td>15666.159744</td>\n",
              "      <td>15278.305679</td>\n",
              "      <td>17777.465775</td>\n",
              "    </tr>\n",
              "    <tr>\n",
              "      <th>min</th>\n",
              "      <td>10000.000000</td>\n",
              "      <td>21.000000</td>\n",
              "      <td>-2.000000</td>\n",
              "      <td>-2.000000</td>\n",
              "      <td>-2.000000</td>\n",
              "      <td>-2.000000</td>\n",
              "      <td>-2.000000</td>\n",
              "      <td>-2.000000</td>\n",
              "      <td>-165580.000000</td>\n",
              "      <td>-69777.000000</td>\n",
              "      <td>-1.572640e+05</td>\n",
              "      <td>-170000.000000</td>\n",
              "      <td>-81334.000000</td>\n",
              "      <td>-339603.000000</td>\n",
              "      <td>0.000000</td>\n",
              "      <td>0.000000e+00</td>\n",
              "      <td>0.00000</td>\n",
              "      <td>0.000000</td>\n",
              "      <td>0.000000</td>\n",
              "      <td>0.000000</td>\n",
              "    </tr>\n",
              "    <tr>\n",
              "      <th>25%</th>\n",
              "      <td>50000.000000</td>\n",
              "      <td>28.000000</td>\n",
              "      <td>-1.000000</td>\n",
              "      <td>-1.000000</td>\n",
              "      <td>-1.000000</td>\n",
              "      <td>-1.000000</td>\n",
              "      <td>-1.000000</td>\n",
              "      <td>-1.000000</td>\n",
              "      <td>3558.750000</td>\n",
              "      <td>2984.750000</td>\n",
              "      <td>2.666250e+03</td>\n",
              "      <td>2326.750000</td>\n",
              "      <td>1763.000000</td>\n",
              "      <td>1256.000000</td>\n",
              "      <td>1000.000000</td>\n",
              "      <td>8.330000e+02</td>\n",
              "      <td>390.00000</td>\n",
              "      <td>296.000000</td>\n",
              "      <td>252.500000</td>\n",
              "      <td>117.750000</td>\n",
              "    </tr>\n",
              "    <tr>\n",
              "      <th>50%</th>\n",
              "      <td>140000.000000</td>\n",
              "      <td>34.000000</td>\n",
              "      <td>0.000000</td>\n",
              "      <td>0.000000</td>\n",
              "      <td>0.000000</td>\n",
              "      <td>0.000000</td>\n",
              "      <td>0.000000</td>\n",
              "      <td>0.000000</td>\n",
              "      <td>22381.500000</td>\n",
              "      <td>21200.000000</td>\n",
              "      <td>2.008850e+04</td>\n",
              "      <td>19052.000000</td>\n",
              "      <td>18104.500000</td>\n",
              "      <td>17071.000000</td>\n",
              "      <td>2100.000000</td>\n",
              "      <td>2.009000e+03</td>\n",
              "      <td>1800.00000</td>\n",
              "      <td>1500.000000</td>\n",
              "      <td>1500.000000</td>\n",
              "      <td>1500.000000</td>\n",
              "    </tr>\n",
              "    <tr>\n",
              "      <th>75%</th>\n",
              "      <td>240000.000000</td>\n",
              "      <td>41.000000</td>\n",
              "      <td>0.000000</td>\n",
              "      <td>0.000000</td>\n",
              "      <td>0.000000</td>\n",
              "      <td>0.000000</td>\n",
              "      <td>0.000000</td>\n",
              "      <td>0.000000</td>\n",
              "      <td>67091.000000</td>\n",
              "      <td>64006.250000</td>\n",
              "      <td>6.016475e+04</td>\n",
              "      <td>54506.000000</td>\n",
              "      <td>50190.500000</td>\n",
              "      <td>49198.250000</td>\n",
              "      <td>5006.000000</td>\n",
              "      <td>5.000000e+03</td>\n",
              "      <td>4505.00000</td>\n",
              "      <td>4013.250000</td>\n",
              "      <td>4031.500000</td>\n",
              "      <td>4000.000000</td>\n",
              "    </tr>\n",
              "    <tr>\n",
              "      <th>max</th>\n",
              "      <td>1000000.000000</td>\n",
              "      <td>79.000000</td>\n",
              "      <td>8.000000</td>\n",
              "      <td>8.000000</td>\n",
              "      <td>8.000000</td>\n",
              "      <td>8.000000</td>\n",
              "      <td>8.000000</td>\n",
              "      <td>8.000000</td>\n",
              "      <td>964511.000000</td>\n",
              "      <td>983931.000000</td>\n",
              "      <td>1.664089e+06</td>\n",
              "      <td>891586.000000</td>\n",
              "      <td>927171.000000</td>\n",
              "      <td>961664.000000</td>\n",
              "      <td>873552.000000</td>\n",
              "      <td>1.684259e+06</td>\n",
              "      <td>896040.00000</td>\n",
              "      <td>621000.000000</td>\n",
              "      <td>426529.000000</td>\n",
              "      <td>528666.000000</td>\n",
              "    </tr>\n",
              "  </tbody>\n",
              "</table>\n",
              "</div>"
            ],
            "text/plain": [
              "            LIMIT_BAL           AGE  ...       PAY_AMT5       PAY_AMT6\n",
              "count    30000.000000  30000.000000  ...   30000.000000   30000.000000\n",
              "mean    167484.322667     35.485500  ...    4799.387633    5215.502567\n",
              "std     129747.661567      9.217904  ...   15278.305679   17777.465775\n",
              "min      10000.000000     21.000000  ...       0.000000       0.000000\n",
              "25%      50000.000000     28.000000  ...     252.500000     117.750000\n",
              "50%     140000.000000     34.000000  ...    1500.000000    1500.000000\n",
              "75%     240000.000000     41.000000  ...    4031.500000    4000.000000\n",
              "max    1000000.000000     79.000000  ...  426529.000000  528666.000000\n",
              "\n",
              "[8 rows x 20 columns]"
            ]
          },
          "metadata": {
            "tags": []
          },
          "execution_count": 6
        }
      ]
    },
    {
      "cell_type": "markdown",
      "metadata": {
        "id": "e8O8AuRyaPoR"
      },
      "source": [
        "### Valores Atípicos"
      ]
    },
    {
      "cell_type": "markdown",
      "metadata": {
        "id": "c2qGIL5naTXa"
      },
      "source": [
        "Para analizar los valores atípicos utilizamos el diagrama de cajas. Cabe precisar que los valores atípicos son aquellos que son mayores al bigote superior o menor al bigote inferior del diagrama de cajas"
      ]
    },
    {
      "cell_type": "code",
      "metadata": {
        "colab": {
          "base_uri": "https://localhost:8080/",
          "height": 506
        },
        "id": "4tO4V5L5aZpI",
        "outputId": "755b2f05-f916-4e6f-d217-03a685870fff"
      },
      "source": [
        "import matplotlib.pyplot as plt\n",
        "\n",
        "fig, axes = plt.subplots(1,1, figsize = (30,10)) # creacion de figuras y\n",
        "bp3 = data.iloc[:,0:1].boxplot(boxprops = dict(color = 'royalblue', linewidth = 2),\n",
        "                             medianprops = dict(color = 'forestgreen', linewidth = 2),\n",
        "                             whiskerprops = dict(color = 'royalblue', linewidth = 2),\n",
        "                             capprops = dict(color = 'royalblue', linewidth = 2),\n",
        "                             flierprops = dict(marker = 'x'),\n",
        "                             grid = False)\n",
        "bp3.set_title('Monto del credito otorgado', fontsize = 18)\n",
        "bp3.set_ylabel('Dolares', fontsize = 15)\n",
        "bp3.tick_params(axis='both', labelsize=13.5)\n",
        "bp3.grid(axis='y', linestyle='--')"
      ],
      "execution_count": null,
      "outputs": [
        {
          "output_type": "display_data",
          "data": {
            "image/png": "[encoded data removed]",
            "text/plain": [
              "<Figure size 2160x720 with 1 Axes>"
            ]
          },
          "metadata": {
            "tags": [],
            "needs_background": "light"
          }
        }
      ]
    },
    {
      "cell_type": "code",
      "metadata": {
        "colab": {
          "base_uri": "https://localhost:8080/",
          "height": 500
        },
        "id": "PeO-NcS7aaxI",
        "outputId": "983c6d5d-f2e4-4074-f1cb-9aa934dd988f"
      },
      "source": [
        "fig, axes = plt.subplots(1,2, figsize = (30,10)) # create figure and axes\n",
        "bp1 = data.iloc[:,11:17].boxplot(boxprops = dict(color = 'royalblue', linewidth = 2),\n",
        "                             medianprops = dict(color = 'forestgreen', linewidth = 2),\n",
        "                             whiskerprops = dict(color = 'royalblue', linewidth = 2),\n",
        "                             capprops = dict(color = 'royalblue', linewidth = 2),\n",
        "                             flierprops = dict(marker = 'x'),\n",
        "                             grid = False,\n",
        "                             ax = axes.flatten()[0])\n",
        "bp1.set_title('Monto del extracto de la factura', fontsize = 18)\n",
        "bp1.set_ylabel('Dolares', fontsize = 15)\n",
        "bp1.tick_params(axis='both', labelsize=13.5)\n",
        "bp1.grid(axis='y', linestyle='--')\n",
        "\n",
        "bp2 = data.iloc[:,17:23].boxplot(boxprops = dict(color = 'royalblue', linewidth = 2),\n",
        "                             medianprops = dict(color = 'forestgreen', linewidth = 2),\n",
        "                             whiskerprops = dict(color = 'royalblue', linewidth = 2),\n",
        "                             capprops = dict(color = 'royalblue', linewidth = 2),\n",
        "                             flierprops = dict(marker = 'x'),\n",
        "                             grid = False,\n",
        "                             ax = axes.flatten()[1])\n",
        "bp2.set_title('Monto del pago anterior', fontsize = 18)\n",
        "bp2.set_ylabel('Dolares', fontsize = 15)\n",
        "bp2.tick_params(axis='both', labelsize=13.5)\n",
        "bp2.grid(axis='y', linestyle='--')"
      ],
      "execution_count": null,
      "outputs": [
        {
          "output_type": "display_data",
          "data": {
            "image/png": "[encoded data removed]",
            "text/plain": [
              "<Figure size 2160x720 with 2 Axes>"
            ]
          },
          "metadata": {
            "tags": [],
            "needs_background": "light"
          }
        }
      ]
    },
    {
      "cell_type": "markdown",
      "metadata": {
        "id": "Prxdn5kCapem"
      },
      "source": [
        "Para hallar el bogote superior e inferior es necesario primero hallar el rango intercuartico que esta dado por:"
      ]
    },
    {
      "cell_type": "code",
      "metadata": {
        "id": "8qx_nfmxaveP"
      },
      "source": [
        "def IQR(dist):\n",
        "       return np.percentile(dist, 75) - np.percentile(dist, 25)"
      ],
      "execution_count": null,
      "outputs": []
    },
    {
      "cell_type": "markdown",
      "metadata": {
        "id": "-LVRtdTraxSQ"
      },
      "source": [
        "Calcular la cantidad de valores atipicos por columnas de :\n",
        "\n",
        "PAY_AMT1"
      ]
    },
    {
      "cell_type": "code",
      "metadata": {
        "colab": {
          "base_uri": "https://localhost:8080/"
        },
        "id": "hFS_OngQa5Hj",
        "outputId": "1da4bf91-5adb-4ba0-8483-e85f0962ee91"
      },
      "source": [
        "p_m1=np.percentile(IQR(data['PAY_AMT1']), 75) + 1.5*IQR(data['PAY_AMT1'])\n",
        "mayor=data['PAY_AMT1']>p_m1\n",
        "data[mayor].shape[0]"
      ],
      "execution_count": null,
      "outputs": [
        {
          "output_type": "execute_result",
          "data": {
            "text/plain": [
              "3187"
            ]
          },
          "metadata": {
            "tags": []
          },
          "execution_count": 9
        }
      ]
    },
    {
      "cell_type": "markdown",
      "metadata": {
        "id": "7-4rgPSlbM4j"
      },
      "source": [
        "Se calcula para las columnas PAY_AMT1,PAY_AMT2, PAY_AMT3, PAY_AMT4, PAY_AMT5 , PAY_AMT6 "
      ]
    },
    {
      "cell_type": "code",
      "metadata": {
        "colab": {
          "base_uri": "https://localhost:8080/"
        },
        "id": "6yH0eq9nbg1v",
        "outputId": "9f65dc6b-dff0-4d5b-e0cc-06813d1dbd02"
      },
      "source": [
        "lis=[]\n",
        "i=0\n",
        "pay_lis={'PAY_AMT1':0 ,'PAY_AMT2':0 ,'PAY_AMT3':0 ,'PAY_AMT4': 0,'PAY_AMT5':0 ,'PAY_AMT6':0  }\n",
        "for n in range(17,23):\n",
        "  p_m=np.percentile(IQR(data.iloc[:,n]), 75) + 1.5*IQR(data.iloc[:,n])\n",
        "  mayor=data.iloc[:,n]>p_m\n",
        "  tam=data[mayor].shape[0]\n",
        "  lis.append(tam)\n",
        "\n",
        "for m in pay_lis:\n",
        "  pay_lis[m]+=lis[i]\n",
        "  i+=1\n",
        "pay_lis\n"
      ],
      "execution_count": null,
      "outputs": [
        {
          "output_type": "execute_result",
          "data": {
            "text/plain": [
              "{'PAY_AMT1': 3187,\n",
              " 'PAY_AMT2': 2997,\n",
              " 'PAY_AMT3': 2701,\n",
              " 'PAY_AMT4': 3070,\n",
              " 'PAY_AMT5': 3020,\n",
              " 'PAY_AMT6': 2977}"
            ]
          },
          "metadata": {
            "tags": []
          },
          "execution_count": 10
        }
      ]
    },
    {
      "cell_type": "markdown",
      "metadata": {
        "id": "PWx64WF1blQx"
      },
      "source": [
        "Como se puede observar existen valores atipicos en las columnas correspondientes al monto del pago anterior"
      ]
    },
    {
      "cell_type": "markdown",
      "metadata": {
        "id": "FRJ3axVDtS6W"
      },
      "source": [
        "### Descripción de la variable Edad"
      ]
    },
    {
      "cell_type": "markdown",
      "metadata": {
        "id": "G2muXnBzt_9A"
      },
      "source": [
        "Se muestra un histograma que muestra la distribución de la población con respecto la variable `AGE` (edad)."
      ]
    },
    {
      "cell_type": "code",
      "metadata": {
        "colab": {
          "base_uri": "https://localhost:8080/",
          "height": 281
        },
        "id": "1zx0c-KSHwWG",
        "outputId": "9c4ffbd7-d4ab-4255-9d79-35813fb580ca"
      },
      "source": [
        "data.AGE.plot.hist(bins = 12, alpha=0.5)\n",
        "plt.title('Histograma de edad de la población')\n",
        "plt.legend()\n",
        "plt.show()"
      ],
      "execution_count": null,
      "outputs": [
        {
          "output_type": "display_data",
          "data": {
            "image/png": "[encoded data removed]",
            "text/plain": [
              "<Figure size 432x288 with 1 Axes>"
            ]
          },
          "metadata": {
            "tags": [],
            "needs_background": "light"
          }
        }
      ]
    },
    {
      "cell_type": "markdown",
      "metadata": {
        "id": "E9j8q6CdP8Bb"
      },
      "source": [
        "Para las variables categóricas mostramos la cantidad de registros por cada categoría y el porcentaje que representan del total"
      ]
    },
    {
      "cell_type": "markdown",
      "metadata": {
        "id": "_J4cSVgXFmrD"
      },
      "source": [
        "Descripción de la variable Sexo"
      ]
    },
    {
      "cell_type": "markdown",
      "metadata": {
        "id": "A8BL1haJFxvO"
      },
      "source": [
        "Se muestra una grafica de barras que muestra la distribucion de la población respecto a la variable `SEX` (sexo), donde:\n",
        "*   1 = Male\n",
        "*   2 = Female"
      ]
    },
    {
      "cell_type": "code",
      "metadata": {
        "colab": {
          "base_uri": "https://localhost:8080/",
          "height": 106
        },
        "id": "Mp2-T97gRefz",
        "outputId": "bbe980a3-d6a6-4a9a-e196-28d4928ec1b4"
      },
      "source": [
        "enc = {1:'male', 2:'female'}\n",
        "c = data.SEX.replace(enc).value_counts()\n",
        "p = data.SEX.replace(enc).value_counts(normalize = True) * 100\n",
        "pd.concat([c,p], axis=1, keys=['# registros', '% del total'])"
      ],
      "execution_count": null,
      "outputs": [
        {
          "output_type": "execute_result",
          "data": {
            "text/html": [
              "<div>\n",
              "<style scoped>\n",
              "    .dataframe tbody tr th:only-of-type {\n",
              "        vertical-align: middle;\n",
              "    }\n",
              "\n",
              "    .dataframe tbody tr th {\n",
              "        vertical-align: top;\n",
              "    }\n",
              "\n",
              "    .dataframe thead th {\n",
              "        text-align: right;\n",
              "    }\n",
              "</style>\n",
              "<table border=\"1\" class=\"dataframe\">\n",
              "  <thead>\n",
              "    <tr style=\"text-align: right;\">\n",
              "      <th></th>\n",
              "      <th># registros</th>\n",
              "      <th>% del total</th>\n",
              "    </tr>\n",
              "  </thead>\n",
              "  <tbody>\n",
              "    <tr>\n",
              "      <th>female</th>\n",
              "      <td>18112</td>\n",
              "      <td>60.373333</td>\n",
              "    </tr>\n",
              "    <tr>\n",
              "      <th>male</th>\n",
              "      <td>11888</td>\n",
              "      <td>39.626667</td>\n",
              "    </tr>\n",
              "  </tbody>\n",
              "</table>\n",
              "</div>"
            ],
            "text/plain": [
              "        # registros  % del total\n",
              "female        18112    60.373333\n",
              "male          11888    39.626667"
            ]
          },
          "metadata": {
            "tags": []
          },
          "execution_count": 12
        }
      ]
    },
    {
      "cell_type": "code",
      "metadata": {
        "colab": {
          "base_uri": "https://localhost:8080/",
          "height": 306
        },
        "id": "nw7tdqtI_d_H",
        "outputId": "c52986cf-76a3-4767-ac47-134af1c081e6"
      },
      "source": [
        "data.SEX.replace(enc).value_counts().plot(kind='bar',alpha=0.5)\n",
        "plt.title('Género de la población')\n",
        "plt.legend()\n",
        "plt.show()"
      ],
      "execution_count": null,
      "outputs": [
        {
          "output_type": "display_data",
          "data": {
            "image/png": "[encoded data removed]",
            "text/plain": [
              "<Figure size 432x288 with 1 Axes>"
            ]
          },
          "metadata": {
            "tags": [],
            "needs_background": "light"
          }
        }
      ]
    },
    {
      "cell_type": "markdown",
      "metadata": {
        "id": "PRj2rJjdIsrT"
      },
      "source": [
        "### Descripción de la variable Educación"
      ]
    },
    {
      "cell_type": "markdown",
      "metadata": {
        "id": "hUfvv4esG6D3"
      },
      "source": [
        "Se muestra una grafica de barras que muestra la distribucion de la población respecto a la variable `EDUCATION` (nivel educativo), donde:\n",
        "\n",
        "*   1 = graduate school\n",
        "*   2 = university\n",
        "*   3 = high school\n",
        "*   4 = others\n"
      ]
    },
    {
      "cell_type": "code",
      "metadata": {
        "colab": {
          "base_uri": "https://localhost:8080/",
          "height": 166
        },
        "id": "qDha9ZnRM6ch",
        "outputId": "90190654-051d-4b82-e5b9-ced701a33a59"
      },
      "source": [
        "enc = {1:'graduate school', 2:'university', 3:'high school', 4:'others', 5:'others', 6:'others', 0:'others'}\n",
        "c = data.EDUCATION.replace(enc).value_counts()\n",
        "p = data.EDUCATION.replace(enc).value_counts(normalize = True) * 100\n",
        "pd.concat([c,p], axis=1, keys=['# registros', '% del total'])"
      ],
      "execution_count": null,
      "outputs": [
        {
          "output_type": "execute_result",
          "data": {
            "text/html": [
              "<div>\n",
              "<style scoped>\n",
              "    .dataframe tbody tr th:only-of-type {\n",
              "        vertical-align: middle;\n",
              "    }\n",
              "\n",
              "    .dataframe tbody tr th {\n",
              "        vertical-align: top;\n",
              "    }\n",
              "\n",
              "    .dataframe thead th {\n",
              "        text-align: right;\n",
              "    }\n",
              "</style>\n",
              "<table border=\"1\" class=\"dataframe\">\n",
              "  <thead>\n",
              "    <tr style=\"text-align: right;\">\n",
              "      <th></th>\n",
              "      <th># registros</th>\n",
              "      <th>% del total</th>\n",
              "    </tr>\n",
              "  </thead>\n",
              "  <tbody>\n",
              "    <tr>\n",
              "      <th>university</th>\n",
              "      <td>14030</td>\n",
              "      <td>46.766667</td>\n",
              "    </tr>\n",
              "    <tr>\n",
              "      <th>graduate school</th>\n",
              "      <td>10585</td>\n",
              "      <td>35.283333</td>\n",
              "    </tr>\n",
              "    <tr>\n",
              "      <th>high school</th>\n",
              "      <td>4917</td>\n",
              "      <td>16.390000</td>\n",
              "    </tr>\n",
              "    <tr>\n",
              "      <th>others</th>\n",
              "      <td>468</td>\n",
              "      <td>1.560000</td>\n",
              "    </tr>\n",
              "  </tbody>\n",
              "</table>\n",
              "</div>"
            ],
            "text/plain": [
              "                 # registros  % del total\n",
              "university             14030    46.766667\n",
              "graduate school        10585    35.283333\n",
              "high school             4917    16.390000\n",
              "others                   468     1.560000"
            ]
          },
          "metadata": {
            "tags": []
          },
          "execution_count": 14
        }
      ]
    },
    {
      "cell_type": "code",
      "metadata": {
        "colab": {
          "base_uri": "https://localhost:8080/",
          "height": 352
        },
        "id": "uVUQ7SjgG-yt",
        "outputId": "5bbbac2f-9744-4dd0-ff8c-8f1dc2d29d22"
      },
      "source": [
        "data.EDUCATION.replace(enc).value_counts().plot(kind = 'bar',alpha=0.5)\n",
        "plt.title('Educación')\n",
        "plt.legend()\n",
        "plt.show()"
      ],
      "execution_count": null,
      "outputs": [
        {
          "output_type": "display_data",
          "data": {
            "image/png": "[encoded data removed]",
            "text/plain": [
              "<Figure size 432x288 with 1 Axes>"
            ]
          },
          "metadata": {
            "tags": [],
            "needs_background": "light"
          }
        }
      ]
    },
    {
      "cell_type": "markdown",
      "metadata": {
        "id": "R6wyAFHgTOVd"
      },
      "source": [
        "### Descripción de la variable Marriage"
      ]
    },
    {
      "cell_type": "markdown",
      "metadata": {
        "id": "cHzMHoZ8I4pL"
      },
      "source": [
        "Se muestra una grafica de barras que muestra la distribucion de la población respecto a la variable `MARRIAGE` (estado civil), donde:\n",
        "*   1 = married\n",
        "*   2 = single\n",
        "*   3 = others\n"
      ]
    },
    {
      "cell_type": "code",
      "metadata": {
        "colab": {
          "base_uri": "https://localhost:8080/",
          "height": 136
        },
        "id": "qIF4HGruPvAG",
        "outputId": "8aa2914d-a665-4edd-a2cb-729077e5181a"
      },
      "source": [
        "enc = {1:'married', 2:'single', 3:'others', 0:'others'}\n",
        "c = data.MARRIAGE.replace(enc).value_counts()\n",
        "p = data.MARRIAGE.replace(enc).value_counts(normalize = True) * 100\n",
        "pd.concat([c,p], axis=1, keys=['# registros', '% del total'])"
      ],
      "execution_count": null,
      "outputs": [
        {
          "output_type": "execute_result",
          "data": {
            "text/html": [
              "<div>\n",
              "<style scoped>\n",
              "    .dataframe tbody tr th:only-of-type {\n",
              "        vertical-align: middle;\n",
              "    }\n",
              "\n",
              "    .dataframe tbody tr th {\n",
              "        vertical-align: top;\n",
              "    }\n",
              "\n",
              "    .dataframe thead th {\n",
              "        text-align: right;\n",
              "    }\n",
              "</style>\n",
              "<table border=\"1\" class=\"dataframe\">\n",
              "  <thead>\n",
              "    <tr style=\"text-align: right;\">\n",
              "      <th></th>\n",
              "      <th># registros</th>\n",
              "      <th>% del total</th>\n",
              "    </tr>\n",
              "  </thead>\n",
              "  <tbody>\n",
              "    <tr>\n",
              "      <th>single</th>\n",
              "      <td>15964</td>\n",
              "      <td>53.213333</td>\n",
              "    </tr>\n",
              "    <tr>\n",
              "      <th>married</th>\n",
              "      <td>13659</td>\n",
              "      <td>45.530000</td>\n",
              "    </tr>\n",
              "    <tr>\n",
              "      <th>others</th>\n",
              "      <td>377</td>\n",
              "      <td>1.256667</td>\n",
              "    </tr>\n",
              "  </tbody>\n",
              "</table>\n",
              "</div>"
            ],
            "text/plain": [
              "         # registros  % del total\n",
              "single         15964    53.213333\n",
              "married        13659    45.530000\n",
              "others           377     1.256667"
            ]
          },
          "metadata": {
            "tags": []
          },
          "execution_count": 16
        }
      ]
    },
    {
      "cell_type": "code",
      "metadata": {
        "colab": {
          "base_uri": "https://localhost:8080/",
          "height": 281
        },
        "id": "yybpKKlSSu6-",
        "outputId": "390a449b-c043-456d-f8d6-19a737a2ee61"
      },
      "source": [
        "data.MARRIAGE.replace(enc).value_counts().plot(kind='barh',alpha=0.5)\n",
        "plt.title('Marriage')\n",
        "plt.legend()\n",
        "plt.show()"
      ],
      "execution_count": null,
      "outputs": [
        {
          "output_type": "display_data",
          "data": {
            "image/png": "[encoded data removed]",
            "text/plain": [
              "<Figure size 432x288 with 1 Axes>"
            ]
          },
          "metadata": {
            "tags": [],
            "needs_background": "light"
          }
        }
      ]
    },
    {
      "cell_type": "markdown",
      "metadata": {
        "id": "4EaI8YC5KknE"
      },
      "source": [
        "## Modelamiento"
      ]
    },
    {
      "cell_type": "markdown",
      "metadata": {
        "id": "R5mvYgzaUNv0"
      },
      "source": [
        "### Preprocesamiento de la data"
      ]
    },
    {
      "cell_type": "markdown",
      "metadata": {
        "id": "qc-PHuFv505U"
      },
      "source": [
        "[De acuerdo al autor del dataset](https://www.kaggle.com/uciml/default-of-credit-card-clients-dataset/discussion/34608), en el caso de la variable `EDUCATION` se debe considerar a los valores 0, 4, 5 y 6 como de la clase `others`."
      ]
    },
    {
      "cell_type": "code",
      "metadata": {
        "id": "7luTvH9WUNaK"
      },
      "source": [
        "enc = {4:0, 5:0, 6:0}\n",
        "data.EDUCATION.replace(enc, inplace = True)"
      ],
      "execution_count": null,
      "outputs": []
    },
    {
      "cell_type": "markdown",
      "metadata": {
        "id": "K-aMB3p6HjYe"
      },
      "source": [
        "De igual manera para la variable `MARRIAGE` a los valores 0 y 3."
      ]
    },
    {
      "cell_type": "code",
      "metadata": {
        "id": "Gcdpkm6oHuzT"
      },
      "source": [
        "enc = {3:0}\n",
        "data.MARRIAGE.replace(enc, inplace = True)"
      ],
      "execution_count": null,
      "outputs": []
    },
    {
      "cell_type": "markdown",
      "metadata": {
        "id": "U4NufcUslCmD"
      },
      "source": [
        "También creamos variables dummy para las categóricas\n",
        "\n"
      ]
    },
    {
      "cell_type": "code",
      "metadata": {
        "id": "3EfRtSq3lDGJ"
      },
      "source": [
        "data = pd.get_dummies(data, columns = ['SEX','MARRIAGE'], drop_first = True)"
      ],
      "execution_count": null,
      "outputs": []
    },
    {
      "cell_type": "code",
      "metadata": {
        "colab": {
          "base_uri": "https://localhost:8080/",
          "height": 422
        },
        "id": "8Fd4Z-lEYcbe",
        "outputId": "dfcabc7f-18d1-42cd-8ad7-181be9f1daac"
      },
      "source": [
        "data"
      ],
      "execution_count": null,
      "outputs": [
        {
          "output_type": "execute_result",
          "data": {
            "text/html": [
              "<div>\n",
              "<style scoped>\n",
              "    .dataframe tbody tr th:only-of-type {\n",
              "        vertical-align: middle;\n",
              "    }\n",
              "\n",
              "    .dataframe tbody tr th {\n",
              "        vertical-align: top;\n",
              "    }\n",
              "\n",
              "    .dataframe thead th {\n",
              "        text-align: right;\n",
              "    }\n",
              "</style>\n",
              "<table border=\"1\" class=\"dataframe\">\n",
              "  <thead>\n",
              "    <tr style=\"text-align: right;\">\n",
              "      <th></th>\n",
              "      <th>LIMIT_BAL</th>\n",
              "      <th>EDUCATION</th>\n",
              "      <th>AGE</th>\n",
              "      <th>PAY_1</th>\n",
              "      <th>PAY_2</th>\n",
              "      <th>PAY_3</th>\n",
              "      <th>PAY_4</th>\n",
              "      <th>PAY_5</th>\n",
              "      <th>PAY_6</th>\n",
              "      <th>BILL_AMT1</th>\n",
              "      <th>...</th>\n",
              "      <th>PAY_AMT2</th>\n",
              "      <th>PAY_AMT3</th>\n",
              "      <th>PAY_AMT4</th>\n",
              "      <th>PAY_AMT5</th>\n",
              "      <th>PAY_AMT6</th>\n",
              "      <th>DEFAULT</th>\n",
              "      <th>SEX_2</th>\n",
              "      <th>MARRIAGE_1</th>\n",
              "      <th>MARRIAGE_2</th>\n",
              "      <th>MARRIAGE_3</th>\n",
              "    </tr>\n",
              "  </thead>\n",
              "  <tbody>\n",
              "    <tr>\n",
              "      <th>0</th>\n",
              "      <td>20000</td>\n",
              "      <td>2</td>\n",
              "      <td>24</td>\n",
              "      <td>2</td>\n",
              "      <td>2</td>\n",
              "      <td>-1</td>\n",
              "      <td>-1</td>\n",
              "      <td>-2</td>\n",
              "      <td>-2</td>\n",
              "      <td>3913</td>\n",
              "      <td>...</td>\n",
              "      <td>689</td>\n",
              "      <td>0</td>\n",
              "      <td>0</td>\n",
              "      <td>0</td>\n",
              "      <td>0</td>\n",
              "      <td>1</td>\n",
              "      <td>1</td>\n",
              "      <td>1</td>\n",
              "      <td>0</td>\n",
              "      <td>0</td>\n",
              "    </tr>\n",
              "    <tr>\n",
              "      <th>1</th>\n",
              "      <td>120000</td>\n",
              "      <td>2</td>\n",
              "      <td>26</td>\n",
              "      <td>-1</td>\n",
              "      <td>2</td>\n",
              "      <td>0</td>\n",
              "      <td>0</td>\n",
              "      <td>0</td>\n",
              "      <td>2</td>\n",
              "      <td>2682</td>\n",
              "      <td>...</td>\n",
              "      <td>1000</td>\n",
              "      <td>1000</td>\n",
              "      <td>1000</td>\n",
              "      <td>0</td>\n",
              "      <td>2000</td>\n",
              "      <td>1</td>\n",
              "      <td>1</td>\n",
              "      <td>0</td>\n",
              "      <td>1</td>\n",
              "      <td>0</td>\n",
              "    </tr>\n",
              "    <tr>\n",
              "      <th>2</th>\n",
              "      <td>90000</td>\n",
              "      <td>2</td>\n",
              "      <td>34</td>\n",
              "      <td>0</td>\n",
              "      <td>0</td>\n",
              "      <td>0</td>\n",
              "      <td>0</td>\n",
              "      <td>0</td>\n",
              "      <td>0</td>\n",
              "      <td>29239</td>\n",
              "      <td>...</td>\n",
              "      <td>1500</td>\n",
              "      <td>1000</td>\n",
              "      <td>1000</td>\n",
              "      <td>1000</td>\n",
              "      <td>5000</td>\n",
              "      <td>0</td>\n",
              "      <td>1</td>\n",
              "      <td>0</td>\n",
              "      <td>1</td>\n",
              "      <td>0</td>\n",
              "    </tr>\n",
              "    <tr>\n",
              "      <th>3</th>\n",
              "      <td>50000</td>\n",
              "      <td>2</td>\n",
              "      <td>37</td>\n",
              "      <td>0</td>\n",
              "      <td>0</td>\n",
              "      <td>0</td>\n",
              "      <td>0</td>\n",
              "      <td>0</td>\n",
              "      <td>0</td>\n",
              "      <td>46990</td>\n",
              "      <td>...</td>\n",
              "      <td>2019</td>\n",
              "      <td>1200</td>\n",
              "      <td>1100</td>\n",
              "      <td>1069</td>\n",
              "      <td>1000</td>\n",
              "      <td>0</td>\n",
              "      <td>1</td>\n",
              "      <td>1</td>\n",
              "      <td>0</td>\n",
              "      <td>0</td>\n",
              "    </tr>\n",
              "    <tr>\n",
              "      <th>4</th>\n",
              "      <td>50000</td>\n",
              "      <td>2</td>\n",
              "      <td>57</td>\n",
              "      <td>-1</td>\n",
              "      <td>0</td>\n",
              "      <td>-1</td>\n",
              "      <td>0</td>\n",
              "      <td>0</td>\n",
              "      <td>0</td>\n",
              "      <td>8617</td>\n",
              "      <td>...</td>\n",
              "      <td>36681</td>\n",
              "      <td>10000</td>\n",
              "      <td>9000</td>\n",
              "      <td>689</td>\n",
              "      <td>679</td>\n",
              "      <td>0</td>\n",
              "      <td>0</td>\n",
              "      <td>1</td>\n",
              "      <td>0</td>\n",
              "      <td>0</td>\n",
              "    </tr>\n",
              "    <tr>\n",
              "      <th>...</th>\n",
              "      <td>...</td>\n",
              "      <td>...</td>\n",
              "      <td>...</td>\n",
              "      <td>...</td>\n",
              "      <td>...</td>\n",
              "      <td>...</td>\n",
              "      <td>...</td>\n",
              "      <td>...</td>\n",
              "      <td>...</td>\n",
              "      <td>...</td>\n",
              "      <td>...</td>\n",
              "      <td>...</td>\n",
              "      <td>...</td>\n",
              "      <td>...</td>\n",
              "      <td>...</td>\n",
              "      <td>...</td>\n",
              "      <td>...</td>\n",
              "      <td>...</td>\n",
              "      <td>...</td>\n",
              "      <td>...</td>\n",
              "      <td>...</td>\n",
              "    </tr>\n",
              "    <tr>\n",
              "      <th>29995</th>\n",
              "      <td>220000</td>\n",
              "      <td>3</td>\n",
              "      <td>39</td>\n",
              "      <td>0</td>\n",
              "      <td>0</td>\n",
              "      <td>0</td>\n",
              "      <td>0</td>\n",
              "      <td>0</td>\n",
              "      <td>0</td>\n",
              "      <td>188948</td>\n",
              "      <td>...</td>\n",
              "      <td>20000</td>\n",
              "      <td>5003</td>\n",
              "      <td>3047</td>\n",
              "      <td>5000</td>\n",
              "      <td>1000</td>\n",
              "      <td>0</td>\n",
              "      <td>0</td>\n",
              "      <td>1</td>\n",
              "      <td>0</td>\n",
              "      <td>0</td>\n",
              "    </tr>\n",
              "    <tr>\n",
              "      <th>29996</th>\n",
              "      <td>150000</td>\n",
              "      <td>3</td>\n",
              "      <td>43</td>\n",
              "      <td>-1</td>\n",
              "      <td>-1</td>\n",
              "      <td>-1</td>\n",
              "      <td>-1</td>\n",
              "      <td>0</td>\n",
              "      <td>0</td>\n",
              "      <td>1683</td>\n",
              "      <td>...</td>\n",
              "      <td>3526</td>\n",
              "      <td>8998</td>\n",
              "      <td>129</td>\n",
              "      <td>0</td>\n",
              "      <td>0</td>\n",
              "      <td>0</td>\n",
              "      <td>0</td>\n",
              "      <td>0</td>\n",
              "      <td>1</td>\n",
              "      <td>0</td>\n",
              "    </tr>\n",
              "    <tr>\n",
              "      <th>29997</th>\n",
              "      <td>30000</td>\n",
              "      <td>2</td>\n",
              "      <td>37</td>\n",
              "      <td>4</td>\n",
              "      <td>3</td>\n",
              "      <td>2</td>\n",
              "      <td>-1</td>\n",
              "      <td>0</td>\n",
              "      <td>0</td>\n",
              "      <td>3565</td>\n",
              "      <td>...</td>\n",
              "      <td>0</td>\n",
              "      <td>22000</td>\n",
              "      <td>4200</td>\n",
              "      <td>2000</td>\n",
              "      <td>3100</td>\n",
              "      <td>1</td>\n",
              "      <td>0</td>\n",
              "      <td>0</td>\n",
              "      <td>1</td>\n",
              "      <td>0</td>\n",
              "    </tr>\n",
              "    <tr>\n",
              "      <th>29998</th>\n",
              "      <td>80000</td>\n",
              "      <td>3</td>\n",
              "      <td>41</td>\n",
              "      <td>1</td>\n",
              "      <td>-1</td>\n",
              "      <td>0</td>\n",
              "      <td>0</td>\n",
              "      <td>0</td>\n",
              "      <td>-1</td>\n",
              "      <td>-1645</td>\n",
              "      <td>...</td>\n",
              "      <td>3409</td>\n",
              "      <td>1178</td>\n",
              "      <td>1926</td>\n",
              "      <td>52964</td>\n",
              "      <td>1804</td>\n",
              "      <td>1</td>\n",
              "      <td>0</td>\n",
              "      <td>1</td>\n",
              "      <td>0</td>\n",
              "      <td>0</td>\n",
              "    </tr>\n",
              "    <tr>\n",
              "      <th>29999</th>\n",
              "      <td>50000</td>\n",
              "      <td>2</td>\n",
              "      <td>46</td>\n",
              "      <td>0</td>\n",
              "      <td>0</td>\n",
              "      <td>0</td>\n",
              "      <td>0</td>\n",
              "      <td>0</td>\n",
              "      <td>0</td>\n",
              "      <td>47929</td>\n",
              "      <td>...</td>\n",
              "      <td>1800</td>\n",
              "      <td>1430</td>\n",
              "      <td>1000</td>\n",
              "      <td>1000</td>\n",
              "      <td>1000</td>\n",
              "      <td>1</td>\n",
              "      <td>0</td>\n",
              "      <td>1</td>\n",
              "      <td>0</td>\n",
              "      <td>0</td>\n",
              "    </tr>\n",
              "  </tbody>\n",
              "</table>\n",
              "<p>30000 rows × 26 columns</p>\n",
              "</div>"
            ],
            "text/plain": [
              "       LIMIT_BAL  EDUCATION  AGE  PAY_1  PAY_2  PAY_3  PAY_4  PAY_5  PAY_6  \\\n",
              "0          20000          2   24      2      2     -1     -1     -2     -2   \n",
              "1         120000          2   26     -1      2      0      0      0      2   \n",
              "2          90000          2   34      0      0      0      0      0      0   \n",
              "3          50000          2   37      0      0      0      0      0      0   \n",
              "4          50000          2   57     -1      0     -1      0      0      0   \n",
              "...          ...        ...  ...    ...    ...    ...    ...    ...    ...   \n",
              "29995     220000          3   39      0      0      0      0      0      0   \n",
              "29996     150000          3   43     -1     -1     -1     -1      0      0   \n",
              "29997      30000          2   37      4      3      2     -1      0      0   \n",
              "29998      80000          3   41      1     -1      0      0      0     -1   \n",
              "29999      50000          2   46      0      0      0      0      0      0   \n",
              "\n",
              "       BILL_AMT1  ...  PAY_AMT2  PAY_AMT3  PAY_AMT4  PAY_AMT5  PAY_AMT6  \\\n",
              "0           3913  ...       689         0         0         0         0   \n",
              "1           2682  ...      1000      1000      1000         0      2000   \n",
              "2          29239  ...      1500      1000      1000      1000      5000   \n",
              "3          46990  ...      2019      1200      1100      1069      1000   \n",
              "4           8617  ...     36681     10000      9000       689       679   \n",
              "...          ...  ...       ...       ...       ...       ...       ...   \n",
              "29995     188948  ...     20000      5003      3047      5000      1000   \n",
              "29996       1683  ...      3526      8998       129         0         0   \n",
              "29997       3565  ...         0     22000      4200      2000      3100   \n",
              "29998      -1645  ...      3409      1178      1926     52964      1804   \n",
              "29999      47929  ...      1800      1430      1000      1000      1000   \n",
              "\n",
              "       DEFAULT  SEX_2  MARRIAGE_1  MARRIAGE_2  MARRIAGE_3  \n",
              "0            1      1           1           0           0  \n",
              "1            1      1           0           1           0  \n",
              "2            0      1           0           1           0  \n",
              "3            0      1           1           0           0  \n",
              "4            0      0           1           0           0  \n",
              "...        ...    ...         ...         ...         ...  \n",
              "29995        0      0           1           0           0  \n",
              "29996        0      0           0           1           0  \n",
              "29997        1      0           0           1           0  \n",
              "29998        1      0           1           0           0  \n",
              "29999        1      0           1           0           0  \n",
              "\n",
              "[30000 rows x 26 columns]"
            ]
          },
          "metadata": {
            "tags": []
          },
          "execution_count": 5
        }
      ]
    },
    {
      "cell_type": "code",
      "metadata": {
        "colab": {
          "base_uri": "https://localhost:8080/",
          "height": 422
        },
        "id": "0m02-gb5OurS",
        "outputId": "732ed014-d2a6-4ffa-c93c-c5d8b379bce3"
      },
      "source": [
        "or1=data.iloc[:, :21]\n",
        "or2=data.iloc[:,-4:]\n",
        "or3=data['DEFAULT']\n",
        "data = pd.concat([or1,or2,or3], axis=1,)\n",
        "data"
      ],
      "execution_count": null,
      "outputs": [
        {
          "output_type": "execute_result",
          "data": {
            "text/html": [
              "<div>\n",
              "<style scoped>\n",
              "    .dataframe tbody tr th:only-of-type {\n",
              "        vertical-align: middle;\n",
              "    }\n",
              "\n",
              "    .dataframe tbody tr th {\n",
              "        vertical-align: top;\n",
              "    }\n",
              "\n",
              "    .dataframe thead th {\n",
              "        text-align: right;\n",
              "    }\n",
              "</style>\n",
              "<table border=\"1\" class=\"dataframe\">\n",
              "  <thead>\n",
              "    <tr style=\"text-align: right;\">\n",
              "      <th></th>\n",
              "      <th>LIMIT_BAL</th>\n",
              "      <th>EDUCATION</th>\n",
              "      <th>AGE</th>\n",
              "      <th>PAY_1</th>\n",
              "      <th>PAY_2</th>\n",
              "      <th>PAY_3</th>\n",
              "      <th>PAY_4</th>\n",
              "      <th>PAY_5</th>\n",
              "      <th>PAY_6</th>\n",
              "      <th>BILL_AMT1</th>\n",
              "      <th>...</th>\n",
              "      <th>PAY_AMT2</th>\n",
              "      <th>PAY_AMT3</th>\n",
              "      <th>PAY_AMT4</th>\n",
              "      <th>PAY_AMT5</th>\n",
              "      <th>PAY_AMT6</th>\n",
              "      <th>SEX_2</th>\n",
              "      <th>MARRIAGE_1</th>\n",
              "      <th>MARRIAGE_2</th>\n",
              "      <th>MARRIAGE_3</th>\n",
              "      <th>DEFAULT</th>\n",
              "    </tr>\n",
              "  </thead>\n",
              "  <tbody>\n",
              "    <tr>\n",
              "      <th>0</th>\n",
              "      <td>20000</td>\n",
              "      <td>2</td>\n",
              "      <td>24</td>\n",
              "      <td>2</td>\n",
              "      <td>2</td>\n",
              "      <td>-1</td>\n",
              "      <td>-1</td>\n",
              "      <td>-2</td>\n",
              "      <td>-2</td>\n",
              "      <td>3913</td>\n",
              "      <td>...</td>\n",
              "      <td>689</td>\n",
              "      <td>0</td>\n",
              "      <td>0</td>\n",
              "      <td>0</td>\n",
              "      <td>0</td>\n",
              "      <td>1</td>\n",
              "      <td>1</td>\n",
              "      <td>0</td>\n",
              "      <td>0</td>\n",
              "      <td>1</td>\n",
              "    </tr>\n",
              "    <tr>\n",
              "      <th>1</th>\n",
              "      <td>120000</td>\n",
              "      <td>2</td>\n",
              "      <td>26</td>\n",
              "      <td>-1</td>\n",
              "      <td>2</td>\n",
              "      <td>0</td>\n",
              "      <td>0</td>\n",
              "      <td>0</td>\n",
              "      <td>2</td>\n",
              "      <td>2682</td>\n",
              "      <td>...</td>\n",
              "      <td>1000</td>\n",
              "      <td>1000</td>\n",
              "      <td>1000</td>\n",
              "      <td>0</td>\n",
              "      <td>2000</td>\n",
              "      <td>1</td>\n",
              "      <td>0</td>\n",
              "      <td>1</td>\n",
              "      <td>0</td>\n",
              "      <td>1</td>\n",
              "    </tr>\n",
              "    <tr>\n",
              "      <th>2</th>\n",
              "      <td>90000</td>\n",
              "      <td>2</td>\n",
              "      <td>34</td>\n",
              "      <td>0</td>\n",
              "      <td>0</td>\n",
              "      <td>0</td>\n",
              "      <td>0</td>\n",
              "      <td>0</td>\n",
              "      <td>0</td>\n",
              "      <td>29239</td>\n",
              "      <td>...</td>\n",
              "      <td>1500</td>\n",
              "      <td>1000</td>\n",
              "      <td>1000</td>\n",
              "      <td>1000</td>\n",
              "      <td>5000</td>\n",
              "      <td>1</td>\n",
              "      <td>0</td>\n",
              "      <td>1</td>\n",
              "      <td>0</td>\n",
              "      <td>0</td>\n",
              "    </tr>\n",
              "    <tr>\n",
              "      <th>3</th>\n",
              "      <td>50000</td>\n",
              "      <td>2</td>\n",
              "      <td>37</td>\n",
              "      <td>0</td>\n",
              "      <td>0</td>\n",
              "      <td>0</td>\n",
              "      <td>0</td>\n",
              "      <td>0</td>\n",
              "      <td>0</td>\n",
              "      <td>46990</td>\n",
              "      <td>...</td>\n",
              "      <td>2019</td>\n",
              "      <td>1200</td>\n",
              "      <td>1100</td>\n",
              "      <td>1069</td>\n",
              "      <td>1000</td>\n",
              "      <td>1</td>\n",
              "      <td>1</td>\n",
              "      <td>0</td>\n",
              "      <td>0</td>\n",
              "      <td>0</td>\n",
              "    </tr>\n",
              "    <tr>\n",
              "      <th>4</th>\n",
              "      <td>50000</td>\n",
              "      <td>2</td>\n",
              "      <td>57</td>\n",
              "      <td>-1</td>\n",
              "      <td>0</td>\n",
              "      <td>-1</td>\n",
              "      <td>0</td>\n",
              "      <td>0</td>\n",
              "      <td>0</td>\n",
              "      <td>8617</td>\n",
              "      <td>...</td>\n",
              "      <td>36681</td>\n",
              "      <td>10000</td>\n",
              "      <td>9000</td>\n",
              "      <td>689</td>\n",
              "      <td>679</td>\n",
              "      <td>0</td>\n",
              "      <td>1</td>\n",
              "      <td>0</td>\n",
              "      <td>0</td>\n",
              "      <td>0</td>\n",
              "    </tr>\n",
              "    <tr>\n",
              "      <th>...</th>\n",
              "      <td>...</td>\n",
              "      <td>...</td>\n",
              "      <td>...</td>\n",
              "      <td>...</td>\n",
              "      <td>...</td>\n",
              "      <td>...</td>\n",
              "      <td>...</td>\n",
              "      <td>...</td>\n",
              "      <td>...</td>\n",
              "      <td>...</td>\n",
              "      <td>...</td>\n",
              "      <td>...</td>\n",
              "      <td>...</td>\n",
              "      <td>...</td>\n",
              "      <td>...</td>\n",
              "      <td>...</td>\n",
              "      <td>...</td>\n",
              "      <td>...</td>\n",
              "      <td>...</td>\n",
              "      <td>...</td>\n",
              "      <td>...</td>\n",
              "    </tr>\n",
              "    <tr>\n",
              "      <th>29995</th>\n",
              "      <td>220000</td>\n",
              "      <td>3</td>\n",
              "      <td>39</td>\n",
              "      <td>0</td>\n",
              "      <td>0</td>\n",
              "      <td>0</td>\n",
              "      <td>0</td>\n",
              "      <td>0</td>\n",
              "      <td>0</td>\n",
              "      <td>188948</td>\n",
              "      <td>...</td>\n",
              "      <td>20000</td>\n",
              "      <td>5003</td>\n",
              "      <td>3047</td>\n",
              "      <td>5000</td>\n",
              "      <td>1000</td>\n",
              "      <td>0</td>\n",
              "      <td>1</td>\n",
              "      <td>0</td>\n",
              "      <td>0</td>\n",
              "      <td>0</td>\n",
              "    </tr>\n",
              "    <tr>\n",
              "      <th>29996</th>\n",
              "      <td>150000</td>\n",
              "      <td>3</td>\n",
              "      <td>43</td>\n",
              "      <td>-1</td>\n",
              "      <td>-1</td>\n",
              "      <td>-1</td>\n",
              "      <td>-1</td>\n",
              "      <td>0</td>\n",
              "      <td>0</td>\n",
              "      <td>1683</td>\n",
              "      <td>...</td>\n",
              "      <td>3526</td>\n",
              "      <td>8998</td>\n",
              "      <td>129</td>\n",
              "      <td>0</td>\n",
              "      <td>0</td>\n",
              "      <td>0</td>\n",
              "      <td>0</td>\n",
              "      <td>1</td>\n",
              "      <td>0</td>\n",
              "      <td>0</td>\n",
              "    </tr>\n",
              "    <tr>\n",
              "      <th>29997</th>\n",
              "      <td>30000</td>\n",
              "      <td>2</td>\n",
              "      <td>37</td>\n",
              "      <td>4</td>\n",
              "      <td>3</td>\n",
              "      <td>2</td>\n",
              "      <td>-1</td>\n",
              "      <td>0</td>\n",
              "      <td>0</td>\n",
              "      <td>3565</td>\n",
              "      <td>...</td>\n",
              "      <td>0</td>\n",
              "      <td>22000</td>\n",
              "      <td>4200</td>\n",
              "      <td>2000</td>\n",
              "      <td>3100</td>\n",
              "      <td>0</td>\n",
              "      <td>0</td>\n",
              "      <td>1</td>\n",
              "      <td>0</td>\n",
              "      <td>1</td>\n",
              "    </tr>\n",
              "    <tr>\n",
              "      <th>29998</th>\n",
              "      <td>80000</td>\n",
              "      <td>3</td>\n",
              "      <td>41</td>\n",
              "      <td>1</td>\n",
              "      <td>-1</td>\n",
              "      <td>0</td>\n",
              "      <td>0</td>\n",
              "      <td>0</td>\n",
              "      <td>-1</td>\n",
              "      <td>-1645</td>\n",
              "      <td>...</td>\n",
              "      <td>3409</td>\n",
              "      <td>1178</td>\n",
              "      <td>1926</td>\n",
              "      <td>52964</td>\n",
              "      <td>1804</td>\n",
              "      <td>0</td>\n",
              "      <td>1</td>\n",
              "      <td>0</td>\n",
              "      <td>0</td>\n",
              "      <td>1</td>\n",
              "    </tr>\n",
              "    <tr>\n",
              "      <th>29999</th>\n",
              "      <td>50000</td>\n",
              "      <td>2</td>\n",
              "      <td>46</td>\n",
              "      <td>0</td>\n",
              "      <td>0</td>\n",
              "      <td>0</td>\n",
              "      <td>0</td>\n",
              "      <td>0</td>\n",
              "      <td>0</td>\n",
              "      <td>47929</td>\n",
              "      <td>...</td>\n",
              "      <td>1800</td>\n",
              "      <td>1430</td>\n",
              "      <td>1000</td>\n",
              "      <td>1000</td>\n",
              "      <td>1000</td>\n",
              "      <td>0</td>\n",
              "      <td>1</td>\n",
              "      <td>0</td>\n",
              "      <td>0</td>\n",
              "      <td>1</td>\n",
              "    </tr>\n",
              "  </tbody>\n",
              "</table>\n",
              "<p>30000 rows × 26 columns</p>\n",
              "</div>"
            ],
            "text/plain": [
              "       LIMIT_BAL  EDUCATION  AGE  PAY_1  PAY_2  PAY_3  PAY_4  PAY_5  PAY_6  \\\n",
              "0          20000          2   24      2      2     -1     -1     -2     -2   \n",
              "1         120000          2   26     -1      2      0      0      0      2   \n",
              "2          90000          2   34      0      0      0      0      0      0   \n",
              "3          50000          2   37      0      0      0      0      0      0   \n",
              "4          50000          2   57     -1      0     -1      0      0      0   \n",
              "...          ...        ...  ...    ...    ...    ...    ...    ...    ...   \n",
              "29995     220000          3   39      0      0      0      0      0      0   \n",
              "29996     150000          3   43     -1     -1     -1     -1      0      0   \n",
              "29997      30000          2   37      4      3      2     -1      0      0   \n",
              "29998      80000          3   41      1     -1      0      0      0     -1   \n",
              "29999      50000          2   46      0      0      0      0      0      0   \n",
              "\n",
              "       BILL_AMT1  ...  PAY_AMT2  PAY_AMT3  PAY_AMT4  PAY_AMT5  PAY_AMT6  \\\n",
              "0           3913  ...       689         0         0         0         0   \n",
              "1           2682  ...      1000      1000      1000         0      2000   \n",
              "2          29239  ...      1500      1000      1000      1000      5000   \n",
              "3          46990  ...      2019      1200      1100      1069      1000   \n",
              "4           8617  ...     36681     10000      9000       689       679   \n",
              "...          ...  ...       ...       ...       ...       ...       ...   \n",
              "29995     188948  ...     20000      5003      3047      5000      1000   \n",
              "29996       1683  ...      3526      8998       129         0         0   \n",
              "29997       3565  ...         0     22000      4200      2000      3100   \n",
              "29998      -1645  ...      3409      1178      1926     52964      1804   \n",
              "29999      47929  ...      1800      1430      1000      1000      1000   \n",
              "\n",
              "       SEX_2  MARRIAGE_1  MARRIAGE_2  MARRIAGE_3  DEFAULT  \n",
              "0          1           1           0           0        1  \n",
              "1          1           0           1           0        1  \n",
              "2          1           0           1           0        0  \n",
              "3          1           1           0           0        0  \n",
              "4          0           1           0           0        0  \n",
              "...      ...         ...         ...         ...      ...  \n",
              "29995      0           1           0           0        0  \n",
              "29996      0           0           1           0        0  \n",
              "29997      0           0           1           0        1  \n",
              "29998      0           1           0           0        1  \n",
              "29999      0           1           0           0        1  \n",
              "\n",
              "[30000 rows x 26 columns]"
            ]
          },
          "metadata": {
            "tags": []
          },
          "execution_count": 6
        }
      ]
    },
    {
      "cell_type": "markdown",
      "metadata": {
        "id": "TAEF_teOLz-0"
      },
      "source": [
        "Separamos entre train y test. La separación se ha realizado en un 20% para test y el 80% restante para train."
      ]
    },
    {
      "cell_type": "code",
      "metadata": {
        "id": "liD1ElZgXOvB"
      },
      "source": [
        "from sklearn.model_selection import train_test_split\n",
        "\n",
        "X = data.drop('DEFAULT', axis = 1)\n",
        "y = data['DEFAULT']\n",
        "\n",
        "X_train, X_test, y_train, y_test = train_test_split(X, y, test_size = 0.2)"
      ],
      "execution_count": null,
      "outputs": []
    },
    {
      "cell_type": "markdown",
      "metadata": {
        "id": "WaVIpIg3b8qN"
      },
      "source": [
        "Proporción de la variable a predecir para ambas particiones "
      ]
    },
    {
      "cell_type": "markdown",
      "metadata": {
        "id": "r6W722K1cD6j"
      },
      "source": [
        "Train"
      ]
    },
    {
      "cell_type": "code",
      "metadata": {
        "colab": {
          "base_uri": "https://localhost:8080/",
          "height": 106
        },
        "id": "EwQ10ApCb9zj",
        "outputId": "c95bdbc7-4a34-4e35-f8b1-a92be2e1e568"
      },
      "source": [
        "enc = {0:'NO DEFAULT', 1:'DEFAULT'}\n",
        "a= y_train.replace(enc).value_counts()\n",
        "b= y_train.replace(enc).value_counts(normalize=True)*100\n",
        "pd.concat([a,b], axis=1, keys=['# registros', '% del total'])"
      ],
      "execution_count": null,
      "outputs": [
        {
          "output_type": "execute_result",
          "data": {
            "text/html": [
              "<div>\n",
              "<style scoped>\n",
              "    .dataframe tbody tr th:only-of-type {\n",
              "        vertical-align: middle;\n",
              "    }\n",
              "\n",
              "    .dataframe tbody tr th {\n",
              "        vertical-align: top;\n",
              "    }\n",
              "\n",
              "    .dataframe thead th {\n",
              "        text-align: right;\n",
              "    }\n",
              "</style>\n",
              "<table border=\"1\" class=\"dataframe\">\n",
              "  <thead>\n",
              "    <tr style=\"text-align: right;\">\n",
              "      <th></th>\n",
              "      <th># registros</th>\n",
              "      <th>% del total</th>\n",
              "    </tr>\n",
              "  </thead>\n",
              "  <tbody>\n",
              "    <tr>\n",
              "      <th>NO DEFAULT</th>\n",
              "      <td>18689</td>\n",
              "      <td>77.870833</td>\n",
              "    </tr>\n",
              "    <tr>\n",
              "      <th>DEFAULT</th>\n",
              "      <td>5311</td>\n",
              "      <td>22.129167</td>\n",
              "    </tr>\n",
              "  </tbody>\n",
              "</table>\n",
              "</div>"
            ],
            "text/plain": [
              "            # registros  % del total\n",
              "NO DEFAULT        18689    77.870833\n",
              "DEFAULT            5311    22.129167"
            ]
          },
          "metadata": {
            "tags": []
          },
          "execution_count": 22
        }
      ]
    },
    {
      "cell_type": "markdown",
      "metadata": {
        "id": "Nu9bPZWlcFpV"
      },
      "source": [
        "Test"
      ]
    },
    {
      "cell_type": "code",
      "metadata": {
        "colab": {
          "base_uri": "https://localhost:8080/",
          "height": 106
        },
        "id": "7-galomNcHh_",
        "outputId": "335b48d0-e72c-4197-98b8-249d9b121698"
      },
      "source": [
        "enc = {0:'NO DEFAULT', 1:'DEFAULT'}\n",
        "c= y_test.replace(enc).value_counts()\n",
        "d= y_test.replace(enc).value_counts(normalize=True)*100\n",
        "pd.concat([c,d], axis=1, keys=['# registros', '% del total'])"
      ],
      "execution_count": null,
      "outputs": [
        {
          "output_type": "execute_result",
          "data": {
            "text/html": [
              "<div>\n",
              "<style scoped>\n",
              "    .dataframe tbody tr th:only-of-type {\n",
              "        vertical-align: middle;\n",
              "    }\n",
              "\n",
              "    .dataframe tbody tr th {\n",
              "        vertical-align: top;\n",
              "    }\n",
              "\n",
              "    .dataframe thead th {\n",
              "        text-align: right;\n",
              "    }\n",
              "</style>\n",
              "<table border=\"1\" class=\"dataframe\">\n",
              "  <thead>\n",
              "    <tr style=\"text-align: right;\">\n",
              "      <th></th>\n",
              "      <th># registros</th>\n",
              "      <th>% del total</th>\n",
              "    </tr>\n",
              "  </thead>\n",
              "  <tbody>\n",
              "    <tr>\n",
              "      <th>NO DEFAULT</th>\n",
              "      <td>4675</td>\n",
              "      <td>77.916667</td>\n",
              "    </tr>\n",
              "    <tr>\n",
              "      <th>DEFAULT</th>\n",
              "      <td>1325</td>\n",
              "      <td>22.083333</td>\n",
              "    </tr>\n",
              "  </tbody>\n",
              "</table>\n",
              "</div>"
            ],
            "text/plain": [
              "            # registros  % del total\n",
              "NO DEFAULT         4675    77.916667\n",
              "DEFAULT            1325    22.083333"
            ]
          },
          "metadata": {
            "tags": []
          },
          "execution_count": 23
        }
      ]
    },
    {
      "cell_type": "markdown",
      "metadata": {
        "id": "drclw271cOdc"
      },
      "source": [
        "La proporción de los dos grupos de la variable a predecir es muy similar en ambas particiones."
      ]
    },
    {
      "cell_type": "markdown",
      "metadata": {
        "id": "VKY2Tj-GKDa_"
      },
      "source": [
        "### Algoritmo Random Forests"
      ]
    },
    {
      "cell_type": "markdown",
      "metadata": {
        "id": "UGqvLexXKve4"
      },
      "source": [
        "El primer clasificador que entrenamos es el Random Forests. A continuación creamos una nueva instancia de este clasificador y mostramos su performance con los hiperparámetros con valores por defecto. "
      ]
    },
    {
      "cell_type": "code",
      "metadata": {
        "colab": {
          "base_uri": "https://localhost:8080/"
        },
        "id": "pRqLSmtzxMP-",
        "outputId": "0b00a0b7-3228-4b9f-ff61-77ae246e3404"
      },
      "source": [
        "nombre_gpu = tf.test.gpu_device_name()\n",
        "if nombre_gpu != '/device:GPU:0':\n",
        "  raise SystemError('GPU no encontrada')\n",
        "print('GPU encontrada: {}'.format(nombre_gpu))"
      ],
      "execution_count": null,
      "outputs": [
        {
          "output_type": "stream",
          "text": [
            "GPU encontrada: /device:GPU:0\n"
          ],
          "name": "stdout"
        }
      ]
    },
    {
      "cell_type": "code",
      "metadata": {
        "colab": {
          "base_uri": "https://localhost:8080/"
        },
        "id": "Z-88p_xjKUnL",
        "outputId": "ef8ccf18-4f38-46bb-8eab-40945be34a13"
      },
      "source": [
        "from sklearn.ensemble import RandomForestClassifier\n",
        "from sklearn.model_selection import StratifiedKFold, cross_validate\n",
        "\n",
        "d_rfc = RandomForestClassifier(n_jobs = -1)\n",
        "skf = StratifiedKFold(n_splits = 10)\n",
        "with tf.device('/device:GPU:0'):\n",
        "    d_rfc_res = cross_validate(d_rfc, X_train, y_train, cv = skf, return_train_score = True, scoring = ['accuracy','f1','roc_auc'], n_jobs = -1)\n",
        "print('Los valores por defecto de los hiperparámetros del algoritmo RF son:')\n",
        "d_rfc.get_params()"
      ],
      "execution_count": null,
      "outputs": [
        {
          "output_type": "stream",
          "text": [
            "Los valores por defecto de los hiperparámetros del algoritmo RF son:\n"
          ],
          "name": "stdout"
        },
        {
          "output_type": "execute_result",
          "data": {
            "text/plain": [
              "{'bootstrap': True,\n",
              " 'ccp_alpha': 0.0,\n",
              " 'class_weight': None,\n",
              " 'criterion': 'gini',\n",
              " 'max_depth': None,\n",
              " 'max_features': 'auto',\n",
              " 'max_leaf_nodes': None,\n",
              " 'max_samples': None,\n",
              " 'min_impurity_decrease': 0.0,\n",
              " 'min_impurity_split': None,\n",
              " 'min_samples_leaf': 1,\n",
              " 'min_samples_split': 2,\n",
              " 'min_weight_fraction_leaf': 0.0,\n",
              " 'n_estimators': 100,\n",
              " 'n_jobs': -1,\n",
              " 'oob_score': False,\n",
              " 'random_state': None,\n",
              " 'verbose': 0,\n",
              " 'warm_start': False}"
            ]
          },
          "metadata": {
            "tags": []
          },
          "execution_count": 25
        }
      ]
    },
    {
      "cell_type": "markdown",
      "metadata": {
        "id": "iiWaymqc0oMC"
      },
      "source": [
        "Y obtuvimos los siguientes resultados del área bajo la curva ROC:"
      ]
    },
    {
      "cell_type": "code",
      "metadata": {
        "colab": {
          "base_uri": "https://localhost:8080/"
        },
        "id": "n8w0uuFO0nY0",
        "outputId": "0c309b4f-9085-4570-cdd5-df000e42d5b0"
      },
      "source": [
        "print('El área bajo la curva ROC promedio en el conjunto de train de la validación cruzada fue de {}'.format(np.mean(d_rfc_res['train_roc_auc'])))\n",
        "print('El área bajo la curva ROC promedio en el conjunto de test de la validación cruzada fue de {}'.format(np.mean(d_rfc_res['test_roc_auc'])))"
      ],
      "execution_count": null,
      "outputs": [
        {
          "output_type": "stream",
          "text": [
            "El área bajo la curva ROC promedio en el conjunto de train de la validación cruzada fue de 0.9999975895153751\n",
            "El área bajo la curva ROC promedio en el conjunto de test de la validación cruzada fue de 0.7623077498012398\n"
          ],
          "name": "stdout"
        }
      ]
    },
    {
      "cell_type": "markdown",
      "metadata": {
        "id": "fKGeRvR5TXGK"
      },
      "source": [
        "Notamos que obtuvimos un valor muy alto con el conjunto de entrenamiento, pero en la evaluación salió muy bajo, esto es un claro indicador de que el modelo tiene un sesgo muy alto (overfitting). "
      ]
    },
    {
      "cell_type": "markdown",
      "metadata": {
        "id": "cdKrNFKryz_1"
      },
      "source": [
        "Antes de empezar la búsqueda aleatoria de los mejores hiperparámetros, revisamos a partir de qué cantidad de árboles la métricas dejan de mejorar, con ese valor fijamos a `n_estimators` y ahorramos tiempo de procesamiento."
      ]
    },
    {
      "cell_type": "code",
      "metadata": {
        "id": "ozqUbEfjzfZN"
      },
      "source": [
        "lista_q_arboles = np.around(np.linspace(2, 500, 10, endpoint = True)).astype(int)\n",
        "\n",
        "train_accuracy = []\n",
        "test_accuracy = []\n",
        "train_f1 = []\n",
        "test_f1 = []\n",
        "train_roc_auc = []\n",
        "test_roc_auc = []\n",
        "with tf.device('/device:GPU:0'):\n",
        "    for q_arboles in lista_q_arboles:\n",
        "        i_rfc = RandomForestClassifier(n_estimators = q_arboles, random_state = 42, n_jobs = -1)\n",
        "        i_rfc_res = cross_validate(i_rfc, X, y, cv = skf, return_train_score = True, scoring = ['accuracy','f1','roc_auc'], n_jobs = -1)\n",
        "        train_accuracy.append(np.mean(i_rfc_res['train_accuracy']))\n",
        "        test_accuracy.append(np.mean(i_rfc_res['test_accuracy']))\n",
        "        train_f1.append(np.mean(i_rfc_res['train_f1'])) \n",
        "        test_f1.append(np.mean(i_rfc_res['test_f1']))\n",
        "        train_roc_auc.append(np.mean(i_rfc_res['train_roc_auc'])) \n",
        "        test_roc_auc.append(np.mean(i_rfc_res['test_roc_auc']))"
      ],
      "execution_count": null,
      "outputs": []
    },
    {
      "cell_type": "code",
      "metadata": {
        "colab": {
          "base_uri": "https://localhost:8080/",
          "height": 352
        },
        "id": "cNDosnCgHNBs",
        "outputId": "dbeb875f-3a6e-4a53-af34-8efc64e09baf"
      },
      "source": [
        "import matplotlib.pyplot as plt\n",
        "\n",
        "plt.figure(num = 1, figsize = (10,5))\n",
        "plt.plot(lista_q_arboles, train_roc_auc, 'b', marker = '.', label = 'Train')\n",
        "plt.plot(lista_q_arboles, test_roc_auc, 'r', marker = '.', label = 'Test')\n",
        "plt.ylabel('ROC AUC')\n",
        "plt.xlabel('n_estimators')\n",
        "plt.legend(loc = 'lower right')\n",
        "plt.grid()\n",
        "plt.show()\n",
        "\n",
        "#plt.figure(num = 2, figsize = (10,5))\n",
        "#plt.plot(lista_q_arboles, train_roc_auc, 'b', marker = '.', label = 'Train')\n",
        "#plt.plot(lista_q_arboles, test_roc_auc, 'r', marker = '.', label = 'Test')\n",
        "#plt.ylabel('Accuracy')\n",
        "#plt.xlabel('n_estimators')\n",
        "#plt.legend(loc = 'lower right')\n",
        "#plt.grid()\n",
        "#plt.show()\n",
        "\n",
        "print('Notamos en la gráfica que a partir de los 70 árboles la métrica ya no se incrementa tanto. Usaremos 70 para el valor de n_estimators.')"
      ],
      "execution_count": null,
      "outputs": [
        {
          "output_type": "display_data",
          "data": {
            "image/png": "[encoded data removed]",
            "text/plain": [
              "<Figure size 720x360 with 1 Axes>"
            ]
          },
          "metadata": {
            "tags": [],
            "needs_background": "light"
          }
        },
        {
          "output_type": "stream",
          "text": [
            "Notamos en la gráfica que a partir de los 70 árboles la métrica ya no se incrementa tanto. Usaremos 70 para el valor de n_estimators.\n"
          ],
          "name": "stdout"
        }
      ]
    },
    {
      "cell_type": "markdown",
      "metadata": {
        "id": "h7HxjBm5jFVb"
      },
      "source": [
        "Con esto en mente, realizamos una primera búsqueda en grilla para encontrar a los hiperparámetros que generen al mejor modelo."
      ]
    },
    {
      "cell_type": "code",
      "metadata": {
        "colab": {
          "base_uri": "https://localhost:8080/"
        },
        "id": "mITIS4cS7Y3c",
        "outputId": "3e9c3ed1-b312-43b5-84ae-5ff044273bb2"
      },
      "source": [
        "from pprint import pprint\n",
        "\n",
        "max_features = ['auto', 8, 10, 12, None]  # 'auto' equivale a 'sqrt'; None equivale a todas\n",
        "max_depth = [int(x) for x in np.linspace(5, 20, num = 4)]\n",
        "min_samples_leaf = [2, 4, 6]\n",
        "\n",
        "rf_grid1_hp = {'max_features': max_features,\n",
        "             'max_depth': max_depth,\n",
        "             'min_samples_leaf': min_samples_leaf}\n",
        "\n",
        "print('Los valores a probar en la primera búsqueda en grilla son:')\n",
        "pprint(rf_grid1_hp)\n",
        "\n",
        "print('\\nSe entrenarán', \n",
        "      len(rf_grid1_hp['max_features']) *\n",
        "      len(rf_grid1_hp['max_depth']) *\n",
        "      len(rf_grid1_hp['min_samples_leaf']),\n",
        "      'modelos.')"
      ],
      "execution_count": null,
      "outputs": [
        {
          "output_type": "stream",
          "text": [
            "Los valores a probar en la primera búsqueda en grilla son:\n",
            "{'max_depth': [5, 10, 15, 20],\n",
            " 'max_features': ['auto', 8, 10, 12, None],\n",
            " 'min_samples_leaf': [2, 4, 6]}\n",
            "\n",
            "Se entrenarán 60 modelos.\n"
          ],
          "name": "stdout"
        }
      ]
    },
    {
      "cell_type": "code",
      "metadata": {
        "colab": {
          "base_uri": "https://localhost:8080/"
        },
        "id": "hqiy6BIH8BNz",
        "outputId": "dc5dc588-389c-4cf5-d2f3-14725cc70823"
      },
      "source": [
        "from sklearn.model_selection import GridSearchCV\n",
        "\n",
        "with tf.device('/device:GPU:0'):\n",
        "    rf = RandomForestClassifier(n_estimators = 70) # n_estimators va a ser el único hiperparámetro fijo\n",
        "    rf_grid1 = GridSearchCV(estimator = rf, \n",
        "                               param_grid = rf_grid1_hp,\n",
        "                               cv = skf,          # Validación cruzada 10-fold\n",
        "                               scoring = ['accuracy','f1','roc_auc'],\n",
        "                               refit = 'roc_auc',\n",
        "                               return_train_score = True,\n",
        "                               verbose = 2, \n",
        "                               n_jobs = -1)      # Paralelizar en todos los cores disponibles\n",
        "\n",
        "    rf_grid1.fit(X_train, y_train)"
      ],
      "execution_count": null,
      "outputs": [
        {
          "output_type": "stream",
          "text": [
            "Fitting 10 folds for each of 60 candidates, totalling 600 fits\n"
          ],
          "name": "stdout"
        },
        {
          "output_type": "stream",
          "text": [
            "[Parallel(n_jobs=-1)]: Using backend LokyBackend with 2 concurrent workers.\n",
            "[Parallel(n_jobs=-1)]: Done  37 tasks      | elapsed:   45.4s\n",
            "[Parallel(n_jobs=-1)]: Done 158 tasks      | elapsed:  6.1min\n",
            "[Parallel(n_jobs=-1)]: Done 361 tasks      | elapsed: 20.0min\n",
            "[Parallel(n_jobs=-1)]: Done 600 out of 600 | elapsed: 47.1min finished\n"
          ],
          "name": "stderr"
        }
      ]
    },
    {
      "cell_type": "markdown",
      "metadata": {
        "id": "rYBjI764d3XZ"
      },
      "source": [
        "En la siguiente tabla podemos ver los 5 modelos con las mejores métricas producto de la primera búsqueda en grilla."
      ]
    },
    {
      "cell_type": "code",
      "metadata": {
        "colab": {
          "base_uri": "https://localhost:8080/",
          "height": 195
        },
        "id": "mA8GxxubYSTH",
        "outputId": "07c4d698-0bd9-4806-f03e-9be325ccb4ee"
      },
      "source": [
        "pd.DataFrame(rf_grid1.cv_results_)[['rank_test_roc_auc','param_max_depth','param_max_features','param_min_samples_leaf','mean_train_roc_auc','mean_test_roc_auc']].sort_values('rank_test_roc_auc').head(5)"
      ],
      "execution_count": null,
      "outputs": [
        {
          "output_type": "execute_result",
          "data": {
            "text/html": [
              "<div>\n",
              "<style scoped>\n",
              "    .dataframe tbody tr th:only-of-type {\n",
              "        vertical-align: middle;\n",
              "    }\n",
              "\n",
              "    .dataframe tbody tr th {\n",
              "        vertical-align: top;\n",
              "    }\n",
              "\n",
              "    .dataframe thead th {\n",
              "        text-align: right;\n",
              "    }\n",
              "</style>\n",
              "<table border=\"1\" class=\"dataframe\">\n",
              "  <thead>\n",
              "    <tr style=\"text-align: right;\">\n",
              "      <th></th>\n",
              "      <th>rank_test_roc_auc</th>\n",
              "      <th>param_max_depth</th>\n",
              "      <th>param_max_features</th>\n",
              "      <th>param_min_samples_leaf</th>\n",
              "      <th>mean_train_roc_auc</th>\n",
              "      <th>mean_test_roc_auc</th>\n",
              "    </tr>\n",
              "  </thead>\n",
              "  <tbody>\n",
              "    <tr>\n",
              "      <th>20</th>\n",
              "      <td>1</td>\n",
              "      <td>10</td>\n",
              "      <td>8</td>\n",
              "      <td>6</td>\n",
              "      <td>0.854084</td>\n",
              "      <td>0.781343</td>\n",
              "    </tr>\n",
              "    <tr>\n",
              "      <th>26</th>\n",
              "      <td>2</td>\n",
              "      <td>10</td>\n",
              "      <td>12</td>\n",
              "      <td>6</td>\n",
              "      <td>0.857579</td>\n",
              "      <td>0.780955</td>\n",
              "    </tr>\n",
              "    <tr>\n",
              "      <th>17</th>\n",
              "      <td>3</td>\n",
              "      <td>10</td>\n",
              "      <td>auto</td>\n",
              "      <td>6</td>\n",
              "      <td>0.848149</td>\n",
              "      <td>0.780655</td>\n",
              "    </tr>\n",
              "    <tr>\n",
              "      <th>24</th>\n",
              "      <td>4</td>\n",
              "      <td>10</td>\n",
              "      <td>12</td>\n",
              "      <td>2</td>\n",
              "      <td>0.865451</td>\n",
              "      <td>0.780277</td>\n",
              "    </tr>\n",
              "    <tr>\n",
              "      <th>28</th>\n",
              "      <td>5</td>\n",
              "      <td>10</td>\n",
              "      <td>None</td>\n",
              "      <td>4</td>\n",
              "      <td>0.863318</td>\n",
              "      <td>0.780204</td>\n",
              "    </tr>\n",
              "  </tbody>\n",
              "</table>\n",
              "</div>"
            ],
            "text/plain": [
              "    rank_test_roc_auc param_max_depth  ... mean_train_roc_auc mean_test_roc_auc\n",
              "20                  1              10  ...           0.854084          0.781343\n",
              "26                  2              10  ...           0.857579          0.780955\n",
              "17                  3              10  ...           0.848149          0.780655\n",
              "24                  4              10  ...           0.865451          0.780277\n",
              "28                  5              10  ...           0.863318          0.780204\n",
              "\n",
              "[5 rows x 6 columns]"
            ]
          },
          "metadata": {
            "tags": []
          },
          "execution_count": 29
        }
      ]
    },
    {
      "cell_type": "code",
      "metadata": {
        "colab": {
          "base_uri": "https://localhost:8080/"
        },
        "id": "qUMn2kZELrxL",
        "outputId": "d3e5878e-85df-41cf-beaa-baa5b5168fc3"
      },
      "source": [
        "rf_grid1_best = rf_grid1.best_estimator_\n",
        "\n",
        "print('Los hiperparámetros del mejor modelo son:')\n",
        "print(rf_grid1.best_params_)\n",
        "\n",
        "print('\\nLa mayor área bajo la curva ROC luego de la primera búsqueda en grilla en entrenamiento (80% dataset) es:', rf_grid1_best.score(X_train, y_train))\n",
        "print('La mayor área bajo la curva ROC luego de la primera búsqueda en grilla en validación (20% dataset) es:', rf_grid1_best.score(X_test, y_test))"
      ],
      "execution_count": null,
      "outputs": [
        {
          "output_type": "stream",
          "text": [
            "Los hiperparámetros del mejor modelo son:\n",
            "{'max_depth': 10, 'max_features': 8, 'min_samples_leaf': 6}\n",
            "\n",
            "La mayor área bajo la curva ROC luego de la primera búsqueda en grilla en entrenamiento (80% dataset) es: 0.8500416666666667\n",
            "La mayor área bajo la curva ROC luego de la primera búsqueda en grilla en validación (20% dataset) es: 0.823\n"
          ],
          "name": "stdout"
        }
      ]
    },
    {
      "cell_type": "markdown",
      "metadata": {
        "id": "QLlNX0_ClnYw"
      },
      "source": [
        "Ahora buscaremos con mayor precisión los mejores hiperparámetros es una segunda búsqueda en grilla focalizada."
      ]
    },
    {
      "cell_type": "code",
      "metadata": {
        "colab": {
          "base_uri": "https://localhost:8080/"
        },
        "id": "48MaYSnjZpH3",
        "outputId": "3790c0da-1284-4894-a3dc-e0256c322c04"
      },
      "source": [
        "max_features = [8,9,10,11,12,13]\n",
        "max_depth = [5, 10, 15]\n",
        "min_samples_leaf = [3,4,5,6]\n",
        "\n",
        "rf_grid2_hp = {'max_features': max_features,\n",
        "               'max_depth': max_depth,\n",
        "               'min_samples_leaf': min_samples_leaf}\n",
        "\n",
        "print('Los valores a probar en la segunda búsqueda por grilla son:')\n",
        "pprint(rf_grid2_hp)"
      ],
      "execution_count": null,
      "outputs": [
        {
          "output_type": "stream",
          "text": [
            "Los valores a probar en la segunda búsqueda por grilla son:\n",
            "{'max_depth': [5, 10, 15],\n",
            " 'max_features': [8, 9, 10, 11, 12, 13],\n",
            " 'min_samples_leaf': [3, 4, 5, 6]}\n"
          ],
          "name": "stdout"
        }
      ]
    },
    {
      "cell_type": "code",
      "metadata": {
        "colab": {
          "base_uri": "https://localhost:8080/"
        },
        "id": "R87CvZfsZ7D1",
        "outputId": "eefec5ad-2eba-4fd6-d1d2-87a0fbe91dde"
      },
      "source": [
        "from sklearn.model_selection import GridSearchCV\n",
        "\n",
        "with tf.device('/device:GPU:0'):\n",
        "    rf = RandomForestClassifier(n_estimators = 70)\n",
        "    rf_grid2 = GridSearchCV(estimator = rf, \n",
        "                        param_grid = rf_grid2_hp, \n",
        "                        cv = skf,          # Validación cruzada 10-fold\n",
        "                        scoring = ['accuracy','f1','roc_auc'],\n",
        "                        refit = 'roc_auc',\n",
        "                        return_train_score = True,\n",
        "                        verbose = 2, \n",
        "                        n_jobs = -1)      # Paralelizar en todos los cores disponibles\n",
        "    rf_grid2.fit(X_train, y_train)"
      ],
      "execution_count": null,
      "outputs": [
        {
          "output_type": "stream",
          "text": [
            "Fitting 10 folds for each of 72 candidates, totalling 720 fits\n"
          ],
          "name": "stdout"
        },
        {
          "output_type": "stream",
          "text": [
            "[Parallel(n_jobs=-1)]: Using backend LokyBackend with 2 concurrent workers.\n",
            "[Parallel(n_jobs=-1)]: Done  37 tasks      | elapsed:  1.1min\n",
            "[Parallel(n_jobs=-1)]: Done 158 tasks      | elapsed:  5.3min\n",
            "[Parallel(n_jobs=-1)]: Done 361 tasks      | elapsed: 15.8min\n",
            "[Parallel(n_jobs=-1)]: Done 644 tasks      | elapsed: 37.6min\n",
            "[Parallel(n_jobs=-1)]: Done 720 out of 720 | elapsed: 45.3min finished\n"
          ],
          "name": "stderr"
        }
      ]
    },
    {
      "cell_type": "code",
      "metadata": {
        "colab": {
          "base_uri": "https://localhost:8080/",
          "height": 195
        },
        "id": "ryEGpOArzGvs",
        "outputId": "9f467957-4caf-43ea-8696-7cf5210da3f7"
      },
      "source": [
        "pd.DataFrame(rf_grid2.cv_results_)[['rank_test_roc_auc','param_max_depth','param_max_features','param_min_samples_leaf','mean_train_roc_auc','mean_test_roc_auc']].sort_values('rank_test_roc_auc').head(5)"
      ],
      "execution_count": null,
      "outputs": [
        {
          "output_type": "execute_result",
          "data": {
            "text/html": [
              "<div>\n",
              "<style scoped>\n",
              "    .dataframe tbody tr th:only-of-type {\n",
              "        vertical-align: middle;\n",
              "    }\n",
              "\n",
              "    .dataframe tbody tr th {\n",
              "        vertical-align: top;\n",
              "    }\n",
              "\n",
              "    .dataframe thead th {\n",
              "        text-align: right;\n",
              "    }\n",
              "</style>\n",
              "<table border=\"1\" class=\"dataframe\">\n",
              "  <thead>\n",
              "    <tr style=\"text-align: right;\">\n",
              "      <th></th>\n",
              "      <th>rank_test_roc_auc</th>\n",
              "      <th>param_max_depth</th>\n",
              "      <th>param_max_features</th>\n",
              "      <th>param_min_samples_leaf</th>\n",
              "      <th>mean_train_roc_auc</th>\n",
              "      <th>mean_test_roc_auc</th>\n",
              "    </tr>\n",
              "  </thead>\n",
              "  <tbody>\n",
              "    <tr>\n",
              "      <th>38</th>\n",
              "      <td>1</td>\n",
              "      <td>10</td>\n",
              "      <td>11</td>\n",
              "      <td>5</td>\n",
              "      <td>0.859382</td>\n",
              "      <td>0.781280</td>\n",
              "    </tr>\n",
              "    <tr>\n",
              "      <th>35</th>\n",
              "      <td>2</td>\n",
              "      <td>10</td>\n",
              "      <td>10</td>\n",
              "      <td>6</td>\n",
              "      <td>0.856110</td>\n",
              "      <td>0.780949</td>\n",
              "    </tr>\n",
              "    <tr>\n",
              "      <th>37</th>\n",
              "      <td>3</td>\n",
              "      <td>10</td>\n",
              "      <td>11</td>\n",
              "      <td>4</td>\n",
              "      <td>0.860812</td>\n",
              "      <td>0.780938</td>\n",
              "    </tr>\n",
              "    <tr>\n",
              "      <th>34</th>\n",
              "      <td>4</td>\n",
              "      <td>10</td>\n",
              "      <td>10</td>\n",
              "      <td>5</td>\n",
              "      <td>0.858123</td>\n",
              "      <td>0.780655</td>\n",
              "    </tr>\n",
              "    <tr>\n",
              "      <th>30</th>\n",
              "      <td>5</td>\n",
              "      <td>10</td>\n",
              "      <td>9</td>\n",
              "      <td>5</td>\n",
              "      <td>0.856908</td>\n",
              "      <td>0.780620</td>\n",
              "    </tr>\n",
              "  </tbody>\n",
              "</table>\n",
              "</div>"
            ],
            "text/plain": [
              "    rank_test_roc_auc param_max_depth  ... mean_train_roc_auc mean_test_roc_auc\n",
              "38                  1              10  ...           0.859382          0.781280\n",
              "35                  2              10  ...           0.856110          0.780949\n",
              "37                  3              10  ...           0.860812          0.780938\n",
              "34                  4              10  ...           0.858123          0.780655\n",
              "30                  5              10  ...           0.856908          0.780620\n",
              "\n",
              "[5 rows x 6 columns]"
            ]
          },
          "metadata": {
            "tags": []
          },
          "execution_count": 36
        }
      ]
    },
    {
      "cell_type": "code",
      "metadata": {
        "colab": {
          "base_uri": "https://localhost:8080/"
        },
        "id": "VnS9pfEagpIN",
        "outputId": "94633414-8ec5-4caa-b590-75257c334754"
      },
      "source": [
        "rf_grid2_best = rf_grid2.best_estimator_\n",
        "\n",
        "print('Los hiperparámetros del mejor modelo son:')\n",
        "pprint(rf_grid2.best_params_)\n",
        "print()\n",
        "\n",
        "print('El área bajo la curva ROC luego de búsqueda en grilla en entrenamiento:', rf_grid2_best.score(X_train, y_train))\n",
        "print('El área bajo la curva ROC luego de búsqueda en grilla en validación:', rf_grid2_best.score(X_test, y_test))"
      ],
      "execution_count": null,
      "outputs": [
        {
          "output_type": "stream",
          "text": [
            "Los hiperparámetros del mejor modelo son:\n",
            "{'max_depth': 10, 'max_features': 11, 'min_samples_leaf': 5}\n",
            "\n",
            "El área bajo la curva ROC luego de búsqueda en grilla en entrenamiento: 0.8515833333333334\n",
            "El área bajo la curva ROC luego de búsqueda en grilla en validación: 0.8243333333333334\n"
          ],
          "name": "stdout"
        }
      ]
    },
    {
      "cell_type": "markdown",
      "metadata": {
        "id": "EV_JWf31YjKK"
      },
      "source": [
        "A continuación, se muestra la Curva ROC. La curva ROC es una mejor metrica para ver que tan bueno es el clasificador sobre todo cuando existe un desbalanceo en las clases. Para estos casos es una mejor medida que el accuracy."
      ]
    },
    {
      "cell_type": "code",
      "metadata": {
        "colab": {
          "base_uri": "https://localhost:8080/",
          "height": 296
        },
        "id": "m2-jjLF3VdWm",
        "outputId": "5196d8da-3cb7-4ed8-8eef-3eb371124b77"
      },
      "source": [
        "from sklearn.metrics import roc_auc_score, plot_roc_curve\n",
        "\n",
        "y_pred_val = rf_grid2_best.predict_proba(X_test)[:,1]\n",
        "auc_roc = roc_auc_score(y_test, y_pred_val)\n",
        "print('AUC =', auc_roc)\n",
        "\n",
        "plot_roc_curve(rf_grid2_best, X_test, y_test)\n",
        "plt.show()                 "
      ],
      "execution_count": null,
      "outputs": [
        {
          "output_type": "stream",
          "text": [
            "AUC = 0.7789734234688731\n"
          ],
          "name": "stdout"
        },
        {
          "output_type": "display_data",
          "data": {
            "image/png": "[encoded data removed]",
            "text/plain": [
              "<Figure size 432x288 with 1 Axes>"
            ]
          },
          "metadata": {
            "tags": [],
            "needs_background": "light"
          }
        }
      ]
    },
    {
      "cell_type": "markdown",
      "metadata": {
        "id": "QilyVNV7Qgsd"
      },
      "source": [
        "#### GANANCIA DE LA INFORMACIÓN"
      ]
    },
    {
      "cell_type": "code",
      "metadata": {
        "colab": {
          "base_uri": "https://localhost:8080/"
        },
        "id": "4NONIGzVqjJT",
        "outputId": "cb62c09e-46e7-477c-9e6c-5182e9a6c537"
      },
      "source": [
        "instancias= data.shape[0]\n",
        "columnas= data.shape[1]\n",
        "print(instancias)\n",
        "print(columnas)"
      ],
      "execution_count": null,
      "outputs": [
        {
          "output_type": "stream",
          "text": [
            "30000\n",
            "26\n"
          ],
          "name": "stdout"
        }
      ]
    },
    {
      "cell_type": "markdown",
      "metadata": {
        "id": "JXW4PolycmM4"
      },
      "source": [
        "Función logaritmo"
      ]
    },
    {
      "cell_type": "code",
      "metadata": {
        "id": "hYohvxckQu3T"
      },
      "source": [
        "import math\n",
        "\n",
        "def log2(p):\n",
        "  return math.log2(p)"
      ],
      "execution_count": null,
      "outputs": []
    },
    {
      "cell_type": "markdown",
      "metadata": {
        "id": "HqKwOuAncx1D"
      },
      "source": [
        "Definir funcion de la entropia"
      ]
    },
    {
      "cell_type": "code",
      "metadata": {
        "id": "3L3-VYZZcwfg"
      },
      "source": [
        "def calcular_entropia_def(df, instancias_in):\n",
        "  entropia = 0\n",
        "  clases = df['DEFAULT'].value_counts().keys().tolist()\n",
        "  for i in range(0, len(clases)):\n",
        "    prob = df.iloc[:, -1].value_counts().tolist()[i]/instancias_in\n",
        "    entropia += -prob*log2(prob)\n",
        "  return entropia  "
      ],
      "execution_count": null,
      "outputs": []
    },
    {
      "cell_type": "markdown",
      "metadata": {
        "id": "bivb05bBc2B7"
      },
      "source": [
        "Entropia"
      ]
    },
    {
      "cell_type": "code",
      "metadata": {
        "colab": {
          "base_uri": "https://localhost:8080/"
        },
        "id": "R9KgVHgcc6f7",
        "outputId": "f01465e9-a11a-4cb8-fde9-f2954a0edcc6"
      },
      "source": [
        "entropia_def=calcular_entropia_def(data, instancias)\n",
        "entropia_def"
      ],
      "execution_count": null,
      "outputs": [
        {
          "output_type": "execute_result",
          "data": {
            "text/plain": [
              "0.7623526222941667"
            ]
          },
          "metadata": {
            "tags": []
          },
          "execution_count": 39
        }
      ]
    },
    {
      "cell_type": "markdown",
      "metadata": {
        "id": "MjQ2gqomdC7Y"
      },
      "source": [
        "Función ganancia de la información"
      ]
    },
    {
      "cell_type": "code",
      "metadata": {
        "id": "T9wA8EiUdCp_"
      },
      "source": [
        "import operator\n",
        "def entropia_clases_def(df):\n",
        "  ganancias = []\n",
        "  dict_gan={}\n",
        "  for i in range(0, columnas-1):\n",
        "    nombre_atributo = df.columns[i]\n",
        "    clases_atributo = df[nombre_atributo].value_counts()\n",
        "    ganancia = entropia_def\n",
        "\n",
        "    for j in range(0, len(clases_atributo)):\n",
        "      clase_actual = clases_atributo.keys().tolist()[j]\n",
        "      subdata = df[df[nombre_atributo]==clase_actual]\n",
        "      subdata_instancias = subdata.shape[0]\n",
        "      subdata_entropia = calcular_entropia_def(subdata, subdata_instancias)\n",
        "      clase_a_probabilidad = subdata_instancias/instancias\n",
        "      ganancia = ganancia - clase_a_probabilidad*subdata_entropia\n",
        "      ganancia= round(ganancia,5)\n",
        "    ganancias.append(ganancia)\n",
        "  # crea diccionario de cada atributo con su ganancia\n",
        "  for i in range(0, columnas-1):\n",
        "    nombre_atributo = df.columns[i]\n",
        "    gan= ganancias[i]\n",
        "    dict_gan[nombre_atributo]=gan\n",
        "  ganancia_mayor = ganancias.index(max(ganancias))\n",
        "  nombre_mejor_ganancia = df.columns[ganancia_mayor]\n",
        "  ord_dic=sorted(dict_gan.items(), key=operator.itemgetter(1), reverse=True)\n",
        "  return ord_dic"
      ],
      "execution_count": null,
      "outputs": []
    },
    {
      "cell_type": "code",
      "metadata": {
        "colab": {
          "base_uri": "https://localhost:8080/"
        },
        "id": "DYgo6nF9dNSg",
        "outputId": "fa8824c5-822a-4066-cefb-fb087d7be614"
      },
      "source": [
        "entropia_def= calcular_entropia_def(data, instancias)\n",
        "print(\"entropia_default: \", entropia_def)\n",
        "\n",
        "nombre_mejor_def = entropia_clases_def(data) # error: list index out of range, \n",
        "#se muestra el diccioonario con los atributos y sus ganancias \n",
        "print(nombre_mejor_def)"
      ],
      "execution_count": null,
      "outputs": [
        {
          "output_type": "stream",
          "text": [
            "entropia_default:  0.7623526222941667\n",
            "[('BILL_AMT1', 0.58125), ('BILL_AMT2', 0.57227), ('BILL_AMT3', 0.565), ('BILL_AMT4', 0.55385), ('BILL_AMT5', 0.5404), ('BILL_AMT6', 0.52949), ('PAY_AMT1', 0.2024), ('PAY_AMT2', 0.19192), ('PAY_AMT3', 0.18894), ('PAY_AMT6', 0.17433), ('PAY_AMT4', 0.17368), ('PAY_AMT5', 0.17157), ('PAY_1', 0.10972), ('PAY_2', 0.07077), ('PAY_3', 0.05378), ('PAY_4', 0.04744), ('PAY_5', 0.04407), ('PAY_6', 0.03811), ('LIMIT_BAL', 0.02433), ('EDUCATION', 0.00443), ('AGE', 0.00374), ('SEX_2', 0.00114), ('MARRIAGE_2', 0.00068), ('MARRIAGE_1', 0.00064), ('MARRIAGE_3', 7e-05)]\n"
          ],
          "name": "stdout"
        }
      ]
    },
    {
      "cell_type": "markdown",
      "metadata": {
        "id": "35CEqi09Qc31"
      },
      "source": [
        "Se forma un dataset solo con las variables que tengan mayor ganancia de la información"
      ]
    },
    {
      "cell_type": "code",
      "metadata": {
        "id": "Migm0e2lQc31",
        "outputId": "380ec37e-2e3c-40c9-bed2-869d01b5d746"
      },
      "source": [
        "X2=data.iloc[:,9:21]\n",
        "y=data['DEFAULT']\n",
        "X2"
      ],
      "execution_count": null,
      "outputs": [
        {
          "output_type": "execute_result",
          "data": {
            "text/html": [
              "<div>\n",
              "<style scoped>\n",
              "    .dataframe tbody tr th:only-of-type {\n",
              "        vertical-align: middle;\n",
              "    }\n",
              "\n",
              "    .dataframe tbody tr th {\n",
              "        vertical-align: top;\n",
              "    }\n",
              "\n",
              "    .dataframe thead th {\n",
              "        text-align: right;\n",
              "    }\n",
              "</style>\n",
              "<table border=\"1\" class=\"dataframe\">\n",
              "  <thead>\n",
              "    <tr style=\"text-align: right;\">\n",
              "      <th></th>\n",
              "      <th>BILL_AMT1</th>\n",
              "      <th>BILL_AMT2</th>\n",
              "      <th>BILL_AMT3</th>\n",
              "      <th>BILL_AMT4</th>\n",
              "      <th>BILL_AMT5</th>\n",
              "      <th>BILL_AMT6</th>\n",
              "      <th>PAY_AMT1</th>\n",
              "      <th>PAY_AMT2</th>\n",
              "      <th>PAY_AMT3</th>\n",
              "      <th>PAY_AMT4</th>\n",
              "      <th>PAY_AMT5</th>\n",
              "      <th>PAY_AMT6</th>\n",
              "    </tr>\n",
              "  </thead>\n",
              "  <tbody>\n",
              "    <tr>\n",
              "      <th>0</th>\n",
              "      <td>3913</td>\n",
              "      <td>3102</td>\n",
              "      <td>689</td>\n",
              "      <td>0</td>\n",
              "      <td>0</td>\n",
              "      <td>0</td>\n",
              "      <td>0</td>\n",
              "      <td>689</td>\n",
              "      <td>0</td>\n",
              "      <td>0</td>\n",
              "      <td>0</td>\n",
              "      <td>0</td>\n",
              "    </tr>\n",
              "    <tr>\n",
              "      <th>1</th>\n",
              "      <td>2682</td>\n",
              "      <td>1725</td>\n",
              "      <td>2682</td>\n",
              "      <td>3272</td>\n",
              "      <td>3455</td>\n",
              "      <td>3261</td>\n",
              "      <td>0</td>\n",
              "      <td>1000</td>\n",
              "      <td>1000</td>\n",
              "      <td>1000</td>\n",
              "      <td>0</td>\n",
              "      <td>2000</td>\n",
              "    </tr>\n",
              "    <tr>\n",
              "      <th>2</th>\n",
              "      <td>29239</td>\n",
              "      <td>14027</td>\n",
              "      <td>13559</td>\n",
              "      <td>14331</td>\n",
              "      <td>14948</td>\n",
              "      <td>15549</td>\n",
              "      <td>1518</td>\n",
              "      <td>1500</td>\n",
              "      <td>1000</td>\n",
              "      <td>1000</td>\n",
              "      <td>1000</td>\n",
              "      <td>5000</td>\n",
              "    </tr>\n",
              "    <tr>\n",
              "      <th>3</th>\n",
              "      <td>46990</td>\n",
              "      <td>48233</td>\n",
              "      <td>49291</td>\n",
              "      <td>28314</td>\n",
              "      <td>28959</td>\n",
              "      <td>29547</td>\n",
              "      <td>2000</td>\n",
              "      <td>2019</td>\n",
              "      <td>1200</td>\n",
              "      <td>1100</td>\n",
              "      <td>1069</td>\n",
              "      <td>1000</td>\n",
              "    </tr>\n",
              "    <tr>\n",
              "      <th>4</th>\n",
              "      <td>8617</td>\n",
              "      <td>5670</td>\n",
              "      <td>35835</td>\n",
              "      <td>20940</td>\n",
              "      <td>19146</td>\n",
              "      <td>19131</td>\n",
              "      <td>2000</td>\n",
              "      <td>36681</td>\n",
              "      <td>10000</td>\n",
              "      <td>9000</td>\n",
              "      <td>689</td>\n",
              "      <td>679</td>\n",
              "    </tr>\n",
              "    <tr>\n",
              "      <th>...</th>\n",
              "      <td>...</td>\n",
              "      <td>...</td>\n",
              "      <td>...</td>\n",
              "      <td>...</td>\n",
              "      <td>...</td>\n",
              "      <td>...</td>\n",
              "      <td>...</td>\n",
              "      <td>...</td>\n",
              "      <td>...</td>\n",
              "      <td>...</td>\n",
              "      <td>...</td>\n",
              "      <td>...</td>\n",
              "    </tr>\n",
              "    <tr>\n",
              "      <th>29995</th>\n",
              "      <td>188948</td>\n",
              "      <td>192815</td>\n",
              "      <td>208365</td>\n",
              "      <td>88004</td>\n",
              "      <td>31237</td>\n",
              "      <td>15980</td>\n",
              "      <td>8500</td>\n",
              "      <td>20000</td>\n",
              "      <td>5003</td>\n",
              "      <td>3047</td>\n",
              "      <td>5000</td>\n",
              "      <td>1000</td>\n",
              "    </tr>\n",
              "    <tr>\n",
              "      <th>29996</th>\n",
              "      <td>1683</td>\n",
              "      <td>1828</td>\n",
              "      <td>3502</td>\n",
              "      <td>8979</td>\n",
              "      <td>5190</td>\n",
              "      <td>0</td>\n",
              "      <td>1837</td>\n",
              "      <td>3526</td>\n",
              "      <td>8998</td>\n",
              "      <td>129</td>\n",
              "      <td>0</td>\n",
              "      <td>0</td>\n",
              "    </tr>\n",
              "    <tr>\n",
              "      <th>29997</th>\n",
              "      <td>3565</td>\n",
              "      <td>3356</td>\n",
              "      <td>2758</td>\n",
              "      <td>20878</td>\n",
              "      <td>20582</td>\n",
              "      <td>19357</td>\n",
              "      <td>0</td>\n",
              "      <td>0</td>\n",
              "      <td>22000</td>\n",
              "      <td>4200</td>\n",
              "      <td>2000</td>\n",
              "      <td>3100</td>\n",
              "    </tr>\n",
              "    <tr>\n",
              "      <th>29998</th>\n",
              "      <td>-1645</td>\n",
              "      <td>78379</td>\n",
              "      <td>76304</td>\n",
              "      <td>52774</td>\n",
              "      <td>11855</td>\n",
              "      <td>48944</td>\n",
              "      <td>85900</td>\n",
              "      <td>3409</td>\n",
              "      <td>1178</td>\n",
              "      <td>1926</td>\n",
              "      <td>52964</td>\n",
              "      <td>1804</td>\n",
              "    </tr>\n",
              "    <tr>\n",
              "      <th>29999</th>\n",
              "      <td>47929</td>\n",
              "      <td>48905</td>\n",
              "      <td>49764</td>\n",
              "      <td>36535</td>\n",
              "      <td>32428</td>\n",
              "      <td>15313</td>\n",
              "      <td>2078</td>\n",
              "      <td>1800</td>\n",
              "      <td>1430</td>\n",
              "      <td>1000</td>\n",
              "      <td>1000</td>\n",
              "      <td>1000</td>\n",
              "    </tr>\n",
              "  </tbody>\n",
              "</table>\n",
              "<p>30000 rows × 12 columns</p>\n",
              "</div>"
            ],
            "text/plain": [
              "       BILL_AMT1  BILL_AMT2  BILL_AMT3  BILL_AMT4  BILL_AMT5  BILL_AMT6  \\\n",
              "0           3913       3102        689          0          0          0   \n",
              "1           2682       1725       2682       3272       3455       3261   \n",
              "2          29239      14027      13559      14331      14948      15549   \n",
              "3          46990      48233      49291      28314      28959      29547   \n",
              "4           8617       5670      35835      20940      19146      19131   \n",
              "...          ...        ...        ...        ...        ...        ...   \n",
              "29995     188948     192815     208365      88004      31237      15980   \n",
              "29996       1683       1828       3502       8979       5190          0   \n",
              "29997       3565       3356       2758      20878      20582      19357   \n",
              "29998      -1645      78379      76304      52774      11855      48944   \n",
              "29999      47929      48905      49764      36535      32428      15313   \n",
              "\n",
              "       PAY_AMT1  PAY_AMT2  PAY_AMT3  PAY_AMT4  PAY_AMT5  PAY_AMT6  \n",
              "0             0       689         0         0         0         0  \n",
              "1             0      1000      1000      1000         0      2000  \n",
              "2          1518      1500      1000      1000      1000      5000  \n",
              "3          2000      2019      1200      1100      1069      1000  \n",
              "4          2000     36681     10000      9000       689       679  \n",
              "...         ...       ...       ...       ...       ...       ...  \n",
              "29995      8500     20000      5003      3047      5000      1000  \n",
              "29996      1837      3526      8998       129         0         0  \n",
              "29997         0         0     22000      4200      2000      3100  \n",
              "29998     85900      3409      1178      1926     52964      1804  \n",
              "29999      2078      1800      1430      1000      1000      1000  \n",
              "\n",
              "[30000 rows x 12 columns]"
            ]
          },
          "metadata": {
            "tags": []
          },
          "execution_count": 9
        }
      ]
    },
    {
      "cell_type": "markdown",
      "metadata": {
        "id": "YhDYJJoYQc31"
      },
      "source": [
        "Realizar la partición"
      ]
    },
    {
      "cell_type": "code",
      "metadata": {
        "id": "amp8CI8ZQc31"
      },
      "source": [
        "X2_train,X2_test,y2_train,y2_test=train_test_split(X2,y,test_size = 0.2)"
      ],
      "execution_count": null,
      "outputs": []
    },
    {
      "cell_type": "code",
      "metadata": {
        "id": "eE97v44PQc32",
        "outputId": "8fedfc7f-5d2a-4598-d875-aa43a57409eb"
      },
      "source": [
        "from pprint import pprint\n",
        "max_features = ['auto', 8, 10, 12, None]  # 'auto' equivale a 'sqrt'; None equivale a todas\n",
        "max_depth = [int(x) for x in np.linspace(5, 20, num = 4)]\n",
        "min_samples_leaf = [2, 4, 6]\n",
        "\n",
        "rf_grid3_hp = {'max_features': max_features,\n",
        "               'max_depth': max_depth,\n",
        "               'min_samples_leaf': min_samples_leaf}\n",
        "\n",
        "print('Los valores a probar en la segunda búsqueda por grilla son:')\n",
        "pprint(rf_grid3_hp)"
      ],
      "execution_count": null,
      "outputs": [
        {
          "output_type": "stream",
          "text": [
            "Los valores a probar en la segunda búsqueda por grilla son:\n",
            "{'max_depth': [5, 10, 15, 20],\n",
            " 'max_features': ['auto', 8, 10, 12, None],\n",
            " 'min_samples_leaf': [2, 4, 6]}\n"
          ],
          "name": "stdout"
        }
      ]
    },
    {
      "cell_type": "code",
      "metadata": {
        "id": "4IVnLvN0Qc32",
        "outputId": "68a287c8-ffef-4518-d47c-3d1ef637a19c"
      },
      "source": [
        "from sklearn.ensemble import RandomForestClassifier\n",
        "from sklearn.model_selection import GridSearchCV\n",
        "\n",
        "skf = StratifiedKFold(n_splits = 10)\n",
        "with tf.device('/device:GPU:0'):\n",
        "    rf = RandomForestClassifier(n_estimators = 500,criterion='entropy')\n",
        "    rf_grid3 = GridSearchCV(estimator = rf, \n",
        "                        param_grid = rf_grid3_hp, \n",
        "                        cv = skf,          # Validación cruzada 10-fold\n",
        "                        scoring = ['accuracy','f1','roc_auc'],\n",
        "                        refit = 'roc_auc',\n",
        "                        return_train_score = True,\n",
        "                        verbose = 2, \n",
        "                        n_jobs = -1)      # Paralelizar en todos los cores disponibles\n",
        "    rf_grid3.fit(X2_train, y2_train)"
      ],
      "execution_count": null,
      "outputs": [
        {
          "output_type": "stream",
          "text": [
            "Fitting 10 folds for each of 60 candidates, totalling 600 fits\n"
          ],
          "name": "stdout"
        }
      ]
    },
    {
      "cell_type": "code",
      "metadata": {
        "id": "CFZUSVYJQc32",
        "outputId": "631e18b9-6aab-4db2-9a1b-c068f785f3f3"
      },
      "source": [
        "rf_grid3_best = rf_grid3.best_estimator_\n",
        "\n",
        "print('Los hiperparámetros del mejor modelo son:')\n",
        "pprint(rf_grid3.best_params_)\n",
        "print()\n",
        "\n",
        "print('El área bajo la curva ROC luego de búsqueda en grilla en entrenamiento:', rf_grid3_best.score(X2_train, y2_train))\n",
        "print('El área bajo la curva ROC luego de búsqueda en grilla en validación:', rf_grid3_best.score(X2_test, y2_test))"
      ],
      "execution_count": null,
      "outputs": [
        {
          "output_type": "stream",
          "text": [
            "Los hiperparámetros del mejor modelo son:\n",
            "{'max_depth': 10, 'max_features': 'auto', 'min_samples_leaf': 6}\n",
            "\n",
            "El área bajo la curva ROC luego de búsqueda en grilla en entrenamiento: 0.8169166666666666\n",
            "El área bajo la curva ROC luego de búsqueda en grilla en validación: 0.8015\n"
          ],
          "name": "stdout"
        }
      ]
    },
    {
      "cell_type": "code",
      "metadata": {
        "id": "3Egwz2axQc32",
        "outputId": "ffb3c2f9-f0e2-45a3-e6dc-0d5f01a4d379"
      },
      "source": [
        "from sklearn.metrics import roc_auc_score, plot_roc_curve\n",
        "y_pred_val2 = rf_grid3_best.predict_proba(X2_test)[:,1]\n",
        "auc_roc = roc_auc_score(y2_test, y_pred_val2)\n",
        "print('AUC =', auc_roc)\n",
        "\n",
        "plot_roc_curve(rf_grid3_best, X2_test, y2_test)\n",
        "plt.show() "
      ],
      "execution_count": null,
      "outputs": [
        {
          "output_type": "stream",
          "text": [
            "AUC = 0.7279553030982083\n"
          ],
          "name": "stdout"
        },
        {
          "output_type": "display_data",
          "data": {
            "image/png": "[encoded data removed]",
            "text/plain": [
              "<Figure size 432x288 with 1 Axes>"
            ]
          },
          "metadata": {
            "tags": [],
            "needs_background": "light"
          }
        }
      ]
    },
    {
      "cell_type": "markdown",
      "metadata": {
        "id": "ZG9Q_yeFMUMp"
      },
      "source": [
        "### K Nearest Neighbours"
      ]
    },
    {
      "cell_type": "markdown",
      "metadata": {
        "id": "tOwVEJSjuWwS"
      },
      "source": [
        "Como paso previo al entrenamiento del algoritmo, necesitamos normalizar la data, ya que KNN utiliza las distancias entre las observaciones para calcular la cercanía y en base a eso, clasificar."
      ]
    },
    {
      "cell_type": "code",
      "metadata": {
        "id": "4HXPdO7uvEAx"
      },
      "source": [
        "from sklearn.preprocessing import StandardScaler\n",
        "\n",
        "scaler = StandardScaler().fit(X_train)\n",
        "X_train_scaled = scaler.transform(X_train)\n",
        "X_test_scaled = scaler.transform(X_test)"
      ],
      "execution_count": null,
      "outputs": []
    },
    {
      "cell_type": "markdown",
      "metadata": {
        "id": "NfJpb1dGwPz-"
      },
      "source": [
        "Ahora entrenaremos el algoritmo con los hiperparámetros por defecto para tomar su rendimiento como base."
      ]
    },
    {
      "cell_type": "code",
      "metadata": {
        "colab": {
          "base_uri": "https://localhost:8080/"
        },
        "id": "lGMF1ngMzWGj",
        "outputId": "ab2b2d02-77b3-4900-beb7-c7c97ca40c4f"
      },
      "source": [
        "from sklearn.neighbors import KNeighborsClassifier\n",
        "\n",
        "d_knn = KNeighborsClassifier(n_jobs = -1)\n",
        "with tf.device('/device:GPU:0'):\n",
        "    d_knn_res = cross_validate(d_knn, X_train_scaled, y_train, cv = skf, return_train_score = True, scoring = ['accuracy','f1','roc_auc'], verbose = 2, n_jobs = -1)\n",
        "print('Los valores por defecto de los hiperparámetros del algoritmo kNN son:')\n",
        "d_knn.get_params()"
      ],
      "execution_count": null,
      "outputs": [
        {
          "output_type": "stream",
          "text": [
            "[Parallel(n_jobs=-1)]: Using backend LokyBackend with 2 concurrent workers.\n"
          ],
          "name": "stderr"
        },
        {
          "output_type": "stream",
          "text": [
            "Los valores por defecto de los hiperparámetros del algoritmo kNN son:\n"
          ],
          "name": "stdout"
        },
        {
          "output_type": "stream",
          "text": [
            "[Parallel(n_jobs=-1)]: Done  10 out of  10 | elapsed:  4.6min finished\n"
          ],
          "name": "stderr"
        },
        {
          "output_type": "execute_result",
          "data": {
            "text/plain": [
              "{'algorithm': 'auto',\n",
              " 'leaf_size': 30,\n",
              " 'metric': 'minkowski',\n",
              " 'metric_params': None,\n",
              " 'n_jobs': -1,\n",
              " 'n_neighbors': 5,\n",
              " 'p': 2,\n",
              " 'weights': 'uniform'}"
            ]
          },
          "metadata": {
            "tags": []
          },
          "execution_count": 52
        }
      ]
    },
    {
      "cell_type": "markdown",
      "metadata": {
        "id": "zx6wDOW4rLks"
      },
      "source": [
        "Y obtuvimos los siguientes resultados del área bajo la curva ROC:"
      ]
    },
    {
      "cell_type": "code",
      "metadata": {
        "colab": {
          "base_uri": "https://localhost:8080/"
        },
        "id": "WhANsalz750X",
        "outputId": "8081f868-4b93-479d-bc1c-5c7c28498987"
      },
      "source": [
        "print('El área bajo la curva ROC en el conjunto de train fue de {}'.format(np.mean(d_knn_res['train_roc_auc'])))\n",
        "print('El área bajo la curva ROC en el conjunto de test fue de {}'.format(np.mean(d_knn_res['test_roc_auc'])))"
      ],
      "execution_count": null,
      "outputs": [
        {
          "output_type": "stream",
          "text": [
            "El área bajo la curva ROC en el conjunto de train fue de 0.8798524934076996\n",
            "El área bajo la curva ROC en el conjunto de test fue de 0.7027308258474603\n"
          ],
          "name": "stdout"
        }
      ]
    },
    {
      "cell_type": "markdown",
      "metadata": {
        "id": "37apKS-SLquD"
      },
      "source": [
        "Tomando este resultado en cuenta. Realizamos una búsqueda en grilla de los hiperparámetros que generan el modelo con las mejores métricas."
      ]
    },
    {
      "cell_type": "code",
      "metadata": {
        "colab": {
          "base_uri": "https://localhost:8080/"
        },
        "id": "LwPFP3ZsL3Cy",
        "outputId": "5b647b4a-69bd-46c1-82de-f67ee758b981"
      },
      "source": [
        "n_neighbors = [int(x) for x in np.linspace(5, 100, 6, endpoint = True)]\n",
        "weights = ['uniform', 'distance']\n",
        "p = [1,2]\n",
        "\n",
        "knn_grid1_hp = {'n_neighbors': n_neighbors,\n",
        "              'weights': weights,\n",
        "              'p': p}\n",
        "\n",
        "print('Los valores a probar en la búsqueda en grilla son:')\n",
        "pprint(knn_grid1_hp)\n",
        "\n",
        "print('\\nEntrenaremos ', \n",
        "      len(knn_grid1_hp['n_neighbors']) *\n",
        "      len(knn_grid1_hp['weights']) *\n",
        "      len(knn_grid1_hp['p']),\n",
        "      'modelos en total.')"
      ],
      "execution_count": null,
      "outputs": [
        {
          "output_type": "stream",
          "text": [
            "Los valores a probar en la búsqueda en grilla son:\n",
            "{'n_neighbours': array([ 1,  2,  3,  4,  5,  6,  7,  8,  9, 10, 11, 12, 13, 14, 15, 16, 17,\n",
            "       18, 19, 20, 21, 22, 23, 24, 25, 26, 27, 28, 29, 30, 31, 32, 33, 34,\n",
            "       35, 36, 37, 38, 39, 40, 41, 42, 43, 44, 45, 46, 47, 48, 49, 50]),\n",
            " 'p': [1, 2],\n",
            " 'weights': ['uniform', 'distance']}\n",
            "\n",
            "Entrenaremos  200 modelos en total.\n"
          ],
          "name": "stdout"
        }
      ]
    },
    {
      "cell_type": "markdown",
      "metadata": {
        "id": "GmyAHwwdQc34"
      },
      "source": [
        "Entrenaremos  24 modelos en total."
      ]
    },
    {
      "cell_type": "code",
      "metadata": {
        "id": "X4_ZhMpMTVoH"
      },
      "source": [
        "with tf.device('/device:GPU:0'):\n",
        "  knn_grid1 = GridSearchCV(estimator = d_knn,\n",
        "                            param_grid = knn_grid1_hp,\n",
        "                            cv = skf,\n",
        "                            scoring = ['accuracy','f1','roc_auc'],\n",
        "                            refit = 'roc_auc',\n",
        "                            return_train_score = True,\n",
        "                            verbose = 2,\n",
        "                            n_jobs = -1)\n",
        "  knn_grid1.fit(X_train_scaled, y_train)"
      ],
      "execution_count": null,
      "outputs": []
    },
    {
      "cell_type": "code",
      "metadata": {
        "id": "NggYIqyuQc34"
      },
      "source": [
        "pd.DataFrame(knn_grid1.cv_results_)[['rank_test_roc_auc','param_n_neighbors','param_p','param_weights','mean_train_roc_auc','mean_test_roc_auc']].sort_values('rank_test_roc_auc').head(5)"
      ],
      "execution_count": null,
      "outputs": []
    },
    {
      "cell_type": "markdown",
      "metadata": {
        "id": "bQbiLgq5Qc34"
      },
      "source": [
        "Según los resultados obtenidos, los modelos entrenados con el hiperparámetro weights igual a 'distance' muestran un alto overfitting y tienen un área bajo la curva ROC menor al de su contraparte con 'uniform'. Por este motivo fijaremos este hiperparámetro en 'uniform'."
      ]
    },
    {
      "cell_type": "code",
      "metadata": {
        "id": "BOu3VO37Qc35"
      },
      "source": [
        "n_neighbors = [int(x) for x in np.linspace(knn_grid1.best_params_['n_neighbors'] - 20, knn_grid1.best_params_['n_neighbors'] + 20, 10, endpoint = True)]\n",
        "weights = ['uniform']\n",
        "p = [1,2]\n",
        "\n",
        "knn_grid2 = {'n_neighbors': n_neighbors,\n",
        "            'weights': weights,\n",
        "            'p': p}\n",
        "\n",
        "print('Los valores a probar en la búsqueda en grilla son:')\n",
        "pprint(knn_grid2)\n",
        "\n",
        "print('\\nEntrenaremos', \n",
        "      len(knn_grid2['n_neighbors']) *\n",
        "      len(knn_grid2['weights']) *\n",
        "      len(knn_grid2['p']),\n",
        "      'modelos en total.')"
      ],
      "execution_count": null,
      "outputs": []
    },
    {
      "cell_type": "markdown",
      "metadata": {
        "id": "_Z56dPN9Qc35"
      },
      "source": [
        "Ahora realizaremos una segunda búsqueda en grilla focalizada en el número de vecinos n_neighbors"
      ]
    },
    {
      "cell_type": "code",
      "metadata": {
        "id": "TFdZpvJ7Qc35"
      },
      "source": [
        "with tf.device('/device:GPU:0'):\n",
        "  knn_grid2 = GridSearchCV(estimator = d_knn,\n",
        "                            param_grid = knn_grid2,\n",
        "                            cv = skf,\n",
        "                            scoring = ['accuracy','f1','roc_auc'],\n",
        "                            refit = 'roc_auc',\n",
        "                            return_train_score = True,\n",
        "                            verbose = 2,\n",
        "                            n_jobs = -1)\n",
        "  knn_grid2.fit(X_train_scaled, y_train)"
      ],
      "execution_count": null,
      "outputs": []
    },
    {
      "cell_type": "code",
      "metadata": {
        "id": "BNS4yF_fQc35"
      },
      "source": [
        "\n",
        "pd.DataFrame(knn_grid2.cv_results_)[['rank_test_roc_auc','param_n_neighbors','param_p','param_weights','mean_train_roc_auc','mean_test_roc_auc']].sort_values('rank_test_roc_auc').head(5)"
      ],
      "execution_count": null,
      "outputs": []
    },
    {
      "cell_type": "markdown",
      "metadata": {
        "id": "aTFjOgj_Qc35"
      },
      "source": [
        "\n",
        "Usamos el conjunto de datos de validación para conocer el rendimiento de este mejor modelo ante data completamente nueva."
      ]
    },
    {
      "cell_type": "code",
      "metadata": {
        "id": "mUotn7QJQc35"
      },
      "source": [
        "knn_grid2_best = knn_grid2.best_estimator_\n",
        "\n",
        "print('Los hiperparámetros del mejor modelo son:')\n",
        "pprint(knn_grid2.best_params_)\n",
        "print()\n",
        "\n",
        "print('El área bajo la curva ROC luego de búsqueda en grilla en entrenamiento (80% dataset):', knn_grid2_best.score(X_train_scaled, y_train))\n",
        "print('El área bajo la curva ROC luego de búsqueda en grilla en validación (20% dataset):', knn_grid2_best.score(X_test_scaled, y_test))"
      ],
      "execution_count": null,
      "outputs": []
    },
    {
      "cell_type": "code",
      "metadata": {
        "id": "xA5_SqgRQc35"
      },
      "source": [
        "knn_grid2_best.predict_proba(X_test_scaled)"
      ],
      "execution_count": null,
      "outputs": []
    },
    {
      "cell_type": "code",
      "metadata": {
        "id": "eFu7bh7nQc36"
      },
      "source": [
        "y_pred_val = knn_grid2_best.predict_proba(X_test_scaled)[:,1]\n",
        "auc_roc = roc_auc_score(y_test, y_pred_val)\n",
        "print('AUC =', auc_roc)\n",
        "\n",
        "plot_roc_curve(knn_grid2_best, X_test_scaled, y_test)\n",
        "plt.show()"
      ],
      "execution_count": null,
      "outputs": []
    },
    {
      "cell_type": "markdown",
      "metadata": {
        "id": "mPPaDWT0iJat"
      },
      "source": [
        "### Modelo SVM"
      ]
    },
    {
      "cell_type": "markdown",
      "metadata": {
        "id": "u5afUGpXipKo"
      },
      "source": [
        "Realizaremos también la normalización de los datos."
      ]
    },
    {
      "cell_type": "code",
      "metadata": {
        "id": "-7e9LqTYiPHI"
      },
      "source": [
        "from sklearn.svm import SVC\n",
        "from sklearn import preprocessing\n",
        "\n",
        "scaler = preprocessing.StandardScaler().fit(X_train)\n",
        "X_train_scaled = scaler.transform(X_train)\n",
        "X_test_scaled = scaler.transform(X_test)"
      ],
      "execution_count": null,
      "outputs": []
    },
    {
      "cell_type": "code",
      "metadata": {
        "colab": {
          "base_uri": "https://localhost:8080/"
        },
        "id": "HOHE6DemitB1",
        "outputId": "24a4573c-5846-4712-b494-021cd1df5508"
      },
      "source": [
        "from time import time\n",
        "tiempo_inicial = time() \n",
        "with tf.device('/device:GPU:0'):\n",
        "  model_SVC = SVC(kernel='rbf', C=5, gamma=0.001,probability=True)\n",
        "  model_SVC.fit(X_train_scaled, y_train)\n",
        "\n",
        "  score_train = model_SVC.score(X_train_scaled, y_train)\n",
        "  score_test = model_SVC.score(X_test_scaled, y_test)\n",
        "\n",
        "  print ('Exactitud en el conjunto de entrenamiento: %0.4f' % score_train)\n",
        "  print ('Exactitud en el conjunto de validación: %0.4f' % score_test)\n",
        "    \n",
        "tiempo_final=time()\n",
        "tiempo=tiempo_final-tiempo_inicial"
      ],
      "execution_count": null,
      "outputs": [
        {
          "output_type": "stream",
          "text": [
            "Exactitud en el conjunto de entrenamiento: 0.8092\n",
            "Exactitud en el conjunto de validación: 0.8132\n"
          ],
          "name": "stdout"
        }
      ]
    },
    {
      "cell_type": "code",
      "metadata": {
        "colab": {
          "base_uri": "https://localhost:8080/",
          "height": 296
        },
        "id": "yVSDExRjjB84",
        "outputId": "e8a1ad00-e4af-4659-e396-248c37ed4649"
      },
      "source": [
        "from sklearn import metrics\n",
        "y_pred_val_SVC = model_SVC.predict_proba(X_test_scaled)[:,1]\n",
        "auc_roc = metrics.roc_auc_score(y_test, y_pred_val_SVC)\n",
        "print('AUC =', auc_roc)\n",
        "\n",
        "metrics.plot_roc_curve(model_SVC, X_test_scaled, y_test)\n",
        "plt.show()    "
      ],
      "execution_count": null,
      "outputs": [
        {
          "output_type": "stream",
          "text": [
            "AUC = 0.7262471500422689\n"
          ],
          "name": "stdout"
        },
        {
          "output_type": "display_data",
          "data": {
            "image/png": "[encoded data removed]",
            "text/plain": [
              "<Figure size 432x288 with 1 Axes>"
            ]
          },
          "metadata": {
            "tags": [],
            "needs_background": "light"
          }
        }
      ]
    },
    {
      "cell_type": "code",
      "metadata": {
        "id": "u1QbOhMqjMK3"
      },
      "source": [
        "C=[100]\n",
        "gamma=[0.001,0.01,0.1,1]\n",
        "C_param ={ 'C': C,     \n",
        "              'gamma': gamma  \n",
        "          }"
      ],
      "execution_count": null,
      "outputs": []
    },
    {
      "cell_type": "code",
      "metadata": {
        "colab": {
          "base_uri": "https://localhost:8080/"
        },
        "id": "kkU_EB1cjTD5",
        "outputId": "118d5d2c-0d7b-496e-bb7a-ad2a972d1e1a"
      },
      "source": [
        "from sklearn.model_selection import StratifiedKFold, cross_validate\n",
        "from sklearn.model_selection import GridSearchCV\n",
        "\n",
        "skf = StratifiedKFold(n_splits = 10)\n",
        "with tf.device(\"/device:GPU:0\"):\n",
        "    model_SVC_Grid = SVC(kernel='rbf',probability=True)\n",
        "    SVC_grid = GridSearchCV(estimator = model_SVC_Grid, \n",
        "                      param_grid = C_param, \n",
        "                      cv = skf,          # Validación cruzada 10-fold\n",
        "                      scoring = ['accuracy','f1'],\n",
        "                      refit = 'f1',\n",
        "                      verbose=2, \n",
        "                      n_jobs = -1)      # Paralelizar en todos los cores disponibles\n",
        "    SVC_grid.fit(X_train_scaled, y_train)"
      ],
      "execution_count": null,
      "outputs": [
        {
          "output_type": "stream",
          "text": [
            "Fitting 10 folds for each of 4 candidates, totalling 40 fits\n"
          ],
          "name": "stdout"
        }
      ]
    },
    {
      "cell_type": "code",
      "metadata": {
        "id": "ysppICADjXtg",
        "outputId": "098d6512-c122-4957-c340-68d6981bc1db"
      },
      "source": [
        "SVC_grid_best = SVC_grid.best_estimator_\n",
        "SVC_grid_best"
      ],
      "execution_count": null,
      "outputs": [
        {
          "output_type": "execute_result",
          "data": {
            "text/plain": [
              "SVC(C=100, gamma=0.01, probability=True)"
            ]
          },
          "metadata": {
            "tags": []
          },
          "execution_count": 23
        }
      ]
    },
    {
      "cell_type": "code",
      "metadata": {
        "id": "cjUAeat_jn5C",
        "outputId": "2592f246-2717-441f-928c-6d348db94948"
      },
      "source": [
        "from pprint import pprint\n",
        "print('Los hiperparámetros del mejor modelo son:')\n",
        "pprint(SVC_grid.best_params_)\n",
        "print()\n",
        "\n",
        "print('Exactitud luego de búsqueda en grilla en entrenamiento:', SVC_grid_best.score(X_train_scaled, y_train))\n",
        "print('Exactitud luego de búsqueda en grilla en validación:', SVC_grid_best.score(X_test_scaled, y_test))"
      ],
      "execution_count": null,
      "outputs": [
        {
          "output_type": "stream",
          "text": [
            "Los hiperparámetros del mejor modelo son:\n",
            "{'C': 100, 'gamma': 0.01}\n",
            "\n",
            "Exactitud luego de búsqueda en grilla en entrenamiento: 0.8302083333333333\n",
            "Exactitud luego de búsqueda en grilla en validación: 0.8205\n"
          ],
          "name": "stdout"
        }
      ]
    },
    {
      "cell_type": "code",
      "metadata": {
        "id": "rfesmNsljzQn",
        "outputId": "5e6e080e-c9ae-4c85-c5f2-79dee5fdcb4c"
      },
      "source": [
        "from sklearn import metrics\n",
        "\n",
        "y_pred_val_SVC = SVC_grid_best.predict_proba(X_test_scaled)[:,1]\n",
        "auc_roc = metrics.roc_auc_score(y_test, y_pred_val_SVC)\n",
        "print('AUC =', auc_roc)\n",
        "\n",
        "metrics.plot_roc_curve(SVC_grid_best, X_test_scaled, y_test)\n",
        "plt.show()               "
      ],
      "execution_count": null,
      "outputs": [
        {
          "output_type": "stream",
          "text": [
            "AUC = 0.7374778391359381\n"
          ],
          "name": "stdout"
        },
        {
          "output_type": "display_data",
          "data": {
            "image/png": "[encoded data removed]",
            "text/plain": [
              "<Figure size 432x288 with 1 Axes>"
            ]
          },
          "metadata": {
            "tags": [],
            "needs_background": "light"
          }
        }
      ]
    },
    {
      "cell_type": "markdown",
      "metadata": {
        "id": "ZN23JkCnQc38"
      },
      "source": [
        "Se obtiene un valor de ROC_AUC=0.74"
      ]
    },
    {
      "cell_type": "markdown",
      "metadata": {
        "id": "5jFfRWFKkvjl"
      },
      "source": [
        "#### Reducción de dimensionalidad"
      ]
    },
    {
      "cell_type": "markdown",
      "metadata": {
        "id": "Ohm_IaYMk7Os"
      },
      "source": [
        "Utiizamos PCA para reducir la dimensionalidad del dataset, mediante la extracción de caracteristicas "
      ]
    },
    {
      "cell_type": "code",
      "metadata": {
        "id": "myPigHMLk3y7"
      },
      "source": [
        "from sklearn.preprocessing import StandardScaler\n",
        "scaler = StandardScaler()\n",
        "# Ajuste solo en el set de entrenamiento.\n",
        "scaler.fit(X_train)\n",
        "# Aplicar la transformación tanto al conjunto de entrenamiento como al conjunto de prueba. \n",
        "Xtrain_scaler_PCA = scaler.transform(X_train)\n",
        "Xtest_scaler_PCA = scaler.transform(X_test)"
      ],
      "execution_count": null,
      "outputs": []
    },
    {
      "cell_type": "markdown",
      "metadata": {
        "id": "3mc7-ge-mkil"
      },
      "source": [
        "Se elige el numero minimo de componentes de forma que conserve el 95% de la varianza"
      ]
    },
    {
      "cell_type": "code",
      "metadata": {
        "id": "EuhJ06j8l4D0"
      },
      "source": [
        "from sklearn.decomposition import PCA\n",
        "# Crea una instancia del Modelo \n",
        "pca = PCA(.95)"
      ],
      "execution_count": null,
      "outputs": []
    },
    {
      "cell_type": "markdown",
      "metadata": {
        "id": "YsV_L48pmwzl"
      },
      "source": [
        "Se ajusta el PCA solo en el conjunto de entrenamiento"
      ]
    },
    {
      "cell_type": "code",
      "metadata": {
        "id": "SgrDvbolmxjI",
        "outputId": "f5fd2028-c8f8-40cc-b640-584294953671"
      },
      "source": [
        "pca.fit (Xtrain_scaler_PCA)"
      ],
      "execution_count": null,
      "outputs": [
        {
          "output_type": "execute_result",
          "data": {
            "text/plain": [
              "PCA(n_components=0.95)"
            ]
          },
          "metadata": {
            "tags": []
          },
          "execution_count": 9
        }
      ]
    },
    {
      "cell_type": "markdown",
      "metadata": {
        "id": "pEE84-pkm35F"
      },
      "source": [
        "Para observar la cantidad de componentes que se va a utilizar"
      ]
    },
    {
      "cell_type": "code",
      "metadata": {
        "id": "AlM2G85Wm4pF",
        "outputId": "71982461-9659-458d-c41a-5a8292ec8e6e"
      },
      "source": [
        "pca.n_components_ "
      ],
      "execution_count": null,
      "outputs": [
        {
          "output_type": "execute_result",
          "data": {
            "text/plain": [
              "16"
            ]
          },
          "metadata": {
            "tags": []
          },
          "execution_count": 10
        }
      ]
    },
    {
      "cell_type": "markdown",
      "metadata": {
        "id": "JP4mWCcSnGeQ"
      },
      "source": [
        "Se realiza la transformacion tanto para el conjunto de entrenamiento como de test"
      ]
    },
    {
      "cell_type": "code",
      "metadata": {
        "id": "xynREG2PnG9b"
      },
      "source": [
        "Xtrain_PCA = pca.transform (Xtrain_scaler_PCA) \n",
        "Xtest_PCA = pca.transform (Xtest_scaler_PCA)"
      ],
      "execution_count": null,
      "outputs": []
    },
    {
      "cell_type": "markdown",
      "metadata": {
        "id": "9FRpRIENnP2T"
      },
      "source": [
        "Aplicar SVC"
      ]
    },
    {
      "cell_type": "code",
      "metadata": {
        "id": "CpPzZKvsnQcI"
      },
      "source": [
        "with tf.device('/device:GPU:0'):\n",
        "    model_SVC = SVC(kernel='rbf', C=10000, gamma=0.01,probability=True)\n",
        "    model_SVC.fit(Xtrain_PCA, y_train)\n",
        "\n",
        "    score_train_PCA = model_SVC.score(Xtrain_PCA, y_train)\n",
        "    score_test_PCA = model_SVC.score(Xtest_PCA, y_test)\n",
        "\n",
        "    print ('Exactitud en el conjunto de entrenamiento: %0.4f' % score_train_PCA)\n",
        "    print ('Exactitud en el conjunto de validación: %0.4f' % score_test_PCA)"
      ],
      "execution_count": null,
      "outputs": []
    },
    {
      "cell_type": "markdown",
      "metadata": {
        "id": "JTg8iM7TnVwN"
      },
      "source": [
        "Se muestra la curva ROC"
      ]
    },
    {
      "cell_type": "code",
      "metadata": {
        "id": "M43Z6MPcnUWK"
      },
      "source": [
        "y_pred_val_SVC_PCA = model_SVC.predict_proba(Xtest_PCA)[:,1]\n",
        "auc_roc = metrics.roc_auc_score(y_test, y_pred_val_SVC_PCA)\n",
        "print('AUC =', auc_roc)\n",
        "\n",
        "metrics.plot_roc_curve(model_SVC, Xtest_PCA, y_test)\n",
        "plt.show()    "
      ],
      "execution_count": null,
      "outputs": []
    },
    {
      "cell_type": "markdown",
      "metadata": {
        "id": "AnY2MsCpQc3-"
      },
      "source": [
        "Se obtiene un valor de ROC-AUC= 0.74"
      ]
    },
    {
      "cell_type": "markdown",
      "metadata": {
        "id": "mOLDAps7qRzS"
      },
      "source": [
        "### Regresion Logistica"
      ]
    },
    {
      "cell_type": "code",
      "metadata": {
        "id": "Q4TJbP-7qTy_",
        "outputId": "620b2c00-e03b-453f-b6fb-f8c49349c374"
      },
      "source": [
        "from sklearn.linear_model import LogisticRegression\n",
        "from sklearn.model_selection import cross_val_score\n",
        "# valores predeterminados \n",
        "\n",
        "logisticRegr = LogisticRegression ()\n",
        "cross_val_score(logisticRegr, Xtrain_PCA, y_train, cv=skf)"
      ],
      "execution_count": null,
      "outputs": [
        {
          "output_type": "execute_result",
          "data": {
            "text/plain": [
              "array([0.81125   , 0.80958333, 0.80833333, 0.81      , 0.81791667,\n",
              "       0.81458333, 0.80708333, 0.80625   , 0.80708333, 0.81208333])"
            ]
          },
          "metadata": {
            "tags": []
          },
          "execution_count": 155
        }
      ]
    },
    {
      "cell_type": "code",
      "metadata": {
        "id": "C90nEj4kQc3_",
        "outputId": "a0e11990-15a8-4735-f8f6-d28c4328f763"
      },
      "source": [
        "np.mean(cross_val_score(logisticRegr,Xtrain_PCA, y_train, cv=skf))"
      ],
      "execution_count": null,
      "outputs": [
        {
          "output_type": "execute_result",
          "data": {
            "text/plain": [
              "0.8104166666666666"
            ]
          },
          "metadata": {
            "tags": []
          },
          "execution_count": 156
        }
      ]
    },
    {
      "cell_type": "code",
      "metadata": {
        "id": "m2BAULC9qmxg",
        "outputId": "9658f14a-3d11-4c41-956c-ed555bf40c46"
      },
      "source": [
        "logisticRegr.fit (Xtrain_PCA, y_train)"
      ],
      "execution_count": null,
      "outputs": [
        {
          "output_type": "execute_result",
          "data": {
            "text/plain": [
              "LogisticRegression()"
            ]
          },
          "metadata": {
            "tags": []
          },
          "execution_count": 143
        }
      ]
    },
    {
      "cell_type": "code",
      "metadata": {
        "id": "KL1zgELpqs_J",
        "outputId": "6276ac7b-6034-4efe-e9a1-6693443896b5"
      },
      "source": [
        "score_train_Lr = logisticRegr.score(Xtrain_PCA, y_train)\n",
        "score_test_Lr = logisticRegr.score(Xtest_PCA, y_test)\n",
        "print('Exactitud en el conjunto de entrenamiento: %0.4f' % score_train_Lr)\n",
        "print('Exactitud en el conjunto de validación: %0.4f' % score_test_Lr)"
      ],
      "execution_count": null,
      "outputs": [
        {
          "output_type": "stream",
          "text": [
            "Exactitud en el conjunto de entrenamiento: 0.8105\n",
            "Exactitud en el conjunto de validación: 0.8067\n"
          ],
          "name": "stdout"
        }
      ]
    },
    {
      "cell_type": "code",
      "metadata": {
        "id": "SqbbqhlCqwAB",
        "outputId": "07fde78a-d3ca-4440-9e79-ae1da37fd0c1"
      },
      "source": [
        "from sklearn import metrics\n",
        "y_pred_val_Lr_PCA = logisticRegr.predict_proba(Xtest_PCA)[:,1]\n",
        "auc_roc = metrics.roc_auc_score(y_test, y_pred_val_Lr_PCA)\n",
        "print('AUC =', auc_roc)\n",
        "\n",
        "metrics.plot_roc_curve(logisticRegr, Xtest_PCA, y_test)\n",
        "plt.show()    "
      ],
      "execution_count": null,
      "outputs": [
        {
          "output_type": "stream",
          "text": [
            "AUC = 0.7099589309459664\n"
          ],
          "name": "stdout"
        },
        {
          "output_type": "display_data",
          "data": {
            "image/png": "[encoded data removed]",
            "text/plain": [
              "<Figure size 432x288 with 1 Axes>"
            ]
          },
          "metadata": {
            "tags": [],
            "needs_background": "light"
          }
        }
      ]
    },
    {
      "cell_type": "code",
      "metadata": {
        "id": "pxikZmZmQc3_"
      },
      "source": [
        "y_pred_RL =logisticRegr.predict(Xtest_PCA)"
      ],
      "execution_count": null,
      "outputs": []
    },
    {
      "cell_type": "code",
      "metadata": {
        "id": "ss8cNv2RQc4A",
        "outputId": "19fabfcc-4968-47dc-85d9-edadfa919815"
      },
      "source": [
        "confusion_matrix(y_test, y_pred_RL)"
      ],
      "execution_count": null,
      "outputs": [
        {
          "output_type": "execute_result",
          "data": {
            "text/plain": [
              "array([[4500,  126],\n",
              "       [1034,  340]], dtype=int64)"
            ]
          },
          "metadata": {
            "tags": []
          },
          "execution_count": 147
        }
      ]
    },
    {
      "cell_type": "code",
      "metadata": {
        "id": "u4Cs_ZcqQc4A",
        "outputId": "aa144270-9080-497d-8d63-8b08a8a93fab"
      },
      "source": [
        "print(\"Reporte de Clasificación:\\n\",\n",
        "      classification_report( y_test, y_pred_RL))"
      ],
      "execution_count": null,
      "outputs": [
        {
          "output_type": "stream",
          "text": [
            "Reporte de Clasificación:\n",
            "               precision    recall  f1-score   support\n",
            "\n",
            "           0       0.81      0.97      0.89      4626\n",
            "           1       0.73      0.25      0.37      1374\n",
            "\n",
            "    accuracy                           0.81      6000\n",
            "   macro avg       0.77      0.61      0.63      6000\n",
            "weighted avg       0.79      0.81      0.77      6000\n",
            "\n"
          ],
          "name": "stdout"
        }
      ]
    },
    {
      "cell_type": "code",
      "metadata": {
        "id": "M0ogdNKCQc4A"
      },
      "source": [
        "Cs_p=[9,10,11]\n",
        "solver_p=['lbfgs']"
      ],
      "execution_count": null,
      "outputs": []
    },
    {
      "cell_type": "code",
      "metadata": {
        "id": "CMCJCWd_Qc4A"
      },
      "source": [
        "from sklearn.linear_model import LogisticRegressionCV\n",
        "from sklearn.model_selection import StratifiedKFold, cross_validate\n",
        "skf = StratifiedKFold(n_splits = 10)\n",
        "Rgl_CV = LogisticRegressionCV(penalty = 'l2', \n",
        "                                Cs = Cs_p,\n",
        "                                cv = skf,\n",
        "                                random_state = 0, \n",
        "                                max_iter = 1000, \n",
        "                                verbose = 1,\n",
        "                                solver = 'lbfgs',\n",
        "                                n_jobs = 8,\n",
        "                                    )"
      ],
      "execution_count": null,
      "outputs": []
    },
    {
      "cell_type": "code",
      "metadata": {
        "id": "ti5cSnInQc4A",
        "outputId": "e47bad2f-7581-4c16-fa58-6cebeef460f2"
      },
      "source": [
        "Rgl_CV.fit(Xtrain_PCA, y_train)\n",
        "#Rgl_CV.fit(X_train, y_train)"
      ],
      "execution_count": null,
      "outputs": [
        {
          "output_type": "stream",
          "text": [
            "[Parallel(n_jobs=8)]: Using backend LokyBackend with 8 concurrent workers.\n",
            "[Parallel(n_jobs=8)]: Done   6 out of  10 | elapsed:    0.1s remaining:    0.0s\n",
            "[Parallel(n_jobs=8)]: Done  10 out of  10 | elapsed:    0.2s finished\n"
          ],
          "name": "stderr"
        },
        {
          "output_type": "execute_result",
          "data": {
            "text/plain": [
              "LogisticRegressionCV(Cs=[9, 10, 11],\n",
              "                     cv=StratifiedKFold(n_splits=10, random_state=None, shuffle=False),\n",
              "                     max_iter=1000, n_jobs=8, random_state=0, verbose=1)"
            ]
          },
          "metadata": {
            "tags": []
          },
          "execution_count": 168
        }
      ]
    },
    {
      "cell_type": "code",
      "metadata": {
        "id": "iPs1bvPbQc4B",
        "outputId": "daf35d92-5507-4b7d-8775-14b12436a2d4"
      },
      "source": [
        "score_train_Lrg_CV= Rgl_CV.score(Xtrain_PCA, y_train)\n",
        "score_test_Lrg_CV = Rgl_CV.score(Xtest_PCA, y_test)\n",
        "print('Exactitud en el conjunto de entrenamiento: %0.4f' % score_train_Lrg_CV)\n",
        "print('Exactitud en el conjunto de validación: %0.4f' % score_test_Lrg_CV)"
      ],
      "execution_count": null,
      "outputs": [
        {
          "output_type": "stream",
          "text": [
            "Exactitud en el conjunto de entrenamiento: 0.8104\n",
            "Exactitud en el conjunto de validación: 0.8067\n"
          ],
          "name": "stdout"
        }
      ]
    },
    {
      "cell_type": "code",
      "metadata": {
        "id": "b2iJVvj7Qc4B",
        "outputId": "b66622b9-d014-4324-b76e-52484514156f"
      },
      "source": [
        "y_pred_val_Rgl = Rgl_CV.predict_proba(Xtest_PCA)[:,1]\n",
        "auc_roc = metrics.roc_auc_score(y_test, y_pred_val_Rgl)\n",
        "print('AUC =', auc_roc)\n",
        "\n",
        "metrics.plot_roc_curve(Rgl_CV, Xtest_PCA, y_test)\n",
        "plt.show()    "
      ],
      "execution_count": null,
      "outputs": [
        {
          "output_type": "stream",
          "text": [
            "AUC = 0.7099543684169786\n"
          ],
          "name": "stdout"
        },
        {
          "output_type": "display_data",
          "data": {
            "image/png": "[encoded data removed]",
            "text/plain": [
              "<Figure size 432x288 with 1 Axes>"
            ]
          },
          "metadata": {
            "tags": [],
            "needs_background": "light"
          }
        }
      ]
    },
    {
      "cell_type": "markdown",
      "metadata": {
        "id": "5k6zDOYrQc4B"
      },
      "source": [
        "#### Mejor predicción en los que incumpliran el pago (DEFAULT=1)"
      ]
    },
    {
      "cell_type": "markdown",
      "metadata": {
        "id": "9F5JJQOyQc4B"
      },
      "source": [
        "##### Aplicando penalidad por desbalanceo de clases"
      ]
    },
    {
      "cell_type": "markdown",
      "metadata": {
        "id": "OdCSiIQxQc4C"
      },
      "source": [
        "Si lo que se deseara es obtener una mejor predicción en los que incumpliran el pago (`DEFAULT`=1), teniendo en cuenta a que esta es la clase minoritaria y que existe un desbalance de clase se debe hacer un balanceo de clase.\n",
        "Se utiliza el parametro `class_weight` para tratar de balancear las clases"
      ]
    },
    {
      "cell_type": "code",
      "metadata": {
        "id": "zrNC_fU6Qc4C"
      },
      "source": [
        "logisticRegr_P = LogisticRegression (C=1.0,penalty='l2',random_state=1,\n",
        "                                   solver=\"lbfgs\",class_weight=\"balanced\")"
      ],
      "execution_count": null,
      "outputs": []
    },
    {
      "cell_type": "code",
      "metadata": {
        "id": "yuqRAOgbQc4C",
        "outputId": "9d923e77-9f8b-4460-b01f-181940236235"
      },
      "source": [
        "logisticRegr_P.fit (Xtrain_PCA, y_train)"
      ],
      "execution_count": null,
      "outputs": [
        {
          "output_type": "execute_result",
          "data": {
            "text/plain": [
              "LogisticRegression(class_weight='balanced', random_state=1)"
            ]
          },
          "metadata": {
            "tags": []
          },
          "execution_count": 174
        }
      ]
    },
    {
      "cell_type": "code",
      "metadata": {
        "id": "F_fqNzxjQc4C",
        "outputId": "2ccdbea1-e8c3-4f51-a334-2b7fd6f54c07"
      },
      "source": [
        "score_train_Lr_P = logisticRegr_P.score(Xtrain_PCA, y_train)\n",
        "score_test_Lr_P = logisticRegr_P.score(Xtest_PCA, y_test)\n",
        "print('Exactitud en el conjunto de entrenamiento: %0.4f' % score_train_Lr_P)\n",
        "print('Exactitud en el conjunto de validación: %0.4f' % score_test_Lr_P)"
      ],
      "execution_count": null,
      "outputs": [
        {
          "output_type": "stream",
          "text": [
            "Exactitud en el conjunto de entrenamiento: 0.6915\n",
            "Exactitud en el conjunto de validación: 0.6863\n"
          ],
          "name": "stdout"
        }
      ]
    },
    {
      "cell_type": "code",
      "metadata": {
        "id": "85VYAg3VQc4D",
        "outputId": "d5278985-2ba3-401c-eb12-342dc9542ba0"
      },
      "source": [
        "from sklearn import metrics\n",
        "y_pred_val_Lr_P= logisticRegr_P.predict_proba(Xtest_PCA)[:,1]\n",
        "auc_roc = metrics.roc_auc_score(y_test, y_pred_val_Lr_P)\n",
        "print('AUC =', auc_roc)\n",
        "\n",
        "metrics.plot_roc_curve(logisticRegr_P, Xtest_PCA, y_test)\n",
        "plt.show()    "
      ],
      "execution_count": null,
      "outputs": [
        {
          "output_type": "stream",
          "text": [
            "AUC = 0.7108774152297846\n"
          ],
          "name": "stdout"
        },
        {
          "output_type": "display_data",
          "data": {
            "image/png": "[encoded data removed]",
            "text/plain": [
              "<Figure size 432x288 with 1 Axes>"
            ]
          },
          "metadata": {
            "tags": [],
            "needs_background": "light"
          }
        }
      ]
    },
    {
      "cell_type": "code",
      "metadata": {
        "id": "Ik-uZTciQc4D"
      },
      "source": [
        "from sklearn.metrics import confusion_matrix\n",
        "from sklearn.metrics import classification_report\n",
        "from sklearn.metrics import accuracy_score"
      ],
      "execution_count": null,
      "outputs": []
    },
    {
      "cell_type": "code",
      "metadata": {
        "id": "im8Ou3-fQc4D"
      },
      "source": [
        "y_pred_RL_p =logisticRegr_P.predict(Xtest_PCA)"
      ],
      "execution_count": null,
      "outputs": []
    },
    {
      "cell_type": "code",
      "metadata": {
        "id": "4V_TDjd9Qc4D",
        "outputId": "69bb74e3-982c-4f24-bd85-f1cd9655f96b"
      },
      "source": [
        "confusion_matrix(y_test, y_pred_RL_p)"
      ],
      "execution_count": null,
      "outputs": [
        {
          "output_type": "execute_result",
          "data": {
            "text/plain": [
              "array([[3264, 1362],\n",
              "       [ 520,  854]], dtype=int64)"
            ]
          },
          "metadata": {
            "tags": []
          },
          "execution_count": 179
        }
      ]
    },
    {
      "cell_type": "code",
      "metadata": {
        "id": "42hEckgCQc4E",
        "outputId": "4d80a521-8dcd-4b78-d6c6-837775433f54"
      },
      "source": [
        "print(\"Reporte de Clasificación:\\n\",\n",
        "      classification_report( y_test, y_pred_RL_p))"
      ],
      "execution_count": null,
      "outputs": [
        {
          "output_type": "stream",
          "text": [
            "Reporte de Clasificación:\n",
            "               precision    recall  f1-score   support\n",
            "\n",
            "           0       0.86      0.71      0.78      4626\n",
            "           1       0.39      0.62      0.48      1374\n",
            "\n",
            "    accuracy                           0.69      6000\n",
            "   macro avg       0.62      0.66      0.63      6000\n",
            "weighted avg       0.75      0.69      0.71      6000\n",
            "\n"
          ],
          "name": "stdout"
        }
      ]
    },
    {
      "cell_type": "markdown",
      "metadata": {
        "id": "Ajx6VbY8Qc4E"
      },
      "source": [
        "Se puede observar que en comparación con el reporte de clasificación anterior el la medida de recall en la clase 1 aumento de 0.25 a 0.62 por lo cual se muestra una gran mejora para el objetivo de obtener una mejor predicción en los que incumpliran el pago."
      ]
    },
    {
      "cell_type": "markdown",
      "metadata": {
        "id": "I__QyIj8Qc4E"
      },
      "source": [
        "## Conclusión"
      ]
    },
    {
      "cell_type": "markdown",
      "metadata": {
        "id": "njGKicgNQc4E"
      },
      "source": [
        "El mejor clasificador se obtuvo usando el modelo Random Forest con un valor de ROC de 0.78. \n",
        "Por otro lado, si el objetivo estaria enfocado hacia una mejor predicción en los que incumpliran el pago "
      ]
    }
  ]
}