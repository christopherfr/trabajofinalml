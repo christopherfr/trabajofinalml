{
  "nbformat": 4,
  "nbformat_minor": 0,
  "metadata": {
    "colab": {
      "name": "Copia de Trabajo final ML",
      "provenance": [],
      "collapsed_sections": [],
      "include_colab_link": true
    },
    "kernelspec": {
      "name": "python3",
      "display_name": "Python 3"
    },
    "accelerator": "GPU"
  },
  "cells": [
    {
      "cell_type": "markdown",
      "metadata": {
        "id": "view-in-github",
        "colab_type": "text"
      },
      "source": [
        "<a href=\"https://colab.research.google.com/github/christopherfr/trabajofinalml/blob/main/Trabajo_final_ML.ipynb\" target=\"_parent\"><img src=\"https://colab.research.google.com/assets/colab-badge.svg\" alt=\"Open In Colab\"/></a>"
      ]
    },
    {
      "cell_type": "markdown",
      "metadata": {
        "id": "DXg-JvUBR43R"
      },
      "source": [
        "Importamos el dataset"
      ]
    },
    {
      "cell_type": "code",
      "metadata": {
        "id": "mLhPqoqCR0r4"
      },
      "source": [
        "import pandas as pd\r\n",
        "import matplotlib.pyplot as plt\r\n",
        "\r\n",
        "\r\n",
        "data = pd.read_excel('https://archive.ics.uci.edu/ml/machine-learning-databases/00350/default%20of%20credit%20card%20clients.xls', header = 1)\r\n",
        "data.drop('ID', axis = 1, inplace = True) # Nos deshacemos de la columna ID ya que no es importante\r\n",
        "data.rename(columns = {'default payment next month': 'DEFAULT'}, inplace = True) # Nombre cambiado a uno más corto\r\n",
        "data.rename(columns = {'PAY_0': 'PAY_1'}, inplace = True) # Corrección del nombre"
      ],
      "execution_count": 1,
      "outputs": []
    },
    {
      "cell_type": "code",
      "metadata": {
        "colab": {
          "base_uri": "https://localhost:8080/",
          "height": 363
        },
        "id": "v3tt0GAnbR1a",
        "outputId": "5b206f71-a88e-43b7-d496-58d629bf3c84"
      },
      "source": [
        "data.head(10)"
      ],
      "execution_count": 2,
      "outputs": [
        {
          "output_type": "execute_result",
          "data": {
            "text/html": [
              "<div>\n",
              "<style scoped>\n",
              "    .dataframe tbody tr th:only-of-type {\n",
              "        vertical-align: middle;\n",
              "    }\n",
              "\n",
              "    .dataframe tbody tr th {\n",
              "        vertical-align: top;\n",
              "    }\n",
              "\n",
              "    .dataframe thead th {\n",
              "        text-align: right;\n",
              "    }\n",
              "</style>\n",
              "<table border=\"1\" class=\"dataframe\">\n",
              "  <thead>\n",
              "    <tr style=\"text-align: right;\">\n",
              "      <th></th>\n",
              "      <th>LIMIT_BAL</th>\n",
              "      <th>SEX</th>\n",
              "      <th>EDUCATION</th>\n",
              "      <th>MARRIAGE</th>\n",
              "      <th>AGE</th>\n",
              "      <th>PAY_1</th>\n",
              "      <th>PAY_2</th>\n",
              "      <th>PAY_3</th>\n",
              "      <th>PAY_4</th>\n",
              "      <th>PAY_5</th>\n",
              "      <th>PAY_6</th>\n",
              "      <th>BILL_AMT1</th>\n",
              "      <th>BILL_AMT2</th>\n",
              "      <th>BILL_AMT3</th>\n",
              "      <th>BILL_AMT4</th>\n",
              "      <th>BILL_AMT5</th>\n",
              "      <th>BILL_AMT6</th>\n",
              "      <th>PAY_AMT1</th>\n",
              "      <th>PAY_AMT2</th>\n",
              "      <th>PAY_AMT3</th>\n",
              "      <th>PAY_AMT4</th>\n",
              "      <th>PAY_AMT5</th>\n",
              "      <th>PAY_AMT6</th>\n",
              "      <th>DEFAULT</th>\n",
              "    </tr>\n",
              "  </thead>\n",
              "  <tbody>\n",
              "    <tr>\n",
              "      <th>0</th>\n",
              "      <td>20000</td>\n",
              "      <td>2</td>\n",
              "      <td>2</td>\n",
              "      <td>1</td>\n",
              "      <td>24</td>\n",
              "      <td>2</td>\n",
              "      <td>2</td>\n",
              "      <td>-1</td>\n",
              "      <td>-1</td>\n",
              "      <td>-2</td>\n",
              "      <td>-2</td>\n",
              "      <td>3913</td>\n",
              "      <td>3102</td>\n",
              "      <td>689</td>\n",
              "      <td>0</td>\n",
              "      <td>0</td>\n",
              "      <td>0</td>\n",
              "      <td>0</td>\n",
              "      <td>689</td>\n",
              "      <td>0</td>\n",
              "      <td>0</td>\n",
              "      <td>0</td>\n",
              "      <td>0</td>\n",
              "      <td>1</td>\n",
              "    </tr>\n",
              "    <tr>\n",
              "      <th>1</th>\n",
              "      <td>120000</td>\n",
              "      <td>2</td>\n",
              "      <td>2</td>\n",
              "      <td>2</td>\n",
              "      <td>26</td>\n",
              "      <td>-1</td>\n",
              "      <td>2</td>\n",
              "      <td>0</td>\n",
              "      <td>0</td>\n",
              "      <td>0</td>\n",
              "      <td>2</td>\n",
              "      <td>2682</td>\n",
              "      <td>1725</td>\n",
              "      <td>2682</td>\n",
              "      <td>3272</td>\n",
              "      <td>3455</td>\n",
              "      <td>3261</td>\n",
              "      <td>0</td>\n",
              "      <td>1000</td>\n",
              "      <td>1000</td>\n",
              "      <td>1000</td>\n",
              "      <td>0</td>\n",
              "      <td>2000</td>\n",
              "      <td>1</td>\n",
              "    </tr>\n",
              "    <tr>\n",
              "      <th>2</th>\n",
              "      <td>90000</td>\n",
              "      <td>2</td>\n",
              "      <td>2</td>\n",
              "      <td>2</td>\n",
              "      <td>34</td>\n",
              "      <td>0</td>\n",
              "      <td>0</td>\n",
              "      <td>0</td>\n",
              "      <td>0</td>\n",
              "      <td>0</td>\n",
              "      <td>0</td>\n",
              "      <td>29239</td>\n",
              "      <td>14027</td>\n",
              "      <td>13559</td>\n",
              "      <td>14331</td>\n",
              "      <td>14948</td>\n",
              "      <td>15549</td>\n",
              "      <td>1518</td>\n",
              "      <td>1500</td>\n",
              "      <td>1000</td>\n",
              "      <td>1000</td>\n",
              "      <td>1000</td>\n",
              "      <td>5000</td>\n",
              "      <td>0</td>\n",
              "    </tr>\n",
              "    <tr>\n",
              "      <th>3</th>\n",
              "      <td>50000</td>\n",
              "      <td>2</td>\n",
              "      <td>2</td>\n",
              "      <td>1</td>\n",
              "      <td>37</td>\n",
              "      <td>0</td>\n",
              "      <td>0</td>\n",
              "      <td>0</td>\n",
              "      <td>0</td>\n",
              "      <td>0</td>\n",
              "      <td>0</td>\n",
              "      <td>46990</td>\n",
              "      <td>48233</td>\n",
              "      <td>49291</td>\n",
              "      <td>28314</td>\n",
              "      <td>28959</td>\n",
              "      <td>29547</td>\n",
              "      <td>2000</td>\n",
              "      <td>2019</td>\n",
              "      <td>1200</td>\n",
              "      <td>1100</td>\n",
              "      <td>1069</td>\n",
              "      <td>1000</td>\n",
              "      <td>0</td>\n",
              "    </tr>\n",
              "    <tr>\n",
              "      <th>4</th>\n",
              "      <td>50000</td>\n",
              "      <td>1</td>\n",
              "      <td>2</td>\n",
              "      <td>1</td>\n",
              "      <td>57</td>\n",
              "      <td>-1</td>\n",
              "      <td>0</td>\n",
              "      <td>-1</td>\n",
              "      <td>0</td>\n",
              "      <td>0</td>\n",
              "      <td>0</td>\n",
              "      <td>8617</td>\n",
              "      <td>5670</td>\n",
              "      <td>35835</td>\n",
              "      <td>20940</td>\n",
              "      <td>19146</td>\n",
              "      <td>19131</td>\n",
              "      <td>2000</td>\n",
              "      <td>36681</td>\n",
              "      <td>10000</td>\n",
              "      <td>9000</td>\n",
              "      <td>689</td>\n",
              "      <td>679</td>\n",
              "      <td>0</td>\n",
              "    </tr>\n",
              "    <tr>\n",
              "      <th>5</th>\n",
              "      <td>50000</td>\n",
              "      <td>1</td>\n",
              "      <td>1</td>\n",
              "      <td>2</td>\n",
              "      <td>37</td>\n",
              "      <td>0</td>\n",
              "      <td>0</td>\n",
              "      <td>0</td>\n",
              "      <td>0</td>\n",
              "      <td>0</td>\n",
              "      <td>0</td>\n",
              "      <td>64400</td>\n",
              "      <td>57069</td>\n",
              "      <td>57608</td>\n",
              "      <td>19394</td>\n",
              "      <td>19619</td>\n",
              "      <td>20024</td>\n",
              "      <td>2500</td>\n",
              "      <td>1815</td>\n",
              "      <td>657</td>\n",
              "      <td>1000</td>\n",
              "      <td>1000</td>\n",
              "      <td>800</td>\n",
              "      <td>0</td>\n",
              "    </tr>\n",
              "    <tr>\n",
              "      <th>6</th>\n",
              "      <td>500000</td>\n",
              "      <td>1</td>\n",
              "      <td>1</td>\n",
              "      <td>2</td>\n",
              "      <td>29</td>\n",
              "      <td>0</td>\n",
              "      <td>0</td>\n",
              "      <td>0</td>\n",
              "      <td>0</td>\n",
              "      <td>0</td>\n",
              "      <td>0</td>\n",
              "      <td>367965</td>\n",
              "      <td>412023</td>\n",
              "      <td>445007</td>\n",
              "      <td>542653</td>\n",
              "      <td>483003</td>\n",
              "      <td>473944</td>\n",
              "      <td>55000</td>\n",
              "      <td>40000</td>\n",
              "      <td>38000</td>\n",
              "      <td>20239</td>\n",
              "      <td>13750</td>\n",
              "      <td>13770</td>\n",
              "      <td>0</td>\n",
              "    </tr>\n",
              "    <tr>\n",
              "      <th>7</th>\n",
              "      <td>100000</td>\n",
              "      <td>2</td>\n",
              "      <td>2</td>\n",
              "      <td>2</td>\n",
              "      <td>23</td>\n",
              "      <td>0</td>\n",
              "      <td>-1</td>\n",
              "      <td>-1</td>\n",
              "      <td>0</td>\n",
              "      <td>0</td>\n",
              "      <td>-1</td>\n",
              "      <td>11876</td>\n",
              "      <td>380</td>\n",
              "      <td>601</td>\n",
              "      <td>221</td>\n",
              "      <td>-159</td>\n",
              "      <td>567</td>\n",
              "      <td>380</td>\n",
              "      <td>601</td>\n",
              "      <td>0</td>\n",
              "      <td>581</td>\n",
              "      <td>1687</td>\n",
              "      <td>1542</td>\n",
              "      <td>0</td>\n",
              "    </tr>\n",
              "    <tr>\n",
              "      <th>8</th>\n",
              "      <td>140000</td>\n",
              "      <td>2</td>\n",
              "      <td>3</td>\n",
              "      <td>1</td>\n",
              "      <td>28</td>\n",
              "      <td>0</td>\n",
              "      <td>0</td>\n",
              "      <td>2</td>\n",
              "      <td>0</td>\n",
              "      <td>0</td>\n",
              "      <td>0</td>\n",
              "      <td>11285</td>\n",
              "      <td>14096</td>\n",
              "      <td>12108</td>\n",
              "      <td>12211</td>\n",
              "      <td>11793</td>\n",
              "      <td>3719</td>\n",
              "      <td>3329</td>\n",
              "      <td>0</td>\n",
              "      <td>432</td>\n",
              "      <td>1000</td>\n",
              "      <td>1000</td>\n",
              "      <td>1000</td>\n",
              "      <td>0</td>\n",
              "    </tr>\n",
              "    <tr>\n",
              "      <th>9</th>\n",
              "      <td>20000</td>\n",
              "      <td>1</td>\n",
              "      <td>3</td>\n",
              "      <td>2</td>\n",
              "      <td>35</td>\n",
              "      <td>-2</td>\n",
              "      <td>-2</td>\n",
              "      <td>-2</td>\n",
              "      <td>-2</td>\n",
              "      <td>-1</td>\n",
              "      <td>-1</td>\n",
              "      <td>0</td>\n",
              "      <td>0</td>\n",
              "      <td>0</td>\n",
              "      <td>0</td>\n",
              "      <td>13007</td>\n",
              "      <td>13912</td>\n",
              "      <td>0</td>\n",
              "      <td>0</td>\n",
              "      <td>0</td>\n",
              "      <td>13007</td>\n",
              "      <td>1122</td>\n",
              "      <td>0</td>\n",
              "      <td>0</td>\n",
              "    </tr>\n",
              "  </tbody>\n",
              "</table>\n",
              "</div>"
            ],
            "text/plain": [
              "   LIMIT_BAL  SEX  EDUCATION  MARRIAGE  ...  PAY_AMT4  PAY_AMT5  PAY_AMT6  DEFAULT\n",
              "0      20000    2          2         1  ...         0         0         0        1\n",
              "1     120000    2          2         2  ...      1000         0      2000        1\n",
              "2      90000    2          2         2  ...      1000      1000      5000        0\n",
              "3      50000    2          2         1  ...      1100      1069      1000        0\n",
              "4      50000    1          2         1  ...      9000       689       679        0\n",
              "5      50000    1          1         2  ...      1000      1000       800        0\n",
              "6     500000    1          1         2  ...     20239     13750     13770        0\n",
              "7     100000    2          2         2  ...       581      1687      1542        0\n",
              "8     140000    2          3         1  ...      1000      1000      1000        0\n",
              "9      20000    1          3         2  ...     13007      1122         0        0\n",
              "\n",
              "[10 rows x 24 columns]"
            ]
          },
          "metadata": {
            "tags": []
          },
          "execution_count": 2
        }
      ]
    },
    {
      "cell_type": "markdown",
      "metadata": {
        "id": "zmk55xEIXz-e"
      },
      "source": [
        "#Información acerca del dataset"
      ]
    },
    {
      "cell_type": "markdown",
      "metadata": {
        "id": "XIrjGsDKkpmt"
      },
      "source": [
        "Lista de variables por tipo"
      ]
    },
    {
      "cell_type": "code",
      "metadata": {
        "id": "WuHcr-_7AEoM",
        "colab": {
          "base_uri": "https://localhost:8080/"
        },
        "outputId": "044bb9c0-bb6b-447a-99b5-aa1e08f7a97c"
      },
      "source": [
        "print('Variables categóricas nominales:')\r\n",
        "print('  - SEX\\n  - MARRIAGE\\n  - EDUCATION') # EDUCATION no la tratamos como ordinal porque no se conoce qué incluye la categoría 'others'\r\n",
        "print('Variables continuas:')\r\n",
        "print('  - AGE\\n  - PAY_1\\n  - PAY_2\\n  - PAY_3\\n  - PAY_4\\n  - PAY_5\\n  - PAY_6\\n  - BILL_AMT1\\n  - BILL_AMT2\\n  - BILL_AMT3\\n  - BILL_AMT4\\n  - BILL_AMT5\\n  - BILL_AMT6\\n  - PAY_AMT1\\n  - PAY_AMT2\\n  - PAY_AMT3\\n  - PAY_AMT4\\n  - PAY_AMT5\\n  - PAY_AMT6')\r\n",
        "print('Tenemos {} variables independientes en total.'.format(data.shape[1] - 1))\r\n",
        "print('Variable target: DEFAULT')"
      ],
      "execution_count": 3,
      "outputs": [
        {
          "output_type": "stream",
          "text": [
            "Variables categóricas nominales:\n",
            "  - SEX\n",
            "  - MARRIAGE\n",
            "  - EDUCATION\n",
            "Variables continuas:\n",
            "  - AGE\n",
            "  - PAY_1\n",
            "  - PAY_2\n",
            "  - PAY_3\n",
            "  - PAY_4\n",
            "  - PAY_5\n",
            "  - PAY_6\n",
            "  - BILL_AMT1\n",
            "  - BILL_AMT2\n",
            "  - BILL_AMT3\n",
            "  - BILL_AMT4\n",
            "  - BILL_AMT5\n",
            "  - BILL_AMT6\n",
            "  - PAY_AMT1\n",
            "  - PAY_AMT2\n",
            "  - PAY_AMT3\n",
            "  - PAY_AMT4\n",
            "  - PAY_AMT5\n",
            "  - PAY_AMT6\n",
            "Tenemos 23 variables independientes en total.\n",
            "Variable target: DEFAULT\n"
          ],
          "name": "stdout"
        }
      ]
    },
    {
      "cell_type": "markdown",
      "metadata": {
        "id": "3VIrWid4X4K-"
      },
      "source": [
        "Número de muestras que se usarán en los conjuntos de entrenamiento y prueba, como también la cantidad por cada clase."
      ]
    },
    {
      "cell_type": "code",
      "metadata": {
        "id": "6vRA0o4RbPiI",
        "colab": {
          "base_uri": "https://localhost:8080/"
        },
        "outputId": "ee6ed6ff-5ee1-4ed4-d178-da290d96231e"
      },
      "source": [
        "m = len(data)\r\n",
        "ratio_test = 0.1\r\n",
        "q_test = int(round(m * ratio_test, 0))\r\n",
        "q_train = m - q_test\r\n",
        "print('Se tienen {} muestras en total. Un {}% se usará para la evaluación, es decir,\\nse entrenarán los modelos con {} registros y con {} se evaluarán.'.format(m, ratio_test * 100, q_train, q_test))\r\n",
        "\r\n",
        "import numpy as np\r\n",
        "target_agrupado = data.groupby('DEFAULT')['DEFAULT'].count()\r\n",
        "q_clases_target = np.array(target_agrupado.sort_index(ascending = True))\r\n",
        "p_clases_target = q_clases_target / np.sum(q_clases_target) * 100\r\n",
        "print('Para el entrenamiento un {}% será de la clase 0 (no default) y el otro {}% de la clase 1 (default).'.format(round(p_clases_target[0],1), round(p_clases_target[1],1)))"
      ],
      "execution_count": 4,
      "outputs": [
        {
          "output_type": "stream",
          "text": [
            "Se tienen 30000 muestras en total. Un 10.0% se usará para la evaluación, es decir,\n",
            "se entrenarán los modelos con 27000 registros y con 3000 se evaluarán.\n",
            "Para el entrenamiento un 77.9% será de la clase 0 (no default) y el otro 22.1% de la clase 1 (default).\n"
          ],
          "name": "stdout"
        }
      ]
    },
    {
      "cell_type": "markdown",
      "metadata": {
        "id": "Lx_y5QjVX-MT"
      },
      "source": [
        "Estadística descriptiva y visualización de los datos"
      ]
    },
    {
      "cell_type": "markdown",
      "metadata": {
        "id": "pirU8QCLHSdE"
      },
      "source": [
        "##Descripción de las variables"
      ]
    },
    {
      "cell_type": "markdown",
      "metadata": {
        "id": "X2HbBewj3K5y"
      },
      "source": [
        "En la siguiente tabla se muestran medidas estadísticas de las variables cuantitativas de la base de datos."
      ]
    },
    {
      "cell_type": "code",
      "metadata": {
        "id": "JzDEhveebP3G",
        "colab": {
          "base_uri": "https://localhost:8080/",
          "height": 304
        },
        "outputId": "c67ed162-0304-46ac-df67-b2a91203e4b9"
      },
      "source": [
        "data.drop(['SEX','EDUCATION','MARRIAGE','DEFAULT'], axis = 1).describe()"
      ],
      "execution_count": 5,
      "outputs": [
        {
          "output_type": "execute_result",
          "data": {
            "text/html": [
              "<div>\n",
              "<style scoped>\n",
              "    .dataframe tbody tr th:only-of-type {\n",
              "        vertical-align: middle;\n",
              "    }\n",
              "\n",
              "    .dataframe tbody tr th {\n",
              "        vertical-align: top;\n",
              "    }\n",
              "\n",
              "    .dataframe thead th {\n",
              "        text-align: right;\n",
              "    }\n",
              "</style>\n",
              "<table border=\"1\" class=\"dataframe\">\n",
              "  <thead>\n",
              "    <tr style=\"text-align: right;\">\n",
              "      <th></th>\n",
              "      <th>LIMIT_BAL</th>\n",
              "      <th>AGE</th>\n",
              "      <th>PAY_1</th>\n",
              "      <th>PAY_2</th>\n",
              "      <th>PAY_3</th>\n",
              "      <th>PAY_4</th>\n",
              "      <th>PAY_5</th>\n",
              "      <th>PAY_6</th>\n",
              "      <th>BILL_AMT1</th>\n",
              "      <th>BILL_AMT2</th>\n",
              "      <th>BILL_AMT3</th>\n",
              "      <th>BILL_AMT4</th>\n",
              "      <th>BILL_AMT5</th>\n",
              "      <th>BILL_AMT6</th>\n",
              "      <th>PAY_AMT1</th>\n",
              "      <th>PAY_AMT2</th>\n",
              "      <th>PAY_AMT3</th>\n",
              "      <th>PAY_AMT4</th>\n",
              "      <th>PAY_AMT5</th>\n",
              "      <th>PAY_AMT6</th>\n",
              "    </tr>\n",
              "  </thead>\n",
              "  <tbody>\n",
              "    <tr>\n",
              "      <th>count</th>\n",
              "      <td>30000.000000</td>\n",
              "      <td>30000.000000</td>\n",
              "      <td>30000.000000</td>\n",
              "      <td>30000.000000</td>\n",
              "      <td>30000.000000</td>\n",
              "      <td>30000.000000</td>\n",
              "      <td>30000.000000</td>\n",
              "      <td>30000.000000</td>\n",
              "      <td>30000.000000</td>\n",
              "      <td>30000.000000</td>\n",
              "      <td>3.000000e+04</td>\n",
              "      <td>30000.000000</td>\n",
              "      <td>30000.000000</td>\n",
              "      <td>30000.000000</td>\n",
              "      <td>30000.000000</td>\n",
              "      <td>3.000000e+04</td>\n",
              "      <td>30000.00000</td>\n",
              "      <td>30000.000000</td>\n",
              "      <td>30000.000000</td>\n",
              "      <td>30000.000000</td>\n",
              "    </tr>\n",
              "    <tr>\n",
              "      <th>mean</th>\n",
              "      <td>167484.322667</td>\n",
              "      <td>35.485500</td>\n",
              "      <td>-0.016700</td>\n",
              "      <td>-0.133767</td>\n",
              "      <td>-0.166200</td>\n",
              "      <td>-0.220667</td>\n",
              "      <td>-0.266200</td>\n",
              "      <td>-0.291100</td>\n",
              "      <td>51223.330900</td>\n",
              "      <td>49179.075167</td>\n",
              "      <td>4.701315e+04</td>\n",
              "      <td>43262.948967</td>\n",
              "      <td>40311.400967</td>\n",
              "      <td>38871.760400</td>\n",
              "      <td>5663.580500</td>\n",
              "      <td>5.921163e+03</td>\n",
              "      <td>5225.68150</td>\n",
              "      <td>4826.076867</td>\n",
              "      <td>4799.387633</td>\n",
              "      <td>5215.502567</td>\n",
              "    </tr>\n",
              "    <tr>\n",
              "      <th>std</th>\n",
              "      <td>129747.661567</td>\n",
              "      <td>9.217904</td>\n",
              "      <td>1.123802</td>\n",
              "      <td>1.197186</td>\n",
              "      <td>1.196868</td>\n",
              "      <td>1.169139</td>\n",
              "      <td>1.133187</td>\n",
              "      <td>1.149988</td>\n",
              "      <td>73635.860576</td>\n",
              "      <td>71173.768783</td>\n",
              "      <td>6.934939e+04</td>\n",
              "      <td>64332.856134</td>\n",
              "      <td>60797.155770</td>\n",
              "      <td>59554.107537</td>\n",
              "      <td>16563.280354</td>\n",
              "      <td>2.304087e+04</td>\n",
              "      <td>17606.96147</td>\n",
              "      <td>15666.159744</td>\n",
              "      <td>15278.305679</td>\n",
              "      <td>17777.465775</td>\n",
              "    </tr>\n",
              "    <tr>\n",
              "      <th>min</th>\n",
              "      <td>10000.000000</td>\n",
              "      <td>21.000000</td>\n",
              "      <td>-2.000000</td>\n",
              "      <td>-2.000000</td>\n",
              "      <td>-2.000000</td>\n",
              "      <td>-2.000000</td>\n",
              "      <td>-2.000000</td>\n",
              "      <td>-2.000000</td>\n",
              "      <td>-165580.000000</td>\n",
              "      <td>-69777.000000</td>\n",
              "      <td>-1.572640e+05</td>\n",
              "      <td>-170000.000000</td>\n",
              "      <td>-81334.000000</td>\n",
              "      <td>-339603.000000</td>\n",
              "      <td>0.000000</td>\n",
              "      <td>0.000000e+00</td>\n",
              "      <td>0.00000</td>\n",
              "      <td>0.000000</td>\n",
              "      <td>0.000000</td>\n",
              "      <td>0.000000</td>\n",
              "    </tr>\n",
              "    <tr>\n",
              "      <th>25%</th>\n",
              "      <td>50000.000000</td>\n",
              "      <td>28.000000</td>\n",
              "      <td>-1.000000</td>\n",
              "      <td>-1.000000</td>\n",
              "      <td>-1.000000</td>\n",
              "      <td>-1.000000</td>\n",
              "      <td>-1.000000</td>\n",
              "      <td>-1.000000</td>\n",
              "      <td>3558.750000</td>\n",
              "      <td>2984.750000</td>\n",
              "      <td>2.666250e+03</td>\n",
              "      <td>2326.750000</td>\n",
              "      <td>1763.000000</td>\n",
              "      <td>1256.000000</td>\n",
              "      <td>1000.000000</td>\n",
              "      <td>8.330000e+02</td>\n",
              "      <td>390.00000</td>\n",
              "      <td>296.000000</td>\n",
              "      <td>252.500000</td>\n",
              "      <td>117.750000</td>\n",
              "    </tr>\n",
              "    <tr>\n",
              "      <th>50%</th>\n",
              "      <td>140000.000000</td>\n",
              "      <td>34.000000</td>\n",
              "      <td>0.000000</td>\n",
              "      <td>0.000000</td>\n",
              "      <td>0.000000</td>\n",
              "      <td>0.000000</td>\n",
              "      <td>0.000000</td>\n",
              "      <td>0.000000</td>\n",
              "      <td>22381.500000</td>\n",
              "      <td>21200.000000</td>\n",
              "      <td>2.008850e+04</td>\n",
              "      <td>19052.000000</td>\n",
              "      <td>18104.500000</td>\n",
              "      <td>17071.000000</td>\n",
              "      <td>2100.000000</td>\n",
              "      <td>2.009000e+03</td>\n",
              "      <td>1800.00000</td>\n",
              "      <td>1500.000000</td>\n",
              "      <td>1500.000000</td>\n",
              "      <td>1500.000000</td>\n",
              "    </tr>\n",
              "    <tr>\n",
              "      <th>75%</th>\n",
              "      <td>240000.000000</td>\n",
              "      <td>41.000000</td>\n",
              "      <td>0.000000</td>\n",
              "      <td>0.000000</td>\n",
              "      <td>0.000000</td>\n",
              "      <td>0.000000</td>\n",
              "      <td>0.000000</td>\n",
              "      <td>0.000000</td>\n",
              "      <td>67091.000000</td>\n",
              "      <td>64006.250000</td>\n",
              "      <td>6.016475e+04</td>\n",
              "      <td>54506.000000</td>\n",
              "      <td>50190.500000</td>\n",
              "      <td>49198.250000</td>\n",
              "      <td>5006.000000</td>\n",
              "      <td>5.000000e+03</td>\n",
              "      <td>4505.00000</td>\n",
              "      <td>4013.250000</td>\n",
              "      <td>4031.500000</td>\n",
              "      <td>4000.000000</td>\n",
              "    </tr>\n",
              "    <tr>\n",
              "      <th>max</th>\n",
              "      <td>1000000.000000</td>\n",
              "      <td>79.000000</td>\n",
              "      <td>8.000000</td>\n",
              "      <td>8.000000</td>\n",
              "      <td>8.000000</td>\n",
              "      <td>8.000000</td>\n",
              "      <td>8.000000</td>\n",
              "      <td>8.000000</td>\n",
              "      <td>964511.000000</td>\n",
              "      <td>983931.000000</td>\n",
              "      <td>1.664089e+06</td>\n",
              "      <td>891586.000000</td>\n",
              "      <td>927171.000000</td>\n",
              "      <td>961664.000000</td>\n",
              "      <td>873552.000000</td>\n",
              "      <td>1.684259e+06</td>\n",
              "      <td>896040.00000</td>\n",
              "      <td>621000.000000</td>\n",
              "      <td>426529.000000</td>\n",
              "      <td>528666.000000</td>\n",
              "    </tr>\n",
              "  </tbody>\n",
              "</table>\n",
              "</div>"
            ],
            "text/plain": [
              "            LIMIT_BAL           AGE  ...       PAY_AMT5       PAY_AMT6\n",
              "count    30000.000000  30000.000000  ...   30000.000000   30000.000000\n",
              "mean    167484.322667     35.485500  ...    4799.387633    5215.502567\n",
              "std     129747.661567      9.217904  ...   15278.305679   17777.465775\n",
              "min      10000.000000     21.000000  ...       0.000000       0.000000\n",
              "25%      50000.000000     28.000000  ...     252.500000     117.750000\n",
              "50%     140000.000000     34.000000  ...    1500.000000    1500.000000\n",
              "75%     240000.000000     41.000000  ...    4031.500000    4000.000000\n",
              "max    1000000.000000     79.000000  ...  426529.000000  528666.000000\n",
              "\n",
              "[8 rows x 20 columns]"
            ]
          },
          "metadata": {
            "tags": []
          },
          "execution_count": 5
        }
      ]
    },
    {
      "cell_type": "markdown",
      "metadata": {
        "id": "FRJ3axVDtS6W"
      },
      "source": [
        "Descripción de la variable Edad"
      ]
    },
    {
      "cell_type": "markdown",
      "metadata": {
        "id": "G2muXnBzt_9A"
      },
      "source": [
        "Se muestra un histograma que muestra la distribución de la población con respecto la variable `AGE` (edad)."
      ]
    },
    {
      "cell_type": "code",
      "metadata": {
        "id": "1zx0c-KSHwWG",
        "colab": {
          "base_uri": "https://localhost:8080/",
          "height": 281
        },
        "outputId": "7e1c16e4-4587-4098-c859-9c7b01c937b2"
      },
      "source": [
        "data.AGE.plot.hist(bins = 12, alpha=0.5)\r\n",
        "plt.title('Histograma de edad de la población')\r\n",
        "plt.legend()\r\n",
        "plt.show()"
      ],
      "execution_count": 6,
      "outputs": [
        {
          "output_type": "display_data",
          "data": {
            "image/png": "[encoded data removed]",
            "text/plain": [
              "<Figure size 432x288 with 1 Axes>"
            ]
          },
          "metadata": {
            "tags": [],
            "needs_background": "light"
          }
        }
      ]
    },
    {
      "cell_type": "markdown",
      "metadata": {
        "id": "E9j8q6CdP8Bb"
      },
      "source": [
        "Para las variables categóricas mostramos la cantidad de registros por cada categoría y el porcentaje que representan del total"
      ]
    },
    {
      "cell_type": "markdown",
      "metadata": {
        "id": "_J4cSVgXFmrD"
      },
      "source": [
        "Descripción de la variable Sexo"
      ]
    },
    {
      "cell_type": "markdown",
      "metadata": {
        "id": "A8BL1haJFxvO"
      },
      "source": [
        "Se muestra una grafica de barras que muestra la distribucion de la población respecto a la variable `SEX` (sexo), donde:\r\n",
        "*   1 = Male\r\n",
        "*   2 = Female"
      ]
    },
    {
      "cell_type": "code",
      "metadata": {
        "colab": {
          "base_uri": "https://localhost:8080/",
          "height": 106
        },
        "id": "Mp2-T97gRefz",
        "outputId": "2f2eff75-b144-4cc2-c7e2-a12d81bf56e9"
      },
      "source": [
        "enc = {1:'male', 2:'female'}\r\n",
        "c = data.SEX.replace(enc).value_counts()\r\n",
        "p = data.SEX.replace(enc).value_counts(normalize = True) * 100\r\n",
        "pd.concat([c,p], axis=1, keys=['# registros', '% del total'])"
      ],
      "execution_count": 7,
      "outputs": [
        {
          "output_type": "execute_result",
          "data": {
            "text/html": [
              "<div>\n",
              "<style scoped>\n",
              "    .dataframe tbody tr th:only-of-type {\n",
              "        vertical-align: middle;\n",
              "    }\n",
              "\n",
              "    .dataframe tbody tr th {\n",
              "        vertical-align: top;\n",
              "    }\n",
              "\n",
              "    .dataframe thead th {\n",
              "        text-align: right;\n",
              "    }\n",
              "</style>\n",
              "<table border=\"1\" class=\"dataframe\">\n",
              "  <thead>\n",
              "    <tr style=\"text-align: right;\">\n",
              "      <th></th>\n",
              "      <th># registros</th>\n",
              "      <th>% del total</th>\n",
              "    </tr>\n",
              "  </thead>\n",
              "  <tbody>\n",
              "    <tr>\n",
              "      <th>female</th>\n",
              "      <td>18112</td>\n",
              "      <td>60.373333</td>\n",
              "    </tr>\n",
              "    <tr>\n",
              "      <th>male</th>\n",
              "      <td>11888</td>\n",
              "      <td>39.626667</td>\n",
              "    </tr>\n",
              "  </tbody>\n",
              "</table>\n",
              "</div>"
            ],
            "text/plain": [
              "        # registros  % del total\n",
              "female        18112    60.373333\n",
              "male          11888    39.626667"
            ]
          },
          "metadata": {
            "tags": []
          },
          "execution_count": 7
        }
      ]
    },
    {
      "cell_type": "code",
      "metadata": {
        "colab": {
          "base_uri": "https://localhost:8080/",
          "height": 306
        },
        "id": "nw7tdqtI_d_H",
        "outputId": "788debd7-2e7e-408b-ae6b-a8186562e0ce"
      },
      "source": [
        "data.SEX.replace(enc).value_counts().plot(kind='bar',alpha=0.5)\r\n",
        "plt.title('Género de la población')\r\n",
        "plt.legend()\r\n",
        "plt.show()"
      ],
      "execution_count": 8,
      "outputs": [
        {
          "output_type": "display_data",
          "data": {
            "image/png": "[encoded data removed]",
            "text/plain": [
              "<Figure size 432x288 with 1 Axes>"
            ]
          },
          "metadata": {
            "tags": [],
            "needs_background": "light"
          }
        }
      ]
    },
    {
      "cell_type": "markdown",
      "metadata": {
        "id": "PRj2rJjdIsrT"
      },
      "source": [
        "Descripción de la variable Educación"
      ]
    },
    {
      "cell_type": "markdown",
      "metadata": {
        "id": "hUfvv4esG6D3"
      },
      "source": [
        "Se muestra una grafica de barras que muestra la distribucion de la población respecto a la variable `EDUCATION` (nivel educativo), donde:\r\n",
        "\r\n",
        "*   1 = graduate school\r\n",
        "*   2 = university\r\n",
        "*   3 = high school\r\n",
        "*   4 = others\r\n"
      ]
    },
    {
      "cell_type": "code",
      "metadata": {
        "id": "qDha9ZnRM6ch",
        "colab": {
          "base_uri": "https://localhost:8080/",
          "height": 166
        },
        "outputId": "030154cd-db6a-47d2-9133-f3e878dcd1fc"
      },
      "source": [
        "enc = {1:'graduate school', 2:'university', 3:'high school', 4:'others', 5:'others', 6:'others', 0:'others'}\r\n",
        "c = data.EDUCATION.replace(enc).value_counts()\r\n",
        "p = data.EDUCATION.replace(enc).value_counts(normalize = True) * 100\r\n",
        "pd.concat([c,p], axis=1, keys=['# registros', '% del total'])"
      ],
      "execution_count": 9,
      "outputs": [
        {
          "output_type": "execute_result",
          "data": {
            "text/html": [
              "<div>\n",
              "<style scoped>\n",
              "    .dataframe tbody tr th:only-of-type {\n",
              "        vertical-align: middle;\n",
              "    }\n",
              "\n",
              "    .dataframe tbody tr th {\n",
              "        vertical-align: top;\n",
              "    }\n",
              "\n",
              "    .dataframe thead th {\n",
              "        text-align: right;\n",
              "    }\n",
              "</style>\n",
              "<table border=\"1\" class=\"dataframe\">\n",
              "  <thead>\n",
              "    <tr style=\"text-align: right;\">\n",
              "      <th></th>\n",
              "      <th># registros</th>\n",
              "      <th>% del total</th>\n",
              "    </tr>\n",
              "  </thead>\n",
              "  <tbody>\n",
              "    <tr>\n",
              "      <th>university</th>\n",
              "      <td>14030</td>\n",
              "      <td>46.766667</td>\n",
              "    </tr>\n",
              "    <tr>\n",
              "      <th>graduate school</th>\n",
              "      <td>10585</td>\n",
              "      <td>35.283333</td>\n",
              "    </tr>\n",
              "    <tr>\n",
              "      <th>high school</th>\n",
              "      <td>4917</td>\n",
              "      <td>16.390000</td>\n",
              "    </tr>\n",
              "    <tr>\n",
              "      <th>others</th>\n",
              "      <td>468</td>\n",
              "      <td>1.560000</td>\n",
              "    </tr>\n",
              "  </tbody>\n",
              "</table>\n",
              "</div>"
            ],
            "text/plain": [
              "                 # registros  % del total\n",
              "university             14030    46.766667\n",
              "graduate school        10585    35.283333\n",
              "high school             4917    16.390000\n",
              "others                   468     1.560000"
            ]
          },
          "metadata": {
            "tags": []
          },
          "execution_count": 9
        }
      ]
    },
    {
      "cell_type": "code",
      "metadata": {
        "colab": {
          "base_uri": "https://localhost:8080/",
          "height": 352
        },
        "id": "uVUQ7SjgG-yt",
        "outputId": "b894d599-49b8-4692-f856-b2bb04bb4aae"
      },
      "source": [
        "data.EDUCATION.replace(enc).value_counts().plot(kind = 'bar',alpha=0.5)\r\n",
        "plt.title('Educación')\r\n",
        "plt.legend()\r\n",
        "plt.show()"
      ],
      "execution_count": 10,
      "outputs": [
        {
          "output_type": "display_data",
          "data": {
            "image/png": "[encoded data removed]",
            "text/plain": [
              "<Figure size 432x288 with 1 Axes>"
            ]
          },
          "metadata": {
            "tags": [],
            "needs_background": "light"
          }
        }
      ]
    },
    {
      "cell_type": "markdown",
      "metadata": {
        "id": "R6wyAFHgTOVd"
      },
      "source": [
        "Descripción de la variable Marriage"
      ]
    },
    {
      "cell_type": "markdown",
      "metadata": {
        "id": "cHzMHoZ8I4pL"
      },
      "source": [
        "Se muestra una grafica de barras que muestra la distribucion de la población respecto a la variable `MARRIAGE` (estado civil), donde:\r\n",
        "*   1 = married\r\n",
        "*   2 = single\r\n",
        "*   3 = others\r\n"
      ]
    },
    {
      "cell_type": "code",
      "metadata": {
        "id": "qIF4HGruPvAG",
        "colab": {
          "base_uri": "https://localhost:8080/",
          "height": 136
        },
        "outputId": "37ceef05-1d4b-4115-c2b3-8f08e8fa07de"
      },
      "source": [
        "enc = {1:'married', 2:'single', 3:'others', 0:'others'}\r\n",
        "c = data.MARRIAGE.replace(enc).value_counts()\r\n",
        "p = data.MARRIAGE.replace(enc).value_counts(normalize = True) * 100\r\n",
        "pd.concat([c,p], axis=1, keys=['# registros', '% del total'])"
      ],
      "execution_count": 11,
      "outputs": [
        {
          "output_type": "execute_result",
          "data": {
            "text/html": [
              "<div>\n",
              "<style scoped>\n",
              "    .dataframe tbody tr th:only-of-type {\n",
              "        vertical-align: middle;\n",
              "    }\n",
              "\n",
              "    .dataframe tbody tr th {\n",
              "        vertical-align: top;\n",
              "    }\n",
              "\n",
              "    .dataframe thead th {\n",
              "        text-align: right;\n",
              "    }\n",
              "</style>\n",
              "<table border=\"1\" class=\"dataframe\">\n",
              "  <thead>\n",
              "    <tr style=\"text-align: right;\">\n",
              "      <th></th>\n",
              "      <th># registros</th>\n",
              "      <th>% del total</th>\n",
              "    </tr>\n",
              "  </thead>\n",
              "  <tbody>\n",
              "    <tr>\n",
              "      <th>single</th>\n",
              "      <td>15964</td>\n",
              "      <td>53.213333</td>\n",
              "    </tr>\n",
              "    <tr>\n",
              "      <th>married</th>\n",
              "      <td>13659</td>\n",
              "      <td>45.530000</td>\n",
              "    </tr>\n",
              "    <tr>\n",
              "      <th>others</th>\n",
              "      <td>377</td>\n",
              "      <td>1.256667</td>\n",
              "    </tr>\n",
              "  </tbody>\n",
              "</table>\n",
              "</div>"
            ],
            "text/plain": [
              "         # registros  % del total\n",
              "single         15964    53.213333\n",
              "married        13659    45.530000\n",
              "others           377     1.256667"
            ]
          },
          "metadata": {
            "tags": []
          },
          "execution_count": 11
        }
      ]
    },
    {
      "cell_type": "code",
      "metadata": {
        "id": "yybpKKlSSu6-",
        "colab": {
          "base_uri": "https://localhost:8080/",
          "height": 281
        },
        "outputId": "9adf0f6b-52ef-4961-b939-5daff8d50d1e"
      },
      "source": [
        "data.MARRIAGE.replace(enc).value_counts().plot(kind='barh',alpha=0.5)\r\n",
        "plt.title('Marriage')\r\n",
        "plt.legend()\r\n",
        "plt.show()"
      ],
      "execution_count": 12,
      "outputs": [
        {
          "output_type": "display_data",
          "data": {
            "image/png": "[encoded data removed]",
            "text/plain": [
              "<Figure size 432x288 with 1 Axes>"
            ]
          },
          "metadata": {
            "tags": [],
            "needs_background": "light"
          }
        }
      ]
    },
    {
      "cell_type": "markdown",
      "metadata": {
        "id": "4EaI8YC5KknE"
      },
      "source": [
        "#Modelamiento"
      ]
    },
    {
      "cell_type": "markdown",
      "metadata": {
        "id": "R5mvYgzaUNv0"
      },
      "source": [
        "##Preprocesamiento de la data"
      ]
    },
    {
      "cell_type": "markdown",
      "metadata": {
        "id": "qc-PHuFv505U"
      },
      "source": [
        "[De acuerdo al autor del dataset](https://www.kaggle.com/uciml/default-of-credit-card-clients-dataset/discussion/34608), en el caso de la variable `EDUCATION` se debe considerar a los valores 0, 4, 5 y 6 como de la clase `others`."
      ]
    },
    {
      "cell_type": "code",
      "metadata": {
        "id": "7luTvH9WUNaK"
      },
      "source": [
        "enc = {4:0, 5:0, 6:0}\r\n",
        "data.EDUCATION.replace(enc, inplace = True)"
      ],
      "execution_count": 13,
      "outputs": []
    },
    {
      "cell_type": "markdown",
      "metadata": {
        "id": "K-aMB3p6HjYe"
      },
      "source": [
        "De igual manera para la variable `MARRIAGE` a los valores 0 y 3."
      ]
    },
    {
      "cell_type": "code",
      "metadata": {
        "id": "Gcdpkm6oHuzT"
      },
      "source": [
        "enc = {3:0}\r\n",
        "data.MARRIAGE.replace(enc, inplace = True)"
      ],
      "execution_count": 14,
      "outputs": []
    },
    {
      "cell_type": "markdown",
      "metadata": {
        "id": "TAEF_teOLz-0"
      },
      "source": [
        "La separación de train y test se ha realizado en un 10% para test y el 90% restante para train"
      ]
    },
    {
      "cell_type": "code",
      "metadata": {
        "id": "liD1ElZgXOvB"
      },
      "source": [
        "from sklearn.model_selection import train_test_split\r\n",
        "\r\n",
        "X = data.drop('DEFAULT', axis = 1)\r\n",
        "y = data['DEFAULT']\r\n",
        "\r\n",
        "X_train, X_test, y_train, y_test = train_test_split(X, y, test_size = 0.1)"
      ],
      "execution_count": 15,
      "outputs": []
    },
    {
      "cell_type": "markdown",
      "metadata": {
        "id": "VKY2Tj-GKDa_"
      },
      "source": [
        "##Algoritmo Random Forests"
      ]
    },
    {
      "cell_type": "markdown",
      "metadata": {
        "id": "UGqvLexXKve4"
      },
      "source": [
        "El primer clasificador que entrenamos es el Random Forests. A continuación creamos una nueva instancia de este clasificador y mostramos su performance con los hiperparámetros con valores por defecto. "
      ]
    },
    {
      "cell_type": "code",
      "metadata": {
        "id": "Z-88p_xjKUnL",
        "colab": {
          "base_uri": "https://localhost:8080/"
        },
        "outputId": "b67be3e9-7ae1-463c-aa89-aafcafd20113"
      },
      "source": [
        "from sklearn.ensemble import RandomForestClassifier\r\n",
        "from sklearn.model_selection import StratifiedKFold, cross_validate\r\n",
        "\r\n",
        "d_rfc = RandomForestClassifier(random_state = 42)\r\n",
        "skf = StratifiedKFold(n_splits = 10)\r\n",
        "d_rfc_res = cross_validate(d_rfc, X, y, cv = skf, return_train_score = True, scoring = ['accuracy','f1'])\r\n",
        "print('Los valores por defecto de los hiperparámetros del algoritmo RF son:')\r\n",
        "d_rfc.get_params()"
      ],
      "execution_count": 16,
      "outputs": [
        {
          "output_type": "stream",
          "text": [
            "Los valores por defecto de los hiperparámetros del algoritmo RF son:\n"
          ],
          "name": "stdout"
        },
        {
          "output_type": "execute_result",
          "data": {
            "text/plain": [
              "{'bootstrap': True,\n",
              " 'ccp_alpha': 0.0,\n",
              " 'class_weight': None,\n",
              " 'criterion': 'gini',\n",
              " 'max_depth': None,\n",
              " 'max_features': 'auto',\n",
              " 'max_leaf_nodes': None,\n",
              " 'max_samples': None,\n",
              " 'min_impurity_decrease': 0.0,\n",
              " 'min_impurity_split': None,\n",
              " 'min_samples_leaf': 1,\n",
              " 'min_samples_split': 2,\n",
              " 'min_weight_fraction_leaf': 0.0,\n",
              " 'n_estimators': 100,\n",
              " 'n_jobs': None,\n",
              " 'oob_score': False,\n",
              " 'random_state': 42,\n",
              " 'verbose': 0,\n",
              " 'warm_start': False}"
            ]
          },
          "metadata": {
            "tags": []
          },
          "execution_count": 16
        }
      ]
    },
    {
      "cell_type": "markdown",
      "metadata": {
        "id": "iiWaymqc0oMC"
      },
      "source": [
        "Y obtuvimos los siguientes resultados de exactitud:\r\n"
      ]
    },
    {
      "cell_type": "code",
      "metadata": {
        "id": "n8w0uuFO0nY0",
        "colab": {
          "base_uri": "https://localhost:8080/"
        },
        "outputId": "47f976fc-19e4-428d-be9c-12a4388ba610"
      },
      "source": [
        "print('La exactitud en el conjunto de train fue de {}'.format(np.mean(d_rfc_res['train_accuracy'])))\r\n",
        "print('La exactitud en el conjunto de test fue de {}'.format(np.mean(d_rfc_res['test_accuracy'])))"
      ],
      "execution_count": 17,
      "outputs": [
        {
          "output_type": "stream",
          "text": [
            "La exactitud en el conjunto de train fue de 0.9993407407407406\n",
            "La exactitud en el conjunto de test fue de 0.8155333333333333\n"
          ],
          "name": "stdout"
        }
      ]
    },
    {
      "cell_type": "markdown",
      "metadata": {
        "id": "PHU7n2xi4MTi"
      },
      "source": [
        "Sin embargo, ya que tenemos clases desbalanceadas (`DEFAULT` = 1 es el 22%), la exactitud no es una buena métrica para medir nuestro dataset. Utilizaremos la métrica F1."
      ]
    },
    {
      "cell_type": "code",
      "metadata": {
        "id": "AyFoAR-l4LvZ",
        "colab": {
          "base_uri": "https://localhost:8080/"
        },
        "outputId": "c4f78a92-565e-449f-ccd0-a4ee6fcf3ee2"
      },
      "source": [
        "print('El puntaje F1 en el conjunto de train fue de {}'.format(np.mean(d_rfc_res['train_f1'])))\r\n",
        "print('El puntaje F1 en el conjunto de test fue de {}'.format(np.mean(d_rfc_res['test_f1'])))"
      ],
      "execution_count": 18,
      "outputs": [
        {
          "output_type": "stream",
          "text": [
            "El puntaje F1 en el conjunto de train fue de 0.9985090765660714\n",
            "El puntaje F1 en el conjunto de test fue de 0.4695483125961176\n"
          ],
          "name": "stdout"
        }
      ]
    },
    {
      "cell_type": "markdown",
      "metadata": {
        "id": "fKGeRvR5TXGK"
      },
      "source": [
        "Notamos que obtuvimos un valor muy alto con el conjunto de entrenamiento, pero en la evaluación salió muy bajo, esto es un claro indicador de que el modelo tiene un sesgo muy alto (overfitting). "
      ]
    },
    {
      "cell_type": "markdown",
      "metadata": {
        "id": "cdKrNFKryz_1"
      },
      "source": [
        "Antes de empezar la búsqueda aleatoria de los mejores hiperparámetros, revisamos a partir de qué cantidad de árboles la métricas dejan de mejorar, con ese valor fijamos a `n_estimators` y ahorramos tiempo de procesamiento."
      ]
    },
    {
      "cell_type": "code",
      "metadata": {
        "id": "ozqUbEfjzfZN"
      },
      "source": [
        "lista_q_arboles = np.around(np.linspace(2, 100, 30, endpoint = True)).astype(int)\r\n",
        "\r\n",
        "train_accuracy = []\r\n",
        "test_accuracy = []\r\n",
        "train_f1 = []\r\n",
        "test_f1 = []\r\n",
        "for q_arboles in lista_q_arboles:\r\n",
        "    i_rfc = RandomForestClassifier(random_state = 42, n_estimators = q_arboles)\r\n",
        "    i_rfc_res = cross_validate(i_rfc, X, y, cv = skf, return_train_score = True, scoring = ['accuracy','f1'])\r\n",
        "    train_accuracy.append(np.mean(i_rfc_res['train_accuracy']))\r\n",
        "    test_accuracy.append(np.mean(i_rfc_res['test_accuracy']))\r\n",
        "    train_f1.append(np.mean(i_rfc_res['train_f1'])) \r\n",
        "    test_f1.append(np.mean(i_rfc_res['test_f1']))"
      ],
      "execution_count": 19,
      "outputs": []
    },
    {
      "cell_type": "code",
      "metadata": {
        "id": "cNDosnCgHNBs",
        "colab": {
          "base_uri": "https://localhost:8080/",
          "height": 560
        },
        "outputId": "87edf6be-0297-471e-b2c0-e94d8adc5667"
      },
      "source": [
        "import matplotlib.pyplot as plt\r\n",
        "\r\n",
        "plt.plot(lista_q_arboles, train_f1, 'b', label = 'Train')\r\n",
        "plt.plot(lista_q_arboles, test_f1, 'r', label = 'Test')\r\n",
        "plt.ylabel('F1')\r\n",
        "plt.xlabel('n_estimators')\r\n",
        "plt.legend(loc = 'lower right')\r\n",
        "plt.show()\r\n",
        "\r\n",
        "plt.plot(lista_q_arboles, train_accuracy, 'b', label = 'Train')\r\n",
        "plt.plot(lista_q_arboles, test_accuracy, 'r', label = 'Test')\r\n",
        "plt.ylabel('Accuracy')\r\n",
        "plt.xlabel('n_estimators')\r\n",
        "plt.legend(loc = 'lower right')\r\n",
        "plt.show()\r\n",
        "\r\n",
        "print('Notamos que a partir de los 40 árboles las métricas ya no se incrementan tanto. Usaremos 40 para el valor de n_estimators.')"
      ],
      "execution_count": 21,
      "outputs": [
        {
          "output_type": "display_data",
          "data": {
            "image/png": "[encoded data removed]",
            "text/plain": [
              "<Figure size 432x288 with 1 Axes>"
            ]
          },
          "metadata": {
            "tags": [],
            "needs_background": "light"
          }
        },
        {
          "output_type": "display_data",
          "data": {
            "image/png": "[encoded data removed]",
            "text/plain": [
              "<Figure size 432x288 with 1 Axes>"
            ]
          },
          "metadata": {
            "tags": [],
            "needs_background": "light"
          }
        },
        {
          "output_type": "stream",
          "text": [
            "Notamos que a partir de los 40 árboles las métricas ya no se incrementan tanto. Usaremos 40 para el valor de n_estimators.\n"
          ],
          "name": "stdout"
        }
      ]
    },
    {
      "cell_type": "markdown",
      "metadata": {
        "id": "h7HxjBm5jFVb"
      },
      "source": [
        "Con esto en mente, realizamos primero una búsqueda aleatoria para encontrar a los hiperparámetros que generen al mejor modelo."
      ]
    },
    {
      "cell_type": "code",
      "metadata": {
        "id": "GbfX3WELSubx"
      },
      "source": [
        "from sklearn.model_selection import RandomizedSearchCV\r\n",
        "\r\n",
        "r_rfc = RandomForestClassifier(random_state = 42, n_estimators = 40)\r\n",
        "\r\n",
        "hp_dict = dict(max_depth = np.arange(5, 31),\r\n",
        "               max_features = np.arange(1, X.shape[1] + 1))\r\n",
        "               #min_samples_leaf = np.arange(0.001,0.101,0.001),\r\n",
        "               #min_samples_split = np.arange(0.32,1.01,0.02),\r\n",
        "\r\n",
        "rfc_rscv = RandomizedSearchCV(r_rfc,\r\n",
        "                              param_distributions = hp_dict,\r\n",
        "                              n_iter = 200,\r\n",
        "                              return_train_score = True,\r\n",
        "                              scoring = ['accuracy','f1'],\r\n",
        "                              refit = 'f1',\r\n",
        "                              cv = skf,\r\n",
        "                              n_jobs = -1,\r\n",
        "                              random_state = 42)\r\n",
        "rfc_rscv.fit(X, y)"
      ],
      "execution_count": 22,
      "outputs": []
    },
    {
      "cell_type": "markdown",
      "metadata": {
        "id": "EV_JWf31YjKK"
      },
      "source": [
        "Estas son los hiperparámetros que dicha búsqueda ha encontrado:"
      ]
    },
    {
      "cell_type": "code",
      "metadata": {
        "id": "m2-jjLF3VdWm",
        "colab": {
          "base_uri": "https://localhost:8080/"
        },
        "outputId": "d53e96b3-28c2-426c-c477-2528b3adef25"
      },
      "source": [
        "rfc_rscv.best_params_"
      ],
      "execution_count": 23,
      "outputs": [
        {
          "output_type": "execute_result",
          "data": {
            "text/plain": [
              "{'max_depth': 17, 'max_features': 12}"
            ]
          },
          "metadata": {
            "tags": []
          },
          "execution_count": 23
        }
      ]
    },
    {
      "cell_type": "markdown",
      "metadata": {
        "id": "K7kqIT3D1m13"
      },
      "source": [
        "Que generan el modelo con el mejor puntaje:"
      ]
    },
    {
      "cell_type": "code",
      "metadata": {
        "id": "qiqbBI-_ysOR",
        "colab": {
          "base_uri": "https://localhost:8080/"
        },
        "outputId": "6056ea93-2606-4de7-8245-efd1b02fe33f"
      },
      "source": [
        "rfc_rscv_res = rfc_rscv.cv_results_\r\n",
        "print('Train F1: {}'.format(rfc_rscv_res['mean_train_f1'][rfc_rscv.best_index_]))\r\n",
        "print('Test F1: {}'.format(rfc_rscv_res['mean_test_f1'][rfc_rscv.best_index_]))\r\n",
        "print('Train accuracy: {}'.format(rfc_rscv_res['mean_train_accuracy'][rfc_rscv.best_index_]))\r\n",
        "print('Test accuracy: {}'.format(rfc_rscv_res['mean_test_accuracy'][rfc_rscv.best_index_]))"
      ],
      "execution_count": 38,
      "outputs": [
        {
          "output_type": "stream",
          "text": [
            "Train F1: 0.788428514457695\n",
            "Test F1: 0.4739257244734968\n",
            "Train accuracy: 0.9215814814814814\n",
            "Test accuracy: 0.8188333333333334\n"
          ],
          "name": "stdout"
        }
      ]
    },
    {
      "cell_type": "markdown",
      "metadata": {
        "id": "TbGg2SB0iSLp"
      },
      "source": [
        "El modelo sigue mostrando indicios de overfitting."
      ]
    },
    {
      "cell_type": "code",
      "metadata": {
        "id": "RYTd8sdSieaU"
      },
      "source": [
        "# QUE HACEMOS?"
      ],
      "execution_count": null,
      "outputs": []
    },
    {
      "cell_type": "markdown",
      "metadata": {
        "id": "lTt83Cxiyr4r"
      },
      "source": [
        "A partir de los hiperparámetros encontrados previamente, ejecutamos una búsqueda en grilla para encontrar con mayor precisión el mejor modelo."
      ]
    },
    {
      "cell_type": "code",
      "metadata": {
        "id": "lexk5rsWfYNH",
        "colab": {
          "base_uri": "https://localhost:8080/",
          "height": 162
        },
        "outputId": "7f4d35b4-f354-4d2a-a7b6-b4e22aaa3fab"
      },
      "source": [
        "while True:pass"
      ],
      "execution_count": 36,
      "outputs": [
        {
          "output_type": "error",
          "ename": "KeyboardInterrupt",
          "evalue": "ignored",
          "traceback": [
            "\u001b[0;31m---------------------------------------------------------------------------\u001b[0m",
            "\u001b[0;31mKeyboardInterrupt\u001b[0m                         Traceback (most recent call last)",
            "\u001b[0;32m<ipython-input-36-534b7a74019f>\u001b[0m in \u001b[0;36m<module>\u001b[0;34m()\u001b[0m\n\u001b[0;32m----> 1\u001b[0;31m \u001b[0;32mwhile\u001b[0m \u001b[0;32mTrue\u001b[0m\u001b[0;34m:\u001b[0m\u001b[0;32mpass\u001b[0m\u001b[0;34m\u001b[0m\u001b[0;34m\u001b[0m\u001b[0m\n\u001b[0m",
            "\u001b[0;31mKeyboardInterrupt\u001b[0m: "
          ]
        }
      ]
    }
  ]
}