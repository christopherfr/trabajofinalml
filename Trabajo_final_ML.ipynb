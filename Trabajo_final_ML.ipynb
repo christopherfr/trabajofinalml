{
  "nbformat": 4,
  "nbformat_minor": 0,
  "metadata": {
    "colab": {
      "name": "Walter + knn_Trabajo_final_ML.ipynb",
      "provenance": [],
      "collapsed_sections": [],
      "include_colab_link": true
    },
    "kernelspec": {
      "name": "python3",
      "display_name": "Python 3"
    },
    "accelerator": "GPU"
  },
  "cells": [
    {
      "cell_type": "markdown",
      "metadata": {
        "id": "view-in-github",
        "colab_type": "text"
      },
      "source": [
        "<a href=\"https://colab.research.google.com/github/christopherfr/trabajofinalml/blob/main/Trabajo_final_ML.ipynb\" target=\"_parent\"><img src=\"https://colab.research.google.com/assets/colab-badge.svg\" alt=\"Open In Colab\"/></a>"
      ]
    },
    {
      "cell_type": "markdown",
      "metadata": {
        "id": "DXg-JvUBR43R"
      },
      "source": [
        "Importamos el dataset"
      ]
    },
    {
      "cell_type": "code",
      "metadata": {
        "id": "mLhPqoqCR0r4"
      },
      "source": [
        "import pandas as pd\r\n",
        "import matplotlib.pyplot as plt\r\n",
        "import tensorflow as tf\r\n",
        "import numpy as np\r\n",
        "\r\n",
        "data = pd.read_excel('https://archive.ics.uci.edu/ml/machine-learning-databases/00350/default%20of%20credit%20card%20clients.xls', header = 1)\r\n",
        "data.drop('ID', axis = 1, inplace = True) # Nos deshacemos de la columna ID ya que no es importante\r\n",
        "data.rename(columns = {'default payment next month': 'DEFAULT'}, inplace = True) # Nombre cambiado a uno más corto\r\n",
        "data.rename(columns = {'PAY_0': 'PAY_1'}, inplace = True) # Corrección del nombre"
      ],
      "execution_count": 1,
      "outputs": []
    },
    {
      "cell_type": "code",
      "metadata": {
        "colab": {
          "base_uri": "https://localhost:8080/",
          "height": 363
        },
        "id": "v3tt0GAnbR1a",
        "outputId": "4b105e23-353b-4594-be81-545a4f6352d7"
      },
      "source": [
        "data.head(10)"
      ],
      "execution_count": 2,
      "outputs": [
        {
          "output_type": "execute_result",
          "data": {
            "text/html": [
              "<div>\n",
              "<style scoped>\n",
              "    .dataframe tbody tr th:only-of-type {\n",
              "        vertical-align: middle;\n",
              "    }\n",
              "\n",
              "    .dataframe tbody tr th {\n",
              "        vertical-align: top;\n",
              "    }\n",
              "\n",
              "    .dataframe thead th {\n",
              "        text-align: right;\n",
              "    }\n",
              "</style>\n",
              "<table border=\"1\" class=\"dataframe\">\n",
              "  <thead>\n",
              "    <tr style=\"text-align: right;\">\n",
              "      <th></th>\n",
              "      <th>LIMIT_BAL</th>\n",
              "      <th>SEX</th>\n",
              "      <th>EDUCATION</th>\n",
              "      <th>MARRIAGE</th>\n",
              "      <th>AGE</th>\n",
              "      <th>PAY_1</th>\n",
              "      <th>PAY_2</th>\n",
              "      <th>PAY_3</th>\n",
              "      <th>PAY_4</th>\n",
              "      <th>PAY_5</th>\n",
              "      <th>PAY_6</th>\n",
              "      <th>BILL_AMT1</th>\n",
              "      <th>BILL_AMT2</th>\n",
              "      <th>BILL_AMT3</th>\n",
              "      <th>BILL_AMT4</th>\n",
              "      <th>BILL_AMT5</th>\n",
              "      <th>BILL_AMT6</th>\n",
              "      <th>PAY_AMT1</th>\n",
              "      <th>PAY_AMT2</th>\n",
              "      <th>PAY_AMT3</th>\n",
              "      <th>PAY_AMT4</th>\n",
              "      <th>PAY_AMT5</th>\n",
              "      <th>PAY_AMT6</th>\n",
              "      <th>DEFAULT</th>\n",
              "    </tr>\n",
              "  </thead>\n",
              "  <tbody>\n",
              "    <tr>\n",
              "      <th>0</th>\n",
              "      <td>20000</td>\n",
              "      <td>2</td>\n",
              "      <td>2</td>\n",
              "      <td>1</td>\n",
              "      <td>24</td>\n",
              "      <td>2</td>\n",
              "      <td>2</td>\n",
              "      <td>-1</td>\n",
              "      <td>-1</td>\n",
              "      <td>-2</td>\n",
              "      <td>-2</td>\n",
              "      <td>3913</td>\n",
              "      <td>3102</td>\n",
              "      <td>689</td>\n",
              "      <td>0</td>\n",
              "      <td>0</td>\n",
              "      <td>0</td>\n",
              "      <td>0</td>\n",
              "      <td>689</td>\n",
              "      <td>0</td>\n",
              "      <td>0</td>\n",
              "      <td>0</td>\n",
              "      <td>0</td>\n",
              "      <td>1</td>\n",
              "    </tr>\n",
              "    <tr>\n",
              "      <th>1</th>\n",
              "      <td>120000</td>\n",
              "      <td>2</td>\n",
              "      <td>2</td>\n",
              "      <td>2</td>\n",
              "      <td>26</td>\n",
              "      <td>-1</td>\n",
              "      <td>2</td>\n",
              "      <td>0</td>\n",
              "      <td>0</td>\n",
              "      <td>0</td>\n",
              "      <td>2</td>\n",
              "      <td>2682</td>\n",
              "      <td>1725</td>\n",
              "      <td>2682</td>\n",
              "      <td>3272</td>\n",
              "      <td>3455</td>\n",
              "      <td>3261</td>\n",
              "      <td>0</td>\n",
              "      <td>1000</td>\n",
              "      <td>1000</td>\n",
              "      <td>1000</td>\n",
              "      <td>0</td>\n",
              "      <td>2000</td>\n",
              "      <td>1</td>\n",
              "    </tr>\n",
              "    <tr>\n",
              "      <th>2</th>\n",
              "      <td>90000</td>\n",
              "      <td>2</td>\n",
              "      <td>2</td>\n",
              "      <td>2</td>\n",
              "      <td>34</td>\n",
              "      <td>0</td>\n",
              "      <td>0</td>\n",
              "      <td>0</td>\n",
              "      <td>0</td>\n",
              "      <td>0</td>\n",
              "      <td>0</td>\n",
              "      <td>29239</td>\n",
              "      <td>14027</td>\n",
              "      <td>13559</td>\n",
              "      <td>14331</td>\n",
              "      <td>14948</td>\n",
              "      <td>15549</td>\n",
              "      <td>1518</td>\n",
              "      <td>1500</td>\n",
              "      <td>1000</td>\n",
              "      <td>1000</td>\n",
              "      <td>1000</td>\n",
              "      <td>5000</td>\n",
              "      <td>0</td>\n",
              "    </tr>\n",
              "    <tr>\n",
              "      <th>3</th>\n",
              "      <td>50000</td>\n",
              "      <td>2</td>\n",
              "      <td>2</td>\n",
              "      <td>1</td>\n",
              "      <td>37</td>\n",
              "      <td>0</td>\n",
              "      <td>0</td>\n",
              "      <td>0</td>\n",
              "      <td>0</td>\n",
              "      <td>0</td>\n",
              "      <td>0</td>\n",
              "      <td>46990</td>\n",
              "      <td>48233</td>\n",
              "      <td>49291</td>\n",
              "      <td>28314</td>\n",
              "      <td>28959</td>\n",
              "      <td>29547</td>\n",
              "      <td>2000</td>\n",
              "      <td>2019</td>\n",
              "      <td>1200</td>\n",
              "      <td>1100</td>\n",
              "      <td>1069</td>\n",
              "      <td>1000</td>\n",
              "      <td>0</td>\n",
              "    </tr>\n",
              "    <tr>\n",
              "      <th>4</th>\n",
              "      <td>50000</td>\n",
              "      <td>1</td>\n",
              "      <td>2</td>\n",
              "      <td>1</td>\n",
              "      <td>57</td>\n",
              "      <td>-1</td>\n",
              "      <td>0</td>\n",
              "      <td>-1</td>\n",
              "      <td>0</td>\n",
              "      <td>0</td>\n",
              "      <td>0</td>\n",
              "      <td>8617</td>\n",
              "      <td>5670</td>\n",
              "      <td>35835</td>\n",
              "      <td>20940</td>\n",
              "      <td>19146</td>\n",
              "      <td>19131</td>\n",
              "      <td>2000</td>\n",
              "      <td>36681</td>\n",
              "      <td>10000</td>\n",
              "      <td>9000</td>\n",
              "      <td>689</td>\n",
              "      <td>679</td>\n",
              "      <td>0</td>\n",
              "    </tr>\n",
              "    <tr>\n",
              "      <th>5</th>\n",
              "      <td>50000</td>\n",
              "      <td>1</td>\n",
              "      <td>1</td>\n",
              "      <td>2</td>\n",
              "      <td>37</td>\n",
              "      <td>0</td>\n",
              "      <td>0</td>\n",
              "      <td>0</td>\n",
              "      <td>0</td>\n",
              "      <td>0</td>\n",
              "      <td>0</td>\n",
              "      <td>64400</td>\n",
              "      <td>57069</td>\n",
              "      <td>57608</td>\n",
              "      <td>19394</td>\n",
              "      <td>19619</td>\n",
              "      <td>20024</td>\n",
              "      <td>2500</td>\n",
              "      <td>1815</td>\n",
              "      <td>657</td>\n",
              "      <td>1000</td>\n",
              "      <td>1000</td>\n",
              "      <td>800</td>\n",
              "      <td>0</td>\n",
              "    </tr>\n",
              "    <tr>\n",
              "      <th>6</th>\n",
              "      <td>500000</td>\n",
              "      <td>1</td>\n",
              "      <td>1</td>\n",
              "      <td>2</td>\n",
              "      <td>29</td>\n",
              "      <td>0</td>\n",
              "      <td>0</td>\n",
              "      <td>0</td>\n",
              "      <td>0</td>\n",
              "      <td>0</td>\n",
              "      <td>0</td>\n",
              "      <td>367965</td>\n",
              "      <td>412023</td>\n",
              "      <td>445007</td>\n",
              "      <td>542653</td>\n",
              "      <td>483003</td>\n",
              "      <td>473944</td>\n",
              "      <td>55000</td>\n",
              "      <td>40000</td>\n",
              "      <td>38000</td>\n",
              "      <td>20239</td>\n",
              "      <td>13750</td>\n",
              "      <td>13770</td>\n",
              "      <td>0</td>\n",
              "    </tr>\n",
              "    <tr>\n",
              "      <th>7</th>\n",
              "      <td>100000</td>\n",
              "      <td>2</td>\n",
              "      <td>2</td>\n",
              "      <td>2</td>\n",
              "      <td>23</td>\n",
              "      <td>0</td>\n",
              "      <td>-1</td>\n",
              "      <td>-1</td>\n",
              "      <td>0</td>\n",
              "      <td>0</td>\n",
              "      <td>-1</td>\n",
              "      <td>11876</td>\n",
              "      <td>380</td>\n",
              "      <td>601</td>\n",
              "      <td>221</td>\n",
              "      <td>-159</td>\n",
              "      <td>567</td>\n",
              "      <td>380</td>\n",
              "      <td>601</td>\n",
              "      <td>0</td>\n",
              "      <td>581</td>\n",
              "      <td>1687</td>\n",
              "      <td>1542</td>\n",
              "      <td>0</td>\n",
              "    </tr>\n",
              "    <tr>\n",
              "      <th>8</th>\n",
              "      <td>140000</td>\n",
              "      <td>2</td>\n",
              "      <td>3</td>\n",
              "      <td>1</td>\n",
              "      <td>28</td>\n",
              "      <td>0</td>\n",
              "      <td>0</td>\n",
              "      <td>2</td>\n",
              "      <td>0</td>\n",
              "      <td>0</td>\n",
              "      <td>0</td>\n",
              "      <td>11285</td>\n",
              "      <td>14096</td>\n",
              "      <td>12108</td>\n",
              "      <td>12211</td>\n",
              "      <td>11793</td>\n",
              "      <td>3719</td>\n",
              "      <td>3329</td>\n",
              "      <td>0</td>\n",
              "      <td>432</td>\n",
              "      <td>1000</td>\n",
              "      <td>1000</td>\n",
              "      <td>1000</td>\n",
              "      <td>0</td>\n",
              "    </tr>\n",
              "    <tr>\n",
              "      <th>9</th>\n",
              "      <td>20000</td>\n",
              "      <td>1</td>\n",
              "      <td>3</td>\n",
              "      <td>2</td>\n",
              "      <td>35</td>\n",
              "      <td>-2</td>\n",
              "      <td>-2</td>\n",
              "      <td>-2</td>\n",
              "      <td>-2</td>\n",
              "      <td>-1</td>\n",
              "      <td>-1</td>\n",
              "      <td>0</td>\n",
              "      <td>0</td>\n",
              "      <td>0</td>\n",
              "      <td>0</td>\n",
              "      <td>13007</td>\n",
              "      <td>13912</td>\n",
              "      <td>0</td>\n",
              "      <td>0</td>\n",
              "      <td>0</td>\n",
              "      <td>13007</td>\n",
              "      <td>1122</td>\n",
              "      <td>0</td>\n",
              "      <td>0</td>\n",
              "    </tr>\n",
              "  </tbody>\n",
              "</table>\n",
              "</div>"
            ],
            "text/plain": [
              "   LIMIT_BAL  SEX  EDUCATION  MARRIAGE  ...  PAY_AMT4  PAY_AMT5  PAY_AMT6  DEFAULT\n",
              "0      20000    2          2         1  ...         0         0         0        1\n",
              "1     120000    2          2         2  ...      1000         0      2000        1\n",
              "2      90000    2          2         2  ...      1000      1000      5000        0\n",
              "3      50000    2          2         1  ...      1100      1069      1000        0\n",
              "4      50000    1          2         1  ...      9000       689       679        0\n",
              "5      50000    1          1         2  ...      1000      1000       800        0\n",
              "6     500000    1          1         2  ...     20239     13750     13770        0\n",
              "7     100000    2          2         2  ...       581      1687      1542        0\n",
              "8     140000    2          3         1  ...      1000      1000      1000        0\n",
              "9      20000    1          3         2  ...     13007      1122         0        0\n",
              "\n",
              "[10 rows x 24 columns]"
            ]
          },
          "metadata": {
            "tags": []
          },
          "execution_count": 2
        }
      ]
    },
    {
      "cell_type": "markdown",
      "metadata": {
        "id": "zmk55xEIXz-e"
      },
      "source": [
        "#Información acerca del dataset"
      ]
    },
    {
      "cell_type": "markdown",
      "metadata": {
        "id": "XIrjGsDKkpmt"
      },
      "source": [
        "Lista de variables por tipo"
      ]
    },
    {
      "cell_type": "code",
      "metadata": {
        "id": "WuHcr-_7AEoM",
        "colab": {
          "base_uri": "https://localhost:8080/"
        },
        "outputId": "be0f9ce2-842b-4276-b8cc-e45035776e68"
      },
      "source": [
        "print('Variables categóricas nominales:')\r\n",
        "print('  - SEX\\n  - MARRIAGE')\r\n",
        "print('Variables categóricas ordinales:')\r\n",
        "print('  - EDUCATION')\r\n",
        "print('Variables continuas:')\r\n",
        "print('  - AGE\\n  - PAY_1\\n  - PAY_2\\n  - PAY_3\\n  - PAY_4\\n  - PAY_5\\n  - PAY_6\\n  - BILL_AMT1\\n  - BILL_AMT2\\n  - BILL_AMT3\\n  - BILL_AMT4\\n  - BILL_AMT5\\n  - BILL_AMT6\\n  - PAY_AMT1\\n  - PAY_AMT2\\n  - PAY_AMT3\\n  - PAY_AMT4\\n  - PAY_AMT5\\n  - PAY_AMT6')\r\n",
        "print('Tenemos {} variables independientes en total.'.format(data.shape[1] - 1))\r\n",
        "print('Variable target: DEFAULT')"
      ],
      "execution_count": 3,
      "outputs": [
        {
          "output_type": "stream",
          "text": [
            "Variables categóricas nominales:\n",
            "  - SEX\n",
            "  - MARRIAGE\n",
            "Variables categóricas ordinales:\n",
            "  - EDUCATION\n",
            "Variables continuas:\n",
            "  - AGE\n",
            "  - PAY_1\n",
            "  - PAY_2\n",
            "  - PAY_3\n",
            "  - PAY_4\n",
            "  - PAY_5\n",
            "  - PAY_6\n",
            "  - BILL_AMT1\n",
            "  - BILL_AMT2\n",
            "  - BILL_AMT3\n",
            "  - BILL_AMT4\n",
            "  - BILL_AMT5\n",
            "  - BILL_AMT6\n",
            "  - PAY_AMT1\n",
            "  - PAY_AMT2\n",
            "  - PAY_AMT3\n",
            "  - PAY_AMT4\n",
            "  - PAY_AMT5\n",
            "  - PAY_AMT6\n",
            "Tenemos 23 variables independientes en total.\n",
            "Variable target: DEFAULT\n"
          ],
          "name": "stdout"
        }
      ]
    },
    {
      "cell_type": "markdown",
      "metadata": {
        "id": "3VIrWid4X4K-"
      },
      "source": [
        "Número de muestras que se usarán en los conjuntos de entrenamiento y prueba, como también la cantidad por cada clase."
      ]
    },
    {
      "cell_type": "code",
      "metadata": {
        "id": "6vRA0o4RbPiI",
        "colab": {
          "base_uri": "https://localhost:8080/"
        },
        "outputId": "ae0390b7-7d11-4b6c-9ff2-6a083f818fd8"
      },
      "source": [
        "m = len(data)\r\n",
        "ratio_test = 0.1\r\n",
        "q_test = int(round(m * ratio_test, 0))\r\n",
        "q_train = m - q_test\r\n",
        "print('Se tienen {} muestras en total. Un {}% se usará para la evaluación, es decir,\\nse entrenarán los modelos con {} registros y con {} se evaluarán.'.format(m, ratio_test * 100, q_train, q_test))\r\n",
        "\r\n",
        "import numpy as np\r\n",
        "target_agrupado = data.groupby('DEFAULT')['DEFAULT'].count()\r\n",
        "q_clases_target = np.array(target_agrupado.sort_index(ascending = True))\r\n",
        "p_clases_target = q_clases_target / np.sum(q_clases_target) * 100\r\n",
        "print('Para el entrenamiento un {}% será de la clase 0 (no default) y el otro {}% de la clase 1 (default).'.format(round(p_clases_target[0],1), round(p_clases_target[1],1)))"
      ],
      "execution_count": 4,
      "outputs": [
        {
          "output_type": "stream",
          "text": [
            "Se tienen 30000 muestras en total. Un 10.0% se usará para la evaluación, es decir,\n",
            "se entrenarán los modelos con 27000 registros y con 3000 se evaluarán.\n",
            "Para el entrenamiento un 77.9% será de la clase 0 (no default) y el otro 22.1% de la clase 1 (default).\n"
          ],
          "name": "stdout"
        }
      ]
    },
    {
      "cell_type": "markdown",
      "metadata": {
        "id": "Lx_y5QjVX-MT"
      },
      "source": [
        "Estadística descriptiva y visualización de los datos"
      ]
    },
    {
      "cell_type": "markdown",
      "metadata": {
        "id": "pirU8QCLHSdE"
      },
      "source": [
        "##Descripción de las variables"
      ]
    },
    {
      "cell_type": "markdown",
      "metadata": {
        "id": "X2HbBewj3K5y"
      },
      "source": [
        "En la siguiente tabla se muestran medidas estadísticas de las variables cuantitativas de la base de datos."
      ]
    },
    {
      "cell_type": "code",
      "metadata": {
        "id": "JzDEhveebP3G",
        "colab": {
          "base_uri": "https://localhost:8080/",
          "height": 304
        },
        "outputId": "644a9491-5881-4fd5-cd64-b342f7b99651"
      },
      "source": [
        "data.drop(['SEX','EDUCATION','MARRIAGE','DEFAULT'], axis = 1).describe()"
      ],
      "execution_count": 5,
      "outputs": [
        {
          "output_type": "execute_result",
          "data": {
            "text/html": [
              "<div>\n",
              "<style scoped>\n",
              "    .dataframe tbody tr th:only-of-type {\n",
              "        vertical-align: middle;\n",
              "    }\n",
              "\n",
              "    .dataframe tbody tr th {\n",
              "        vertical-align: top;\n",
              "    }\n",
              "\n",
              "    .dataframe thead th {\n",
              "        text-align: right;\n",
              "    }\n",
              "</style>\n",
              "<table border=\"1\" class=\"dataframe\">\n",
              "  <thead>\n",
              "    <tr style=\"text-align: right;\">\n",
              "      <th></th>\n",
              "      <th>LIMIT_BAL</th>\n",
              "      <th>AGE</th>\n",
              "      <th>PAY_1</th>\n",
              "      <th>PAY_2</th>\n",
              "      <th>PAY_3</th>\n",
              "      <th>PAY_4</th>\n",
              "      <th>PAY_5</th>\n",
              "      <th>PAY_6</th>\n",
              "      <th>BILL_AMT1</th>\n",
              "      <th>BILL_AMT2</th>\n",
              "      <th>BILL_AMT3</th>\n",
              "      <th>BILL_AMT4</th>\n",
              "      <th>BILL_AMT5</th>\n",
              "      <th>BILL_AMT6</th>\n",
              "      <th>PAY_AMT1</th>\n",
              "      <th>PAY_AMT2</th>\n",
              "      <th>PAY_AMT3</th>\n",
              "      <th>PAY_AMT4</th>\n",
              "      <th>PAY_AMT5</th>\n",
              "      <th>PAY_AMT6</th>\n",
              "    </tr>\n",
              "  </thead>\n",
              "  <tbody>\n",
              "    <tr>\n",
              "      <th>count</th>\n",
              "      <td>30000.000000</td>\n",
              "      <td>30000.000000</td>\n",
              "      <td>30000.000000</td>\n",
              "      <td>30000.000000</td>\n",
              "      <td>30000.000000</td>\n",
              "      <td>30000.000000</td>\n",
              "      <td>30000.000000</td>\n",
              "      <td>30000.000000</td>\n",
              "      <td>30000.000000</td>\n",
              "      <td>30000.000000</td>\n",
              "      <td>3.000000e+04</td>\n",
              "      <td>30000.000000</td>\n",
              "      <td>30000.000000</td>\n",
              "      <td>30000.000000</td>\n",
              "      <td>30000.000000</td>\n",
              "      <td>3.000000e+04</td>\n",
              "      <td>30000.00000</td>\n",
              "      <td>30000.000000</td>\n",
              "      <td>30000.000000</td>\n",
              "      <td>30000.000000</td>\n",
              "    </tr>\n",
              "    <tr>\n",
              "      <th>mean</th>\n",
              "      <td>167484.322667</td>\n",
              "      <td>35.485500</td>\n",
              "      <td>-0.016700</td>\n",
              "      <td>-0.133767</td>\n",
              "      <td>-0.166200</td>\n",
              "      <td>-0.220667</td>\n",
              "      <td>-0.266200</td>\n",
              "      <td>-0.291100</td>\n",
              "      <td>51223.330900</td>\n",
              "      <td>49179.075167</td>\n",
              "      <td>4.701315e+04</td>\n",
              "      <td>43262.948967</td>\n",
              "      <td>40311.400967</td>\n",
              "      <td>38871.760400</td>\n",
              "      <td>5663.580500</td>\n",
              "      <td>5.921163e+03</td>\n",
              "      <td>5225.68150</td>\n",
              "      <td>4826.076867</td>\n",
              "      <td>4799.387633</td>\n",
              "      <td>5215.502567</td>\n",
              "    </tr>\n",
              "    <tr>\n",
              "      <th>std</th>\n",
              "      <td>129747.661567</td>\n",
              "      <td>9.217904</td>\n",
              "      <td>1.123802</td>\n",
              "      <td>1.197186</td>\n",
              "      <td>1.196868</td>\n",
              "      <td>1.169139</td>\n",
              "      <td>1.133187</td>\n",
              "      <td>1.149988</td>\n",
              "      <td>73635.860576</td>\n",
              "      <td>71173.768783</td>\n",
              "      <td>6.934939e+04</td>\n",
              "      <td>64332.856134</td>\n",
              "      <td>60797.155770</td>\n",
              "      <td>59554.107537</td>\n",
              "      <td>16563.280354</td>\n",
              "      <td>2.304087e+04</td>\n",
              "      <td>17606.96147</td>\n",
              "      <td>15666.159744</td>\n",
              "      <td>15278.305679</td>\n",
              "      <td>17777.465775</td>\n",
              "    </tr>\n",
              "    <tr>\n",
              "      <th>min</th>\n",
              "      <td>10000.000000</td>\n",
              "      <td>21.000000</td>\n",
              "      <td>-2.000000</td>\n",
              "      <td>-2.000000</td>\n",
              "      <td>-2.000000</td>\n",
              "      <td>-2.000000</td>\n",
              "      <td>-2.000000</td>\n",
              "      <td>-2.000000</td>\n",
              "      <td>-165580.000000</td>\n",
              "      <td>-69777.000000</td>\n",
              "      <td>-1.572640e+05</td>\n",
              "      <td>-170000.000000</td>\n",
              "      <td>-81334.000000</td>\n",
              "      <td>-339603.000000</td>\n",
              "      <td>0.000000</td>\n",
              "      <td>0.000000e+00</td>\n",
              "      <td>0.00000</td>\n",
              "      <td>0.000000</td>\n",
              "      <td>0.000000</td>\n",
              "      <td>0.000000</td>\n",
              "    </tr>\n",
              "    <tr>\n",
              "      <th>25%</th>\n",
              "      <td>50000.000000</td>\n",
              "      <td>28.000000</td>\n",
              "      <td>-1.000000</td>\n",
              "      <td>-1.000000</td>\n",
              "      <td>-1.000000</td>\n",
              "      <td>-1.000000</td>\n",
              "      <td>-1.000000</td>\n",
              "      <td>-1.000000</td>\n",
              "      <td>3558.750000</td>\n",
              "      <td>2984.750000</td>\n",
              "      <td>2.666250e+03</td>\n",
              "      <td>2326.750000</td>\n",
              "      <td>1763.000000</td>\n",
              "      <td>1256.000000</td>\n",
              "      <td>1000.000000</td>\n",
              "      <td>8.330000e+02</td>\n",
              "      <td>390.00000</td>\n",
              "      <td>296.000000</td>\n",
              "      <td>252.500000</td>\n",
              "      <td>117.750000</td>\n",
              "    </tr>\n",
              "    <tr>\n",
              "      <th>50%</th>\n",
              "      <td>140000.000000</td>\n",
              "      <td>34.000000</td>\n",
              "      <td>0.000000</td>\n",
              "      <td>0.000000</td>\n",
              "      <td>0.000000</td>\n",
              "      <td>0.000000</td>\n",
              "      <td>0.000000</td>\n",
              "      <td>0.000000</td>\n",
              "      <td>22381.500000</td>\n",
              "      <td>21200.000000</td>\n",
              "      <td>2.008850e+04</td>\n",
              "      <td>19052.000000</td>\n",
              "      <td>18104.500000</td>\n",
              "      <td>17071.000000</td>\n",
              "      <td>2100.000000</td>\n",
              "      <td>2.009000e+03</td>\n",
              "      <td>1800.00000</td>\n",
              "      <td>1500.000000</td>\n",
              "      <td>1500.000000</td>\n",
              "      <td>1500.000000</td>\n",
              "    </tr>\n",
              "    <tr>\n",
              "      <th>75%</th>\n",
              "      <td>240000.000000</td>\n",
              "      <td>41.000000</td>\n",
              "      <td>0.000000</td>\n",
              "      <td>0.000000</td>\n",
              "      <td>0.000000</td>\n",
              "      <td>0.000000</td>\n",
              "      <td>0.000000</td>\n",
              "      <td>0.000000</td>\n",
              "      <td>67091.000000</td>\n",
              "      <td>64006.250000</td>\n",
              "      <td>6.016475e+04</td>\n",
              "      <td>54506.000000</td>\n",
              "      <td>50190.500000</td>\n",
              "      <td>49198.250000</td>\n",
              "      <td>5006.000000</td>\n",
              "      <td>5.000000e+03</td>\n",
              "      <td>4505.00000</td>\n",
              "      <td>4013.250000</td>\n",
              "      <td>4031.500000</td>\n",
              "      <td>4000.000000</td>\n",
              "    </tr>\n",
              "    <tr>\n",
              "      <th>max</th>\n",
              "      <td>1000000.000000</td>\n",
              "      <td>79.000000</td>\n",
              "      <td>8.000000</td>\n",
              "      <td>8.000000</td>\n",
              "      <td>8.000000</td>\n",
              "      <td>8.000000</td>\n",
              "      <td>8.000000</td>\n",
              "      <td>8.000000</td>\n",
              "      <td>964511.000000</td>\n",
              "      <td>983931.000000</td>\n",
              "      <td>1.664089e+06</td>\n",
              "      <td>891586.000000</td>\n",
              "      <td>927171.000000</td>\n",
              "      <td>961664.000000</td>\n",
              "      <td>873552.000000</td>\n",
              "      <td>1.684259e+06</td>\n",
              "      <td>896040.00000</td>\n",
              "      <td>621000.000000</td>\n",
              "      <td>426529.000000</td>\n",
              "      <td>528666.000000</td>\n",
              "    </tr>\n",
              "  </tbody>\n",
              "</table>\n",
              "</div>"
            ],
            "text/plain": [
              "            LIMIT_BAL           AGE  ...       PAY_AMT5       PAY_AMT6\n",
              "count    30000.000000  30000.000000  ...   30000.000000   30000.000000\n",
              "mean    167484.322667     35.485500  ...    4799.387633    5215.502567\n",
              "std     129747.661567      9.217904  ...   15278.305679   17777.465775\n",
              "min      10000.000000     21.000000  ...       0.000000       0.000000\n",
              "25%      50000.000000     28.000000  ...     252.500000     117.750000\n",
              "50%     140000.000000     34.000000  ...    1500.000000    1500.000000\n",
              "75%     240000.000000     41.000000  ...    4031.500000    4000.000000\n",
              "max    1000000.000000     79.000000  ...  426529.000000  528666.000000\n",
              "\n",
              "[8 rows x 20 columns]"
            ]
          },
          "metadata": {
            "tags": []
          },
          "execution_count": 5
        }
      ]
    },
    {
      "cell_type": "markdown",
      "metadata": {
        "id": "e8O8AuRyaPoR"
      },
      "source": [
        "VALORES ATÍPICOS"
      ]
    },
    {
      "cell_type": "markdown",
      "metadata": {
        "id": "c2qGIL5naTXa"
      },
      "source": [
        "Para analizar los valores atípicos utilizamos el diagrama de cajas. Cabe precisar que los valores atípicos son aquellos que son mayores al bigote superior o menor al bigote inferior del diagrama de cajas"
      ]
    },
    {
      "cell_type": "code",
      "metadata": {
        "colab": {
          "base_uri": "https://localhost:8080/",
          "height": 506
        },
        "id": "4tO4V5L5aZpI",
        "outputId": "381ccbe9-a428-4c67-e9aa-3029e5a4abc5"
      },
      "source": [
        "import matplotlib.pyplot as plt\r\n",
        "\r\n",
        "fig, axes = plt.subplots(1,1, figsize = (30,10)) # creacion de figuras y\r\n",
        "bp3 = data.iloc[:,0:1].boxplot(boxprops = dict(color = 'royalblue', linewidth = 2),\r\n",
        "                             medianprops = dict(color = 'forestgreen', linewidth = 2),\r\n",
        "                             whiskerprops = dict(color = 'royalblue', linewidth = 2),\r\n",
        "                             capprops = dict(color = 'royalblue', linewidth = 2),\r\n",
        "                             flierprops = dict(marker = 'x'),\r\n",
        "                             grid = False)\r\n",
        "bp3.set_title('Monto del credito otorgado', fontsize = 18)\r\n",
        "bp3.set_ylabel('Dolares', fontsize = 15)\r\n",
        "bp3.tick_params(axis='both', labelsize=13.5)\r\n",
        "bp3.grid(axis='y', linestyle='--')"
      ],
      "execution_count": 6,
      "outputs": [
        {
          "output_type": "display_data",
          "data": {
            "image/png": "[encoded data removed]",
            "text/plain": [
              "<Figure size 2160x720 with 1 Axes>"
            ]
          },
          "metadata": {
            "tags": [],
            "needs_background": "light"
          }
        }
      ]
    },
    {
      "cell_type": "code",
      "metadata": {
        "colab": {
          "base_uri": "https://localhost:8080/",
          "height": 500
        },
        "id": "PeO-NcS7aaxI",
        "outputId": "983c6d5d-f2e4-4074-f1cb-9aa934dd988f"
      },
      "source": [
        "fig, axes = plt.subplots(1,2, figsize = (30,10)) # create figure and axes\r\n",
        "bp1 = data.iloc[:,11:17].boxplot(boxprops = dict(color = 'royalblue', linewidth = 2),\r\n",
        "                             medianprops = dict(color = 'forestgreen', linewidth = 2),\r\n",
        "                             whiskerprops = dict(color = 'royalblue', linewidth = 2),\r\n",
        "                             capprops = dict(color = 'royalblue', linewidth = 2),\r\n",
        "                             flierprops = dict(marker = 'x'),\r\n",
        "                             grid = False,\r\n",
        "                             ax = axes.flatten()[0])\r\n",
        "bp1.set_title('Monto del extracto de la factura', fontsize = 18)\r\n",
        "bp1.set_ylabel('Dolares', fontsize = 15)\r\n",
        "bp1.tick_params(axis='both', labelsize=13.5)\r\n",
        "bp1.grid(axis='y', linestyle='--')\r\n",
        "\r\n",
        "bp2 = data.iloc[:,17:23].boxplot(boxprops = dict(color = 'royalblue', linewidth = 2),\r\n",
        "                             medianprops = dict(color = 'forestgreen', linewidth = 2),\r\n",
        "                             whiskerprops = dict(color = 'royalblue', linewidth = 2),\r\n",
        "                             capprops = dict(color = 'royalblue', linewidth = 2),\r\n",
        "                             flierprops = dict(marker = 'x'),\r\n",
        "                             grid = False,\r\n",
        "                             ax = axes.flatten()[1])\r\n",
        "bp2.set_title('Monto del pago anterior', fontsize = 18)\r\n",
        "bp2.set_ylabel('Dolares', fontsize = 15)\r\n",
        "bp2.tick_params(axis='both', labelsize=13.5)\r\n",
        "bp2.grid(axis='y', linestyle='--')"
      ],
      "execution_count": 7,
      "outputs": [
        {
          "output_type": "display_data",
          "data": {
            "image/png": "[encoded data removed]",
            "text/plain": [
              "<Figure size 2160x720 with 2 Axes>"
            ]
          },
          "metadata": {
            "tags": [],
            "needs_background": "light"
          }
        }
      ]
    },
    {
      "cell_type": "markdown",
      "metadata": {
        "id": "Prxdn5kCapem"
      },
      "source": [
        "Para hallar el bogote superior e inferior es necesario primero hallar el rango intercuartico que esta dado por:"
      ]
    },
    {
      "cell_type": "code",
      "metadata": {
        "id": "8qx_nfmxaveP"
      },
      "source": [
        "def IQR(dist):\r\n",
        "       return np.percentile(dist, 75) - np.percentile(dist, 25)"
      ],
      "execution_count": 8,
      "outputs": []
    },
    {
      "cell_type": "markdown",
      "metadata": {
        "id": "-LVRtdTraxSQ"
      },
      "source": [
        "Calcular la cantidad de valores atipicos por columnas de :\r\n",
        "\r\n",
        "PAY_AMT1"
      ]
    },
    {
      "cell_type": "code",
      "metadata": {
        "colab": {
          "base_uri": "https://localhost:8080/"
        },
        "id": "hFS_OngQa5Hj",
        "outputId": "1da4bf91-5adb-4ba0-8483-e85f0962ee91"
      },
      "source": [
        "p_m1=np.percentile(IQR(data['PAY_AMT1']), 75) + 1.5*IQR(data['PAY_AMT1'])\r\n",
        "mayor=data['PAY_AMT1']>p_m1\r\n",
        "data[mayor].shape[0]"
      ],
      "execution_count": 9,
      "outputs": [
        {
          "output_type": "execute_result",
          "data": {
            "text/plain": [
              "3187"
            ]
          },
          "metadata": {
            "tags": []
          },
          "execution_count": 9
        }
      ]
    },
    {
      "cell_type": "markdown",
      "metadata": {
        "id": "7-4rgPSlbM4j"
      },
      "source": [
        "Se calcula para las columnas PAY_AMT1,PAY_AMT2, PAY_AMT3, PAY_AMT4, PAY_AMT5 , PAY_AMT6 "
      ]
    },
    {
      "cell_type": "code",
      "metadata": {
        "colab": {
          "base_uri": "https://localhost:8080/"
        },
        "id": "6yH0eq9nbg1v",
        "outputId": "9f65dc6b-dff0-4d5b-e0cc-06813d1dbd02"
      },
      "source": [
        "lis=[]\r\n",
        "i=0\r\n",
        "pay_lis={'PAY_AMT1':0 ,'PAY_AMT2':0 ,'PAY_AMT3':0 ,'PAY_AMT4': 0,'PAY_AMT5':0 ,'PAY_AMT6':0  }\r\n",
        "for n in range(17,23):\r\n",
        "  p_m=np.percentile(IQR(data.iloc[:,n]), 75) + 1.5*IQR(data.iloc[:,n])\r\n",
        "  mayor=data.iloc[:,n]>p_m\r\n",
        "  tam=data[mayor].shape[0]\r\n",
        "  lis.append(tam)\r\n",
        "\r\n",
        "for m in pay_lis:\r\n",
        "  pay_lis[m]+=lis[i]\r\n",
        "  i+=1\r\n",
        "pay_lis\r\n"
      ],
      "execution_count": 10,
      "outputs": [
        {
          "output_type": "execute_result",
          "data": {
            "text/plain": [
              "{'PAY_AMT1': 3187,\n",
              " 'PAY_AMT2': 2997,\n",
              " 'PAY_AMT3': 2701,\n",
              " 'PAY_AMT4': 3070,\n",
              " 'PAY_AMT5': 3020,\n",
              " 'PAY_AMT6': 2977}"
            ]
          },
          "metadata": {
            "tags": []
          },
          "execution_count": 10
        }
      ]
    },
    {
      "cell_type": "markdown",
      "metadata": {
        "id": "PWx64WF1blQx"
      },
      "source": [
        "Como se puede observar existen valores atipicos en las columnas correspondientes al monto del pago anterior"
      ]
    },
    {
      "cell_type": "markdown",
      "metadata": {
        "id": "FRJ3axVDtS6W"
      },
      "source": [
        "Descripción de la variable Edad"
      ]
    },
    {
      "cell_type": "markdown",
      "metadata": {
        "id": "G2muXnBzt_9A"
      },
      "source": [
        "Se muestra un histograma que muestra la distribución de la población con respecto la variable `AGE` (edad)."
      ]
    },
    {
      "cell_type": "code",
      "metadata": {
        "id": "1zx0c-KSHwWG",
        "colab": {
          "base_uri": "https://localhost:8080/",
          "height": 281
        },
        "outputId": "9c4ffbd7-d4ab-4255-9d79-35813fb580ca"
      },
      "source": [
        "data.AGE.plot.hist(bins = 12, alpha=0.5)\r\n",
        "plt.title('Histograma de edad de la población')\r\n",
        "plt.legend()\r\n",
        "plt.show()"
      ],
      "execution_count": 11,
      "outputs": [
        {
          "output_type": "display_data",
          "data": {
            "image/png": "[encoded data removed]",
            "text/plain": [
              "<Figure size 432x288 with 1 Axes>"
            ]
          },
          "metadata": {
            "tags": [],
            "needs_background": "light"
          }
        }
      ]
    },
    {
      "cell_type": "markdown",
      "metadata": {
        "id": "E9j8q6CdP8Bb"
      },
      "source": [
        "Para las variables categóricas mostramos la cantidad de registros por cada categoría y el porcentaje que representan del total"
      ]
    },
    {
      "cell_type": "markdown",
      "metadata": {
        "id": "_J4cSVgXFmrD"
      },
      "source": [
        "Descripción de la variable Sexo"
      ]
    },
    {
      "cell_type": "markdown",
      "metadata": {
        "id": "A8BL1haJFxvO"
      },
      "source": [
        "Se muestra una grafica de barras que muestra la distribucion de la población respecto a la variable `SEX` (sexo), donde:\r\n",
        "*   1 = Male\r\n",
        "*   2 = Female"
      ]
    },
    {
      "cell_type": "code",
      "metadata": {
        "colab": {
          "base_uri": "https://localhost:8080/",
          "height": 106
        },
        "id": "Mp2-T97gRefz",
        "outputId": "bbe980a3-d6a6-4a9a-e196-28d4928ec1b4"
      },
      "source": [
        "enc = {1:'male', 2:'female'}\r\n",
        "c = data.SEX.replace(enc).value_counts()\r\n",
        "p = data.SEX.replace(enc).value_counts(normalize = True) * 100\r\n",
        "pd.concat([c,p], axis=1, keys=['# registros', '% del total'])"
      ],
      "execution_count": 12,
      "outputs": [
        {
          "output_type": "execute_result",
          "data": {
            "text/html": [
              "<div>\n",
              "<style scoped>\n",
              "    .dataframe tbody tr th:only-of-type {\n",
              "        vertical-align: middle;\n",
              "    }\n",
              "\n",
              "    .dataframe tbody tr th {\n",
              "        vertical-align: top;\n",
              "    }\n",
              "\n",
              "    .dataframe thead th {\n",
              "        text-align: right;\n",
              "    }\n",
              "</style>\n",
              "<table border=\"1\" class=\"dataframe\">\n",
              "  <thead>\n",
              "    <tr style=\"text-align: right;\">\n",
              "      <th></th>\n",
              "      <th># registros</th>\n",
              "      <th>% del total</th>\n",
              "    </tr>\n",
              "  </thead>\n",
              "  <tbody>\n",
              "    <tr>\n",
              "      <th>female</th>\n",
              "      <td>18112</td>\n",
              "      <td>60.373333</td>\n",
              "    </tr>\n",
              "    <tr>\n",
              "      <th>male</th>\n",
              "      <td>11888</td>\n",
              "      <td>39.626667</td>\n",
              "    </tr>\n",
              "  </tbody>\n",
              "</table>\n",
              "</div>"
            ],
            "text/plain": [
              "        # registros  % del total\n",
              "female        18112    60.373333\n",
              "male          11888    39.626667"
            ]
          },
          "metadata": {
            "tags": []
          },
          "execution_count": 12
        }
      ]
    },
    {
      "cell_type": "code",
      "metadata": {
        "colab": {
          "base_uri": "https://localhost:8080/",
          "height": 306
        },
        "id": "nw7tdqtI_d_H",
        "outputId": "c52986cf-76a3-4767-ac47-134af1c081e6"
      },
      "source": [
        "data.SEX.replace(enc).value_counts().plot(kind='bar',alpha=0.5)\r\n",
        "plt.title('Género de la población')\r\n",
        "plt.legend()\r\n",
        "plt.show()"
      ],
      "execution_count": 13,
      "outputs": [
        {
          "output_type": "display_data",
          "data": {
            "image/png": "[encoded data removed]",
            "text/plain": [
              "<Figure size 432x288 with 1 Axes>"
            ]
          },
          "metadata": {
            "tags": [],
            "needs_background": "light"
          }
        }
      ]
    },
    {
      "cell_type": "markdown",
      "metadata": {
        "id": "PRj2rJjdIsrT"
      },
      "source": [
        "Descripción de la variable Educación"
      ]
    },
    {
      "cell_type": "markdown",
      "metadata": {
        "id": "hUfvv4esG6D3"
      },
      "source": [
        "Se muestra una grafica de barras que muestra la distribucion de la población respecto a la variable `EDUCATION` (nivel educativo), donde:\r\n",
        "\r\n",
        "*   1 = graduate school\r\n",
        "*   2 = university\r\n",
        "*   3 = high school\r\n",
        "*   4 = others\r\n"
      ]
    },
    {
      "cell_type": "code",
      "metadata": {
        "id": "qDha9ZnRM6ch",
        "colab": {
          "base_uri": "https://localhost:8080/",
          "height": 166
        },
        "outputId": "90190654-051d-4b82-e5b9-ced701a33a59"
      },
      "source": [
        "enc = {1:'graduate school', 2:'university', 3:'high school', 4:'others', 5:'others', 6:'others', 0:'others'}\r\n",
        "c = data.EDUCATION.replace(enc).value_counts()\r\n",
        "p = data.EDUCATION.replace(enc).value_counts(normalize = True) * 100\r\n",
        "pd.concat([c,p], axis=1, keys=['# registros', '% del total'])"
      ],
      "execution_count": 14,
      "outputs": [
        {
          "output_type": "execute_result",
          "data": {
            "text/html": [
              "<div>\n",
              "<style scoped>\n",
              "    .dataframe tbody tr th:only-of-type {\n",
              "        vertical-align: middle;\n",
              "    }\n",
              "\n",
              "    .dataframe tbody tr th {\n",
              "        vertical-align: top;\n",
              "    }\n",
              "\n",
              "    .dataframe thead th {\n",
              "        text-align: right;\n",
              "    }\n",
              "</style>\n",
              "<table border=\"1\" class=\"dataframe\">\n",
              "  <thead>\n",
              "    <tr style=\"text-align: right;\">\n",
              "      <th></th>\n",
              "      <th># registros</th>\n",
              "      <th>% del total</th>\n",
              "    </tr>\n",
              "  </thead>\n",
              "  <tbody>\n",
              "    <tr>\n",
              "      <th>university</th>\n",
              "      <td>14030</td>\n",
              "      <td>46.766667</td>\n",
              "    </tr>\n",
              "    <tr>\n",
              "      <th>graduate school</th>\n",
              "      <td>10585</td>\n",
              "      <td>35.283333</td>\n",
              "    </tr>\n",
              "    <tr>\n",
              "      <th>high school</th>\n",
              "      <td>4917</td>\n",
              "      <td>16.390000</td>\n",
              "    </tr>\n",
              "    <tr>\n",
              "      <th>others</th>\n",
              "      <td>468</td>\n",
              "      <td>1.560000</td>\n",
              "    </tr>\n",
              "  </tbody>\n",
              "</table>\n",
              "</div>"
            ],
            "text/plain": [
              "                 # registros  % del total\n",
              "university             14030    46.766667\n",
              "graduate school        10585    35.283333\n",
              "high school             4917    16.390000\n",
              "others                   468     1.560000"
            ]
          },
          "metadata": {
            "tags": []
          },
          "execution_count": 14
        }
      ]
    },
    {
      "cell_type": "code",
      "metadata": {
        "colab": {
          "base_uri": "https://localhost:8080/",
          "height": 352
        },
        "id": "uVUQ7SjgG-yt",
        "outputId": "5bbbac2f-9744-4dd0-ff8c-8f1dc2d29d22"
      },
      "source": [
        "data.EDUCATION.replace(enc).value_counts().plot(kind = 'bar',alpha=0.5)\r\n",
        "plt.title('Educación')\r\n",
        "plt.legend()\r\n",
        "plt.show()"
      ],
      "execution_count": 15,
      "outputs": [
        {
          "output_type": "display_data",
          "data": {
            "image/png": "[encoded data removed]",
            "text/plain": [
              "<Figure size 432x288 with 1 Axes>"
            ]
          },
          "metadata": {
            "tags": [],
            "needs_background": "light"
          }
        }
      ]
    },
    {
      "cell_type": "markdown",
      "metadata": {
        "id": "R6wyAFHgTOVd"
      },
      "source": [
        "Descripción de la variable Marriage"
      ]
    },
    {
      "cell_type": "markdown",
      "metadata": {
        "id": "cHzMHoZ8I4pL"
      },
      "source": [
        "Se muestra una grafica de barras que muestra la distribucion de la población respecto a la variable `MARRIAGE` (estado civil), donde:\r\n",
        "*   1 = married\r\n",
        "*   2 = single\r\n",
        "*   3 = others\r\n"
      ]
    },
    {
      "cell_type": "code",
      "metadata": {
        "id": "qIF4HGruPvAG",
        "colab": {
          "base_uri": "https://localhost:8080/",
          "height": 136
        },
        "outputId": "8aa2914d-a665-4edd-a2cb-729077e5181a"
      },
      "source": [
        "enc = {1:'married', 2:'single', 3:'others', 0:'others'}\r\n",
        "c = data.MARRIAGE.replace(enc).value_counts()\r\n",
        "p = data.MARRIAGE.replace(enc).value_counts(normalize = True) * 100\r\n",
        "pd.concat([c,p], axis=1, keys=['# registros', '% del total'])"
      ],
      "execution_count": 16,
      "outputs": [
        {
          "output_type": "execute_result",
          "data": {
            "text/html": [
              "<div>\n",
              "<style scoped>\n",
              "    .dataframe tbody tr th:only-of-type {\n",
              "        vertical-align: middle;\n",
              "    }\n",
              "\n",
              "    .dataframe tbody tr th {\n",
              "        vertical-align: top;\n",
              "    }\n",
              "\n",
              "    .dataframe thead th {\n",
              "        text-align: right;\n",
              "    }\n",
              "</style>\n",
              "<table border=\"1\" class=\"dataframe\">\n",
              "  <thead>\n",
              "    <tr style=\"text-align: right;\">\n",
              "      <th></th>\n",
              "      <th># registros</th>\n",
              "      <th>% del total</th>\n",
              "    </tr>\n",
              "  </thead>\n",
              "  <tbody>\n",
              "    <tr>\n",
              "      <th>single</th>\n",
              "      <td>15964</td>\n",
              "      <td>53.213333</td>\n",
              "    </tr>\n",
              "    <tr>\n",
              "      <th>married</th>\n",
              "      <td>13659</td>\n",
              "      <td>45.530000</td>\n",
              "    </tr>\n",
              "    <tr>\n",
              "      <th>others</th>\n",
              "      <td>377</td>\n",
              "      <td>1.256667</td>\n",
              "    </tr>\n",
              "  </tbody>\n",
              "</table>\n",
              "</div>"
            ],
            "text/plain": [
              "         # registros  % del total\n",
              "single         15964    53.213333\n",
              "married        13659    45.530000\n",
              "others           377     1.256667"
            ]
          },
          "metadata": {
            "tags": []
          },
          "execution_count": 16
        }
      ]
    },
    {
      "cell_type": "code",
      "metadata": {
        "id": "yybpKKlSSu6-",
        "colab": {
          "base_uri": "https://localhost:8080/",
          "height": 281
        },
        "outputId": "390a449b-c043-456d-f8d6-19a737a2ee61"
      },
      "source": [
        "data.MARRIAGE.replace(enc).value_counts().plot(kind='barh',alpha=0.5)\r\n",
        "plt.title('Marriage')\r\n",
        "plt.legend()\r\n",
        "plt.show()"
      ],
      "execution_count": 17,
      "outputs": [
        {
          "output_type": "display_data",
          "data": {
            "image/png": "[encoded data removed]",
            "text/plain": [
              "<Figure size 432x288 with 1 Axes>"
            ]
          },
          "metadata": {
            "tags": [],
            "needs_background": "light"
          }
        }
      ]
    },
    {
      "cell_type": "markdown",
      "metadata": {
        "id": "4EaI8YC5KknE"
      },
      "source": [
        "#Modelamiento"
      ]
    },
    {
      "cell_type": "markdown",
      "metadata": {
        "id": "R5mvYgzaUNv0"
      },
      "source": [
        "##Preprocesamiento de la data"
      ]
    },
    {
      "cell_type": "markdown",
      "metadata": {
        "id": "qc-PHuFv505U"
      },
      "source": [
        "[De acuerdo al autor del dataset](https://www.kaggle.com/uciml/default-of-credit-card-clients-dataset/discussion/34608), en el caso de la variable `EDUCATION` se debe considerar a los valores 0, 4, 5 y 6 como de la clase `others`."
      ]
    },
    {
      "cell_type": "code",
      "metadata": {
        "id": "7luTvH9WUNaK"
      },
      "source": [
        "enc = {4:0, 5:0, 6:0}\r\n",
        "data.EDUCATION.replace(enc, inplace = True)"
      ],
      "execution_count": 18,
      "outputs": []
    },
    {
      "cell_type": "markdown",
      "metadata": {
        "id": "K-aMB3p6HjYe"
      },
      "source": [
        "De igual manera para la variable `MARRIAGE` a los valores 0 y 3."
      ]
    },
    {
      "cell_type": "code",
      "metadata": {
        "id": "Gcdpkm6oHuzT"
      },
      "source": [
        "enc = {3:0}\r\n",
        "data.MARRIAGE.replace(enc, inplace = True)"
      ],
      "execution_count": 19,
      "outputs": []
    },
    {
      "cell_type": "markdown",
      "metadata": {
        "id": "U4NufcUslCmD"
      },
      "source": [
        "También creamos variables dummy para las categóricas\r\n",
        "\r\n"
      ]
    },
    {
      "cell_type": "code",
      "metadata": {
        "id": "3EfRtSq3lDGJ"
      },
      "source": [
        "data = pd.get_dummies(data, columns = ['SEX','MARRIAGE'], drop_first = True)"
      ],
      "execution_count": 20,
      "outputs": []
    },
    {
      "cell_type": "markdown",
      "metadata": {
        "id": "TAEF_teOLz-0"
      },
      "source": [
        "Separamos entre train y test. La separación se ha realizado en un 10% para test y el 90% restante para train."
      ]
    },
    {
      "cell_type": "code",
      "metadata": {
        "id": "liD1ElZgXOvB"
      },
      "source": [
        "from sklearn.model_selection import train_test_split\r\n",
        "\r\n",
        "X = data.drop('DEFAULT', axis = 1)\r\n",
        "y = data['DEFAULT']\r\n",
        "\r\n",
        "X_train, X_test, y_train, y_test = train_test_split(X, y, test_size = 0.2)"
      ],
      "execution_count": 21,
      "outputs": []
    },
    {
      "cell_type": "markdown",
      "metadata": {
        "id": "WaVIpIg3b8qN"
      },
      "source": [
        "Proporción de la variable a predecir para ambas particiones "
      ]
    },
    {
      "cell_type": "markdown",
      "metadata": {
        "id": "r6W722K1cD6j"
      },
      "source": [
        "Train"
      ]
    },
    {
      "cell_type": "code",
      "metadata": {
        "colab": {
          "base_uri": "https://localhost:8080/",
          "height": 106
        },
        "id": "EwQ10ApCb9zj",
        "outputId": "c95bdbc7-4a34-4e35-f8b1-a92be2e1e568"
      },
      "source": [
        "enc = {0:'NO DEFAULT', 1:'DEFAULT'}\r\n",
        "a= y_train.replace(enc).value_counts()\r\n",
        "b= y_train.replace(enc).value_counts(normalize=True)*100\r\n",
        "pd.concat([a,b], axis=1, keys=['# registros', '% del total'])"
      ],
      "execution_count": 22,
      "outputs": [
        {
          "output_type": "execute_result",
          "data": {
            "text/html": [
              "<div>\n",
              "<style scoped>\n",
              "    .dataframe tbody tr th:only-of-type {\n",
              "        vertical-align: middle;\n",
              "    }\n",
              "\n",
              "    .dataframe tbody tr th {\n",
              "        vertical-align: top;\n",
              "    }\n",
              "\n",
              "    .dataframe thead th {\n",
              "        text-align: right;\n",
              "    }\n",
              "</style>\n",
              "<table border=\"1\" class=\"dataframe\">\n",
              "  <thead>\n",
              "    <tr style=\"text-align: right;\">\n",
              "      <th></th>\n",
              "      <th># registros</th>\n",
              "      <th>% del total</th>\n",
              "    </tr>\n",
              "  </thead>\n",
              "  <tbody>\n",
              "    <tr>\n",
              "      <th>NO DEFAULT</th>\n",
              "      <td>18689</td>\n",
              "      <td>77.870833</td>\n",
              "    </tr>\n",
              "    <tr>\n",
              "      <th>DEFAULT</th>\n",
              "      <td>5311</td>\n",
              "      <td>22.129167</td>\n",
              "    </tr>\n",
              "  </tbody>\n",
              "</table>\n",
              "</div>"
            ],
            "text/plain": [
              "            # registros  % del total\n",
              "NO DEFAULT        18689    77.870833\n",
              "DEFAULT            5311    22.129167"
            ]
          },
          "metadata": {
            "tags": []
          },
          "execution_count": 22
        }
      ]
    },
    {
      "cell_type": "markdown",
      "metadata": {
        "id": "Nu9bPZWlcFpV"
      },
      "source": [
        "Test"
      ]
    },
    {
      "cell_type": "code",
      "metadata": {
        "colab": {
          "base_uri": "https://localhost:8080/",
          "height": 106
        },
        "id": "7-galomNcHh_",
        "outputId": "335b48d0-e72c-4197-98b8-249d9b121698"
      },
      "source": [
        "enc = {0:'NO DEFAULT', 1:'DEFAULT'}\r\n",
        "c= y_test.replace(enc).value_counts()\r\n",
        "d= y_test.replace(enc).value_counts(normalize=True)*100\r\n",
        "pd.concat([c,d], axis=1, keys=['# registros', '% del total'])"
      ],
      "execution_count": 23,
      "outputs": [
        {
          "output_type": "execute_result",
          "data": {
            "text/html": [
              "<div>\n",
              "<style scoped>\n",
              "    .dataframe tbody tr th:only-of-type {\n",
              "        vertical-align: middle;\n",
              "    }\n",
              "\n",
              "    .dataframe tbody tr th {\n",
              "        vertical-align: top;\n",
              "    }\n",
              "\n",
              "    .dataframe thead th {\n",
              "        text-align: right;\n",
              "    }\n",
              "</style>\n",
              "<table border=\"1\" class=\"dataframe\">\n",
              "  <thead>\n",
              "    <tr style=\"text-align: right;\">\n",
              "      <th></th>\n",
              "      <th># registros</th>\n",
              "      <th>% del total</th>\n",
              "    </tr>\n",
              "  </thead>\n",
              "  <tbody>\n",
              "    <tr>\n",
              "      <th>NO DEFAULT</th>\n",
              "      <td>4675</td>\n",
              "      <td>77.916667</td>\n",
              "    </tr>\n",
              "    <tr>\n",
              "      <th>DEFAULT</th>\n",
              "      <td>1325</td>\n",
              "      <td>22.083333</td>\n",
              "    </tr>\n",
              "  </tbody>\n",
              "</table>\n",
              "</div>"
            ],
            "text/plain": [
              "            # registros  % del total\n",
              "NO DEFAULT         4675    77.916667\n",
              "DEFAULT            1325    22.083333"
            ]
          },
          "metadata": {
            "tags": []
          },
          "execution_count": 23
        }
      ]
    },
    {
      "cell_type": "markdown",
      "metadata": {
        "id": "drclw271cOdc"
      },
      "source": [
        "La proporción de los dos grupos de la variable a predecir es muy similar en ambas particiones."
      ]
    },
    {
      "cell_type": "markdown",
      "metadata": {
        "id": "VKY2Tj-GKDa_"
      },
      "source": [
        "##Algoritmo Random Forests"
      ]
    },
    {
      "cell_type": "markdown",
      "metadata": {
        "id": "UGqvLexXKve4"
      },
      "source": [
        "El primer clasificador que entrenamos es el Random Forests. A continuación creamos una nueva instancia de este clasificador y mostramos su performance con los hiperparámetros con valores por defecto. "
      ]
    },
    {
      "cell_type": "code",
      "metadata": {
        "id": "pRqLSmtzxMP-",
        "colab": {
          "base_uri": "https://localhost:8080/"
        },
        "outputId": "0b00a0b7-3228-4b9f-ff61-77ae246e3404"
      },
      "source": [
        "nombre_gpu = tf.test.gpu_device_name()\r\n",
        "if nombre_gpu != '/device:GPU:0':\r\n",
        "  raise SystemError('GPU no encontrada')\r\n",
        "print('GPU encontrada: {}'.format(nombre_gpu))"
      ],
      "execution_count": 24,
      "outputs": [
        {
          "output_type": "stream",
          "text": [
            "GPU encontrada: /device:GPU:0\n"
          ],
          "name": "stdout"
        }
      ]
    },
    {
      "cell_type": "code",
      "metadata": {
        "id": "Z-88p_xjKUnL",
        "colab": {
          "base_uri": "https://localhost:8080/"
        },
        "outputId": "ef8ccf18-4f38-46bb-8eab-40945be34a13"
      },
      "source": [
        "from sklearn.ensemble import RandomForestClassifier\r\n",
        "from sklearn.model_selection import StratifiedKFold, cross_validate\r\n",
        "\r\n",
        "d_rfc = RandomForestClassifier(n_jobs = -1)\r\n",
        "skf = StratifiedKFold(n_splits = 10)\r\n",
        "with tf.device('/device:GPU:0'):\r\n",
        "    d_rfc_res = cross_validate(d_rfc, X_train, y_train, cv = skf, return_train_score = True, scoring = ['accuracy','f1','roc_auc'], n_jobs = -1)\r\n",
        "print('Los valores por defecto de los hiperparámetros del algoritmo RF son:')\r\n",
        "d_rfc.get_params()"
      ],
      "execution_count": 25,
      "outputs": [
        {
          "output_type": "stream",
          "text": [
            "Los valores por defecto de los hiperparámetros del algoritmo RF son:\n"
          ],
          "name": "stdout"
        },
        {
          "output_type": "execute_result",
          "data": {
            "text/plain": [
              "{'bootstrap': True,\n",
              " 'ccp_alpha': 0.0,\n",
              " 'class_weight': None,\n",
              " 'criterion': 'gini',\n",
              " 'max_depth': None,\n",
              " 'max_features': 'auto',\n",
              " 'max_leaf_nodes': None,\n",
              " 'max_samples': None,\n",
              " 'min_impurity_decrease': 0.0,\n",
              " 'min_impurity_split': None,\n",
              " 'min_samples_leaf': 1,\n",
              " 'min_samples_split': 2,\n",
              " 'min_weight_fraction_leaf': 0.0,\n",
              " 'n_estimators': 100,\n",
              " 'n_jobs': -1,\n",
              " 'oob_score': False,\n",
              " 'random_state': None,\n",
              " 'verbose': 0,\n",
              " 'warm_start': False}"
            ]
          },
          "metadata": {
            "tags": []
          },
          "execution_count": 25
        }
      ]
    },
    {
      "cell_type": "markdown",
      "metadata": {
        "id": "iiWaymqc0oMC"
      },
      "source": [
        "Y obtuvimos los siguientes resultados del área bajo la curva ROC:"
      ]
    },
    {
      "cell_type": "code",
      "metadata": {
        "id": "n8w0uuFO0nY0",
        "colab": {
          "base_uri": "https://localhost:8080/"
        },
        "outputId": "0c309b4f-9085-4570-cdd5-df000e42d5b0"
      },
      "source": [
        "print('El área bajo la curva ROC promedio en el conjunto de train de la validación cruzada fue de {}'.format(np.mean(d_rfc_res['train_roc_auc'])))\r\n",
        "print('El área bajo la curva ROC promedio en el conjunto de test de la validación cruzada fue de {}'.format(np.mean(d_rfc_res['test_roc_auc'])))"
      ],
      "execution_count": 26,
      "outputs": [
        {
          "output_type": "stream",
          "text": [
            "El área bajo la curva ROC promedio en el conjunto de train de la validación cruzada fue de 0.9999975895153751\n",
            "El área bajo la curva ROC promedio en el conjunto de test de la validación cruzada fue de 0.7623077498012398\n"
          ],
          "name": "stdout"
        }
      ]
    },
    {
      "cell_type": "markdown",
      "metadata": {
        "id": "fKGeRvR5TXGK"
      },
      "source": [
        "Notamos que obtuvimos un valor muy alto con el conjunto de entrenamiento, pero en la evaluación salió muy bajo, esto es un claro indicador de que el modelo tiene un sesgo muy alto (overfitting). "
      ]
    },
    {
      "cell_type": "markdown",
      "metadata": {
        "id": "cdKrNFKryz_1"
      },
      "source": [
        "Antes de empezar la búsqueda aleatoria de los mejores hiperparámetros, revisamos a partir de qué cantidad de árboles la métricas dejan de mejorar, con ese valor fijamos a `n_estimators` y ahorramos tiempo de procesamiento."
      ]
    },
    {
      "cell_type": "code",
      "metadata": {
        "id": "ozqUbEfjzfZN"
      },
      "source": [
        "lista_q_arboles = np.around(np.linspace(2, 500, 10, endpoint = True)).astype(int)\r\n",
        "\r\n",
        "train_accuracy = []\r\n",
        "test_accuracy = []\r\n",
        "train_f1 = []\r\n",
        "test_f1 = []\r\n",
        "train_roc_auc = []\r\n",
        "test_roc_auc = []\r\n",
        "with tf.device('/device:GPU:0'):\r\n",
        "    for q_arboles in lista_q_arboles:\r\n",
        "        i_rfc = RandomForestClassifier(n_estimators = q_arboles, random_state = 42, n_jobs = -1)\r\n",
        "        i_rfc_res = cross_validate(i_rfc, X, y, cv = skf, return_train_score = True, scoring = ['accuracy','f1','roc_auc'], n_jobs = -1)\r\n",
        "        train_accuracy.append(np.mean(i_rfc_res['train_accuracy']))\r\n",
        "        test_accuracy.append(np.mean(i_rfc_res['test_accuracy']))\r\n",
        "        train_f1.append(np.mean(i_rfc_res['train_f1'])) \r\n",
        "        test_f1.append(np.mean(i_rfc_res['test_f1']))\r\n",
        "        train_roc_auc.append(np.mean(i_rfc_res['train_roc_auc'])) \r\n",
        "        test_roc_auc.append(np.mean(i_rfc_res['test_roc_auc']))"
      ],
      "execution_count": null,
      "outputs": []
    },
    {
      "cell_type": "code",
      "metadata": {
        "id": "cNDosnCgHNBs",
        "colab": {
          "base_uri": "https://localhost:8080/",
          "height": 352
        },
        "outputId": "dbeb875f-3a6e-4a53-af34-8efc64e09baf"
      },
      "source": [
        "import matplotlib.pyplot as plt\r\n",
        "\r\n",
        "plt.figure(num = 1, figsize = (10,5))\r\n",
        "plt.plot(lista_q_arboles, train_roc_auc, 'b', marker = '.', label = 'Train')\r\n",
        "plt.plot(lista_q_arboles, test_roc_auc, 'r', marker = '.', label = 'Test')\r\n",
        "plt.ylabel('ROC AUC')\r\n",
        "plt.xlabel('n_estimators')\r\n",
        "plt.legend(loc = 'lower right')\r\n",
        "plt.grid()\r\n",
        "plt.show()\r\n",
        "\r\n",
        "#plt.figure(num = 2, figsize = (10,5))\r\n",
        "#plt.plot(lista_q_arboles, train_roc_auc, 'b', marker = '.', label = 'Train')\r\n",
        "#plt.plot(lista_q_arboles, test_roc_auc, 'r', marker = '.', label = 'Test')\r\n",
        "#plt.ylabel('Accuracy')\r\n",
        "#plt.xlabel('n_estimators')\r\n",
        "#plt.legend(loc = 'lower right')\r\n",
        "#plt.grid()\r\n",
        "#plt.show()\r\n",
        "\r\n",
        "print('Notamos en la gráfica que a partir de los 70 árboles la métrica ya no se incrementa tanto. Usaremos 70 para el valor de n_estimators.')"
      ],
      "execution_count": null,
      "outputs": [
        {
          "output_type": "display_data",
          "data": {
            "image/png": "[encoded data removed]",
            "text/plain": [
              "<Figure size 720x360 with 1 Axes>"
            ]
          },
          "metadata": {
            "tags": [],
            "needs_background": "light"
          }
        },
        {
          "output_type": "stream",
          "text": [
            "Notamos en la gráfica que a partir de los 70 árboles la métrica ya no se incrementa tanto. Usaremos 70 para el valor de n_estimators.\n"
          ],
          "name": "stdout"
        }
      ]
    },
    {
      "cell_type": "markdown",
      "metadata": {
        "id": "h7HxjBm5jFVb"
      },
      "source": [
        "Con esto en mente, realizamos una primera búsqueda en grilla para encontrar a los hiperparámetros que generen al mejor modelo."
      ]
    },
    {
      "cell_type": "code",
      "metadata": {
        "id": "mITIS4cS7Y3c",
        "colab": {
          "base_uri": "https://localhost:8080/"
        },
        "outputId": "3e9c3ed1-b312-43b5-84ae-5ff044273bb2"
      },
      "source": [
        "from pprint import pprint\r\n",
        "\r\n",
        "max_features = ['auto', 8, 10, 12, None]  # 'auto' equivale a 'sqrt'; None equivale a todas\r\n",
        "max_depth = [int(x) for x in np.linspace(5, 20, num = 4)]\r\n",
        "min_samples_leaf = [2, 4, 6]\r\n",
        "\r\n",
        "rf_grid1_hp = {'max_features': max_features,\r\n",
        "             'max_depth': max_depth,\r\n",
        "             'min_samples_leaf': min_samples_leaf}\r\n",
        "\r\n",
        "print('Los valores a probar en la primera búsqueda en grilla son:')\r\n",
        "pprint(rf_grid1_hp)\r\n",
        "\r\n",
        "print('\\nSe entrenarán', \r\n",
        "      len(rf_grid1_hp['max_features']) *\r\n",
        "      len(rf_grid1_hp['max_depth']) *\r\n",
        "      len(rf_grid1_hp['min_samples_leaf']),\r\n",
        "      'modelos.')"
      ],
      "execution_count": 27,
      "outputs": [
        {
          "output_type": "stream",
          "text": [
            "Los valores a probar en la primera búsqueda en grilla son:\n",
            "{'max_depth': [5, 10, 15, 20],\n",
            " 'max_features': ['auto', 8, 10, 12, None],\n",
            " 'min_samples_leaf': [2, 4, 6]}\n",
            "\n",
            "Se entrenarán 60 modelos.\n"
          ],
          "name": "stdout"
        }
      ]
    },
    {
      "cell_type": "code",
      "metadata": {
        "id": "hqiy6BIH8BNz",
        "colab": {
          "base_uri": "https://localhost:8080/"
        },
        "outputId": "dc5dc588-389c-4cf5-d2f3-14725cc70823"
      },
      "source": [
        "from sklearn.model_selection import GridSearchCV\r\n",
        "\r\n",
        "with tf.device('/device:GPU:0'):\r\n",
        "    rf = RandomForestClassifier(n_estimators = 70) # n_estimators va a ser el único hiperparámetro fijo\r\n",
        "    rf_grid1 = GridSearchCV(estimator = rf, \r\n",
        "                               param_grid = rf_grid1_hp,\r\n",
        "                               cv = skf,          # Validación cruzada 10-fold\r\n",
        "                               scoring = ['accuracy','f1','roc_auc'],\r\n",
        "                               refit = 'roc_auc',\r\n",
        "                               return_train_score = True,\r\n",
        "                               verbose = 2, \r\n",
        "                               n_jobs = -1)      # Paralelizar en todos los cores disponibles\r\n",
        "\r\n",
        "    rf_grid1.fit(X_train, y_train)"
      ],
      "execution_count": 28,
      "outputs": [
        {
          "output_type": "stream",
          "text": [
            "Fitting 10 folds for each of 60 candidates, totalling 600 fits\n"
          ],
          "name": "stdout"
        },
        {
          "output_type": "stream",
          "text": [
            "[Parallel(n_jobs=-1)]: Using backend LokyBackend with 2 concurrent workers.\n",
            "[Parallel(n_jobs=-1)]: Done  37 tasks      | elapsed:   45.4s\n",
            "[Parallel(n_jobs=-1)]: Done 158 tasks      | elapsed:  6.1min\n",
            "[Parallel(n_jobs=-1)]: Done 361 tasks      | elapsed: 20.0min\n",
            "[Parallel(n_jobs=-1)]: Done 600 out of 600 | elapsed: 47.1min finished\n"
          ],
          "name": "stderr"
        }
      ]
    },
    {
      "cell_type": "markdown",
      "metadata": {
        "id": "rYBjI764d3XZ"
      },
      "source": [
        "En la siguiente tabla podemos ver los 5 modelos con las mejores métricas producto de la primera búsqueda en grilla."
      ]
    },
    {
      "cell_type": "code",
      "metadata": {
        "id": "mA8GxxubYSTH",
        "colab": {
          "base_uri": "https://localhost:8080/",
          "height": 195
        },
        "outputId": "07c4d698-0bd9-4806-f03e-9be325ccb4ee"
      },
      "source": [
        "pd.DataFrame(rf_grid1.cv_results_)[['rank_test_roc_auc','param_max_depth','param_max_features','param_min_samples_leaf','mean_train_roc_auc','mean_test_roc_auc']].sort_values('rank_test_roc_auc').head(5)"
      ],
      "execution_count": 29,
      "outputs": [
        {
          "output_type": "execute_result",
          "data": {
            "text/html": [
              "<div>\n",
              "<style scoped>\n",
              "    .dataframe tbody tr th:only-of-type {\n",
              "        vertical-align: middle;\n",
              "    }\n",
              "\n",
              "    .dataframe tbody tr th {\n",
              "        vertical-align: top;\n",
              "    }\n",
              "\n",
              "    .dataframe thead th {\n",
              "        text-align: right;\n",
              "    }\n",
              "</style>\n",
              "<table border=\"1\" class=\"dataframe\">\n",
              "  <thead>\n",
              "    <tr style=\"text-align: right;\">\n",
              "      <th></th>\n",
              "      <th>rank_test_roc_auc</th>\n",
              "      <th>param_max_depth</th>\n",
              "      <th>param_max_features</th>\n",
              "      <th>param_min_samples_leaf</th>\n",
              "      <th>mean_train_roc_auc</th>\n",
              "      <th>mean_test_roc_auc</th>\n",
              "    </tr>\n",
              "  </thead>\n",
              "  <tbody>\n",
              "    <tr>\n",
              "      <th>20</th>\n",
              "      <td>1</td>\n",
              "      <td>10</td>\n",
              "      <td>8</td>\n",
              "      <td>6</td>\n",
              "      <td>0.854084</td>\n",
              "      <td>0.781343</td>\n",
              "    </tr>\n",
              "    <tr>\n",
              "      <th>26</th>\n",
              "      <td>2</td>\n",
              "      <td>10</td>\n",
              "      <td>12</td>\n",
              "      <td>6</td>\n",
              "      <td>0.857579</td>\n",
              "      <td>0.780955</td>\n",
              "    </tr>\n",
              "    <tr>\n",
              "      <th>17</th>\n",
              "      <td>3</td>\n",
              "      <td>10</td>\n",
              "      <td>auto</td>\n",
              "      <td>6</td>\n",
              "      <td>0.848149</td>\n",
              "      <td>0.780655</td>\n",
              "    </tr>\n",
              "    <tr>\n",
              "      <th>24</th>\n",
              "      <td>4</td>\n",
              "      <td>10</td>\n",
              "      <td>12</td>\n",
              "      <td>2</td>\n",
              "      <td>0.865451</td>\n",
              "      <td>0.780277</td>\n",
              "    </tr>\n",
              "    <tr>\n",
              "      <th>28</th>\n",
              "      <td>5</td>\n",
              "      <td>10</td>\n",
              "      <td>None</td>\n",
              "      <td>4</td>\n",
              "      <td>0.863318</td>\n",
              "      <td>0.780204</td>\n",
              "    </tr>\n",
              "  </tbody>\n",
              "</table>\n",
              "</div>"
            ],
            "text/plain": [
              "    rank_test_roc_auc param_max_depth  ... mean_train_roc_auc mean_test_roc_auc\n",
              "20                  1              10  ...           0.854084          0.781343\n",
              "26                  2              10  ...           0.857579          0.780955\n",
              "17                  3              10  ...           0.848149          0.780655\n",
              "24                  4              10  ...           0.865451          0.780277\n",
              "28                  5              10  ...           0.863318          0.780204\n",
              "\n",
              "[5 rows x 6 columns]"
            ]
          },
          "metadata": {
            "tags": []
          },
          "execution_count": 29
        }
      ]
    },
    {
      "cell_type": "code",
      "metadata": {
        "id": "qUMn2kZELrxL",
        "colab": {
          "base_uri": "https://localhost:8080/"
        },
        "outputId": "d3e5878e-85df-41cf-beaa-baa5b5168fc3"
      },
      "source": [
        "rf_grid1_best = rf_grid1.best_estimator_\r\n",
        "\r\n",
        "print('Los hiperparámetros del mejor modelo son:')\r\n",
        "print(rf_grid1.best_params_)\r\n",
        "\r\n",
        "print('\\nLa mayor área bajo la curva ROC luego de la primera búsqueda en grilla en entrenamiento (80% dataset) es:', rf_grid1_best.score(X_train, y_train))\r\n",
        "print('La mayor área bajo la curva ROC luego de la primera búsqueda en grilla en validación (20% dataset) es:', rf_grid1_best.score(X_test, y_test))"
      ],
      "execution_count": 32,
      "outputs": [
        {
          "output_type": "stream",
          "text": [
            "Los hiperparámetros del mejor modelo son:\n",
            "{'max_depth': 10, 'max_features': 8, 'min_samples_leaf': 6}\n",
            "\n",
            "La mayor área bajo la curva ROC luego de la primera búsqueda en grilla en entrenamiento (80% dataset) es: 0.8500416666666667\n",
            "La mayor área bajo la curva ROC luego de la primera búsqueda en grilla en validación (20% dataset) es: 0.823\n"
          ],
          "name": "stdout"
        }
      ]
    },
    {
      "cell_type": "markdown",
      "metadata": {
        "id": "QLlNX0_ClnYw"
      },
      "source": [
        "Ahora buscaremos con mayor precisión los mejores hiperparámetros es una segunda búsqueda en grilla focalizada."
      ]
    },
    {
      "cell_type": "code",
      "metadata": {
        "id": "48MaYSnjZpH3",
        "colab": {
          "base_uri": "https://localhost:8080/"
        },
        "outputId": "3790c0da-1284-4894-a3dc-e0256c322c04"
      },
      "source": [
        "max_features = [8,9,10,11,12,13]\r\n",
        "max_depth = [5, 10, 15]\r\n",
        "min_samples_leaf = [3,4,5,6]\r\n",
        "\r\n",
        "rf_grid2_hp = {'max_features': max_features,\r\n",
        "               'max_depth': max_depth,\r\n",
        "               'min_samples_leaf': min_samples_leaf}\r\n",
        "\r\n",
        "print('Los valores a probar en la segunda búsqueda por grilla son:')\r\n",
        "pprint(rf_grid2_hp)"
      ],
      "execution_count": 34,
      "outputs": [
        {
          "output_type": "stream",
          "text": [
            "Los valores a probar en la segunda búsqueda por grilla son:\n",
            "{'max_depth': [5, 10, 15],\n",
            " 'max_features': [8, 9, 10, 11, 12, 13],\n",
            " 'min_samples_leaf': [3, 4, 5, 6]}\n"
          ],
          "name": "stdout"
        }
      ]
    },
    {
      "cell_type": "code",
      "metadata": {
        "id": "R87CvZfsZ7D1",
        "colab": {
          "base_uri": "https://localhost:8080/"
        },
        "outputId": "eefec5ad-2eba-4fd6-d1d2-87a0fbe91dde"
      },
      "source": [
        "from sklearn.model_selection import GridSearchCV\r\n",
        "\r\n",
        "with tf.device('/device:GPU:0'):\r\n",
        "    rf = RandomForestClassifier(n_estimators = 70)\r\n",
        "    rf_grid2 = GridSearchCV(estimator = rf, \r\n",
        "                        param_grid = rf_grid2_hp, \r\n",
        "                        cv = skf,          # Validación cruzada 10-fold\r\n",
        "                        scoring = ['accuracy','f1','roc_auc'],\r\n",
        "                        refit = 'roc_auc',\r\n",
        "                        return_train_score = True,\r\n",
        "                        verbose = 2, \r\n",
        "                        n_jobs = -1)      # Paralelizar en todos los cores disponibles\r\n",
        "    rf_grid2.fit(X_train, y_train)"
      ],
      "execution_count": 35,
      "outputs": [
        {
          "output_type": "stream",
          "text": [
            "Fitting 10 folds for each of 72 candidates, totalling 720 fits\n"
          ],
          "name": "stdout"
        },
        {
          "output_type": "stream",
          "text": [
            "[Parallel(n_jobs=-1)]: Using backend LokyBackend with 2 concurrent workers.\n",
            "[Parallel(n_jobs=-1)]: Done  37 tasks      | elapsed:  1.1min\n",
            "[Parallel(n_jobs=-1)]: Done 158 tasks      | elapsed:  5.3min\n",
            "[Parallel(n_jobs=-1)]: Done 361 tasks      | elapsed: 15.8min\n",
            "[Parallel(n_jobs=-1)]: Done 644 tasks      | elapsed: 37.6min\n",
            "[Parallel(n_jobs=-1)]: Done 720 out of 720 | elapsed: 45.3min finished\n"
          ],
          "name": "stderr"
        }
      ]
    },
    {
      "cell_type": "code",
      "metadata": {
        "colab": {
          "base_uri": "https://localhost:8080/",
          "height": 195
        },
        "id": "ryEGpOArzGvs",
        "outputId": "9f467957-4caf-43ea-8696-7cf5210da3f7"
      },
      "source": [
        "pd.DataFrame(rf_grid2.cv_results_)[['rank_test_roc_auc','param_max_depth','param_max_features','param_min_samples_leaf','mean_train_roc_auc','mean_test_roc_auc']].sort_values('rank_test_roc_auc').head(5)"
      ],
      "execution_count": 36,
      "outputs": [
        {
          "output_type": "execute_result",
          "data": {
            "text/html": [
              "<div>\n",
              "<style scoped>\n",
              "    .dataframe tbody tr th:only-of-type {\n",
              "        vertical-align: middle;\n",
              "    }\n",
              "\n",
              "    .dataframe tbody tr th {\n",
              "        vertical-align: top;\n",
              "    }\n",
              "\n",
              "    .dataframe thead th {\n",
              "        text-align: right;\n",
              "    }\n",
              "</style>\n",
              "<table border=\"1\" class=\"dataframe\">\n",
              "  <thead>\n",
              "    <tr style=\"text-align: right;\">\n",
              "      <th></th>\n",
              "      <th>rank_test_roc_auc</th>\n",
              "      <th>param_max_depth</th>\n",
              "      <th>param_max_features</th>\n",
              "      <th>param_min_samples_leaf</th>\n",
              "      <th>mean_train_roc_auc</th>\n",
              "      <th>mean_test_roc_auc</th>\n",
              "    </tr>\n",
              "  </thead>\n",
              "  <tbody>\n",
              "    <tr>\n",
              "      <th>38</th>\n",
              "      <td>1</td>\n",
              "      <td>10</td>\n",
              "      <td>11</td>\n",
              "      <td>5</td>\n",
              "      <td>0.859382</td>\n",
              "      <td>0.781280</td>\n",
              "    </tr>\n",
              "    <tr>\n",
              "      <th>35</th>\n",
              "      <td>2</td>\n",
              "      <td>10</td>\n",
              "      <td>10</td>\n",
              "      <td>6</td>\n",
              "      <td>0.856110</td>\n",
              "      <td>0.780949</td>\n",
              "    </tr>\n",
              "    <tr>\n",
              "      <th>37</th>\n",
              "      <td>3</td>\n",
              "      <td>10</td>\n",
              "      <td>11</td>\n",
              "      <td>4</td>\n",
              "      <td>0.860812</td>\n",
              "      <td>0.780938</td>\n",
              "    </tr>\n",
              "    <tr>\n",
              "      <th>34</th>\n",
              "      <td>4</td>\n",
              "      <td>10</td>\n",
              "      <td>10</td>\n",
              "      <td>5</td>\n",
              "      <td>0.858123</td>\n",
              "      <td>0.780655</td>\n",
              "    </tr>\n",
              "    <tr>\n",
              "      <th>30</th>\n",
              "      <td>5</td>\n",
              "      <td>10</td>\n",
              "      <td>9</td>\n",
              "      <td>5</td>\n",
              "      <td>0.856908</td>\n",
              "      <td>0.780620</td>\n",
              "    </tr>\n",
              "  </tbody>\n",
              "</table>\n",
              "</div>"
            ],
            "text/plain": [
              "    rank_test_roc_auc param_max_depth  ... mean_train_roc_auc mean_test_roc_auc\n",
              "38                  1              10  ...           0.859382          0.781280\n",
              "35                  2              10  ...           0.856110          0.780949\n",
              "37                  3              10  ...           0.860812          0.780938\n",
              "34                  4              10  ...           0.858123          0.780655\n",
              "30                  5              10  ...           0.856908          0.780620\n",
              "\n",
              "[5 rows x 6 columns]"
            ]
          },
          "metadata": {
            "tags": []
          },
          "execution_count": 36
        }
      ]
    },
    {
      "cell_type": "code",
      "metadata": {
        "id": "VnS9pfEagpIN",
        "colab": {
          "base_uri": "https://localhost:8080/"
        },
        "outputId": "94633414-8ec5-4caa-b590-75257c334754"
      },
      "source": [
        "rf_grid2_best = rf_grid2.best_estimator_\r\n",
        "\r\n",
        "print('Los hiperparámetros del mejor modelo son:')\r\n",
        "pprint(rf_grid2.best_params_)\r\n",
        "print()\r\n",
        "\r\n",
        "print('El área bajo la curva ROC luego de búsqueda en grilla en entrenamiento:', rf_grid2_best.score(X_train, y_train))\r\n",
        "print('El área bajo la curva ROC luego de búsqueda en grilla en validación:', rf_grid2_best.score(X_test, y_test))"
      ],
      "execution_count": 37,
      "outputs": [
        {
          "output_type": "stream",
          "text": [
            "Los hiperparámetros del mejor modelo son:\n",
            "{'max_depth': 10, 'max_features': 11, 'min_samples_leaf': 5}\n",
            "\n",
            "El área bajo la curva ROC luego de búsqueda en grilla en entrenamiento: 0.8515833333333334\n",
            "El área bajo la curva ROC luego de búsqueda en grilla en validación: 0.8243333333333334\n"
          ],
          "name": "stdout"
        }
      ]
    },
    {
      "cell_type": "markdown",
      "metadata": {
        "id": "EV_JWf31YjKK"
      },
      "source": [
        "Estas son los hiperparámetros que dicha búsqueda ha encontrado:"
      ]
    },
    {
      "cell_type": "code",
      "metadata": {
        "id": "m2-jjLF3VdWm",
        "colab": {
          "base_uri": "https://localhost:8080/",
          "height": 296
        },
        "outputId": "5196d8da-3cb7-4ed8-8eef-3eb371124b77"
      },
      "source": [
        "from sklearn.metrics import roc_auc_score, plot_roc_curve\r\n",
        "\r\n",
        "y_pred_val = rf_grid2_best.predict_proba(X_test)[:,1]\r\n",
        "auc_roc = roc_auc_score(y_test, y_pred_val)\r\n",
        "print('AUC =', auc_roc)\r\n",
        "\r\n",
        "plot_roc_curve(rf_grid2_best, X_test, y_test)\r\n",
        "plt.show()                 "
      ],
      "execution_count": 39,
      "outputs": [
        {
          "output_type": "stream",
          "text": [
            "AUC = 0.7789734234688731\n"
          ],
          "name": "stdout"
        },
        {
          "output_type": "display_data",
          "data": {
            "image/png": "[encoded data removed]",
            "text/plain": [
              "<Figure size 432x288 with 1 Axes>"
            ]
          },
          "metadata": {
            "tags": [],
            "needs_background": "light"
          }
        }
      ]
    },
    {
      "cell_type": "markdown",
      "metadata": {
        "id": "QilyVNV7Qgsd"
      },
      "source": [
        "GANANCIA DE LA INFORMACIÓN"
      ]
    },
    {
      "cell_type": "code",
      "metadata": {
        "id": "4NONIGzVqjJT",
        "colab": {
          "base_uri": "https://localhost:8080/"
        },
        "outputId": "14bcd304-6c8b-4c2d-c344-73827f89489f"
      },
      "source": [
        "instancias= data.shape[0]\r\n",
        "columnas= data.shape[1]\r\n",
        "print(instancias)\r\n",
        "print(columnas)"
      ],
      "execution_count": 40,
      "outputs": [
        {
          "output_type": "stream",
          "text": [
            "30000\n",
            "25\n"
          ],
          "name": "stdout"
        }
      ]
    },
    {
      "cell_type": "markdown",
      "metadata": {
        "id": "JXW4PolycmM4"
      },
      "source": [
        "Función logaritmo"
      ]
    },
    {
      "cell_type": "code",
      "metadata": {
        "id": "hYohvxckQu3T"
      },
      "source": [
        "import math\r\n",
        "\r\n",
        "def log2(p):\r\n",
        "  return math.log2(p)"
      ],
      "execution_count": 41,
      "outputs": []
    },
    {
      "cell_type": "markdown",
      "metadata": {
        "id": "HqKwOuAncx1D"
      },
      "source": [
        "Definir funcion de la entropia"
      ]
    },
    {
      "cell_type": "code",
      "metadata": {
        "id": "3L3-VYZZcwfg"
      },
      "source": [
        "def calcular_entropia_def(df, instancias_in):\r\n",
        "  entropia = 0\r\n",
        "  clases = df['DEFAULT'].value_counts().keys().tolist()\r\n",
        "  for i in range(0, len(clases)):\r\n",
        "    prob = df.iloc[:, -1].value_counts().tolist()[i]/instancias_in\r\n",
        "    entropia += -prob*log2(prob)\r\n",
        "  return entropia  "
      ],
      "execution_count": 42,
      "outputs": []
    },
    {
      "cell_type": "markdown",
      "metadata": {
        "id": "bivb05bBc2B7"
      },
      "source": [
        "Entropia"
      ]
    },
    {
      "cell_type": "code",
      "metadata": {
        "id": "R9KgVHgcc6f7"
      },
      "source": [
        "entropia_def=calcular_entropia_def(data, instancias)"
      ],
      "execution_count": 43,
      "outputs": []
    },
    {
      "cell_type": "markdown",
      "metadata": {
        "id": "MjQ2gqomdC7Y"
      },
      "source": [
        "Función ganancia de la información"
      ]
    },
    {
      "cell_type": "code",
      "metadata": {
        "id": "T9wA8EiUdCp_"
      },
      "source": [
        "import operator\r\n",
        "def entropia_clases_def(df):\r\n",
        "  ganancias = []\r\n",
        "  dict_gan={}\r\n",
        "  for i in range(0, columnas-1):\r\n",
        "    nombre_atributo = df.columns[i]\r\n",
        "    clases_atributo = df[nombre_atributo].value_counts()\r\n",
        "    ganancia = entropia_def\r\n",
        "\r\n",
        "    for j in range(0, len(clases_atributo)):\r\n",
        "      clase_actual = clases_atributo.keys().tolist()[j]\r\n",
        "      subdata = df[df[nombre_atributo]==clase_actual]\r\n",
        "      subdata_instancias = subdata.shape[0]\r\n",
        "      subdata_entropia = calcular_entropia_def(subdata, subdata_instancias)\r\n",
        "      clase_a_probabilidad = subdata_instancias/instancias\r\n",
        "      ganancia = ganancia - clase_a_probabilidad*subdata_entropia\r\n",
        "      ganancia= round(ganancia,5)\r\n",
        "    ganancias.append(ganancia)\r\n",
        "  # crea diccionario de cada atributo con su ganancia\r\n",
        "  for i in range(0, columnas-1):\r\n",
        "    nombre_atributo = df.columns[i]\r\n",
        "    gan= ganancias[i]\r\n",
        "    dict_gan[nombre_atributo]=gan\r\n",
        "  ganancia_mayor = ganancias.index(max(ganancias))\r\n",
        "  nombre_mejor_ganancia = df.columns[ganancia_mayor]\r\n",
        "  ord_dic=sorted(dict_gan.items(), key=operator.itemgetter(1), reverse=True)\r\n",
        "  return ord_dic"
      ],
      "execution_count": 44,
      "outputs": []
    },
    {
      "cell_type": "code",
      "metadata": {
        "id": "DYgo6nF9dNSg",
        "colab": {
          "base_uri": "https://localhost:8080/"
        },
        "outputId": "a5fb28c6-5082-4a35-ba0e-5ab6f8a28023"
      },
      "source": [
        "entropia_def= calcular_entropia_def(data, instancias)\r\n",
        "print(\"entropia_default: \", entropia_def)\r\n",
        "\r\n",
        "#nombre_mejor_def = entropia_clases_def(data) # error: list index out of range, \r\n",
        "#se muestra el diccioonario con los atributos y sus ganancias \r\n",
        "#print(nombre_mejor_def)"
      ],
      "execution_count": 47,
      "outputs": [
        {
          "output_type": "stream",
          "text": [
            "entropia_default:  0.9970186330075805\n"
          ],
          "name": "stdout"
        }
      ]
    },
    {
      "cell_type": "markdown",
      "metadata": {
        "id": "ZG9Q_yeFMUMp"
      },
      "source": [
        "##K Nearest Neighbours"
      ]
    },
    {
      "cell_type": "markdown",
      "metadata": {
        "id": "tOwVEJSjuWwS"
      },
      "source": [
        "Como paso previo al entrenamiento del algoritmo, necesitamos normalizar la data, ya que KNN utiliza las distancias entre las observaciones para calcular la cercanía y en base a eso, clasificar."
      ]
    },
    {
      "cell_type": "code",
      "metadata": {
        "id": "4HXPdO7uvEAx"
      },
      "source": [
        "from sklearn.preprocessing import StandardScaler\r\n",
        "\r\n",
        "scaler = StandardScaler().fit(X_train)\r\n",
        "X_train_scaled = scaler.transform(X_train)\r\n",
        "X_test_scaled = scaler.transform(X_test)"
      ],
      "execution_count": 50,
      "outputs": []
    },
    {
      "cell_type": "markdown",
      "metadata": {
        "id": "NfJpb1dGwPz-"
      },
      "source": [
        "Ahora entrenaremos el algoritmo con los hiperparámetros por defecto para tomar su rendimiento como base."
      ]
    },
    {
      "cell_type": "code",
      "metadata": {
        "id": "lGMF1ngMzWGj",
        "colab": {
          "base_uri": "https://localhost:8080/"
        },
        "outputId": "ab2b2d02-77b3-4900-beb7-c7c97ca40c4f"
      },
      "source": [
        "from sklearn.neighbors import KNeighborsClassifier\r\n",
        "\r\n",
        "d_knn = KNeighborsClassifier(n_jobs = -1)\r\n",
        "with tf.device('/device:GPU:0'):\r\n",
        "    d_knn_res = cross_validate(d_knn, X_train_scaled, y_train, cv = skf, return_train_score = True, scoring = ['accuracy','f1','roc_auc'], verbose = 2, n_jobs = -1)\r\n",
        "print('Los valores por defecto de los hiperparámetros del algoritmo kNN son:')\r\n",
        "d_knn.get_params()"
      ],
      "execution_count": 52,
      "outputs": [
        {
          "output_type": "stream",
          "text": [
            "[Parallel(n_jobs=-1)]: Using backend LokyBackend with 2 concurrent workers.\n"
          ],
          "name": "stderr"
        },
        {
          "output_type": "stream",
          "text": [
            "Los valores por defecto de los hiperparámetros del algoritmo kNN son:\n"
          ],
          "name": "stdout"
        },
        {
          "output_type": "stream",
          "text": [
            "[Parallel(n_jobs=-1)]: Done  10 out of  10 | elapsed:  4.6min finished\n"
          ],
          "name": "stderr"
        },
        {
          "output_type": "execute_result",
          "data": {
            "text/plain": [
              "{'algorithm': 'auto',\n",
              " 'leaf_size': 30,\n",
              " 'metric': 'minkowski',\n",
              " 'metric_params': None,\n",
              " 'n_jobs': -1,\n",
              " 'n_neighbors': 5,\n",
              " 'p': 2,\n",
              " 'weights': 'uniform'}"
            ]
          },
          "metadata": {
            "tags": []
          },
          "execution_count": 52
        }
      ]
    },
    {
      "cell_type": "markdown",
      "metadata": {
        "id": "zx6wDOW4rLks"
      },
      "source": [
        "Y obtuvimos los siguientes resultados del área bajo la curva ROC:"
      ]
    },
    {
      "cell_type": "code",
      "metadata": {
        "id": "WhANsalz750X",
        "colab": {
          "base_uri": "https://localhost:8080/"
        },
        "outputId": "8081f868-4b93-479d-bc1c-5c7c28498987"
      },
      "source": [
        "print('El área bajo la curva ROC en el conjunto de train fue de {}'.format(np.mean(d_knn_res['train_roc_auc'])))\r\n",
        "print('El área bajo la curva ROC en el conjunto de test fue de {}'.format(np.mean(d_knn_res['test_roc_auc'])))"
      ],
      "execution_count": 53,
      "outputs": [
        {
          "output_type": "stream",
          "text": [
            "El área bajo la curva ROC en el conjunto de train fue de 0.8798524934076996\n",
            "El área bajo la curva ROC en el conjunto de test fue de 0.7027308258474603\n"
          ],
          "name": "stdout"
        }
      ]
    },
    {
      "cell_type": "markdown",
      "metadata": {
        "id": "37apKS-SLquD"
      },
      "source": [
        "Tomando este resultado en cuenta. Realizamos una búsqueda en grilla de los hiperparámetros que generan el modelo con las mejores métricas."
      ]
    },
    {
      "cell_type": "code",
      "metadata": {
        "id": "LwPFP3ZsL3Cy",
        "colab": {
          "base_uri": "https://localhost:8080/"
        },
        "outputId": "5b647b4a-69bd-46c1-82de-f67ee758b981"
      },
      "source": [
        "n_neighbours = np.arange(1,51,1)\r\n",
        "weights = ['uniform', 'distance']\r\n",
        "p = [1,2]\r\n",
        "\r\n",
        "knn_grid = {'n_neighbours': n_neighbours,\r\n",
        "            'weights': weights,\r\n",
        "            'p': p}\r\n",
        "\r\n",
        "print('Los valores a probar en la búsqueda en grilla son:')\r\n",
        "pprint(knn_grid)\r\n",
        "\r\n",
        "print('\\nEntrenaremos ', \r\n",
        "      len(knn_grid['n_neighbours']) *\r\n",
        "      len(knn_grid['weights']) *\r\n",
        "      len(knn_grid['p']),\r\n",
        "      'modelos en total.')"
      ],
      "execution_count": 54,
      "outputs": [
        {
          "output_type": "stream",
          "text": [
            "Los valores a probar en la búsqueda en grilla son:\n",
            "{'n_neighbours': array([ 1,  2,  3,  4,  5,  6,  7,  8,  9, 10, 11, 12, 13, 14, 15, 16, 17,\n",
            "       18, 19, 20, 21, 22, 23, 24, 25, 26, 27, 28, 29, 30, 31, 32, 33, 34,\n",
            "       35, 36, 37, 38, 39, 40, 41, 42, 43, 44, 45, 46, 47, 48, 49, 50]),\n",
            " 'p': [1, 2],\n",
            " 'weights': ['uniform', 'distance']}\n",
            "\n",
            "Entrenaremos  200 modelos en total.\n"
          ],
          "name": "stdout"
        }
      ]
    },
    {
      "cell_type": "code",
      "metadata": {
        "id": "X4_ZhMpMTVoH"
      },
      "source": [
        "grid_knn = GridSearchCV(estimator = d_knn,\r\n",
        "                        param_grid = knn_grid,\r\n",
        "                        cv = skf,\r\n",
        "                        scoring = ['accuracy','f1','auc_score'],\r\n",
        "                        refit = 'auc_score',\r\n",
        "                        verbose = 2,\r\n",
        "                        n_jobs = -1)"
      ],
      "execution_count": 55,
      "outputs": []
    }
  ]
}