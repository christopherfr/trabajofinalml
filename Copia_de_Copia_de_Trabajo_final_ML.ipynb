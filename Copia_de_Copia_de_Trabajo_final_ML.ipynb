{
  "nbformat": 4,
  "nbformat_minor": 0,
  "metadata": {
    "colab": {
      "name": "Copia_de_Copia_de_Trabajo_final_ML.ipynb",
      "provenance": [],
      "collapsed_sections": [],
      "include_colab_link": true
    },
    "kernelspec": {
      "name": "python3",
      "display_name": "Python 3"
    },
    "accelerator": "GPU"
  },
  "cells": [
    {
      "cell_type": "markdown",
      "metadata": {
        "id": "view-in-github",
        "colab_type": "text"
      },
      "source": [
        "<a href=\"https://colab.research.google.com/github/christopherfr/trabajofinalml/blob/main/Copia_de_Copia_de_Trabajo_final_ML.ipynb\" target=\"_parent\"><img src=\"https://colab.research.google.com/assets/colab-badge.svg\" alt=\"Open In Colab\"/></a>"
      ]
    },
    {
      "cell_type": "markdown",
      "metadata": {
        "id": "DXg-JvUBR43R"
      },
      "source": [
        "Importamos el dataset"
      ]
    },
    {
      "cell_type": "code",
      "metadata": {
        "id": "mLhPqoqCR0r4"
      },
      "source": [
        "import pandas as pd\r\n",
        "import matplotlib.pyplot as plt\r\n",
        "import tensorflow as tf\r\n",
        "import numpy as np\r\n",
        "\r\n",
        "data = pd.read_excel('https://archive.ics.uci.edu/ml/machine-learning-databases/00350/default%20of%20credit%20card%20clients.xls', header = 1)\r\n",
        "data.drop('ID', axis = 1, inplace = True) # Nos deshacemos de la columna ID ya que no es importante\r\n",
        "data.rename(columns = {'default payment next month': 'DEFAULT'}, inplace = True) # Nombre cambiado a uno más corto\r\n",
        "data.rename(columns = {'PAY_0': 'PAY_1'}, inplace = True) # Corrección del nombre"
      ],
      "execution_count": 3,
      "outputs": []
    },
    {
      "cell_type": "code",
      "metadata": {
        "colab": {
          "base_uri": "https://localhost:8080/",
          "height": 363
        },
        "id": "v3tt0GAnbR1a",
        "outputId": "1e49d689-554d-4c9d-dfa0-1e90b7f78474"
      },
      "source": [
        "data.head(10)"
      ],
      "execution_count": 2,
      "outputs": [
        {
          "output_type": "execute_result",
          "data": {
            "text/html": [
              "<div>\n",
              "<style scoped>\n",
              "    .dataframe tbody tr th:only-of-type {\n",
              "        vertical-align: middle;\n",
              "    }\n",
              "\n",
              "    .dataframe tbody tr th {\n",
              "        vertical-align: top;\n",
              "    }\n",
              "\n",
              "    .dataframe thead th {\n",
              "        text-align: right;\n",
              "    }\n",
              "</style>\n",
              "<table border=\"1\" class=\"dataframe\">\n",
              "  <thead>\n",
              "    <tr style=\"text-align: right;\">\n",
              "      <th></th>\n",
              "      <th>LIMIT_BAL</th>\n",
              "      <th>SEX</th>\n",
              "      <th>EDUCATION</th>\n",
              "      <th>MARRIAGE</th>\n",
              "      <th>AGE</th>\n",
              "      <th>PAY_1</th>\n",
              "      <th>PAY_2</th>\n",
              "      <th>PAY_3</th>\n",
              "      <th>PAY_4</th>\n",
              "      <th>PAY_5</th>\n",
              "      <th>PAY_6</th>\n",
              "      <th>BILL_AMT1</th>\n",
              "      <th>BILL_AMT2</th>\n",
              "      <th>BILL_AMT3</th>\n",
              "      <th>BILL_AMT4</th>\n",
              "      <th>BILL_AMT5</th>\n",
              "      <th>BILL_AMT6</th>\n",
              "      <th>PAY_AMT1</th>\n",
              "      <th>PAY_AMT2</th>\n",
              "      <th>PAY_AMT3</th>\n",
              "      <th>PAY_AMT4</th>\n",
              "      <th>PAY_AMT5</th>\n",
              "      <th>PAY_AMT6</th>\n",
              "      <th>DEFAULT</th>\n",
              "    </tr>\n",
              "  </thead>\n",
              "  <tbody>\n",
              "    <tr>\n",
              "      <th>0</th>\n",
              "      <td>20000</td>\n",
              "      <td>2</td>\n",
              "      <td>2</td>\n",
              "      <td>1</td>\n",
              "      <td>24</td>\n",
              "      <td>2</td>\n",
              "      <td>2</td>\n",
              "      <td>-1</td>\n",
              "      <td>-1</td>\n",
              "      <td>-2</td>\n",
              "      <td>-2</td>\n",
              "      <td>3913</td>\n",
              "      <td>3102</td>\n",
              "      <td>689</td>\n",
              "      <td>0</td>\n",
              "      <td>0</td>\n",
              "      <td>0</td>\n",
              "      <td>0</td>\n",
              "      <td>689</td>\n",
              "      <td>0</td>\n",
              "      <td>0</td>\n",
              "      <td>0</td>\n",
              "      <td>0</td>\n",
              "      <td>1</td>\n",
              "    </tr>\n",
              "    <tr>\n",
              "      <th>1</th>\n",
              "      <td>120000</td>\n",
              "      <td>2</td>\n",
              "      <td>2</td>\n",
              "      <td>2</td>\n",
              "      <td>26</td>\n",
              "      <td>-1</td>\n",
              "      <td>2</td>\n",
              "      <td>0</td>\n",
              "      <td>0</td>\n",
              "      <td>0</td>\n",
              "      <td>2</td>\n",
              "      <td>2682</td>\n",
              "      <td>1725</td>\n",
              "      <td>2682</td>\n",
              "      <td>3272</td>\n",
              "      <td>3455</td>\n",
              "      <td>3261</td>\n",
              "      <td>0</td>\n",
              "      <td>1000</td>\n",
              "      <td>1000</td>\n",
              "      <td>1000</td>\n",
              "      <td>0</td>\n",
              "      <td>2000</td>\n",
              "      <td>1</td>\n",
              "    </tr>\n",
              "    <tr>\n",
              "      <th>2</th>\n",
              "      <td>90000</td>\n",
              "      <td>2</td>\n",
              "      <td>2</td>\n",
              "      <td>2</td>\n",
              "      <td>34</td>\n",
              "      <td>0</td>\n",
              "      <td>0</td>\n",
              "      <td>0</td>\n",
              "      <td>0</td>\n",
              "      <td>0</td>\n",
              "      <td>0</td>\n",
              "      <td>29239</td>\n",
              "      <td>14027</td>\n",
              "      <td>13559</td>\n",
              "      <td>14331</td>\n",
              "      <td>14948</td>\n",
              "      <td>15549</td>\n",
              "      <td>1518</td>\n",
              "      <td>1500</td>\n",
              "      <td>1000</td>\n",
              "      <td>1000</td>\n",
              "      <td>1000</td>\n",
              "      <td>5000</td>\n",
              "      <td>0</td>\n",
              "    </tr>\n",
              "    <tr>\n",
              "      <th>3</th>\n",
              "      <td>50000</td>\n",
              "      <td>2</td>\n",
              "      <td>2</td>\n",
              "      <td>1</td>\n",
              "      <td>37</td>\n",
              "      <td>0</td>\n",
              "      <td>0</td>\n",
              "      <td>0</td>\n",
              "      <td>0</td>\n",
              "      <td>0</td>\n",
              "      <td>0</td>\n",
              "      <td>46990</td>\n",
              "      <td>48233</td>\n",
              "      <td>49291</td>\n",
              "      <td>28314</td>\n",
              "      <td>28959</td>\n",
              "      <td>29547</td>\n",
              "      <td>2000</td>\n",
              "      <td>2019</td>\n",
              "      <td>1200</td>\n",
              "      <td>1100</td>\n",
              "      <td>1069</td>\n",
              "      <td>1000</td>\n",
              "      <td>0</td>\n",
              "    </tr>\n",
              "    <tr>\n",
              "      <th>4</th>\n",
              "      <td>50000</td>\n",
              "      <td>1</td>\n",
              "      <td>2</td>\n",
              "      <td>1</td>\n",
              "      <td>57</td>\n",
              "      <td>-1</td>\n",
              "      <td>0</td>\n",
              "      <td>-1</td>\n",
              "      <td>0</td>\n",
              "      <td>0</td>\n",
              "      <td>0</td>\n",
              "      <td>8617</td>\n",
              "      <td>5670</td>\n",
              "      <td>35835</td>\n",
              "      <td>20940</td>\n",
              "      <td>19146</td>\n",
              "      <td>19131</td>\n",
              "      <td>2000</td>\n",
              "      <td>36681</td>\n",
              "      <td>10000</td>\n",
              "      <td>9000</td>\n",
              "      <td>689</td>\n",
              "      <td>679</td>\n",
              "      <td>0</td>\n",
              "    </tr>\n",
              "    <tr>\n",
              "      <th>5</th>\n",
              "      <td>50000</td>\n",
              "      <td>1</td>\n",
              "      <td>1</td>\n",
              "      <td>2</td>\n",
              "      <td>37</td>\n",
              "      <td>0</td>\n",
              "      <td>0</td>\n",
              "      <td>0</td>\n",
              "      <td>0</td>\n",
              "      <td>0</td>\n",
              "      <td>0</td>\n",
              "      <td>64400</td>\n",
              "      <td>57069</td>\n",
              "      <td>57608</td>\n",
              "      <td>19394</td>\n",
              "      <td>19619</td>\n",
              "      <td>20024</td>\n",
              "      <td>2500</td>\n",
              "      <td>1815</td>\n",
              "      <td>657</td>\n",
              "      <td>1000</td>\n",
              "      <td>1000</td>\n",
              "      <td>800</td>\n",
              "      <td>0</td>\n",
              "    </tr>\n",
              "    <tr>\n",
              "      <th>6</th>\n",
              "      <td>500000</td>\n",
              "      <td>1</td>\n",
              "      <td>1</td>\n",
              "      <td>2</td>\n",
              "      <td>29</td>\n",
              "      <td>0</td>\n",
              "      <td>0</td>\n",
              "      <td>0</td>\n",
              "      <td>0</td>\n",
              "      <td>0</td>\n",
              "      <td>0</td>\n",
              "      <td>367965</td>\n",
              "      <td>412023</td>\n",
              "      <td>445007</td>\n",
              "      <td>542653</td>\n",
              "      <td>483003</td>\n",
              "      <td>473944</td>\n",
              "      <td>55000</td>\n",
              "      <td>40000</td>\n",
              "      <td>38000</td>\n",
              "      <td>20239</td>\n",
              "      <td>13750</td>\n",
              "      <td>13770</td>\n",
              "      <td>0</td>\n",
              "    </tr>\n",
              "    <tr>\n",
              "      <th>7</th>\n",
              "      <td>100000</td>\n",
              "      <td>2</td>\n",
              "      <td>2</td>\n",
              "      <td>2</td>\n",
              "      <td>23</td>\n",
              "      <td>0</td>\n",
              "      <td>-1</td>\n",
              "      <td>-1</td>\n",
              "      <td>0</td>\n",
              "      <td>0</td>\n",
              "      <td>-1</td>\n",
              "      <td>11876</td>\n",
              "      <td>380</td>\n",
              "      <td>601</td>\n",
              "      <td>221</td>\n",
              "      <td>-159</td>\n",
              "      <td>567</td>\n",
              "      <td>380</td>\n",
              "      <td>601</td>\n",
              "      <td>0</td>\n",
              "      <td>581</td>\n",
              "      <td>1687</td>\n",
              "      <td>1542</td>\n",
              "      <td>0</td>\n",
              "    </tr>\n",
              "    <tr>\n",
              "      <th>8</th>\n",
              "      <td>140000</td>\n",
              "      <td>2</td>\n",
              "      <td>3</td>\n",
              "      <td>1</td>\n",
              "      <td>28</td>\n",
              "      <td>0</td>\n",
              "      <td>0</td>\n",
              "      <td>2</td>\n",
              "      <td>0</td>\n",
              "      <td>0</td>\n",
              "      <td>0</td>\n",
              "      <td>11285</td>\n",
              "      <td>14096</td>\n",
              "      <td>12108</td>\n",
              "      <td>12211</td>\n",
              "      <td>11793</td>\n",
              "      <td>3719</td>\n",
              "      <td>3329</td>\n",
              "      <td>0</td>\n",
              "      <td>432</td>\n",
              "      <td>1000</td>\n",
              "      <td>1000</td>\n",
              "      <td>1000</td>\n",
              "      <td>0</td>\n",
              "    </tr>\n",
              "    <tr>\n",
              "      <th>9</th>\n",
              "      <td>20000</td>\n",
              "      <td>1</td>\n",
              "      <td>3</td>\n",
              "      <td>2</td>\n",
              "      <td>35</td>\n",
              "      <td>-2</td>\n",
              "      <td>-2</td>\n",
              "      <td>-2</td>\n",
              "      <td>-2</td>\n",
              "      <td>-1</td>\n",
              "      <td>-1</td>\n",
              "      <td>0</td>\n",
              "      <td>0</td>\n",
              "      <td>0</td>\n",
              "      <td>0</td>\n",
              "      <td>13007</td>\n",
              "      <td>13912</td>\n",
              "      <td>0</td>\n",
              "      <td>0</td>\n",
              "      <td>0</td>\n",
              "      <td>13007</td>\n",
              "      <td>1122</td>\n",
              "      <td>0</td>\n",
              "      <td>0</td>\n",
              "    </tr>\n",
              "  </tbody>\n",
              "</table>\n",
              "</div>"
            ],
            "text/plain": [
              "   LIMIT_BAL  SEX  EDUCATION  MARRIAGE  ...  PAY_AMT4  PAY_AMT5  PAY_AMT6  DEFAULT\n",
              "0      20000    2          2         1  ...         0         0         0        1\n",
              "1     120000    2          2         2  ...      1000         0      2000        1\n",
              "2      90000    2          2         2  ...      1000      1000      5000        0\n",
              "3      50000    2          2         1  ...      1100      1069      1000        0\n",
              "4      50000    1          2         1  ...      9000       689       679        0\n",
              "5      50000    1          1         2  ...      1000      1000       800        0\n",
              "6     500000    1          1         2  ...     20239     13750     13770        0\n",
              "7     100000    2          2         2  ...       581      1687      1542        0\n",
              "8     140000    2          3         1  ...      1000      1000      1000        0\n",
              "9      20000    1          3         2  ...     13007      1122         0        0\n",
              "\n",
              "[10 rows x 24 columns]"
            ]
          },
          "metadata": {
            "tags": []
          },
          "execution_count": 2
        }
      ]
    },
    {
      "cell_type": "markdown",
      "metadata": {
        "id": "zmk55xEIXz-e"
      },
      "source": [
        "#Información acerca del dataset"
      ]
    },
    {
      "cell_type": "markdown",
      "metadata": {
        "id": "XIrjGsDKkpmt"
      },
      "source": [
        "Lista de variables por tipo"
      ]
    },
    {
      "cell_type": "code",
      "metadata": {
        "id": "WuHcr-_7AEoM",
        "colab": {
          "base_uri": "https://localhost:8080/"
        },
        "outputId": "183dfbec-30db-4765-eed1-8d079ab22c07"
      },
      "source": [
        "print('Variables categóricas nominales:')\r\n",
        "print('  - SEX\\n  - MARRIAGE\\n  - EDUCATION') # EDUCATION no la tratamos como ordinal porque no se conoce qué incluye la categoría 'others'\r\n",
        "print('Variables continuas:')\r\n",
        "print('  - AGE\\n  - PAY_1\\n  - PAY_2\\n  - PAY_3\\n  - PAY_4\\n  - PAY_5\\n  - PAY_6\\n  - BILL_AMT1\\n  - BILL_AMT2\\n  - BILL_AMT3\\n  - BILL_AMT4\\n  - BILL_AMT5\\n  - BILL_AMT6\\n  - PAY_AMT1\\n  - PAY_AMT2\\n  - PAY_AMT3\\n  - PAY_AMT4\\n  - PAY_AMT5\\n  - PAY_AMT6')\r\n",
        "print('Tenemos {} variables independientes en total.'.format(data.shape[1] - 1))\r\n",
        "print('Variable target: DEFAULT')"
      ],
      "execution_count": 3,
      "outputs": [
        {
          "output_type": "stream",
          "text": [
            "Variables categóricas nominales:\n",
            "  - SEX\n",
            "  - MARRIAGE\n",
            "  - EDUCATION\n",
            "Variables continuas:\n",
            "  - AGE\n",
            "  - PAY_1\n",
            "  - PAY_2\n",
            "  - PAY_3\n",
            "  - PAY_4\n",
            "  - PAY_5\n",
            "  - PAY_6\n",
            "  - BILL_AMT1\n",
            "  - BILL_AMT2\n",
            "  - BILL_AMT3\n",
            "  - BILL_AMT4\n",
            "  - BILL_AMT5\n",
            "  - BILL_AMT6\n",
            "  - PAY_AMT1\n",
            "  - PAY_AMT2\n",
            "  - PAY_AMT3\n",
            "  - PAY_AMT4\n",
            "  - PAY_AMT5\n",
            "  - PAY_AMT6\n",
            "Tenemos 23 variables independientes en total.\n",
            "Variable target: DEFAULT\n"
          ],
          "name": "stdout"
        }
      ]
    },
    {
      "cell_type": "markdown",
      "metadata": {
        "id": "3VIrWid4X4K-"
      },
      "source": [
        "Número de muestras que se usarán en los conjuntos de entrenamiento y prueba, como también la cantidad por cada clase."
      ]
    },
    {
      "cell_type": "code",
      "metadata": {
        "id": "6vRA0o4RbPiI",
        "colab": {
          "base_uri": "https://localhost:8080/"
        },
        "outputId": "e879b03e-2b31-463f-951b-c2d15cf7ac26"
      },
      "source": [
        "m = len(data)\r\n",
        "ratio_test = 0.1\r\n",
        "q_test = int(round(m * ratio_test, 0))\r\n",
        "q_train = m - q_test\r\n",
        "print('Se tienen {} muestras en total. Un {}% se usará para la evaluación, es decir,\\nse entrenarán los modelos con {} registros y con {} se evaluarán.'.format(m, ratio_test * 100, q_train, q_test))\r\n",
        "\r\n",
        "import numpy as np\r\n",
        "target_agrupado = data.groupby('DEFAULT')['DEFAULT'].count()\r\n",
        "q_clases_target = np.array(target_agrupado.sort_index(ascending = True))\r\n",
        "p_clases_target = q_clases_target / np.sum(q_clases_target) * 100\r\n",
        "print('Para el entrenamiento un {}% será de la clase 0 (no default) y el otro {}% de la clase 1 (default).'.format(round(p_clases_target[0],1), round(p_clases_target[1],1)))"
      ],
      "execution_count": 4,
      "outputs": [
        {
          "output_type": "stream",
          "text": [
            "Se tienen 30000 muestras en total. Un 10.0% se usará para la evaluación, es decir,\n",
            "se entrenarán los modelos con 27000 registros y con 3000 se evaluarán.\n",
            "Para el entrenamiento un 77.9% será de la clase 0 (no default) y el otro 22.1% de la clase 1 (default).\n"
          ],
          "name": "stdout"
        }
      ]
    },
    {
      "cell_type": "markdown",
      "metadata": {
        "id": "Lx_y5QjVX-MT"
      },
      "source": [
        "Estadística descriptiva y visualización de los datos"
      ]
    },
    {
      "cell_type": "markdown",
      "metadata": {
        "id": "pirU8QCLHSdE"
      },
      "source": [
        "##Descripción de las variables"
      ]
    },
    {
      "cell_type": "markdown",
      "metadata": {
        "id": "X2HbBewj3K5y"
      },
      "source": [
        "En la siguiente tabla se muestran medidas estadísticas de las variables cuantitativas de la base de datos."
      ]
    },
    {
      "cell_type": "code",
      "metadata": {
        "id": "JzDEhveebP3G",
        "colab": {
          "base_uri": "https://localhost:8080/",
          "height": 304
        },
        "outputId": "10571300-eafa-4efd-b771-eb45f30a277d"
      },
      "source": [
        "data.drop(['SEX','EDUCATION','MARRIAGE','DEFAULT'], axis = 1).describe()"
      ],
      "execution_count": 5,
      "outputs": [
        {
          "output_type": "execute_result",
          "data": {
            "text/html": [
              "<div>\n",
              "<style scoped>\n",
              "    .dataframe tbody tr th:only-of-type {\n",
              "        vertical-align: middle;\n",
              "    }\n",
              "\n",
              "    .dataframe tbody tr th {\n",
              "        vertical-align: top;\n",
              "    }\n",
              "\n",
              "    .dataframe thead th {\n",
              "        text-align: right;\n",
              "    }\n",
              "</style>\n",
              "<table border=\"1\" class=\"dataframe\">\n",
              "  <thead>\n",
              "    <tr style=\"text-align: right;\">\n",
              "      <th></th>\n",
              "      <th>LIMIT_BAL</th>\n",
              "      <th>AGE</th>\n",
              "      <th>PAY_1</th>\n",
              "      <th>PAY_2</th>\n",
              "      <th>PAY_3</th>\n",
              "      <th>PAY_4</th>\n",
              "      <th>PAY_5</th>\n",
              "      <th>PAY_6</th>\n",
              "      <th>BILL_AMT1</th>\n",
              "      <th>BILL_AMT2</th>\n",
              "      <th>BILL_AMT3</th>\n",
              "      <th>BILL_AMT4</th>\n",
              "      <th>BILL_AMT5</th>\n",
              "      <th>BILL_AMT6</th>\n",
              "      <th>PAY_AMT1</th>\n",
              "      <th>PAY_AMT2</th>\n",
              "      <th>PAY_AMT3</th>\n",
              "      <th>PAY_AMT4</th>\n",
              "      <th>PAY_AMT5</th>\n",
              "      <th>PAY_AMT6</th>\n",
              "    </tr>\n",
              "  </thead>\n",
              "  <tbody>\n",
              "    <tr>\n",
              "      <th>count</th>\n",
              "      <td>30000.000000</td>\n",
              "      <td>30000.000000</td>\n",
              "      <td>30000.000000</td>\n",
              "      <td>30000.000000</td>\n",
              "      <td>30000.000000</td>\n",
              "      <td>30000.000000</td>\n",
              "      <td>30000.000000</td>\n",
              "      <td>30000.000000</td>\n",
              "      <td>30000.000000</td>\n",
              "      <td>30000.000000</td>\n",
              "      <td>3.000000e+04</td>\n",
              "      <td>30000.000000</td>\n",
              "      <td>30000.000000</td>\n",
              "      <td>30000.000000</td>\n",
              "      <td>30000.000000</td>\n",
              "      <td>3.000000e+04</td>\n",
              "      <td>30000.00000</td>\n",
              "      <td>30000.000000</td>\n",
              "      <td>30000.000000</td>\n",
              "      <td>30000.000000</td>\n",
              "    </tr>\n",
              "    <tr>\n",
              "      <th>mean</th>\n",
              "      <td>167484.322667</td>\n",
              "      <td>35.485500</td>\n",
              "      <td>-0.016700</td>\n",
              "      <td>-0.133767</td>\n",
              "      <td>-0.166200</td>\n",
              "      <td>-0.220667</td>\n",
              "      <td>-0.266200</td>\n",
              "      <td>-0.291100</td>\n",
              "      <td>51223.330900</td>\n",
              "      <td>49179.075167</td>\n",
              "      <td>4.701315e+04</td>\n",
              "      <td>43262.948967</td>\n",
              "      <td>40311.400967</td>\n",
              "      <td>38871.760400</td>\n",
              "      <td>5663.580500</td>\n",
              "      <td>5.921163e+03</td>\n",
              "      <td>5225.68150</td>\n",
              "      <td>4826.076867</td>\n",
              "      <td>4799.387633</td>\n",
              "      <td>5215.502567</td>\n",
              "    </tr>\n",
              "    <tr>\n",
              "      <th>std</th>\n",
              "      <td>129747.661567</td>\n",
              "      <td>9.217904</td>\n",
              "      <td>1.123802</td>\n",
              "      <td>1.197186</td>\n",
              "      <td>1.196868</td>\n",
              "      <td>1.169139</td>\n",
              "      <td>1.133187</td>\n",
              "      <td>1.149988</td>\n",
              "      <td>73635.860576</td>\n",
              "      <td>71173.768783</td>\n",
              "      <td>6.934939e+04</td>\n",
              "      <td>64332.856134</td>\n",
              "      <td>60797.155770</td>\n",
              "      <td>59554.107537</td>\n",
              "      <td>16563.280354</td>\n",
              "      <td>2.304087e+04</td>\n",
              "      <td>17606.96147</td>\n",
              "      <td>15666.159744</td>\n",
              "      <td>15278.305679</td>\n",
              "      <td>17777.465775</td>\n",
              "    </tr>\n",
              "    <tr>\n",
              "      <th>min</th>\n",
              "      <td>10000.000000</td>\n",
              "      <td>21.000000</td>\n",
              "      <td>-2.000000</td>\n",
              "      <td>-2.000000</td>\n",
              "      <td>-2.000000</td>\n",
              "      <td>-2.000000</td>\n",
              "      <td>-2.000000</td>\n",
              "      <td>-2.000000</td>\n",
              "      <td>-165580.000000</td>\n",
              "      <td>-69777.000000</td>\n",
              "      <td>-1.572640e+05</td>\n",
              "      <td>-170000.000000</td>\n",
              "      <td>-81334.000000</td>\n",
              "      <td>-339603.000000</td>\n",
              "      <td>0.000000</td>\n",
              "      <td>0.000000e+00</td>\n",
              "      <td>0.00000</td>\n",
              "      <td>0.000000</td>\n",
              "      <td>0.000000</td>\n",
              "      <td>0.000000</td>\n",
              "    </tr>\n",
              "    <tr>\n",
              "      <th>25%</th>\n",
              "      <td>50000.000000</td>\n",
              "      <td>28.000000</td>\n",
              "      <td>-1.000000</td>\n",
              "      <td>-1.000000</td>\n",
              "      <td>-1.000000</td>\n",
              "      <td>-1.000000</td>\n",
              "      <td>-1.000000</td>\n",
              "      <td>-1.000000</td>\n",
              "      <td>3558.750000</td>\n",
              "      <td>2984.750000</td>\n",
              "      <td>2.666250e+03</td>\n",
              "      <td>2326.750000</td>\n",
              "      <td>1763.000000</td>\n",
              "      <td>1256.000000</td>\n",
              "      <td>1000.000000</td>\n",
              "      <td>8.330000e+02</td>\n",
              "      <td>390.00000</td>\n",
              "      <td>296.000000</td>\n",
              "      <td>252.500000</td>\n",
              "      <td>117.750000</td>\n",
              "    </tr>\n",
              "    <tr>\n",
              "      <th>50%</th>\n",
              "      <td>140000.000000</td>\n",
              "      <td>34.000000</td>\n",
              "      <td>0.000000</td>\n",
              "      <td>0.000000</td>\n",
              "      <td>0.000000</td>\n",
              "      <td>0.000000</td>\n",
              "      <td>0.000000</td>\n",
              "      <td>0.000000</td>\n",
              "      <td>22381.500000</td>\n",
              "      <td>21200.000000</td>\n",
              "      <td>2.008850e+04</td>\n",
              "      <td>19052.000000</td>\n",
              "      <td>18104.500000</td>\n",
              "      <td>17071.000000</td>\n",
              "      <td>2100.000000</td>\n",
              "      <td>2.009000e+03</td>\n",
              "      <td>1800.00000</td>\n",
              "      <td>1500.000000</td>\n",
              "      <td>1500.000000</td>\n",
              "      <td>1500.000000</td>\n",
              "    </tr>\n",
              "    <tr>\n",
              "      <th>75%</th>\n",
              "      <td>240000.000000</td>\n",
              "      <td>41.000000</td>\n",
              "      <td>0.000000</td>\n",
              "      <td>0.000000</td>\n",
              "      <td>0.000000</td>\n",
              "      <td>0.000000</td>\n",
              "      <td>0.000000</td>\n",
              "      <td>0.000000</td>\n",
              "      <td>67091.000000</td>\n",
              "      <td>64006.250000</td>\n",
              "      <td>6.016475e+04</td>\n",
              "      <td>54506.000000</td>\n",
              "      <td>50190.500000</td>\n",
              "      <td>49198.250000</td>\n",
              "      <td>5006.000000</td>\n",
              "      <td>5.000000e+03</td>\n",
              "      <td>4505.00000</td>\n",
              "      <td>4013.250000</td>\n",
              "      <td>4031.500000</td>\n",
              "      <td>4000.000000</td>\n",
              "    </tr>\n",
              "    <tr>\n",
              "      <th>max</th>\n",
              "      <td>1000000.000000</td>\n",
              "      <td>79.000000</td>\n",
              "      <td>8.000000</td>\n",
              "      <td>8.000000</td>\n",
              "      <td>8.000000</td>\n",
              "      <td>8.000000</td>\n",
              "      <td>8.000000</td>\n",
              "      <td>8.000000</td>\n",
              "      <td>964511.000000</td>\n",
              "      <td>983931.000000</td>\n",
              "      <td>1.664089e+06</td>\n",
              "      <td>891586.000000</td>\n",
              "      <td>927171.000000</td>\n",
              "      <td>961664.000000</td>\n",
              "      <td>873552.000000</td>\n",
              "      <td>1.684259e+06</td>\n",
              "      <td>896040.00000</td>\n",
              "      <td>621000.000000</td>\n",
              "      <td>426529.000000</td>\n",
              "      <td>528666.000000</td>\n",
              "    </tr>\n",
              "  </tbody>\n",
              "</table>\n",
              "</div>"
            ],
            "text/plain": [
              "            LIMIT_BAL           AGE  ...       PAY_AMT5       PAY_AMT6\n",
              "count    30000.000000  30000.000000  ...   30000.000000   30000.000000\n",
              "mean    167484.322667     35.485500  ...    4799.387633    5215.502567\n",
              "std     129747.661567      9.217904  ...   15278.305679   17777.465775\n",
              "min      10000.000000     21.000000  ...       0.000000       0.000000\n",
              "25%      50000.000000     28.000000  ...     252.500000     117.750000\n",
              "50%     140000.000000     34.000000  ...    1500.000000    1500.000000\n",
              "75%     240000.000000     41.000000  ...    4031.500000    4000.000000\n",
              "max    1000000.000000     79.000000  ...  426529.000000  528666.000000\n",
              "\n",
              "[8 rows x 20 columns]"
            ]
          },
          "metadata": {
            "tags": []
          },
          "execution_count": 5
        }
      ]
    },
    {
      "cell_type": "markdown",
      "metadata": {
        "id": "e8O8AuRyaPoR"
      },
      "source": [
        "VALORES ATÍPICOS"
      ]
    },
    {
      "cell_type": "markdown",
      "metadata": {
        "id": "c2qGIL5naTXa"
      },
      "source": [
        "Para analizar los valores atípicos utilizamos el diagrama de cajas. Cabe precisar que los valores atípicos son aquellos que son mayores al bigote superior o menor al bigote inferior del diagrama de cajas"
      ]
    },
    {
      "cell_type": "code",
      "metadata": {
        "colab": {
          "base_uri": "https://localhost:8080/",
          "height": 506
        },
        "id": "4tO4V5L5aZpI",
        "outputId": "a9352195-8378-4a71-84d5-1bf8721429f1"
      },
      "source": [
        "import matplotlib.pyplot as plt\r\n",
        "\r\n",
        "fig, axes = plt.subplots(1,1, figsize = (30,10)) # creacion de figuras y\r\n",
        "bp3 = data.iloc[:,0:1].boxplot(boxprops = dict(color = 'royalblue', linewidth = 2),\r\n",
        "                             medianprops = dict(color = 'forestgreen', linewidth = 2),\r\n",
        "                             whiskerprops = dict(color = 'royalblue', linewidth = 2),\r\n",
        "                             capprops = dict(color = 'royalblue', linewidth = 2),\r\n",
        "                             flierprops = dict(marker = 'x'),\r\n",
        "                             grid = False)\r\n",
        "bp3.set_title('Monto del credito otorgado', fontsize = 18)\r\n",
        "bp3.set_ylabel('Dolares', fontsize = 15)\r\n",
        "bp3.tick_params(axis='both', labelsize=13.5)\r\n",
        "bp3.grid(axis='y', linestyle='--')"
      ],
      "execution_count": 20,
      "outputs": [
        {
          "output_type": "display_data",
          "data": {
            "image/png": "[encoded data removed]",
            "text/plain": [
              "<Figure size 2160x720 with 1 Axes>"
            ]
          },
          "metadata": {
            "tags": [],
            "needs_background": "light"
          }
        }
      ]
    },
    {
      "cell_type": "code",
      "metadata": {
        "colab": {
          "base_uri": "https://localhost:8080/",
          "height": 500
        },
        "id": "PeO-NcS7aaxI",
        "outputId": "b574cbf8-e5b6-46b0-a4dd-8d200a1c792a"
      },
      "source": [
        "fig, axes = plt.subplots(1,2, figsize = (30,10)) # create figure and axes\r\n",
        "bp1 = data.iloc[:,11:17].boxplot(boxprops = dict(color = 'royalblue', linewidth = 2),\r\n",
        "                             medianprops = dict(color = 'forestgreen', linewidth = 2),\r\n",
        "                             whiskerprops = dict(color = 'royalblue', linewidth = 2),\r\n",
        "                             capprops = dict(color = 'royalblue', linewidth = 2),\r\n",
        "                             flierprops = dict(marker = 'x'),\r\n",
        "                             grid = False,\r\n",
        "                             ax = axes.flatten()[0])\r\n",
        "bp1.set_title('Monto del extracto de la factura', fontsize = 18)\r\n",
        "bp1.set_ylabel('Dolares', fontsize = 15)\r\n",
        "bp1.tick_params(axis='both', labelsize=13.5)\r\n",
        "bp1.grid(axis='y', linestyle='--')\r\n",
        "\r\n",
        "bp2 = data.iloc[:,17:23].boxplot(boxprops = dict(color = 'royalblue', linewidth = 2),\r\n",
        "                             medianprops = dict(color = 'forestgreen', linewidth = 2),\r\n",
        "                             whiskerprops = dict(color = 'royalblue', linewidth = 2),\r\n",
        "                             capprops = dict(color = 'royalblue', linewidth = 2),\r\n",
        "                             flierprops = dict(marker = 'x'),\r\n",
        "                             grid = False,\r\n",
        "                             ax = axes.flatten()[1])\r\n",
        "bp2.set_title('Monto del pago anterior', fontsize = 18)\r\n",
        "bp2.set_ylabel('Dolares', fontsize = 15)\r\n",
        "bp2.tick_params(axis='both', labelsize=13.5)\r\n",
        "bp2.grid(axis='y', linestyle='--')"
      ],
      "execution_count": 21,
      "outputs": [
        {
          "output_type": "display_data",
          "data": {
            "image/png": "[encoded data removed]",
            "text/plain": [
              "<Figure size 2160x720 with 2 Axes>"
            ]
          },
          "metadata": {
            "tags": [],
            "needs_background": "light"
          }
        }
      ]
    },
    {
      "cell_type": "markdown",
      "metadata": {
        "id": "Prxdn5kCapem"
      },
      "source": [
        "Para hallar el bogote superior e inferior es necesario primero hallar el rango intercuartico que esta dado por:"
      ]
    },
    {
      "cell_type": "code",
      "metadata": {
        "id": "8qx_nfmxaveP"
      },
      "source": [
        "def IQR(dist):\r\n",
        "       return np.percentile(dist, 75) - np.percentile(dist, 25)"
      ],
      "execution_count": 22,
      "outputs": []
    },
    {
      "cell_type": "markdown",
      "metadata": {
        "id": "-LVRtdTraxSQ"
      },
      "source": [
        "Calcular la cantidad de valores atipicos por columnas de :\r\n",
        "\r\n",
        "PAY_AMT1"
      ]
    },
    {
      "cell_type": "code",
      "metadata": {
        "colab": {
          "base_uri": "https://localhost:8080/"
        },
        "id": "hFS_OngQa5Hj",
        "outputId": "bcad2896-e1ef-415e-ffca-354c00b0f995"
      },
      "source": [
        "p_m1=np.percentile(IQR(data['PAY_AMT1']), 75) + 1.5*IQR(data['PAY_AMT1'])\r\n",
        "mayor=data['PAY_AMT1']>p_m1\r\n",
        "data[mayor].shape[0]"
      ],
      "execution_count": 23,
      "outputs": [
        {
          "output_type": "execute_result",
          "data": {
            "text/plain": [
              "3187"
            ]
          },
          "metadata": {
            "tags": []
          },
          "execution_count": 23
        }
      ]
    },
    {
      "cell_type": "markdown",
      "metadata": {
        "id": "7-4rgPSlbM4j"
      },
      "source": [
        "Se calcula para las columnas PAY_AMT1,PAY_AMT2, PAY_AMT3, PAY_AMT4, PAY_AMT5 , PAY_AMT6 "
      ]
    },
    {
      "cell_type": "code",
      "metadata": {
        "colab": {
          "base_uri": "https://localhost:8080/"
        },
        "id": "6yH0eq9nbg1v",
        "outputId": "2f3f1f94-0e6f-41ce-f1a0-9a6785fc833a"
      },
      "source": [
        "lis=[]\r\n",
        "i=0\r\n",
        "pay_lis={'PAY_AMT1':0 ,'PAY_AMT2':0 ,'PAY_AMT3':0 ,'PAY_AMT4': 0,'PAY_AMT5':0 ,'PAY_AMT6':0  }\r\n",
        "for n in range(17,23):\r\n",
        "  p_m=np.percentile(IQR(data.iloc[:,n]), 75) + 1.5*IQR(data.iloc[:,n])\r\n",
        "  mayor=data.iloc[:,n]>p_m\r\n",
        "  tam=data[mayor].shape[0]\r\n",
        "  lis.append(tam)\r\n",
        "\r\n",
        "for m in pay_lis:\r\n",
        "  pay_lis[m]+=lis[i]\r\n",
        "  i+=1\r\n",
        "pay_lis\r\n"
      ],
      "execution_count": 24,
      "outputs": [
        {
          "output_type": "execute_result",
          "data": {
            "text/plain": [
              "{'PAY_AMT1': 3187,\n",
              " 'PAY_AMT2': 2997,\n",
              " 'PAY_AMT3': 2701,\n",
              " 'PAY_AMT4': 3070,\n",
              " 'PAY_AMT5': 3020,\n",
              " 'PAY_AMT6': 2977}"
            ]
          },
          "metadata": {
            "tags": []
          },
          "execution_count": 24
        }
      ]
    },
    {
      "cell_type": "markdown",
      "metadata": {
        "id": "PWx64WF1blQx"
      },
      "source": [
        "Como se puede observar existen valores atipicos en las columnas correspondientes al monto del pago anterior"
      ]
    },
    {
      "cell_type": "markdown",
      "metadata": {
        "id": "FRJ3axVDtS6W"
      },
      "source": [
        "Descripción de la variable Edad"
      ]
    },
    {
      "cell_type": "markdown",
      "metadata": {
        "id": "G2muXnBzt_9A"
      },
      "source": [
        "Se muestra un histograma que muestra la distribución de la población con respecto la variable `AGE` (edad)."
      ]
    },
    {
      "cell_type": "code",
      "metadata": {
        "id": "1zx0c-KSHwWG",
        "colab": {
          "base_uri": "https://localhost:8080/",
          "height": 281
        },
        "outputId": "8160b39b-8b83-439c-f0a3-e65cd436e1b4"
      },
      "source": [
        "data.AGE.plot.hist(bins = 12, alpha=0.5)\r\n",
        "plt.title('Histograma de edad de la población')\r\n",
        "plt.legend()\r\n",
        "plt.show()"
      ],
      "execution_count": 6,
      "outputs": [
        {
          "output_type": "display_data",
          "data": {
            "image/png": "[encoded data removed]",
            "text/plain": [
              "<Figure size 432x288 with 1 Axes>"
            ]
          },
          "metadata": {
            "tags": [],
            "needs_background": "light"
          }
        }
      ]
    },
    {
      "cell_type": "markdown",
      "metadata": {
        "id": "E9j8q6CdP8Bb"
      },
      "source": [
        "Para las variables categóricas mostramos la cantidad de registros por cada categoría y el porcentaje que representan del total"
      ]
    },
    {
      "cell_type": "markdown",
      "metadata": {
        "id": "_J4cSVgXFmrD"
      },
      "source": [
        "Descripción de la variable Sexo"
      ]
    },
    {
      "cell_type": "markdown",
      "metadata": {
        "id": "A8BL1haJFxvO"
      },
      "source": [
        "Se muestra una grafica de barras que muestra la distribucion de la población respecto a la variable `SEX` (sexo), donde:\r\n",
        "*   1 = Male\r\n",
        "*   2 = Female"
      ]
    },
    {
      "cell_type": "code",
      "metadata": {
        "colab": {
          "base_uri": "https://localhost:8080/",
          "height": 106
        },
        "id": "Mp2-T97gRefz",
        "outputId": "1f458e4f-8738-4982-9524-762aea42cf85"
      },
      "source": [
        "enc = {1:'male', 2:'female'}\r\n",
        "c = data.SEX.replace(enc).value_counts()\r\n",
        "p = data.SEX.replace(enc).value_counts(normalize = True) * 100\r\n",
        "pd.concat([c,p], axis=1, keys=['# registros', '% del total'])"
      ],
      "execution_count": 7,
      "outputs": [
        {
          "output_type": "execute_result",
          "data": {
            "text/html": [
              "<div>\n",
              "<style scoped>\n",
              "    .dataframe tbody tr th:only-of-type {\n",
              "        vertical-align: middle;\n",
              "    }\n",
              "\n",
              "    .dataframe tbody tr th {\n",
              "        vertical-align: top;\n",
              "    }\n",
              "\n",
              "    .dataframe thead th {\n",
              "        text-align: right;\n",
              "    }\n",
              "</style>\n",
              "<table border=\"1\" class=\"dataframe\">\n",
              "  <thead>\n",
              "    <tr style=\"text-align: right;\">\n",
              "      <th></th>\n",
              "      <th># registros</th>\n",
              "      <th>% del total</th>\n",
              "    </tr>\n",
              "  </thead>\n",
              "  <tbody>\n",
              "    <tr>\n",
              "      <th>female</th>\n",
              "      <td>18112</td>\n",
              "      <td>60.373333</td>\n",
              "    </tr>\n",
              "    <tr>\n",
              "      <th>male</th>\n",
              "      <td>11888</td>\n",
              "      <td>39.626667</td>\n",
              "    </tr>\n",
              "  </tbody>\n",
              "</table>\n",
              "</div>"
            ],
            "text/plain": [
              "        # registros  % del total\n",
              "female        18112    60.373333\n",
              "male          11888    39.626667"
            ]
          },
          "metadata": {
            "tags": []
          },
          "execution_count": 7
        }
      ]
    },
    {
      "cell_type": "code",
      "metadata": {
        "colab": {
          "base_uri": "https://localhost:8080/",
          "height": 306
        },
        "id": "nw7tdqtI_d_H",
        "outputId": "c9aebdae-658f-4d12-b198-0e17cad29137"
      },
      "source": [
        "data.SEX.replace(enc).value_counts().plot(kind='bar',alpha=0.5)\r\n",
        "plt.title('Género de la población')\r\n",
        "plt.legend()\r\n",
        "plt.show()"
      ],
      "execution_count": 8,
      "outputs": [
        {
          "output_type": "display_data",
          "data": {
            "image/png": "[encoded data removed]",
            "text/plain": [
              "<Figure size 432x288 with 1 Axes>"
            ]
          },
          "metadata": {
            "tags": [],
            "needs_background": "light"
          }
        }
      ]
    },
    {
      "cell_type": "markdown",
      "metadata": {
        "id": "PRj2rJjdIsrT"
      },
      "source": [
        "Descripción de la variable Educación"
      ]
    },
    {
      "cell_type": "markdown",
      "metadata": {
        "id": "hUfvv4esG6D3"
      },
      "source": [
        "Se muestra una grafica de barras que muestra la distribucion de la población respecto a la variable `EDUCATION` (nivel educativo), donde:\r\n",
        "\r\n",
        "*   1 = graduate school\r\n",
        "*   2 = university\r\n",
        "*   3 = high school\r\n",
        "*   4 = others\r\n"
      ]
    },
    {
      "cell_type": "code",
      "metadata": {
        "id": "qDha9ZnRM6ch",
        "colab": {
          "base_uri": "https://localhost:8080/",
          "height": 166
        },
        "outputId": "bb7b1bb6-e33f-498e-b9f4-ef51c2c96cdc"
      },
      "source": [
        "enc = {1:'graduate school', 2:'university', 3:'high school', 4:'others', 5:'others', 6:'others', 0:'others'}\r\n",
        "c = data.EDUCATION.replace(enc).value_counts()\r\n",
        "p = data.EDUCATION.replace(enc).value_counts(normalize = True) * 100\r\n",
        "pd.concat([c,p], axis=1, keys=['# registros', '% del total'])"
      ],
      "execution_count": 9,
      "outputs": [
        {
          "output_type": "execute_result",
          "data": {
            "text/html": [
              "<div>\n",
              "<style scoped>\n",
              "    .dataframe tbody tr th:only-of-type {\n",
              "        vertical-align: middle;\n",
              "    }\n",
              "\n",
              "    .dataframe tbody tr th {\n",
              "        vertical-align: top;\n",
              "    }\n",
              "\n",
              "    .dataframe thead th {\n",
              "        text-align: right;\n",
              "    }\n",
              "</style>\n",
              "<table border=\"1\" class=\"dataframe\">\n",
              "  <thead>\n",
              "    <tr style=\"text-align: right;\">\n",
              "      <th></th>\n",
              "      <th># registros</th>\n",
              "      <th>% del total</th>\n",
              "    </tr>\n",
              "  </thead>\n",
              "  <tbody>\n",
              "    <tr>\n",
              "      <th>university</th>\n",
              "      <td>14030</td>\n",
              "      <td>46.766667</td>\n",
              "    </tr>\n",
              "    <tr>\n",
              "      <th>graduate school</th>\n",
              "      <td>10585</td>\n",
              "      <td>35.283333</td>\n",
              "    </tr>\n",
              "    <tr>\n",
              "      <th>high school</th>\n",
              "      <td>4917</td>\n",
              "      <td>16.390000</td>\n",
              "    </tr>\n",
              "    <tr>\n",
              "      <th>others</th>\n",
              "      <td>468</td>\n",
              "      <td>1.560000</td>\n",
              "    </tr>\n",
              "  </tbody>\n",
              "</table>\n",
              "</div>"
            ],
            "text/plain": [
              "                 # registros  % del total\n",
              "university             14030    46.766667\n",
              "graduate school        10585    35.283333\n",
              "high school             4917    16.390000\n",
              "others                   468     1.560000"
            ]
          },
          "metadata": {
            "tags": []
          },
          "execution_count": 9
        }
      ]
    },
    {
      "cell_type": "code",
      "metadata": {
        "colab": {
          "base_uri": "https://localhost:8080/",
          "height": 352
        },
        "id": "uVUQ7SjgG-yt",
        "outputId": "9f077131-58b7-47d0-c727-e596c11658c0"
      },
      "source": [
        "data.EDUCATION.replace(enc).value_counts().plot(kind = 'bar',alpha=0.5)\r\n",
        "plt.title('Educación')\r\n",
        "plt.legend()\r\n",
        "plt.show()"
      ],
      "execution_count": 10,
      "outputs": [
        {
          "output_type": "display_data",
          "data": {
            "image/png": "[encoded data removed]",
            "text/plain": [
              "<Figure size 432x288 with 1 Axes>"
            ]
          },
          "metadata": {
            "tags": [],
            "needs_background": "light"
          }
        }
      ]
    },
    {
      "cell_type": "markdown",
      "metadata": {
        "id": "R6wyAFHgTOVd"
      },
      "source": [
        "Descripción de la variable Marriage"
      ]
    },
    {
      "cell_type": "markdown",
      "metadata": {
        "id": "cHzMHoZ8I4pL"
      },
      "source": [
        "Se muestra una grafica de barras que muestra la distribucion de la población respecto a la variable `MARRIAGE` (estado civil), donde:\r\n",
        "*   1 = married\r\n",
        "*   2 = single\r\n",
        "*   3 = others\r\n"
      ]
    },
    {
      "cell_type": "code",
      "metadata": {
        "id": "qIF4HGruPvAG",
        "colab": {
          "base_uri": "https://localhost:8080/",
          "height": 136
        },
        "outputId": "fcd2adb5-bd5d-41eb-936a-3a0e6282a632"
      },
      "source": [
        "enc = {1:'married', 2:'single', 3:'others', 0:'others'}\r\n",
        "c = data.MARRIAGE.replace(enc).value_counts()\r\n",
        "p = data.MARRIAGE.replace(enc).value_counts(normalize = True) * 100\r\n",
        "pd.concat([c,p], axis=1, keys=['# registros', '% del total'])"
      ],
      "execution_count": 11,
      "outputs": [
        {
          "output_type": "execute_result",
          "data": {
            "text/html": [
              "<div>\n",
              "<style scoped>\n",
              "    .dataframe tbody tr th:only-of-type {\n",
              "        vertical-align: middle;\n",
              "    }\n",
              "\n",
              "    .dataframe tbody tr th {\n",
              "        vertical-align: top;\n",
              "    }\n",
              "\n",
              "    .dataframe thead th {\n",
              "        text-align: right;\n",
              "    }\n",
              "</style>\n",
              "<table border=\"1\" class=\"dataframe\">\n",
              "  <thead>\n",
              "    <tr style=\"text-align: right;\">\n",
              "      <th></th>\n",
              "      <th># registros</th>\n",
              "      <th>% del total</th>\n",
              "    </tr>\n",
              "  </thead>\n",
              "  <tbody>\n",
              "    <tr>\n",
              "      <th>single</th>\n",
              "      <td>15964</td>\n",
              "      <td>53.213333</td>\n",
              "    </tr>\n",
              "    <tr>\n",
              "      <th>married</th>\n",
              "      <td>13659</td>\n",
              "      <td>45.530000</td>\n",
              "    </tr>\n",
              "    <tr>\n",
              "      <th>others</th>\n",
              "      <td>377</td>\n",
              "      <td>1.256667</td>\n",
              "    </tr>\n",
              "  </tbody>\n",
              "</table>\n",
              "</div>"
            ],
            "text/plain": [
              "         # registros  % del total\n",
              "single         15964    53.213333\n",
              "married        13659    45.530000\n",
              "others           377     1.256667"
            ]
          },
          "metadata": {
            "tags": []
          },
          "execution_count": 11
        }
      ]
    },
    {
      "cell_type": "code",
      "metadata": {
        "id": "yybpKKlSSu6-",
        "colab": {
          "base_uri": "https://localhost:8080/",
          "height": 281
        },
        "outputId": "cab129db-d8a4-4a14-bbe9-06775fdb076f"
      },
      "source": [
        "data.MARRIAGE.replace(enc).value_counts().plot(kind='barh',alpha=0.5)\r\n",
        "plt.title('Marriage')\r\n",
        "plt.legend()\r\n",
        "plt.show()"
      ],
      "execution_count": 12,
      "outputs": [
        {
          "output_type": "display_data",
          "data": {
            "image/png": "[encoded data removed]",
            "text/plain": [
              "<Figure size 432x288 with 1 Axes>"
            ]
          },
          "metadata": {
            "tags": [],
            "needs_background": "light"
          }
        }
      ]
    },
    {
      "cell_type": "markdown",
      "metadata": {
        "id": "4EaI8YC5KknE"
      },
      "source": [
        "#Modelamiento"
      ]
    },
    {
      "cell_type": "markdown",
      "metadata": {
        "id": "R5mvYgzaUNv0"
      },
      "source": [
        "##Preprocesamiento de la data"
      ]
    },
    {
      "cell_type": "markdown",
      "metadata": {
        "id": "qc-PHuFv505U"
      },
      "source": [
        "[De acuerdo al autor del dataset](https://www.kaggle.com/uciml/default-of-credit-card-clients-dataset/discussion/34608), en el caso de la variable `EDUCATION` se debe considerar a los valores 0, 4, 5 y 6 como de la clase `others`."
      ]
    },
    {
      "cell_type": "code",
      "metadata": {
        "id": "7luTvH9WUNaK"
      },
      "source": [
        "enc = {4:0, 5:0, 6:0}\r\n",
        "data.EDUCATION.replace(enc, inplace = True)"
      ],
      "execution_count": 16,
      "outputs": []
    },
    {
      "cell_type": "markdown",
      "metadata": {
        "id": "K-aMB3p6HjYe"
      },
      "source": [
        "De igual manera para la variable `MARRIAGE` a los valores 0 y 3."
      ]
    },
    {
      "cell_type": "code",
      "metadata": {
        "id": "Gcdpkm6oHuzT"
      },
      "source": [
        "enc = {3:0}\r\n",
        "data.MARRIAGE.replace(enc, inplace = True)"
      ],
      "execution_count": 17,
      "outputs": []
    },
    {
      "cell_type": "markdown",
      "metadata": {
        "id": "TAEF_teOLz-0"
      },
      "source": [
        "La separación de train y test se ha realizado en un 10% para test y el 90% restante para train"
      ]
    },
    {
      "cell_type": "code",
      "metadata": {
        "id": "liD1ElZgXOvB"
      },
      "source": [
        "from sklearn.model_selection import train_test_split\r\n",
        "\r\n",
        "X = data.drop('DEFAULT', axis = 1)\r\n",
        "y = data['DEFAULT']\r\n",
        "\r\n",
        "X_train, X_test, y_train, y_test = train_test_split(X, y, test_size = 0.2)"
      ],
      "execution_count": 15,
      "outputs": []
    },
    {
      "cell_type": "markdown",
      "metadata": {
        "id": "WaVIpIg3b8qN"
      },
      "source": [
        "Proporción de la variable a predecir para ambas particiones "
      ]
    },
    {
      "cell_type": "markdown",
      "metadata": {
        "id": "r6W722K1cD6j"
      },
      "source": [
        "Train"
      ]
    },
    {
      "cell_type": "code",
      "metadata": {
        "colab": {
          "base_uri": "https://localhost:8080/",
          "height": 106
        },
        "id": "EwQ10ApCb9zj",
        "outputId": "34c17130-c0fb-4944-897c-3cc1025bda9d"
      },
      "source": [
        "enc = {0:'NO DEFAULT', 1:'DEFAULT'}\r\n",
        "a= y_train.replace(enc).value_counts()\r\n",
        "b= y_train.replace(enc).value_counts(normalize=True)*100\r\n",
        "pd.concat([a,b], axis=1, keys=['# registros', '% del total'])"
      ],
      "execution_count": 18,
      "outputs": [
        {
          "output_type": "execute_result",
          "data": {
            "text/html": [
              "<div>\n",
              "<style scoped>\n",
              "    .dataframe tbody tr th:only-of-type {\n",
              "        vertical-align: middle;\n",
              "    }\n",
              "\n",
              "    .dataframe tbody tr th {\n",
              "        vertical-align: top;\n",
              "    }\n",
              "\n",
              "    .dataframe thead th {\n",
              "        text-align: right;\n",
              "    }\n",
              "</style>\n",
              "<table border=\"1\" class=\"dataframe\">\n",
              "  <thead>\n",
              "    <tr style=\"text-align: right;\">\n",
              "      <th></th>\n",
              "      <th># registros</th>\n",
              "      <th>% del total</th>\n",
              "    </tr>\n",
              "  </thead>\n",
              "  <tbody>\n",
              "    <tr>\n",
              "      <th>NO DEFAULT</th>\n",
              "      <td>18625</td>\n",
              "      <td>77.604167</td>\n",
              "    </tr>\n",
              "    <tr>\n",
              "      <th>DEFAULT</th>\n",
              "      <td>5375</td>\n",
              "      <td>22.395833</td>\n",
              "    </tr>\n",
              "  </tbody>\n",
              "</table>\n",
              "</div>"
            ],
            "text/plain": [
              "            # registros  % del total\n",
              "NO DEFAULT        18625    77.604167\n",
              "DEFAULT            5375    22.395833"
            ]
          },
          "metadata": {
            "tags": []
          },
          "execution_count": 18
        }
      ]
    },
    {
      "cell_type": "markdown",
      "metadata": {
        "id": "Nu9bPZWlcFpV"
      },
      "source": [
        "Test"
      ]
    },
    {
      "cell_type": "code",
      "metadata": {
        "colab": {
          "base_uri": "https://localhost:8080/",
          "height": 106
        },
        "id": "7-galomNcHh_",
        "outputId": "69bf993b-f204-4350-eb5f-540792d222ba"
      },
      "source": [
        "enc = {0:'NO DEFAULT', 1:'DEFAULT'}\r\n",
        "c= y_test.replace(enc).value_counts()\r\n",
        "d= y_test.replace(enc).value_counts(normalize=True)*100\r\n",
        "pd.concat([c,d], axis=1, keys=['# registros', '% del total'])"
      ],
      "execution_count": 19,
      "outputs": [
        {
          "output_type": "execute_result",
          "data": {
            "text/html": [
              "<div>\n",
              "<style scoped>\n",
              "    .dataframe tbody tr th:only-of-type {\n",
              "        vertical-align: middle;\n",
              "    }\n",
              "\n",
              "    .dataframe tbody tr th {\n",
              "        vertical-align: top;\n",
              "    }\n",
              "\n",
              "    .dataframe thead th {\n",
              "        text-align: right;\n",
              "    }\n",
              "</style>\n",
              "<table border=\"1\" class=\"dataframe\">\n",
              "  <thead>\n",
              "    <tr style=\"text-align: right;\">\n",
              "      <th></th>\n",
              "      <th># registros</th>\n",
              "      <th>% del total</th>\n",
              "    </tr>\n",
              "  </thead>\n",
              "  <tbody>\n",
              "    <tr>\n",
              "      <th>NO DEFAULT</th>\n",
              "      <td>4739</td>\n",
              "      <td>78.983333</td>\n",
              "    </tr>\n",
              "    <tr>\n",
              "      <th>DEFAULT</th>\n",
              "      <td>1261</td>\n",
              "      <td>21.016667</td>\n",
              "    </tr>\n",
              "  </tbody>\n",
              "</table>\n",
              "</div>"
            ],
            "text/plain": [
              "            # registros  % del total\n",
              "NO DEFAULT         4739    78.983333\n",
              "DEFAULT            1261    21.016667"
            ]
          },
          "metadata": {
            "tags": []
          },
          "execution_count": 19
        }
      ]
    },
    {
      "cell_type": "markdown",
      "metadata": {
        "id": "drclw271cOdc"
      },
      "source": [
        "La proporción de los dos grupos de la variable a predecir es muy similar en ambas particiones."
      ]
    },
    {
      "cell_type": "markdown",
      "metadata": {
        "id": "VKY2Tj-GKDa_"
      },
      "source": [
        "##Algoritmo Random Forests"
      ]
    },
    {
      "cell_type": "markdown",
      "metadata": {
        "id": "UGqvLexXKve4"
      },
      "source": [
        "El primer clasificador que entrenamos es el Random Forests. A continuación creamos una nueva instancia de este clasificador y mostramos su performance con los hiperparámetros con valores por defecto. "
      ]
    },
    {
      "cell_type": "code",
      "metadata": {
        "id": "Z-88p_xjKUnL",
        "colab": {
          "base_uri": "https://localhost:8080/"
        },
        "outputId": "89b55090-7033-4062-c749-9f639d9b56f1"
      },
      "source": [
        "from sklearn.ensemble import RandomForestClassifier\r\n",
        "from sklearn.model_selection import StratifiedKFold, cross_validate\r\n",
        "\r\n",
        "d_rfc = RandomForestClassifier()\r\n",
        "skf = StratifiedKFold(n_splits = 10)\r\n",
        "d_rfc_res = cross_validate(d_rfc, X_train, y_train, cv = skf, return_train_score = True, scoring = ['accuracy','f1'])\r\n",
        "print('Los valores por defecto de los hiperparámetros del algoritmo RF son:')\r\n",
        "d_rfc.get_params()"
      ],
      "execution_count": 16,
      "outputs": [
        {
          "output_type": "stream",
          "text": [
            "Los valores por defecto de los hiperparámetros del algoritmo RF son:\n"
          ],
          "name": "stdout"
        },
        {
          "output_type": "execute_result",
          "data": {
            "text/plain": [
              "{'bootstrap': True,\n",
              " 'ccp_alpha': 0.0,\n",
              " 'class_weight': None,\n",
              " 'criterion': 'gini',\n",
              " 'max_depth': None,\n",
              " 'max_features': 'auto',\n",
              " 'max_leaf_nodes': None,\n",
              " 'max_samples': None,\n",
              " 'min_impurity_decrease': 0.0,\n",
              " 'min_impurity_split': None,\n",
              " 'min_samples_leaf': 1,\n",
              " 'min_samples_split': 2,\n",
              " 'min_weight_fraction_leaf': 0.0,\n",
              " 'n_estimators': 100,\n",
              " 'n_jobs': None,\n",
              " 'oob_score': False,\n",
              " 'random_state': None,\n",
              " 'verbose': 0,\n",
              " 'warm_start': False}"
            ]
          },
          "metadata": {
            "tags": []
          },
          "execution_count": 16
        }
      ]
    },
    {
      "cell_type": "markdown",
      "metadata": {
        "id": "iiWaymqc0oMC"
      },
      "source": [
        "Y obtuvimos los siguientes resultados de exactitud:\r\n"
      ]
    },
    {
      "cell_type": "code",
      "metadata": {
        "id": "n8w0uuFO0nY0",
        "colab": {
          "base_uri": "https://localhost:8080/"
        },
        "outputId": "32f61b05-e5cc-4580-af5e-ebb93503be42"
      },
      "source": [
        "print('La exactitud en el conjunto de train fue de {}'.format(np.mean(d_rfc_res['train_accuracy'])))\r\n",
        "print('La exactitud en el conjunto de test fue de {}'.format(np.mean(d_rfc_res['test_accuracy'])))"
      ],
      "execution_count": 17,
      "outputs": [
        {
          "output_type": "stream",
          "text": [
            "La exactitud en el conjunto de train fue de 0.9995740740740742\n",
            "La exactitud en el conjunto de test fue de 0.8143333333333335\n"
          ],
          "name": "stdout"
        }
      ]
    },
    {
      "cell_type": "markdown",
      "metadata": {
        "id": "PHU7n2xi4MTi"
      },
      "source": [
        "Sin embargo, ya que tenemos clases desbalanceadas (`DEFAULT` = 1 es el 22%), la exactitud no es una buena métrica para medir nuestro dataset. Utilizaremos la métrica F1."
      ]
    },
    {
      "cell_type": "code",
      "metadata": {
        "id": "AyFoAR-l4LvZ",
        "colab": {
          "base_uri": "https://localhost:8080/"
        },
        "outputId": "37400248-a40b-43cf-e6ab-383fd67a4a51"
      },
      "source": [
        "print('El puntaje F1 en el conjunto de train fue de {}'.format(np.mean(d_rfc_res['train_f1'])))\r\n",
        "print('El puntaje F1 en el conjunto de test fue de {}'.format(np.mean(d_rfc_res['test_f1'])))"
      ],
      "execution_count": 18,
      "outputs": [
        {
          "output_type": "stream",
          "text": [
            "El puntaje F1 en el conjunto de train fue de 0.9990345503475855\n",
            "El puntaje F1 en el conjunto de test fue de 0.46200889978787807\n"
          ],
          "name": "stdout"
        }
      ]
    },
    {
      "cell_type": "markdown",
      "metadata": {
        "id": "fKGeRvR5TXGK"
      },
      "source": [
        "Notamos que obtuvimos un valor muy alto con el conjunto de entrenamiento, pero en la evaluación salió muy bajo, esto es un claro indicador de que el modelo tiene un sesgo muy alto (overfitting). "
      ]
    },
    {
      "cell_type": "markdown",
      "metadata": {
        "id": "cdKrNFKryz_1"
      },
      "source": [
        "Antes de empezar la búsqueda aleatoria de los mejores hiperparámetros, revisamos a partir de qué cantidad de árboles la métricas dejan de mejorar, con ese valor fijamos a `n_estimators` y ahorramos tiempo de procesamiento."
      ]
    },
    {
      "cell_type": "code",
      "metadata": {
        "id": "ozqUbEfjzfZN"
      },
      "source": [
        "lista_q_arboles = np.around(np.linspace(2, 100, 30, endpoint = True)).astype(int)\r\n",
        "\r\n",
        "train_accuracy = []\r\n",
        "test_accuracy = []\r\n",
        "train_f1 = []\r\n",
        "test_f1 = []\r\n",
        "for q_arboles in lista_q_arboles:\r\n",
        "    i_rfc = RandomForestClassifier(random_state = 42, n_estimators = q_arboles)\r\n",
        "    i_rfc_res = cross_validate(i_rfc, X, y, cv = skf, return_train_score = True, scoring = ['accuracy','f1'])\r\n",
        "    train_accuracy.append(np.mean(i_rfc_res['train_accuracy']))\r\n",
        "    test_accuracy.append(np.mean(i_rfc_res['test_accuracy']))\r\n",
        "    train_f1.append(np.mean(i_rfc_res['train_f1'])) \r\n",
        "    test_f1.append(np.mean(i_rfc_res['test_f1']))"
      ],
      "execution_count": 19,
      "outputs": []
    },
    {
      "cell_type": "code",
      "metadata": {
        "id": "cNDosnCgHNBs",
        "colab": {
          "base_uri": "https://localhost:8080/",
          "height": 560
        },
        "outputId": "4400e2e3-abe1-4c92-d3de-c17733a2a3ce"
      },
      "source": [
        "import matplotlib.pyplot as plt\r\n",
        "\r\n",
        "plt.plot(lista_q_arboles, train_f1, 'b', label = 'Train')\r\n",
        "plt.plot(lista_q_arboles, test_f1, 'r', label = 'Test')\r\n",
        "plt.ylabel('F1')\r\n",
        "plt.xlabel('n_estimators')\r\n",
        "plt.legend(loc = 'lower right')\r\n",
        "plt.show()\r\n",
        "\r\n",
        "plt.plot(lista_q_arboles, train_accuracy, 'b', label = 'Train')\r\n",
        "plt.plot(lista_q_arboles, test_accuracy, 'r', label = 'Test')\r\n",
        "plt.ylabel('Accuracy')\r\n",
        "plt.xlabel('n_estimators')\r\n",
        "plt.legend(loc = 'lower right')\r\n",
        "plt.show()\r\n",
        "\r\n",
        "print('Notamos que a partir de los 40 árboles las métricas ya no se incrementan tanto. Usaremos 40 para el valor de n_estimators.')"
      ],
      "execution_count": 20,
      "outputs": [
        {
          "output_type": "display_data",
          "data": {
            "image/png": "[encoded data removed]",
            "text/plain": [
              "<Figure size 432x288 with 1 Axes>"
            ]
          },
          "metadata": {
            "tags": [],
            "needs_background": "light"
          }
        },
        {
          "output_type": "display_data",
          "data": {
            "image/png": "[encoded data removed]",
            "text/plain": [
              "<Figure size 432x288 with 1 Axes>"
            ]
          },
          "metadata": {
            "tags": [],
            "needs_background": "light"
          }
        },
        {
          "output_type": "stream",
          "text": [
            "Notamos que a partir de los 40 árboles las métricas ya no se incrementan tanto. Usaremos 40 para el valor de n_estimators.\n"
          ],
          "name": "stdout"
        }
      ]
    },
    {
      "cell_type": "markdown",
      "metadata": {
        "id": "h7HxjBm5jFVb"
      },
      "source": [
        "Con esto en mente, realizamos primero una búsqueda aleatoria para encontrar a los hiperparámetros que generen al mejor modelo."
      ]
    },
    {
      "cell_type": "code",
      "metadata": {
        "id": "mITIS4cS7Y3c",
        "colab": {
          "base_uri": "https://localhost:8080/"
        },
        "outputId": "61e45ddb-b32b-4dbb-94bc-0c1a18c92b97"
      },
      "source": [
        "from pprint import pprint\r\n",
        "\r\n",
        "n_estimators = [500]#[int(x) for x in np.linspace(start = 200, stop = 1000, num = 10)]\r\n",
        "max_features = ['auto', 8, 10, 12, None]  # 'auto' equivale a 'sqrt'; None equivale a todas las 15\r\n",
        "max_depth = [int(x) for x in np.linspace(5, 20, num = 4)]\r\n",
        "min_samples_leaf = [2, 4, 6]\r\n",
        "\r\n",
        "random_grid = {'n_estimators': n_estimators,\r\n",
        "               'max_features': max_features,\r\n",
        "               'max_depth': max_depth,\r\n",
        "               'min_samples_leaf': min_samples_leaf}\r\n",
        "\r\n",
        "print('Los valores a probar en la búsqueda aleatoria son:')\r\n",
        "pprint(random_grid)\r\n",
        "\r\n",
        "print()\r\n",
        "print('Si se probara todas las combinaciones se requeriría entrenar', \r\n",
        "      len(random_grid['n_estimators']) *\r\n",
        "      len(random_grid['max_features']) *\r\n",
        "      len(random_grid['max_depth']) *\r\n",
        "      len(random_grid['min_samples_leaf']),\r\n",
        "      'modelos'\r\n",
        "      )"
      ],
      "execution_count": 33,
      "outputs": [
        {
          "output_type": "stream",
          "text": [
            "Los valores a probar en la búsqueda aleatoria son:\n",
            "{'max_depth': [5, 10, 15, 20],\n",
            " 'max_features': ['auto', 8, 10, 12, None],\n",
            " 'min_samples_leaf': [2, 4, 6],\n",
            " 'n_estimators': [500]}\n",
            "\n",
            "Si se probara todas las combinaciones se requeriría entrenar 60 modelos\n"
          ],
          "name": "stdout"
        }
      ]
    },
    {
      "cell_type": "code",
      "metadata": {
        "id": "uQyjS3fhPA4o",
        "colab": {
          "base_uri": "https://localhost:8080/"
        },
        "outputId": "d56d2acd-b51e-41ee-cc5b-ad1361de9b32"
      },
      "source": [
        "nombre_gpu=tf.test.gpu_device_name()\r\n",
        "if nombre_gpu != '/device:GPU:0':\r\n",
        "  raise SystemError('GPU no encontrada')\r\n",
        "print('GPU encontrada: {}'.format(nombre_gpu))"
      ],
      "execution_count": 34,
      "outputs": [
        {
          "output_type": "stream",
          "text": [
            "GPU encontrada: /device:GPU:0\n"
          ],
          "name": "stdout"
        }
      ]
    },
    {
      "cell_type": "code",
      "metadata": {
        "id": "hqiy6BIH8BNz",
        "colab": {
          "base_uri": "https://localhost:8080/"
        },
        "outputId": "354f0eeb-dc34-4ed2-c789-abed20051200"
      },
      "source": [
        "from sklearn.model_selection import RandomizedSearchCV\r\n",
        "\r\n",
        "with tf.device('/device:GPU:0'):\r\n",
        "  rf = RandomForestClassifier()\r\n",
        "  rf_random = RandomizedSearchCV(estimator = rf, \r\n",
        "                               param_distributions = random_grid, \r\n",
        "                               n_iter = 200,\r\n",
        "                               cv = skf,          # Validación cruzada 3-fold\r\n",
        "                               scoring = ['accuracy','f1'],\r\n",
        "                               refit = 'f1',\r\n",
        "                               verbose=2, \r\n",
        "                               random_state=0, \r\n",
        "                               n_jobs = -1      # Paralelizar en todos los cores disponibles\r\n",
        "                               )\r\n",
        "  rf_random.fit(X_train, y_train)"
      ],
      "execution_count": 36,
      "outputs": [
        {
          "output_type": "stream",
          "text": [
            "Fitting 10 folds for each of 60 candidates, totalling 600 fits\n"
          ],
          "name": "stdout"
        },
        {
          "output_type": "stream",
          "text": [
            "/usr/local/lib/python3.6/dist-packages/sklearn/model_selection/_search.py:281: UserWarning: The total space of parameters 60 is smaller than n_iter=200. Running 60 iterations. For exhaustive searches, use GridSearchCV.\n",
            "  % (grid_size, self.n_iter, grid_size), UserWarning)\n",
            "[Parallel(n_jobs=-1)]: Using backend LokyBackend with 2 concurrent workers.\n",
            "[Parallel(n_jobs=-1)]: Done  37 tasks      | elapsed:  5.0min\n",
            "[Parallel(n_jobs=-1)]: Done 158 tasks      | elapsed: 42.8min\n",
            "[Parallel(n_jobs=-1)]: Done 361 tasks      | elapsed: 144.3min\n",
            "[Parallel(n_jobs=-1)]: Done 600 out of 600 | elapsed: 335.7min finished\n"
          ],
          "name": "stderr"
        }
      ]
    },
    {
      "cell_type": "code",
      "metadata": {
        "id": "qUMn2kZELrxL",
        "colab": {
          "base_uri": "https://localhost:8080/"
        },
        "outputId": "77125a9d-6db8-4c80-bb7f-f511f72bf9a1"
      },
      "source": [
        "rf_random_best = rf_random.best_estimator_\r\n",
        "\r\n",
        "print('Los hiperparámetros del mejor modelo son:')\r\n",
        "print(rf_random.best_params_)\r\n",
        "print()\r\n",
        "\r\n",
        "print('Exactitud luego de búsqueda aleatoria en entrenamiento:', rf_random_best.score(X_train, y_train))\r\n",
        "print('Exactitud luego de búsqueda aleatoria en validación:', rf_random_best.score(X_test, y_test))"
      ],
      "execution_count": 37,
      "outputs": [
        {
          "output_type": "stream",
          "text": [
            "Los hiperparámetros del mejor modelo son:\n",
            "{'n_estimators': 500, 'min_samples_leaf': 4, 'max_features': 12, 'max_depth': 20}\n",
            "\n",
            "Exactitud luego de búsqueda aleatoria en entrenamiento: 0.9023333333333333\n",
            "Exactitud luego de búsqueda aleatoria en validación: 0.8255\n"
          ],
          "name": "stdout"
        }
      ]
    },
    {
      "cell_type": "code",
      "metadata": {
        "colab": {
          "base_uri": "https://localhost:8080/"
        },
        "id": "48MaYSnjZpH3",
        "outputId": "413f95af-d25b-4e6b-e314-7e44f75b52da"
      },
      "source": [
        "max_features = [11,12,13]\r\n",
        "max_depth = [5, 10, 15]\r\n",
        "min_samples_leaf = [3,4,5]\r\n",
        "n_estimators = [500]\r\n",
        "\r\n",
        "segundo_grid = {'n_estimators': n_estimators,\r\n",
        "               'max_features': max_features,\r\n",
        "               'max_depth': max_depth,\r\n",
        "               'min_samples_leaf': min_samples_leaf}\r\n",
        "\r\n",
        "print('Los valores a probar en la búsqueda por grilla son:')\r\n",
        "pprint(segundo_grid)"
      ],
      "execution_count": 38,
      "outputs": [
        {
          "output_type": "stream",
          "text": [
            "Los valores a probar en la búsqueda por grilla son:\n",
            "{'max_depth': [5, 10, 15],\n",
            " 'max_features': [11, 12, 13],\n",
            " 'min_samples_leaf': [5, 6, 7],\n",
            " 'n_estimators': [500]}\n"
          ],
          "name": "stdout"
        }
      ]
    },
    {
      "cell_type": "code",
      "metadata": {
        "colab": {
          "base_uri": "https://localhost:8080/"
        },
        "id": "R87CvZfsZ7D1",
        "outputId": "d89fd2d2-b46c-4d74-b09c-5aabca7736f1"
      },
      "source": [
        "from sklearn.model_selection import GridSearchCV\r\n",
        "\r\n",
        "rf = RandomForestClassifier()\r\n",
        "rf_grid = GridSearchCV(estimator = rf, \r\n",
        "                      param_grid = segundo_grid, \r\n",
        "                      cv = skf,          # Validación cruzada 3-fold\r\n",
        "                      scoring = ['accuracy','f1'],\r\n",
        "                      refit = 'f1',\r\n",
        "                      verbose=2, \r\n",
        "                      n_jobs = -1)      # Paralelizar en todos los cores disponibles\r\n",
        "rf_grid.fit(X_train, y_train)"
      ],
      "execution_count": 40,
      "outputs": [
        {
          "output_type": "stream",
          "text": [
            "Fitting 10 folds for each of 27 candidates, totalling 270 fits\n"
          ],
          "name": "stdout"
        },
        {
          "output_type": "stream",
          "text": [
            "[Parallel(n_jobs=-1)]: Using backend LokyBackend with 2 concurrent workers.\n",
            "[Parallel(n_jobs=-1)]: Done  37 tasks      | elapsed:  9.9min\n",
            "[Parallel(n_jobs=-1)]: Done 158 tasks      | elapsed: 59.4min\n",
            "[Parallel(n_jobs=-1)]: Done 270 out of 270 | elapsed: 132.0min finished\n"
          ],
          "name": "stderr"
        },
        {
          "output_type": "execute_result",
          "data": {
            "text/plain": [
              "GridSearchCV(cv=StratifiedKFold(n_splits=10, random_state=None, shuffle=False),\n",
              "             error_score=nan,\n",
              "             estimator=RandomForestClassifier(bootstrap=True, ccp_alpha=0.0,\n",
              "                                              class_weight=None,\n",
              "                                              criterion='gini', max_depth=None,\n",
              "                                              max_features='auto',\n",
              "                                              max_leaf_nodes=None,\n",
              "                                              max_samples=None,\n",
              "                                              min_impurity_decrease=0.0,\n",
              "                                              min_impurity_split=None,\n",
              "                                              min_samples_leaf=1,\n",
              "                                              min_samples_split=2,\n",
              "                                              min_weight_fraction_leaf=0.0,\n",
              "                                              n_estimators=100, n_jobs=None,\n",
              "                                              oob_score=False,\n",
              "                                              random_state=None, verbose=0,\n",
              "                                              warm_start=False),\n",
              "             iid='deprecated', n_jobs=-1,\n",
              "             param_grid={'max_depth': [5, 10, 15], 'max_features': [11, 12, 13],\n",
              "                         'min_samples_leaf': [5, 6, 7], 'n_estimators': [500]},\n",
              "             pre_dispatch='2*n_jobs', refit='f1', return_train_score=False,\n",
              "             scoring=['accuracy', 'f1'], verbose=2)"
            ]
          },
          "metadata": {
            "tags": []
          },
          "execution_count": 40
        }
      ]
    },
    {
      "cell_type": "code",
      "metadata": {
        "colab": {
          "base_uri": "https://localhost:8080/"
        },
        "id": "VnS9pfEagpIN",
        "outputId": "1efc8d23-c50d-4513-9fdb-da6fd7177292"
      },
      "source": [
        "rf_grid_best = rf_grid.best_estimator_\r\n",
        "\r\n",
        "print('Los hiperparámetros del mejor modelo son:')\r\n",
        "pprint(rf_grid.best_params_)\r\n",
        "print()\r\n",
        "\r\n",
        "print('Exactitud luego de búsqueda en grilla en entrenamiento:', rf_grid_best.score(X_train, y_train))\r\n",
        "print('Exactitud luego de búsqueda en grilla en validación:', rf_grid_best.score(X_test, y_test))"
      ],
      "execution_count": 41,
      "outputs": [
        {
          "output_type": "stream",
          "text": [
            "Los hiperparámetros del mejor modelo son:\n",
            "{'max_depth': 15,\n",
            " 'max_features': 11,\n",
            " 'min_samples_leaf': 6,\n",
            " 'n_estimators': 500}\n",
            "\n",
            "Exactitud luego de búsqueda en grilla en entrenamiento: 0.8703333333333333\n",
            "Exactitud luego de búsqueda en grilla en validación: 0.8253333333333334\n"
          ],
          "name": "stdout"
        }
      ]
    },
    {
      "cell_type": "markdown",
      "metadata": {
        "id": "EV_JWf31YjKK"
      },
      "source": [
        "Estas son los hiperparámetros que dicha búsqueda ha encontrado:"
      ]
    },
    {
      "cell_type": "code",
      "metadata": {
        "id": "m2-jjLF3VdWm",
        "colab": {
          "base_uri": "https://localhost:8080/",
          "height": 296
        },
        "outputId": "a7c2aed8-db39-4edb-c507-96e76d79ffb1"
      },
      "source": [
        "from sklearn import metrics\r\n",
        "\r\n",
        "y_pred_val = rf_grid_best.predict_proba(X_test)[:,1]\r\n",
        "auc_roc = metrics.roc_auc_score(y_test, y_pred_val)\r\n",
        "print('AUC =', auc_roc)\r\n",
        "\r\n",
        "metrics.plot_roc_curve(rf_grid_best, X_test, y_test)\r\n",
        "plt.show()                 "
      ],
      "execution_count": 42,
      "outputs": [
        {
          "output_type": "stream",
          "text": [
            "AUC = 0.7845959008049731\n"
          ],
          "name": "stdout"
        },
        {
          "output_type": "display_data",
          "data": {
            "image/png": "[encoded data removed]",
            "text/plain": [
              "<Figure size 432x288 with 1 Axes>"
            ]
          },
          "metadata": {
            "tags": [],
            "needs_background": "light"
          }
        }
      ]
    },
    {
      "cell_type": "markdown",
      "metadata": {
        "id": "QilyVNV7Qgsd"
      },
      "source": [
        "GANANCIA DE LA INFORMACIÓN"
      ]
    },
    {
      "cell_type": "code",
      "metadata": {
        "colab": {
          "base_uri": "https://localhost:8080/"
        },
        "id": "4NONIGzVqjJT",
        "outputId": "be508a05-e75d-4809-9038-88cd6c5c4851"
      },
      "source": [
        "instancias= data.shape[0]\r\n",
        "columnas= data.shape[1]\r\n",
        "print(instancias)\r\n",
        "print(columnas)"
      ],
      "execution_count": 4,
      "outputs": [
        {
          "output_type": "stream",
          "text": [
            "30000\n",
            "24\n"
          ],
          "name": "stdout"
        }
      ]
    },
    {
      "cell_type": "markdown",
      "metadata": {
        "id": "JXW4PolycmM4"
      },
      "source": [
        "Función logaritmo"
      ]
    },
    {
      "cell_type": "code",
      "metadata": {
        "id": "hYohvxckQu3T"
      },
      "source": [
        "import math\r\n",
        "\r\n",
        "def log2(p):\r\n",
        "  return math.log2(p)"
      ],
      "execution_count": 5,
      "outputs": []
    },
    {
      "cell_type": "markdown",
      "metadata": {
        "id": "HqKwOuAncx1D"
      },
      "source": [
        "Definir funcion de la entropia"
      ]
    },
    {
      "cell_type": "code",
      "metadata": {
        "id": "3L3-VYZZcwfg"
      },
      "source": [
        "def calcular_entropia_def(df, instancias_in):\r\n",
        "  entropia = 0\r\n",
        "  clases = df['DEFAULT'].value_counts().keys().tolist()\r\n",
        "  for i in range(0, len(clases)):\r\n",
        "    prob = df.iloc[:, -1].value_counts().tolist()[i]/instancias_in\r\n",
        "    entropia += -prob*log2(prob)\r\n",
        "  return entropia  "
      ],
      "execution_count": 6,
      "outputs": []
    },
    {
      "cell_type": "markdown",
      "metadata": {
        "id": "bivb05bBc2B7"
      },
      "source": [
        "Entropia"
      ]
    },
    {
      "cell_type": "code",
      "metadata": {
        "id": "R9KgVHgcc6f7"
      },
      "source": [
        "entropia_def=calcular_entropia_def(data, instancias)"
      ],
      "execution_count": 7,
      "outputs": []
    },
    {
      "cell_type": "markdown",
      "metadata": {
        "id": "MjQ2gqomdC7Y"
      },
      "source": [
        "Función ganancia de la información"
      ]
    },
    {
      "cell_type": "code",
      "metadata": {
        "id": "T9wA8EiUdCp_"
      },
      "source": [
        "import operator\r\n",
        "def entropia_clases_def(df):\r\n",
        "  ganancias = []\r\n",
        "  dict_gan={}\r\n",
        "  for i in range(0, columnas-1):\r\n",
        "    nombre_atributo = df.columns[i]\r\n",
        "    clases_atributo = df[nombre_atributo].value_counts()\r\n",
        "    ganancia = entropia_def\r\n",
        "\r\n",
        "    for j in range(0, len(clases_atributo)):\r\n",
        "      clase_actual = clases_atributo.keys().tolist()[j]\r\n",
        "      subdata = df[df[nombre_atributo]==clase_actual]\r\n",
        "      subdata_instancias = subdata.shape[0]\r\n",
        "      subdata_entropia = calcular_entropia_def(subdata, subdata_instancias)\r\n",
        "      clase_a_probabilidad = subdata_instancias/instancias\r\n",
        "      ganancia = ganancia - clase_a_probabilidad*subdata_entropia\r\n",
        "      ganancia= round(ganancia,5)\r\n",
        "    ganancias.append(ganancia)\r\n",
        "  # crea diccionario de cada atributo con su ganancia\r\n",
        "  for i in range(0, columnas-1):\r\n",
        "    nombre_atributo = df.columns[i]\r\n",
        "    gan= ganancias[i]\r\n",
        "    dict_gan[nombre_atributo]=gan\r\n",
        "  ganancia_mayor = ganancias.index(max(ganancias))\r\n",
        "  nombre_mejor_ganancia = df.columns[ganancia_mayor]\r\n",
        "  ord_dic=sorted(dict_gan.items(), key=operator.itemgetter(1), reverse=True)\r\n",
        "  return ord_dic"
      ],
      "execution_count": 13,
      "outputs": []
    },
    {
      "cell_type": "code",
      "metadata": {
        "colab": {
          "base_uri": "https://localhost:8080/"
        },
        "id": "DYgo6nF9dNSg",
        "outputId": "e3a9a080-65ae-40bb-ac0c-0022f458b217"
      },
      "source": [
        "entropia_def= calcular_entropia_def(data, instancias)\r\n",
        "print(\"entropia_default: \", entropia_def)\r\n",
        "\r\n",
        "nombre_mejor_def = entropia_clases_def(data)\r\n",
        "#se muestra el diccioonario con los atributos y sus ganancias \r\n",
        "print(nombre_mejor_def)"
      ],
      "execution_count": 14,
      "outputs": [
        {
          "output_type": "stream",
          "text": [
            "entropia_default:  0.7623526222941667\n",
            "[('BILL_AMT1', 0.58125), ('BILL_AMT2', 0.57227), ('BILL_AMT3', 0.565), ('BILL_AMT4', 0.55385), ('BILL_AMT5', 0.5404), ('BILL_AMT6', 0.52949), ('PAY_AMT1', 0.2024), ('PAY_AMT2', 0.19192), ('PAY_AMT3', 0.18894), ('PAY_AMT6', 0.17433), ('PAY_AMT4', 0.17368), ('PAY_AMT5', 0.17157), ('PAY_1', 0.10972), ('PAY_2', 0.07077), ('PAY_3', 0.05378), ('PAY_4', 0.04744), ('PAY_5', 0.04407), ('PAY_6', 0.03811), ('LIMIT_BAL', 0.02433), ('EDUCATION', 0.00443), ('AGE', 0.00374), ('SEX', 0.00114), ('MARRIAGE', 0.00089)]\n"
          ],
          "name": "stdout"
        }
      ]
    },
    {
      "cell_type": "code",
      "metadata": {
        "id": "LIKhfHaDgCpm"
      },
      "source": [
        ""
      ],
      "execution_count": null,
      "outputs": []
    }
  ]
}